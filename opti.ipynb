{
 "metadata": {
  "language_info": {
   "codemirror_mode": {
    "name": "ipython",
    "version": 3
   },
   "file_extension": ".py",
   "mimetype": "text/x-python",
   "name": "python",
   "nbconvert_exporter": "python",
   "pygments_lexer": "ipython3",
   "version": "3.9.1-final"
  },
  "orig_nbformat": 2,
  "kernelspec": {
   "name": "python3",
   "display_name": "Python 3.9.1 64-bit",
   "metadata": {
    "interpreter": {
     "hash": "aee8b7b246df8f9039afb4144a1f6fd8d2ca17a180786b69acc140d282b71a49"
    }
   }
  }
 },
 "nbformat": 4,
 "nbformat_minor": 2,
 "cells": [
  {
   "cell_type": "code",
   "execution_count": 124,
   "metadata": {},
   "outputs": [],
   "source": [
    "from scipy.optimize import *\n",
    "import pandas as pd \n",
    "import numpy as np \n",
    "from numpy import array\n",
    "from numpy import mean\n",
    "from numpy import cov\n",
    "from numpy.linalg import eig\n",
    "from tqdm import tqdm\n",
    "from pulp import *\n",
    "import plotly.express as px \n",
    "from sklearn.decomposition import PCA\n",
    "import plotly.io as pio \n",
    "pio.renderers.default = \"browser\""
   ]
  },
  {
   "cell_type": "code",
   "execution_count": 8,
   "metadata": {},
   "outputs": [],
   "source": [
    "def meanRetAn(data):             \n",
    "    Result = 1\n",
    "    \n",
    "    for i in data:\n",
    "        Result *= (1+i)\n",
    "        \n",
    "    Result = Result**(1/float(len(data)/52))-1\n",
    "     \n",
    "    return(Result)"
   ]
  },
  {
   "cell_type": "code",
   "execution_count": 2,
   "metadata": {},
   "outputs": [],
   "source": [
    "df = pd.read_csv(\"WeeklyReturns.csv\", index_col=\"Date\")"
   ]
  },
  {
   "cell_type": "code",
   "execution_count": 460,
   "metadata": {},
   "outputs": [
    {
     "output_type": "execute_result",
     "data": {
      "text/plain": [
       "                 SPY       IVV       VTI       VOO       QQQ       VEA  \\\n",
       "Date                                                                     \n",
       "2016-08-05  0.004882  0.004717  0.004218  0.004466  0.013451 -0.005159   \n",
       "2016-08-12  0.001283  0.001413  0.001341  0.001499  0.003597  0.019924   \n",
       "2016-08-19  0.000366  0.000501  0.000893  0.000349  0.000512 -0.000535   \n",
       "2016-08-26 -0.005720 -0.005732 -0.005351 -0.005784 -0.004093 -0.008032   \n",
       "2016-09-02  0.004970  0.004896  0.006635  0.004965  0.002912  0.016734   \n",
       "...              ...       ...       ...       ...       ...       ...   \n",
       "2020-03-20 -0.145457 -0.148739 -0.152578 -0.149007 -0.112509 -0.118405   \n",
       "2020-03-27  0.107605  0.106736  0.107392  0.104963  0.087843  0.120598   \n",
       "2020-04-03 -0.020638 -0.020532 -0.027968 -0.020785 -0.010416 -0.029869   \n",
       "2020-04-17  0.154922  0.154847  0.160156  0.156083  0.174074  0.098963   \n",
       "2020-04-24 -0.012803 -0.012796 -0.010549 -0.013163 -0.006735 -0.008005   \n",
       "\n",
       "                IEFA       VWO       VUG      IEMG  ...      CHIE      TLEH  \\\n",
       "Date                                                ...                       \n",
       "2016-08-05 -0.005734  0.012149  0.004540  0.011826  ...  0.000968  0.016212   \n",
       "2016-08-12  0.018791  0.018405  0.002304  0.022027  ...  0.000000  0.010117   \n",
       "2016-08-19 -0.001278  0.004191 -0.001327  0.002639  ...  0.036750  0.000770   \n",
       "2016-08-26 -0.006948 -0.022692 -0.006286 -0.021277  ... -0.021455 -0.003079   \n",
       "2016-09-02  0.017308  0.016814  0.003296  0.016585  ... -0.001906  0.001158   \n",
       "...              ...       ...       ...       ...  ...       ...       ...   \n",
       "2020-03-20 -0.114575 -0.133148 -0.141707 -0.136955  ... -0.116279 -0.121330   \n",
       "2020-03-27  0.125286  0.059494  0.104405  0.064820  ... -0.026316  0.069379   \n",
       "2020-04-03 -0.036367 -0.007293 -0.021980 -0.004547  ...  0.060489  0.008284   \n",
       "2020-04-17  0.096142  0.090603  0.172673  0.094392  ... -0.009709  0.052487   \n",
       "2020-04-24 -0.007117 -0.015156 -0.006123 -0.017158  ...  0.034314  0.020382   \n",
       "\n",
       "                 RXD       SIJ       SBM       EEH       LTL      HEWW  \\\n",
       "Date                                                                     \n",
       "2016-08-05 -0.001451  0.028376 -0.004653  0.019976 -0.041291  0.000000   \n",
       "2016-08-12  0.018411 -0.039645  0.010200  0.000000 -0.033489  0.000000   \n",
       "2016-08-19  0.007374 -0.007596 -0.013462  0.000000 -0.027237  0.000000   \n",
       "2016-08-26  0.036128  0.000998  0.001279 -0.036795 -0.056762  0.000000   \n",
       "2016-09-02  0.004558  0.007314 -0.005537  0.000000 -0.001616  0.005970   \n",
       "...              ...       ...       ...       ...       ...       ...   \n",
       "2020-03-20  0.235641  0.348543  0.117157  0.000000 -0.192487 -0.078797   \n",
       "2020-03-27 -0.187339 -0.277726 -0.112536 -0.084730  0.110298 -0.018422   \n",
       "2020-04-03 -0.052838  0.089135  0.028774 -0.057986 -0.005603 -0.026945   \n",
       "2020-04-17 -0.274277 -0.259259 -0.166093  0.146868  0.220135  0.021689   \n",
       "2020-04-24 -0.002135  0.025807 -0.008772 -0.007533 -0.032636  0.015275   \n",
       "\n",
       "                 SCC       SZK  \n",
       "Date                            \n",
       "2016-08-05  0.003489 -0.010947  \n",
       "2016-08-12 -0.007221 -0.016602  \n",
       "2016-08-19 -0.009160 -0.000563  \n",
       "2016-08-26  0.034258  0.003942  \n",
       "2016-09-02 -0.001577 -0.002804  \n",
       "...              ...       ...  \n",
       "2020-03-20  0.073620  0.301099  \n",
       "2020-03-27 -0.174150 -0.227636  \n",
       "2020-04-03  0.076125 -0.009482  \n",
       "2020-04-17 -0.314041 -0.235641  \n",
       "2020-04-24  0.005469  0.056840  \n",
       "\n",
       "[191 rows x 986 columns]"
      ],
      "text/html": "<div>\n<style scoped>\n    .dataframe tbody tr th:only-of-type {\n        vertical-align: middle;\n    }\n\n    .dataframe tbody tr th {\n        vertical-align: top;\n    }\n\n    .dataframe thead th {\n        text-align: right;\n    }\n</style>\n<table border=\"1\" class=\"dataframe\">\n  <thead>\n    <tr style=\"text-align: right;\">\n      <th></th>\n      <th>SPY</th>\n      <th>IVV</th>\n      <th>VTI</th>\n      <th>VOO</th>\n      <th>QQQ</th>\n      <th>VEA</th>\n      <th>IEFA</th>\n      <th>VWO</th>\n      <th>VUG</th>\n      <th>IEMG</th>\n      <th>...</th>\n      <th>CHIE</th>\n      <th>TLEH</th>\n      <th>RXD</th>\n      <th>SIJ</th>\n      <th>SBM</th>\n      <th>EEH</th>\n      <th>LTL</th>\n      <th>HEWW</th>\n      <th>SCC</th>\n      <th>SZK</th>\n    </tr>\n    <tr>\n      <th>Date</th>\n      <th></th>\n      <th></th>\n      <th></th>\n      <th></th>\n      <th></th>\n      <th></th>\n      <th></th>\n      <th></th>\n      <th></th>\n      <th></th>\n      <th></th>\n      <th></th>\n      <th></th>\n      <th></th>\n      <th></th>\n      <th></th>\n      <th></th>\n      <th></th>\n      <th></th>\n      <th></th>\n      <th></th>\n    </tr>\n  </thead>\n  <tbody>\n    <tr>\n      <th>2016-08-05</th>\n      <td>0.004882</td>\n      <td>0.004717</td>\n      <td>0.004218</td>\n      <td>0.004466</td>\n      <td>0.013451</td>\n      <td>-0.005159</td>\n      <td>-0.005734</td>\n      <td>0.012149</td>\n      <td>0.004540</td>\n      <td>0.011826</td>\n      <td>...</td>\n      <td>0.000968</td>\n      <td>0.016212</td>\n      <td>-0.001451</td>\n      <td>0.028376</td>\n      <td>-0.004653</td>\n      <td>0.019976</td>\n      <td>-0.041291</td>\n      <td>0.000000</td>\n      <td>0.003489</td>\n      <td>-0.010947</td>\n    </tr>\n    <tr>\n      <th>2016-08-12</th>\n      <td>0.001283</td>\n      <td>0.001413</td>\n      <td>0.001341</td>\n      <td>0.001499</td>\n      <td>0.003597</td>\n      <td>0.019924</td>\n      <td>0.018791</td>\n      <td>0.018405</td>\n      <td>0.002304</td>\n      <td>0.022027</td>\n      <td>...</td>\n      <td>0.000000</td>\n      <td>0.010117</td>\n      <td>0.018411</td>\n      <td>-0.039645</td>\n      <td>0.010200</td>\n      <td>0.000000</td>\n      <td>-0.033489</td>\n      <td>0.000000</td>\n      <td>-0.007221</td>\n      <td>-0.016602</td>\n    </tr>\n    <tr>\n      <th>2016-08-19</th>\n      <td>0.000366</td>\n      <td>0.000501</td>\n      <td>0.000893</td>\n      <td>0.000349</td>\n      <td>0.000512</td>\n      <td>-0.000535</td>\n      <td>-0.001278</td>\n      <td>0.004191</td>\n      <td>-0.001327</td>\n      <td>0.002639</td>\n      <td>...</td>\n      <td>0.036750</td>\n      <td>0.000770</td>\n      <td>0.007374</td>\n      <td>-0.007596</td>\n      <td>-0.013462</td>\n      <td>0.000000</td>\n      <td>-0.027237</td>\n      <td>0.000000</td>\n      <td>-0.009160</td>\n      <td>-0.000563</td>\n    </tr>\n    <tr>\n      <th>2016-08-26</th>\n      <td>-0.005720</td>\n      <td>-0.005732</td>\n      <td>-0.005351</td>\n      <td>-0.005784</td>\n      <td>-0.004093</td>\n      <td>-0.008032</td>\n      <td>-0.006948</td>\n      <td>-0.022692</td>\n      <td>-0.006286</td>\n      <td>-0.021277</td>\n      <td>...</td>\n      <td>-0.021455</td>\n      <td>-0.003079</td>\n      <td>0.036128</td>\n      <td>0.000998</td>\n      <td>0.001279</td>\n      <td>-0.036795</td>\n      <td>-0.056762</td>\n      <td>0.000000</td>\n      <td>0.034258</td>\n      <td>0.003942</td>\n    </tr>\n    <tr>\n      <th>2016-09-02</th>\n      <td>0.004970</td>\n      <td>0.004896</td>\n      <td>0.006635</td>\n      <td>0.004965</td>\n      <td>0.002912</td>\n      <td>0.016734</td>\n      <td>0.017308</td>\n      <td>0.016814</td>\n      <td>0.003296</td>\n      <td>0.016585</td>\n      <td>...</td>\n      <td>-0.001906</td>\n      <td>0.001158</td>\n      <td>0.004558</td>\n      <td>0.007314</td>\n      <td>-0.005537</td>\n      <td>0.000000</td>\n      <td>-0.001616</td>\n      <td>0.005970</td>\n      <td>-0.001577</td>\n      <td>-0.002804</td>\n    </tr>\n    <tr>\n      <th>...</th>\n      <td>...</td>\n      <td>...</td>\n      <td>...</td>\n      <td>...</td>\n      <td>...</td>\n      <td>...</td>\n      <td>...</td>\n      <td>...</td>\n      <td>...</td>\n      <td>...</td>\n      <td>...</td>\n      <td>...</td>\n      <td>...</td>\n      <td>...</td>\n      <td>...</td>\n      <td>...</td>\n      <td>...</td>\n      <td>...</td>\n      <td>...</td>\n      <td>...</td>\n      <td>...</td>\n    </tr>\n    <tr>\n      <th>2020-03-20</th>\n      <td>-0.145457</td>\n      <td>-0.148739</td>\n      <td>-0.152578</td>\n      <td>-0.149007</td>\n      <td>-0.112509</td>\n      <td>-0.118405</td>\n      <td>-0.114575</td>\n      <td>-0.133148</td>\n      <td>-0.141707</td>\n      <td>-0.136955</td>\n      <td>...</td>\n      <td>-0.116279</td>\n      <td>-0.121330</td>\n      <td>0.235641</td>\n      <td>0.348543</td>\n      <td>0.117157</td>\n      <td>0.000000</td>\n      <td>-0.192487</td>\n      <td>-0.078797</td>\n      <td>0.073620</td>\n      <td>0.301099</td>\n    </tr>\n    <tr>\n      <th>2020-03-27</th>\n      <td>0.107605</td>\n      <td>0.106736</td>\n      <td>0.107392</td>\n      <td>0.104963</td>\n      <td>0.087843</td>\n      <td>0.120598</td>\n      <td>0.125286</td>\n      <td>0.059494</td>\n      <td>0.104405</td>\n      <td>0.064820</td>\n      <td>...</td>\n      <td>-0.026316</td>\n      <td>0.069379</td>\n      <td>-0.187339</td>\n      <td>-0.277726</td>\n      <td>-0.112536</td>\n      <td>-0.084730</td>\n      <td>0.110298</td>\n      <td>-0.018422</td>\n      <td>-0.174150</td>\n      <td>-0.227636</td>\n    </tr>\n    <tr>\n      <th>2020-04-03</th>\n      <td>-0.020638</td>\n      <td>-0.020532</td>\n      <td>-0.027968</td>\n      <td>-0.020785</td>\n      <td>-0.010416</td>\n      <td>-0.029869</td>\n      <td>-0.036367</td>\n      <td>-0.007293</td>\n      <td>-0.021980</td>\n      <td>-0.004547</td>\n      <td>...</td>\n      <td>0.060489</td>\n      <td>0.008284</td>\n      <td>-0.052838</td>\n      <td>0.089135</td>\n      <td>0.028774</td>\n      <td>-0.057986</td>\n      <td>-0.005603</td>\n      <td>-0.026945</td>\n      <td>0.076125</td>\n      <td>-0.009482</td>\n    </tr>\n    <tr>\n      <th>2020-04-17</th>\n      <td>0.154922</td>\n      <td>0.154847</td>\n      <td>0.160156</td>\n      <td>0.156083</td>\n      <td>0.174074</td>\n      <td>0.098963</td>\n      <td>0.096142</td>\n      <td>0.090603</td>\n      <td>0.172673</td>\n      <td>0.094392</td>\n      <td>...</td>\n      <td>-0.009709</td>\n      <td>0.052487</td>\n      <td>-0.274277</td>\n      <td>-0.259259</td>\n      <td>-0.166093</td>\n      <td>0.146868</td>\n      <td>0.220135</td>\n      <td>0.021689</td>\n      <td>-0.314041</td>\n      <td>-0.235641</td>\n    </tr>\n    <tr>\n      <th>2020-04-24</th>\n      <td>-0.012803</td>\n      <td>-0.012796</td>\n      <td>-0.010549</td>\n      <td>-0.013163</td>\n      <td>-0.006735</td>\n      <td>-0.008005</td>\n      <td>-0.007117</td>\n      <td>-0.015156</td>\n      <td>-0.006123</td>\n      <td>-0.017158</td>\n      <td>...</td>\n      <td>0.034314</td>\n      <td>0.020382</td>\n      <td>-0.002135</td>\n      <td>0.025807</td>\n      <td>-0.008772</td>\n      <td>-0.007533</td>\n      <td>-0.032636</td>\n      <td>0.015275</td>\n      <td>0.005469</td>\n      <td>0.056840</td>\n    </tr>\n  </tbody>\n</table>\n<p>191 rows × 986 columns</p>\n</div>"
     },
     "metadata": {},
     "execution_count": 460
    }
   ],
   "source": [
    "df"
   ]
  },
  {
   "cell_type": "code",
   "execution_count": 210,
   "metadata": {},
   "outputs": [
    {
     "output_type": "stream",
     "name": "stderr",
     "text": [
      "100%|██████████| 9/9 [00:00<00:00, 26.03it/s]\n"
     ]
    }
   ],
   "source": [
    "from tqdm import tqdm\n",
    "from itertools import combinations\n",
    "samples = []\n",
    "tickers = df.columns[1:20]\n",
    "for i in tqdm(range(2,len(tickers)+1,2)):\n",
    "    samples.extend([list(x) for x in combinations(tickers, i)])"
   ]
  },
  {
   "cell_type": "code",
   "execution_count": 212,
   "metadata": {},
   "outputs": [
    {
     "output_type": "execute_result",
     "data": {
      "text/plain": [
       "262143"
      ]
     },
     "metadata": {},
     "execution_count": 212
    }
   ],
   "source": [
    "len(samples)"
   ]
  },
  {
   "cell_type": "code",
   "execution_count": 205,
   "metadata": {},
   "outputs": [],
   "source": [
    "PDI_DF = pd.DataFrame(PDI_dict).T\n",
    "PDI_DF[\"Number of Assets\"] = PDI_DF[\"Number of Assets\"].astype(int)\n",
    "PDI_DF[\"Sharpe Ratio\"] = PDI_DF[\"Sharpe Ratio\"].astype(float)\n",
    "PDI_DF[\"Annual STD\"] = PDI_DF[\"Annual STD\"].astype(float)\n",
    "PDI_DF[\"PDI_INDEX\"] = PDI_DF[\"PDI_INDEX\"].astype(float)\n",
    "PDI_DF[\"Annual Return\"] = PDI_DF[\"Annual Return\"].astype(float)"
   ]
  },
  {
   "cell_type": "code",
   "execution_count": 208,
   "metadata": {},
   "outputs": [],
   "source": [
    "fig = px.scatter(PDI_DF,  x=\"PDI_INDEX\", y=\"Sharpe Ratio\", color=\"Number of Assets\")\n",
    "fig.show()\n"
   ]
  },
  {
   "cell_type": "code",
   "execution_count": 11,
   "metadata": {},
   "outputs": [],
   "source": [
    "tt = [0]\n",
    "tt.extend([x for x in range(2,11)])"
   ]
  },
  {
   "cell_type": "code",
   "execution_count": 12,
   "metadata": {},
   "outputs": [
    {
     "output_type": "execute_result",
     "data": {
      "text/plain": [
       "[0, 2, 3, 4, 5, 6, 7, 8, 9, 10]"
      ]
     },
     "metadata": {},
     "execution_count": 12
    }
   ],
   "source": [
    "tt"
   ]
  },
  {
   "cell_type": "code",
   "execution_count": 4,
   "metadata": {},
   "outputs": [],
   "source": [
    "import gurobipy as gp\n",
    "from gurobipy import GRB"
   ]
  },
  {
   "cell_type": "code",
   "execution_count": 24,
   "metadata": {},
   "outputs": [
    {
     "output_type": "execute_result",
     "data": {
      "text/plain": [
       "0.09653686994626942"
      ]
     },
     "metadata": {},
     "execution_count": 24
    }
   ],
   "source": [
    "meanRetAn(df[\"SPY\"])"
   ]
  },
  {
   "cell_type": "code",
   "execution_count": 158,
   "metadata": {},
   "outputs": [
    {
     "output_type": "stream",
     "name": "stdout",
     "text": [
      "JHMT    0.171825\nPRNT    0.175176\nEUDG    0.137244\nJHMH    0.167245\nFXZ     0.149961\nPEZ     0.182065\ndtype: float64\nJHMT   -0.114077\nPRNT   -0.135496\nEUDG   -0.133636\nJHMH   -0.134068\nFXZ    -0.153406\nPEZ    -0.218829\ndtype: float64\n"
     ]
    }
   ],
   "source": [
    "antal = 10\n",
    "test = df[['JHMT', 'PRNT', 'EUDG', 'JHMH', 'FXZ', 'PEZ']]\n",
    "print(test.max())\n",
    "print(test.min())"
   ]
  },
  {
   "cell_type": "code",
   "execution_count": 159,
   "metadata": {},
   "outputs": [],
   "source": [
    "    pca = PCA()\n",
    "    corr_matrix = np.array(test.corr())\n",
    "    principalComponents = pca.fit(corr_matrix)\n",
    "    PDI = 2*sum(principalComponents.explained_variance_ratio_*range(1,len(principalComponents.explained_variance_ratio_)+1,1))-1"
   ]
  },
  {
   "cell_type": "code",
   "execution_count": 170,
   "metadata": {},
   "outputs": [],
   "source": [
    "fundamental_df = pd.read_csv(\"fund_risk_cluster_reduced.csv\",index_col=\"Ticker\") #Fundamental Clustering Data\n",
    "weekly_return = pd.read_csv(\"WeeklyReturns.csv\",index_col=\"Date\") #Weekly Return Data\n",
    "fundamental_df = fundamental_df.loc[fundamental_df.index.intersection(weekly_return.columns)]"
   ]
  },
  {
   "cell_type": "code",
   "execution_count": 172,
   "metadata": {},
   "outputs": [
    {
     "output_type": "execute_result",
     "data": {
      "text/plain": [
       "                       Category  \\\n",
       "SPY                 Large Blend   \n",
       "IVV                 Large Blend   \n",
       "VTI                 Large Blend   \n",
       "VOO                 Large Blend   \n",
       "QQQ                Large Growth   \n",
       "...                         ...   \n",
       "EEH                 Large Blend   \n",
       "LTL   Trading--Leveraged Equity   \n",
       "HEWW       Miscellaneous Region   \n",
       "SCC     Trading--Inverse Equity   \n",
       "SZK     Trading--Inverse Equity   \n",
       "\n",
       "                                 Fundamental Cluster  \\\n",
       "SPY                    High Fundamental Broad Market   \n",
       "IVV                    High Fundamental Broad Market   \n",
       "VTI                    High Fundamental Broad Market   \n",
       "VOO                    High Fundamental Broad Market   \n",
       "QQQ                    High Fundamental Broad Market   \n",
       "...                                              ...   \n",
       "EEH   Low Fundamental ETF’s (Energy, Health,Finance)   \n",
       "LTL                             Market Leveraged ETF   \n",
       "HEWW                   Low Fundamentals Broad Market   \n",
       "SCC                               Market Inverse ETF   \n",
       "SZK                               Market Inverse ETF   \n",
       "\n",
       "                                           Risk Cluster  \n",
       "SPY   Moderat/High Risk - Slightly Above Market Vola...  \n",
       "IVV   Moderat/High Risk - Slightly Above Market Vola...  \n",
       "VTI   Moderat/High Risk - Slightly Above Market Vola...  \n",
       "VOO   Moderat/High Risk - Slightly Above Market Vola...  \n",
       "QQQ   Moderat/High Risk - Slightly Above Market Vola...  \n",
       "...                                                 ...  \n",
       "EEH   Moderat/High Risk - Slightly Above Market Vola...  \n",
       "LTL                  High Risk - Double Market Volatile  \n",
       "HEWW                 High Risk - Double Market Volatile  \n",
       "SCC                         Betting against the market   \n",
       "SZK                         Betting against the market   \n",
       "\n",
       "[980 rows x 3 columns]"
      ],
      "text/html": "<div>\n<style scoped>\n    .dataframe tbody tr th:only-of-type {\n        vertical-align: middle;\n    }\n\n    .dataframe tbody tr th {\n        vertical-align: top;\n    }\n\n    .dataframe thead th {\n        text-align: right;\n    }\n</style>\n<table border=\"1\" class=\"dataframe\">\n  <thead>\n    <tr style=\"text-align: right;\">\n      <th></th>\n      <th>Category</th>\n      <th>Fundamental Cluster</th>\n      <th>Risk Cluster</th>\n    </tr>\n  </thead>\n  <tbody>\n    <tr>\n      <th>SPY</th>\n      <td>Large Blend</td>\n      <td>High Fundamental Broad Market</td>\n      <td>Moderat/High Risk - Slightly Above Market Vola...</td>\n    </tr>\n    <tr>\n      <th>IVV</th>\n      <td>Large Blend</td>\n      <td>High Fundamental Broad Market</td>\n      <td>Moderat/High Risk - Slightly Above Market Vola...</td>\n    </tr>\n    <tr>\n      <th>VTI</th>\n      <td>Large Blend</td>\n      <td>High Fundamental Broad Market</td>\n      <td>Moderat/High Risk - Slightly Above Market Vola...</td>\n    </tr>\n    <tr>\n      <th>VOO</th>\n      <td>Large Blend</td>\n      <td>High Fundamental Broad Market</td>\n      <td>Moderat/High Risk - Slightly Above Market Vola...</td>\n    </tr>\n    <tr>\n      <th>QQQ</th>\n      <td>Large Growth</td>\n      <td>High Fundamental Broad Market</td>\n      <td>Moderat/High Risk - Slightly Above Market Vola...</td>\n    </tr>\n    <tr>\n      <th>...</th>\n      <td>...</td>\n      <td>...</td>\n      <td>...</td>\n    </tr>\n    <tr>\n      <th>EEH</th>\n      <td>Large Blend</td>\n      <td>Low Fundamental ETF’s (Energy, Health,Finance)</td>\n      <td>Moderat/High Risk - Slightly Above Market Vola...</td>\n    </tr>\n    <tr>\n      <th>LTL</th>\n      <td>Trading--Leveraged Equity</td>\n      <td>Market Leveraged ETF</td>\n      <td>High Risk - Double Market Volatile</td>\n    </tr>\n    <tr>\n      <th>HEWW</th>\n      <td>Miscellaneous Region</td>\n      <td>Low Fundamentals Broad Market</td>\n      <td>High Risk - Double Market Volatile</td>\n    </tr>\n    <tr>\n      <th>SCC</th>\n      <td>Trading--Inverse Equity</td>\n      <td>Market Inverse ETF</td>\n      <td>Betting against the market</td>\n    </tr>\n    <tr>\n      <th>SZK</th>\n      <td>Trading--Inverse Equity</td>\n      <td>Market Inverse ETF</td>\n      <td>Betting against the market</td>\n    </tr>\n  </tbody>\n</table>\n<p>980 rows × 3 columns</p>\n</div>"
     },
     "metadata": {},
     "execution_count": 172
    }
   ],
   "source": [
    "fundamental_df"
   ]
  },
  {
   "cell_type": "code",
   "execution_count": 193,
   "metadata": {},
   "outputs": [
    {
     "output_type": "execute_result",
     "data": {
      "text/plain": [
       "         Category            Fundamental Cluster  \\\n",
       "VTV   Large Value  Mid Fundamentals Broad Market   \n",
       "CIBR   Technology  High Fundamental Broad Market   \n",
       "PRN   Industrials  High Fundamental Broad Market   \n",
       "XHE        Health  High Fundamental Broad Market   \n",
       "NXTG   Technology  Mid Fundamentals Broad Market   \n",
       "\n",
       "                                           Risk Cluster  \n",
       "VTV   Moderat/High Risk - Slightly Above Market Vola...  \n",
       "CIBR  Moderat/High Risk - Slightly Above Market Vola...  \n",
       "PRN   Moderat/High Risk - Slightly Above Market Vola...  \n",
       "XHE   Moderat/High Risk - Slightly Above Market Vola...  \n",
       "NXTG  Moderat/High Risk - Slightly Above Market Vola...  "
      ],
      "text/html": "<div>\n<style scoped>\n    .dataframe tbody tr th:only-of-type {\n        vertical-align: middle;\n    }\n\n    .dataframe tbody tr th {\n        vertical-align: top;\n    }\n\n    .dataframe thead th {\n        text-align: right;\n    }\n</style>\n<table border=\"1\" class=\"dataframe\">\n  <thead>\n    <tr style=\"text-align: right;\">\n      <th></th>\n      <th>Category</th>\n      <th>Fundamental Cluster</th>\n      <th>Risk Cluster</th>\n    </tr>\n  </thead>\n  <tbody>\n    <tr>\n      <th>VTV</th>\n      <td>Large Value</td>\n      <td>Mid Fundamentals Broad Market</td>\n      <td>Moderat/High Risk - Slightly Above Market Vola...</td>\n    </tr>\n    <tr>\n      <th>CIBR</th>\n      <td>Technology</td>\n      <td>High Fundamental Broad Market</td>\n      <td>Moderat/High Risk - Slightly Above Market Vola...</td>\n    </tr>\n    <tr>\n      <th>PRN</th>\n      <td>Industrials</td>\n      <td>High Fundamental Broad Market</td>\n      <td>Moderat/High Risk - Slightly Above Market Vola...</td>\n    </tr>\n    <tr>\n      <th>XHE</th>\n      <td>Health</td>\n      <td>High Fundamental Broad Market</td>\n      <td>Moderat/High Risk - Slightly Above Market Vola...</td>\n    </tr>\n    <tr>\n      <th>NXTG</th>\n      <td>Technology</td>\n      <td>Mid Fundamentals Broad Market</td>\n      <td>Moderat/High Risk - Slightly Above Market Vola...</td>\n    </tr>\n  </tbody>\n</table>\n</div>"
     },
     "metadata": {},
     "execution_count": 193
    }
   ],
   "source": [
    "fundamental_df.loc[['VTV', 'CIBR', 'PRN', 'XHE', 'NXTG'],:]\n"
   ]
  },
  {
   "cell_type": "code",
   "execution_count": 194,
   "metadata": {},
   "outputs": [
    {
     "output_type": "execute_result",
     "data": {
      "text/plain": [
       "           VTV      CIBR       PRN       XHE      NXTG\n",
       "VTV   1.000000  0.815797  0.906045  0.852176  0.836349\n",
       "CIBR  0.815797  1.000000  0.860563  0.840134  0.803799\n",
       "PRN   0.906045  0.860563  1.000000  0.862444  0.838910\n",
       "XHE   0.852176  0.840134  0.862444  1.000000  0.800139\n",
       "NXTG  0.836349  0.803799  0.838910  0.800139  1.000000"
      ],
      "text/html": "<div>\n<style scoped>\n    .dataframe tbody tr th:only-of-type {\n        vertical-align: middle;\n    }\n\n    .dataframe tbody tr th {\n        vertical-align: top;\n    }\n\n    .dataframe thead th {\n        text-align: right;\n    }\n</style>\n<table border=\"1\" class=\"dataframe\">\n  <thead>\n    <tr style=\"text-align: right;\">\n      <th></th>\n      <th>VTV</th>\n      <th>CIBR</th>\n      <th>PRN</th>\n      <th>XHE</th>\n      <th>NXTG</th>\n    </tr>\n  </thead>\n  <tbody>\n    <tr>\n      <th>VTV</th>\n      <td>1.000000</td>\n      <td>0.815797</td>\n      <td>0.906045</td>\n      <td>0.852176</td>\n      <td>0.836349</td>\n    </tr>\n    <tr>\n      <th>CIBR</th>\n      <td>0.815797</td>\n      <td>1.000000</td>\n      <td>0.860563</td>\n      <td>0.840134</td>\n      <td>0.803799</td>\n    </tr>\n    <tr>\n      <th>PRN</th>\n      <td>0.906045</td>\n      <td>0.860563</td>\n      <td>1.000000</td>\n      <td>0.862444</td>\n      <td>0.838910</td>\n    </tr>\n    <tr>\n      <th>XHE</th>\n      <td>0.852176</td>\n      <td>0.840134</td>\n      <td>0.862444</td>\n      <td>1.000000</td>\n      <td>0.800139</td>\n    </tr>\n    <tr>\n      <th>NXTG</th>\n      <td>0.836349</td>\n      <td>0.803799</td>\n      <td>0.838910</td>\n      <td>0.800139</td>\n      <td>1.000000</td>\n    </tr>\n  </tbody>\n</table>\n</div>"
     },
     "metadata": {},
     "execution_count": 194
    }
   ],
   "source": [
    "df[['VTV', 'CIBR', 'PRN', 'XHE', 'NXTG']].corr()\n"
   ]
  },
  {
   "cell_type": "code",
   "execution_count": 195,
   "metadata": {},
   "outputs": [
    {
     "output_type": "execute_result",
     "data": {
      "text/plain": [
       "          Category            Fundamental Cluster  \\\n",
       "SCHD   Large Value  Mid Fundamentals Broad Market   \n",
       "MGK   Large Growth  High Fundamental Broad Market   \n",
       "BBH         Health  High Fundamental Broad Market   \n",
       "SCHG  Large Growth  High Fundamental Broad Market   \n",
       "RDVY   Large Value  Mid Fundamentals Broad Market   \n",
       "\n",
       "                                           Risk Cluster  \n",
       "SCHD  Moderat/High Risk - Slightly Above Market Vola...  \n",
       "MGK   Moderat/High Risk - Slightly Above Market Vola...  \n",
       "BBH   Moderat/High Risk - Slightly Above Market Vola...  \n",
       "SCHG  Moderat/High Risk - Slightly Above Market Vola...  \n",
       "RDVY  Moderat/High Risk - Slightly Above Market Vola...  "
      ],
      "text/html": "<div>\n<style scoped>\n    .dataframe tbody tr th:only-of-type {\n        vertical-align: middle;\n    }\n\n    .dataframe tbody tr th {\n        vertical-align: top;\n    }\n\n    .dataframe thead th {\n        text-align: right;\n    }\n</style>\n<table border=\"1\" class=\"dataframe\">\n  <thead>\n    <tr style=\"text-align: right;\">\n      <th></th>\n      <th>Category</th>\n      <th>Fundamental Cluster</th>\n      <th>Risk Cluster</th>\n    </tr>\n  </thead>\n  <tbody>\n    <tr>\n      <th>SCHD</th>\n      <td>Large Value</td>\n      <td>Mid Fundamentals Broad Market</td>\n      <td>Moderat/High Risk - Slightly Above Market Vola...</td>\n    </tr>\n    <tr>\n      <th>MGK</th>\n      <td>Large Growth</td>\n      <td>High Fundamental Broad Market</td>\n      <td>Moderat/High Risk - Slightly Above Market Vola...</td>\n    </tr>\n    <tr>\n      <th>BBH</th>\n      <td>Health</td>\n      <td>High Fundamental Broad Market</td>\n      <td>Moderat/High Risk - Slightly Above Market Vola...</td>\n    </tr>\n    <tr>\n      <th>SCHG</th>\n      <td>Large Growth</td>\n      <td>High Fundamental Broad Market</td>\n      <td>Moderat/High Risk - Slightly Above Market Vola...</td>\n    </tr>\n    <tr>\n      <th>RDVY</th>\n      <td>Large Value</td>\n      <td>Mid Fundamentals Broad Market</td>\n      <td>Moderat/High Risk - Slightly Above Market Vola...</td>\n    </tr>\n  </tbody>\n</table>\n</div>"
     },
     "metadata": {},
     "execution_count": 195
    }
   ],
   "source": [
    "fundamental_df.loc[['SCHD', 'MGK', 'BBH', 'SCHG', 'RDVY'],:]"
   ]
  },
  {
   "cell_type": "code",
   "execution_count": 196,
   "metadata": {},
   "outputs": [
    {
     "output_type": "execute_result",
     "data": {
      "text/plain": [
       "          SCHD       MGK       BBH      SCHG      RDVY\n",
       "SCHD  1.000000  0.931716  0.689906  0.942048  0.945722\n",
       "MGK   0.931716  1.000000  0.754849  0.994882  0.911086\n",
       "BBH   0.689906  0.754849  1.000000  0.759271  0.699064\n",
       "SCHG  0.942048  0.994882  0.759271  1.000000  0.933393\n",
       "RDVY  0.945722  0.911086  0.699064  0.933393  1.000000"
      ],
      "text/html": "<div>\n<style scoped>\n    .dataframe tbody tr th:only-of-type {\n        vertical-align: middle;\n    }\n\n    .dataframe tbody tr th {\n        vertical-align: top;\n    }\n\n    .dataframe thead th {\n        text-align: right;\n    }\n</style>\n<table border=\"1\" class=\"dataframe\">\n  <thead>\n    <tr style=\"text-align: right;\">\n      <th></th>\n      <th>SCHD</th>\n      <th>MGK</th>\n      <th>BBH</th>\n      <th>SCHG</th>\n      <th>RDVY</th>\n    </tr>\n  </thead>\n  <tbody>\n    <tr>\n      <th>SCHD</th>\n      <td>1.000000</td>\n      <td>0.931716</td>\n      <td>0.689906</td>\n      <td>0.942048</td>\n      <td>0.945722</td>\n    </tr>\n    <tr>\n      <th>MGK</th>\n      <td>0.931716</td>\n      <td>1.000000</td>\n      <td>0.754849</td>\n      <td>0.994882</td>\n      <td>0.911086</td>\n    </tr>\n    <tr>\n      <th>BBH</th>\n      <td>0.689906</td>\n      <td>0.754849</td>\n      <td>1.000000</td>\n      <td>0.759271</td>\n      <td>0.699064</td>\n    </tr>\n    <tr>\n      <th>SCHG</th>\n      <td>0.942048</td>\n      <td>0.994882</td>\n      <td>0.759271</td>\n      <td>1.000000</td>\n      <td>0.933393</td>\n    </tr>\n    <tr>\n      <th>RDVY</th>\n      <td>0.945722</td>\n      <td>0.911086</td>\n      <td>0.699064</td>\n      <td>0.933393</td>\n      <td>1.000000</td>\n    </tr>\n  </tbody>\n</table>\n</div>"
     },
     "metadata": {},
     "execution_count": 196
    }
   ],
   "source": [
    "df[['SCHD', 'MGK', 'BBH', 'SCHG', 'RDVY']].corr()"
   ]
  },
  {
   "cell_type": "code",
   "execution_count": 183,
   "metadata": {},
   "outputs": [
    {
     "output_type": "stream",
     "name": "stdout",
     "text": [
      "[0.32885906 0.30258991 0.15747073 0.1295195  0.0815608  0.        ]\n"
     ]
    }
   ],
   "source": [
    "print(np.round(principalComponents.explained_variance_ratio_,10))"
   ]
  },
  {
   "cell_type": "code",
   "execution_count": 186,
   "metadata": {},
   "outputs": [
    {
     "output_type": "execute_result",
     "data": {
      "text/plain": [
       "3.6646661098491924"
      ]
     },
     "metadata": {},
     "execution_count": 186
    }
   ],
   "source": [
    "PDI"
   ]
  },
  {
   "cell_type": "code",
   "execution_count": 185,
   "metadata": {},
   "outputs": [
    {
     "output_type": "execute_result",
     "data": {
      "text/plain": [
       "1.0000000000000002"
      ]
     },
     "metadata": {},
     "execution_count": 185
    }
   ],
   "source": [
    "sum(principalComponents.explained_variance_ratio_[:5])"
   ]
  },
  {
   "cell_type": "code",
   "execution_count": 177,
   "metadata": {},
   "outputs": [
    {
     "output_type": "stream",
     "name": "stdout",
     "text": [
      "6\n"
     ]
    },
    {
     "output_type": "execute_result",
     "data": {
      "text/plain": [
       "array([0.3289, 0.3026, 0.1575, 0.1295, 0.0816, 0.    ])"
      ]
     },
     "metadata": {},
     "execution_count": 177
    }
   ],
   "source": [
    "print(len(principalComponents.explained_variance_ratio_))\n",
    "np.round(principalComponents.explained_variance_ratio_,4)\n"
   ]
  },
  {
   "cell_type": "code",
   "execution_count": 168,
   "metadata": {},
   "outputs": [
    {
     "output_type": "stream",
     "name": "stdout",
     "text": [
      "1\n2\n3\n4\n5\n6\n"
     ]
    }
   ],
   "source": [
    "for i in range(1,len(principalComponents.explained_variance_ratio_)+1):\n",
    "    print(i)"
   ]
  },
  {
   "cell_type": "code",
   "execution_count": 165,
   "metadata": {},
   "outputs": [
    {
     "output_type": "execute_result",
     "data": {
      "text/plain": [
       "array([3.28859063e-01, 6.05179820e-01, 4.72412203e-01, 5.18077981e-01,\n",
       "       4.07803989e-01, 1.69154207e-31])"
      ]
     },
     "metadata": {},
     "execution_count": 165
    }
   ],
   "source": [
    "principalComponents.explained_variance_ratio_*range(1,len(principalComponents.explained_variance_ratio_)+1)"
   ]
  },
  {
   "cell_type": "code",
   "execution_count": 167,
   "metadata": {},
   "outputs": [
    {
     "output_type": "execute_result",
     "data": {
      "text/plain": [
       "           FXZ      DBEM      IEMG       IYM      PSCI\n",
       "FXZ   1.000000  0.807496  0.780125  0.964537  0.914688\n",
       "DBEM  0.807496  1.000000  0.956624  0.801668  0.700336\n",
       "IEMG  0.780125  0.956624  1.000000  0.774018  0.664428\n",
       "IYM   0.964537  0.801668  0.774018  1.000000  0.874296\n",
       "PSCI  0.914688  0.700336  0.664428  0.874296  1.000000"
      ],
      "text/html": "<div>\n<style scoped>\n    .dataframe tbody tr th:only-of-type {\n        vertical-align: middle;\n    }\n\n    .dataframe tbody tr th {\n        vertical-align: top;\n    }\n\n    .dataframe thead th {\n        text-align: right;\n    }\n</style>\n<table border=\"1\" class=\"dataframe\">\n  <thead>\n    <tr style=\"text-align: right;\">\n      <th></th>\n      <th>FXZ</th>\n      <th>DBEM</th>\n      <th>IEMG</th>\n      <th>IYM</th>\n      <th>PSCI</th>\n    </tr>\n  </thead>\n  <tbody>\n    <tr>\n      <th>FXZ</th>\n      <td>1.000000</td>\n      <td>0.807496</td>\n      <td>0.780125</td>\n      <td>0.964537</td>\n      <td>0.914688</td>\n    </tr>\n    <tr>\n      <th>DBEM</th>\n      <td>0.807496</td>\n      <td>1.000000</td>\n      <td>0.956624</td>\n      <td>0.801668</td>\n      <td>0.700336</td>\n    </tr>\n    <tr>\n      <th>IEMG</th>\n      <td>0.780125</td>\n      <td>0.956624</td>\n      <td>1.000000</td>\n      <td>0.774018</td>\n      <td>0.664428</td>\n    </tr>\n    <tr>\n      <th>IYM</th>\n      <td>0.964537</td>\n      <td>0.801668</td>\n      <td>0.774018</td>\n      <td>1.000000</td>\n      <td>0.874296</td>\n    </tr>\n    <tr>\n      <th>PSCI</th>\n      <td>0.914688</td>\n      <td>0.700336</td>\n      <td>0.664428</td>\n      <td>0.874296</td>\n      <td>1.000000</td>\n    </tr>\n  </tbody>\n</table>\n</div>"
     },
     "metadata": {},
     "execution_count": 167
    }
   ],
   "source": [
    "df[['FXZ', 'DBEM', 'IEMG', 'IYM', 'PSCI']].corr()"
   ]
  },
  {
   "cell_type": "code",
   "execution_count": 163,
   "metadata": {},
   "outputs": [
    {
     "output_type": "execute_result",
     "data": {
      "text/plain": [
       "          JHMT      PRNT      EUDG      JHMH       FXZ       PEZ\n",
       "JHMT  1.000000  0.851209  0.819518  0.838515  0.848346  0.864780\n",
       "PRNT  0.851209  1.000000  0.775950  0.773711  0.812731  0.797426\n",
       "EUDG  0.819518  0.775950  1.000000  0.775002  0.843716  0.835978\n",
       "JHMH  0.838515  0.773711  0.775002  1.000000  0.788983  0.824495\n",
       "FXZ   0.848346  0.812731  0.843716  0.788983  1.000000  0.833706\n",
       "PEZ   0.864780  0.797426  0.835978  0.824495  0.833706  1.000000"
      ],
      "text/html": "<div>\n<style scoped>\n    .dataframe tbody tr th:only-of-type {\n        vertical-align: middle;\n    }\n\n    .dataframe tbody tr th {\n        vertical-align: top;\n    }\n\n    .dataframe thead th {\n        text-align: right;\n    }\n</style>\n<table border=\"1\" class=\"dataframe\">\n  <thead>\n    <tr style=\"text-align: right;\">\n      <th></th>\n      <th>JHMT</th>\n      <th>PRNT</th>\n      <th>EUDG</th>\n      <th>JHMH</th>\n      <th>FXZ</th>\n      <th>PEZ</th>\n    </tr>\n  </thead>\n  <tbody>\n    <tr>\n      <th>JHMT</th>\n      <td>1.000000</td>\n      <td>0.851209</td>\n      <td>0.819518</td>\n      <td>0.838515</td>\n      <td>0.848346</td>\n      <td>0.864780</td>\n    </tr>\n    <tr>\n      <th>PRNT</th>\n      <td>0.851209</td>\n      <td>1.000000</td>\n      <td>0.775950</td>\n      <td>0.773711</td>\n      <td>0.812731</td>\n      <td>0.797426</td>\n    </tr>\n    <tr>\n      <th>EUDG</th>\n      <td>0.819518</td>\n      <td>0.775950</td>\n      <td>1.000000</td>\n      <td>0.775002</td>\n      <td>0.843716</td>\n      <td>0.835978</td>\n    </tr>\n    <tr>\n      <th>JHMH</th>\n      <td>0.838515</td>\n      <td>0.773711</td>\n      <td>0.775002</td>\n      <td>1.000000</td>\n      <td>0.788983</td>\n      <td>0.824495</td>\n    </tr>\n    <tr>\n      <th>FXZ</th>\n      <td>0.848346</td>\n      <td>0.812731</td>\n      <td>0.843716</td>\n      <td>0.788983</td>\n      <td>1.000000</td>\n      <td>0.833706</td>\n    </tr>\n    <tr>\n      <th>PEZ</th>\n      <td>0.864780</td>\n      <td>0.797426</td>\n      <td>0.835978</td>\n      <td>0.824495</td>\n      <td>0.833706</td>\n      <td>1.000000</td>\n    </tr>\n  </tbody>\n</table>\n</div>"
     },
     "metadata": {},
     "execution_count": 163
    }
   ],
   "source": [
    "test.corr()"
   ]
  },
  {
   "cell_type": "code",
   "execution_count": 107,
   "metadata": {},
   "outputs": [
    {
     "output_type": "stream",
     "name": "stdout",
     "text": [
      "-0.08218958696268619\n0.2279823374729988\n"
     ]
    }
   ],
   "source": [
    "min = np.min(meanRetAn(test.values))\n",
    "max = np.max(meanRetAn(test.values))\n",
    "print(min)\n",
    "print(max)"
   ]
  },
  {
   "cell_type": "code",
   "execution_count": 108,
   "metadata": {},
   "outputs": [],
   "source": [
    "def get_ret_vol_sr(weights):\n",
    "    weights = np.array(weights)\n",
    "    ret = np.sum(test.apply(meanRetAn) * weights)\n",
    "    vol = np.sqrt(np.dot(weights.T, np.dot(test.cov()*52, weights)))\n",
    "    sr = ret/vol\n",
    "    return np.array([ret, vol, sr])\n",
    "\n",
    "def neg_sharpe(weights):\n",
    "# the number 2 is the sharpe ratio index from the get_ret_vol_sr\n",
    "    return -(get_ret_vol_sr(weights)[2])\n",
    "\n",
    "def check_sum(weights):\n",
    "    #return 0 if sum of the weights is 1\n",
    "    return np.sum(weights)-1"
   ]
  },
  {
   "cell_type": "code",
   "execution_count": 109,
   "metadata": {},
   "outputs": [],
   "source": [
    "from itertools import repeat"
   ]
  },
  {
   "cell_type": "code",
   "execution_count": 110,
   "metadata": {},
   "outputs": [
    {
     "output_type": "stream",
     "name": "stderr",
     "text": [
      "100%|██████████| 200/200 [01:18<00:00,  2.55it/s]\n"
     ]
    }
   ],
   "source": [
    "frontier = np.linspace(min,max, 200)\n",
    "ret, vol, sr, weight = [],[],[],[]\n",
    "for i in tqdm(frontier):\n",
    "    cons = ({'type':'eq', 'fun':check_sum},\n",
    "            {'type' : 'eq', 'fun': lambda w: get_ret_vol_sr(w)[0] - i})\n",
    "    bounds = [x for x in repeat((0,1),antal )]\n",
    "    init_guess = [x for x in repeat(0.25, antal)]\n",
    "    result = minimize(neg_sharpe,init_guess,method='SLSQP', bounds=bounds, constraints=cons)\n",
    "    ret.append(get_ret_vol_sr(result.x)[0])\n",
    "    vol.append(get_ret_vol_sr(result.x)[1])\n",
    "    sr.append(get_ret_vol_sr(result.x)[2])\n",
    "    weight.append(result.x)\n",
    "\n",
    "\n",
    "\n"
   ]
  },
  {
   "cell_type": "code",
   "execution_count": 114,
   "metadata": {},
   "outputs": [
    {
     "output_type": "stream",
     "name": "stdout",
     "text": [
      "[0. 0. 0. 1. 0. 0. 0. 0. 0. 0.]\n[0.   0.   0.   0.99 0.   0.   0.   0.   0.   0.  ]\n[0.   0.   0.   0.99 0.   0.   0.   0.   0.   0.01]\n[0.   0.   0.01 0.98 0.   0.   0.   0.   0.   0.01]\n[0.   0.   0.01 0.98 0.   0.   0.   0.   0.   0.01]\n[0.   0.   0.01 0.97 0.   0.   0.   0.   0.   0.01]\n[0.   0.   0.01 0.97 0.   0.   0.   0.   0.   0.02]\n[0.   0.   0.02 0.96 0.   0.   0.   0.   0.   0.02]\n[0.   0.   0.02 0.96 0.   0.   0.   0.   0.   0.02]\n[0.   0.   0.02 0.95 0.   0.   0.   0.   0.   0.03]\n[0.   0.   0.02 0.95 0.   0.   0.   0.   0.   0.03]\n[0.   0.   0.01 0.94 0.   0.   0.   0.   0.   0.05]\n[0.   0.   0.   0.62 0.   0.   0.38 0.   0.   0.  ]\n[0.   0.   0.   0.59 0.   0.   0.41 0.   0.   0.  ]\n[0.   0.   0.   0.56 0.   0.   0.44 0.   0.   0.  ]\n[0.   0.   0.   0.53 0.   0.   0.47 0.   0.   0.  ]\n[0.  0.  0.  0.5 0.  0.  0.5 0.  0.  0. ]\n[0.   0.   0.   0.47 0.   0.   0.53 0.   0.   0.  ]\n[0.   0.   0.   0.43 0.   0.   0.57 0.   0.   0.  ]\n[0.  0.  0.  0.4 0.  0.  0.6 0.  0.  0. ]\n[0.   0.   0.   0.37 0.   0.   0.63 0.   0.   0.  ]\n[0.   0.   0.   0.34 0.   0.   0.66 0.   0.   0.  ]\n[0.   0.   0.   0.31 0.   0.   0.69 0.   0.   0.  ]\n[0.   0.   0.   0.28 0.   0.   0.72 0.   0.   0.  ]\n[0.   0.   0.   0.25 0.   0.   0.75 0.   0.   0.  ]\n[0.   0.   0.   0.21 0.   0.   0.79 0.   0.   0.  ]\n[0.   0.   0.   0.18 0.   0.   0.82 0.   0.   0.  ]\n[0.   0.   0.   0.15 0.   0.   0.85 0.   0.   0.  ]\n[0.   0.   0.   0.12 0.   0.   0.88 0.   0.   0.  ]\n[0.   0.   0.   0.09 0.   0.   0.91 0.   0.   0.  ]\n[0.   0.   0.   0.06 0.   0.   0.94 0.   0.   0.  ]\n[0.   0.   0.   0.03 0.   0.   0.97 0.   0.   0.  ]\n[0. 0. 0. 0. 0. 0. 1. 0. 0. 0.]\n[0.   0.   0.   0.   0.   0.   0.99 0.   0.   0.01]\n[0.   0.   0.   0.   0.   0.   0.99 0.   0.   0.01]\n[0.   0.   0.   0.   0.   0.   0.98 0.   0.   0.02]\n[0.   0.   0.   0.   0.   0.   0.98 0.   0.   0.02]\n[0.   0.   0.   0.   0.   0.   0.97 0.   0.   0.03]\n[0.   0.   0.   0.   0.   0.   0.96 0.   0.   0.04]\n[0.   0.   0.   0.   0.   0.   0.96 0.   0.   0.04]\n[0.   0.   0.   0.   0.   0.   0.95 0.   0.   0.05]\n[0.   0.   0.   0.   0.   0.   0.95 0.   0.   0.05]\n[0.   0.   0.   0.   0.   0.   0.94 0.   0.   0.06]\n[0.   0.   0.   0.   0.   0.   0.93 0.   0.   0.07]\n[0.   0.   0.   0.   0.   0.   0.93 0.   0.   0.07]\n[0.   0.   0.   0.   0.   0.   0.92 0.   0.   0.08]\n[0.   0.   0.   0.   0.   0.   0.92 0.   0.   0.08]\n[0.   0.   0.   0.   0.   0.   0.91 0.   0.   0.09]\n[0.  0.  0.  0.  0.  0.  0.9 0.  0.  0.1]\n[0.   0.   0.02 0.   0.   0.   0.9  0.   0.   0.09]\n[0.   0.   0.02 0.   0.   0.   0.89 0.   0.   0.09]\n[0.   0.   0.02 0.   0.   0.   0.88 0.   0.   0.1 ]\n[0.   0.06 0.01 0.   0.   0.   0.86 0.   0.   0.07]\n[0.12 0.01 0.   0.23 0.11 0.19 0.16 0.01 0.18 0.  ]\n[0.   0.   0.   0.01 0.   0.4  0.06 0.   0.53 0.  ]\n[0.   0.   0.   0.05 0.   0.31 0.05 0.   0.59 0.  ]\n[0.   0.   0.   0.04 0.   0.3  0.05 0.   0.61 0.  ]\n[0.   0.   0.   0.03 0.   0.29 0.05 0.   0.63 0.  ]\n[0.   0.   0.   0.02 0.   0.28 0.05 0.   0.65 0.  ]\n[0.   0.   0.   0.01 0.   0.28 0.05 0.   0.66 0.  ]\n[0.   0.   0.   0.   0.   0.27 0.05 0.   0.68 0.  ]\n[0.01 0.   0.   0.   0.   0.26 0.04 0.   0.68 0.  ]\n[0.02 0.   0.   0.   0.   0.25 0.04 0.   0.68 0.  ]\n[0.04 0.   0.   0.   0.   0.24 0.04 0.   0.68 0.  ]\n[0.05 0.   0.   0.   0.   0.23 0.04 0.   0.67 0.  ]\n[0.06 0.   0.   0.   0.   0.22 0.04 0.   0.67 0.  ]\n[0.08 0.   0.   0.   0.   0.21 0.04 0.   0.67 0.  ]\n[0.09 0.   0.   0.   0.   0.2  0.04 0.   0.67 0.  ]\n[0.11 0.   0.   0.   0.   0.19 0.04 0.   0.66 0.  ]\n[0.12 0.   0.   0.   0.   0.18 0.04 0.   0.66 0.  ]\n[0.13 0.   0.   0.   0.   0.17 0.04 0.   0.65 0.  ]\n[0.15 0.   0.   0.   0.   0.16 0.04 0.   0.65 0.  ]\n[0.16 0.   0.   0.   0.   0.15 0.04 0.   0.64 0.  ]\n[0.18 0.   0.   0.   0.   0.14 0.04 0.   0.64 0.  ]\n[0.19 0.   0.   0.   0.   0.13 0.04 0.   0.64 0.  ]\n[0.2  0.   0.   0.   0.   0.12 0.04 0.   0.63 0.  ]\n[0.22 0.   0.   0.   0.   0.11 0.04 0.   0.63 0.  ]\n[0.23 0.   0.   0.   0.   0.1  0.04 0.   0.63 0.  ]\n[0.25 0.   0.   0.   0.   0.09 0.04 0.   0.62 0.  ]\n[0.26 0.   0.   0.   0.   0.08 0.04 0.   0.62 0.  ]\n[0.27 0.   0.   0.   0.   0.07 0.03 0.   0.62 0.  ]\n[0.29 0.   0.   0.   0.   0.06 0.03 0.   0.61 0.  ]\n[0.3  0.   0.   0.   0.   0.05 0.03 0.   0.61 0.  ]\n[0.31 0.   0.   0.   0.   0.04 0.03 0.   0.61 0.  ]\n[0.33 0.   0.   0.   0.   0.03 0.03 0.   0.6  0.  ]\n[0.34 0.   0.   0.   0.   0.03 0.03 0.   0.6  0.  ]\n[0.36 0.   0.   0.   0.   0.02 0.03 0.   0.6  0.  ]\n[0.37 0.   0.   0.   0.   0.01 0.03 0.   0.59 0.  ]\n[0.39 0.   0.   0.   0.   0.   0.03 0.   0.58 0.  ]\n[0.41 0.   0.   0.   0.   0.   0.03 0.   0.56 0.  ]\n[0.43 0.   0.   0.   0.   0.   0.03 0.   0.54 0.  ]\n[0.45 0.   0.   0.   0.   0.   0.02 0.   0.53 0.  ]\n[0.47 0.   0.   0.   0.   0.   0.02 0.   0.51 0.  ]\n[0.49 0.   0.   0.   0.   0.   0.02 0.   0.49 0.  ]\n[0.51 0.   0.   0.   0.   0.   0.02 0.   0.47 0.  ]\n[0.53 0.   0.   0.   0.   0.   0.02 0.   0.45 0.  ]\n[0.55 0.   0.   0.   0.   0.   0.01 0.   0.43 0.  ]\n[0.57 0.   0.   0.   0.   0.   0.01 0.   0.42 0.  ]\n[0.57 0.   0.   0.   0.01 0.   0.01 0.01 0.4  0.  ]\n[0.57 0.   0.   0.   0.01 0.   0.01 0.02 0.4  0.  ]\n[0.56 0.   0.   0.   0.02 0.   0.01 0.03 0.39 0.  ]\n[0.56 0.   0.   0.   0.02 0.   0.01 0.04 0.38 0.  ]\n[0.55 0.   0.   0.   0.02 0.   0.01 0.05 0.37 0.  ]\n[0.56 0.   0.   0.   0.04 0.   0.01 0.05 0.35 0.  ]\n[0.56 0.   0.   0.   0.04 0.   0.01 0.05 0.34 0.  ]\n[0.55 0.   0.   0.   0.05 0.   0.01 0.06 0.33 0.  ]\n[0.55 0.   0.   0.   0.05 0.   0.01 0.07 0.32 0.  ]\n[0.55 0.   0.   0.   0.06 0.   0.01 0.08 0.31 0.  ]\n[0.54 0.   0.   0.   0.06 0.   0.01 0.09 0.3  0.  ]\n[0.54 0.   0.   0.   0.07 0.   0.01 0.1  0.29 0.  ]\n[0.54 0.   0.   0.   0.07 0.   0.   0.1  0.28 0.  ]\n[0.53 0.   0.   0.   0.08 0.   0.   0.11 0.27 0.  ]\n[0.53 0.   0.   0.   0.08 0.   0.   0.12 0.26 0.  ]\n[0.53 0.   0.   0.   0.09 0.   0.   0.13 0.25 0.  ]\n[0.52 0.   0.   0.   0.09 0.   0.   0.14 0.25 0.  ]\n[0.52 0.   0.   0.   0.1  0.   0.   0.15 0.23 0.  ]\n[0.52 0.   0.   0.   0.1  0.   0.   0.16 0.22 0.  ]\n[0.52 0.   0.   0.   0.11 0.   0.   0.16 0.21 0.  ]\n[0.51 0.   0.   0.   0.11 0.   0.   0.17 0.2  0.  ]\n[0.51 0.   0.   0.   0.12 0.   0.   0.18 0.19 0.  ]\n[0.51 0.   0.   0.   0.12 0.   0.   0.18 0.18 0.  ]\n[0.5  0.   0.   0.   0.13 0.   0.   0.18 0.17 0.01]\n[0.5  0.   0.   0.   0.13 0.   0.   0.18 0.16 0.02]\n[0.5  0.   0.   0.   0.14 0.   0.   0.18 0.16 0.03]\n[0.49 0.   0.   0.   0.14 0.   0.   0.18 0.15 0.03]\n[0.49 0.   0.   0.   0.14 0.   0.   0.18 0.14 0.04]\n[0.49 0.   0.   0.   0.15 0.   0.   0.17 0.13 0.06]\n[0.49 0.   0.   0.   0.16 0.   0.   0.17 0.12 0.06]\n[0.48 0.   0.   0.   0.16 0.   0.   0.18 0.11 0.07]\n[0.48 0.   0.   0.   0.16 0.   0.   0.18 0.1  0.08]\n[0.48 0.   0.   0.   0.17 0.   0.   0.18 0.1  0.08]\n[0.47 0.   0.   0.   0.17 0.   0.   0.18 0.09 0.09]\n[0.47 0.   0.   0.   0.18 0.   0.   0.18 0.08 0.1 ]\n[0.47 0.   0.   0.   0.18 0.   0.   0.18 0.07 0.1 ]\n[0.46 0.   0.   0.   0.18 0.   0.   0.18 0.06 0.11]\n[0.46 0.   0.   0.   0.19 0.   0.   0.18 0.05 0.11]\n[0.45 0.   0.   0.   0.19 0.   0.   0.19 0.05 0.12]\n[0.45 0.   0.   0.   0.2  0.   0.   0.19 0.04 0.13]\n[0.45 0.   0.   0.   0.2  0.   0.   0.19 0.03 0.13]\n[0.44 0.   0.   0.   0.2  0.   0.   0.19 0.02 0.14]\n[0.44 0.   0.01 0.   0.21 0.   0.   0.19 0.01 0.14]\n[0.44 0.   0.01 0.   0.21 0.   0.   0.19 0.01 0.15]\n[0.43 0.   0.02 0.   0.21 0.   0.   0.19 0.   0.15]\n[0.42 0.   0.03 0.   0.21 0.   0.   0.19 0.   0.15]\n[0.41 0.   0.04 0.   0.21 0.   0.   0.19 0.   0.16]\n[0.4  0.   0.05 0.   0.21 0.   0.   0.19 0.   0.16]\n[0.39 0.   0.06 0.   0.2  0.   0.   0.18 0.   0.17]\n[0.38 0.   0.07 0.   0.2  0.   0.   0.18 0.   0.17]\n[0.37 0.   0.08 0.   0.2  0.   0.   0.18 0.   0.17]\n[0.36 0.   0.09 0.   0.2  0.   0.   0.18 0.   0.18]\n[0.35 0.   0.1  0.   0.2  0.   0.   0.18 0.   0.18]\n[0.34 0.   0.11 0.   0.19 0.   0.   0.18 0.   0.19]\n[0.33 0.   0.11 0.   0.19 0.   0.   0.18 0.   0.19]\n[0.31 0.   0.13 0.   0.19 0.   0.   0.17 0.   0.2 ]\n[0.3  0.   0.13 0.   0.19 0.   0.   0.17 0.   0.2 ]\n[0.3  0.   0.14 0.   0.18 0.   0.   0.17 0.   0.21]\n[0.28 0.   0.15 0.   0.18 0.   0.   0.17 0.   0.21]\n[0.27 0.   0.16 0.   0.18 0.   0.   0.17 0.   0.22]\n[0.26 0.   0.17 0.   0.18 0.   0.   0.16 0.   0.22]\n[0.25 0.   0.18 0.   0.18 0.   0.   0.16 0.   0.23]\n[0.24 0.   0.19 0.   0.18 0.   0.   0.16 0.   0.23]\n[0.23 0.   0.2  0.   0.17 0.   0.   0.15 0.   0.24]\n[0.22 0.   0.22 0.   0.17 0.   0.   0.15 0.   0.24]\n[0.21 0.   0.23 0.   0.17 0.   0.   0.15 0.   0.24]\n[0.2  0.   0.24 0.   0.17 0.   0.   0.15 0.   0.25]\n[0.19 0.   0.25 0.   0.16 0.   0.   0.15 0.   0.25]\n[0.18 0.   0.25 0.   0.16 0.   0.   0.15 0.   0.26]\n[0.17 0.   0.26 0.   0.16 0.   0.   0.14 0.   0.26]\n[0.16 0.   0.28 0.   0.16 0.   0.   0.15 0.   0.26]\n[0.15 0.   0.28 0.   0.16 0.   0.   0.14 0.   0.27]\n[0.14 0.   0.29 0.   0.15 0.   0.   0.14 0.   0.27]\n[0.13 0.   0.3  0.   0.15 0.   0.   0.14 0.   0.28]\n[0.12 0.   0.31 0.   0.15 0.   0.   0.14 0.   0.28]\n[0.11 0.   0.32 0.   0.15 0.   0.   0.14 0.   0.29]\n[0.1  0.   0.33 0.   0.14 0.   0.   0.13 0.   0.29]\n[0.09 0.   0.34 0.   0.14 0.   0.   0.13 0.   0.3 ]\n[0.08 0.   0.35 0.   0.14 0.   0.   0.14 0.   0.29]\n[0.07 0.   0.36 0.   0.14 0.   0.   0.13 0.   0.3 ]\n[0.06 0.   0.37 0.   0.14 0.   0.   0.13 0.   0.3 ]\n[0.05 0.   0.38 0.   0.13 0.   0.   0.13 0.   0.3 ]\n[0.04 0.   0.39 0.   0.13 0.   0.   0.13 0.   0.31]\n[0.02 0.   0.4  0.   0.13 0.   0.   0.13 0.   0.31]\n[0.02 0.   0.41 0.   0.13 0.   0.   0.12 0.   0.32]\n[0.01 0.   0.42 0.   0.13 0.   0.   0.12 0.   0.33]\n[0.   0.   0.43 0.   0.12 0.   0.   0.11 0.   0.34]\n[0.   0.   0.44 0.   0.11 0.   0.   0.1  0.   0.35]\n[0.   0.   0.45 0.   0.1  0.   0.   0.08 0.   0.36]\n[0.   0.   0.45 0.   0.09 0.   0.   0.06 0.   0.39]\n[0.   0.   0.46 0.   0.09 0.   0.   0.05 0.   0.41]\n[0.   0.   0.47 0.   0.08 0.   0.   0.03 0.   0.42]\n[0.   0.   0.48 0.   0.07 0.   0.   0.02 0.   0.44]\n[0.   0.   0.49 0.   0.06 0.   0.   0.   0.   0.45]\n[0.   0.   0.5  0.   0.05 0.   0.   0.   0.   0.46]\n[0.   0.   0.5  0.   0.03 0.   0.   0.   0.   0.47]\n[0.   0.   0.51 0.   0.02 0.   0.   0.   0.   0.47]\n[0.   0.   0.52 0.   0.01 0.   0.   0.   0.   0.48]\n[0.   0.   0.45 0.   0.   0.   0.   0.   0.   0.55]\n[0.  0.  0.3 0.  0.  0.  0.  0.  0.  0.7]\n[0.   0.   0.15 0.   0.   0.   0.   0.   0.   0.85]\n[0. 0. 0. 0. 0. 0. 0. 0. 0. 1.]\n"
     ]
    }
   ],
   "source": [
    "for i in np.round(weight,2):\n",
    "    print(i)"
   ]
  },
  {
   "cell_type": "code",
   "execution_count": 115,
   "metadata": {},
   "outputs": [],
   "source": [
    "\n",
    "ef_df = pd.DataFrame( columns = [\"Return\", \"Volatilty\",\"Sharpe Ratio\",\"Weights\"])\n",
    "ef_df[\"Return\"] = ret \n",
    "ef_df[\"Volatilty\"] = vol\n",
    "ef_df[\"Sharpe Ratio\"] = sr\n",
    "ef_df[\"Weights\"] = list(np.round(weight,3))\n"
   ]
  },
  {
   "cell_type": "code",
   "execution_count": null,
   "metadata": {},
   "outputs": [],
   "source": []
  },
  {
   "cell_type": "code",
   "execution_count": 116,
   "metadata": {},
   "outputs": [],
   "source": [
    "fig = px.scatter(ef_df,  x=\"Volatilty\", y=\"Return\", color=\"Sharpe Ratio\")\n",
    "fig.show()"
   ]
  },
  {
   "cell_type": "code",
   "execution_count": 101,
   "metadata": {},
   "outputs": [
    {
     "output_type": "stream",
     "name": "stdout",
     "text": [
      "     fun: -0.7095294264135118\n     jac: array([ 0.35250189,  0.52085974,  0.47955945,  2.05730546,  0.26351862,\n        0.11878253,  0.14666863,  0.09085836,  0.23814747,  0.21499847,\n        0.05600017,  0.42456649,  0.3483988 ,  0.24385005,  0.77278922,\n       -0.01458228,  0.71973389,  0.47195834, -0.02258866,  0.37616308,\n        0.80027892,  0.05558895,  0.62710626,  0.14859862,  0.40420367,\n        0.14743898,  0.13611188,  0.22413629,  0.26986694,  0.13495099,\n        0.46998543, -0.02018506,  0.15646839,  2.47667145,  0.04139415,\n        0.22065767,  0.0821027 ,  0.17949991,  0.40921518,  0.60552275,\n        0.36650638,  0.25017932,  0.55509944, -0.04178225, -0.        ,\n       -0.07800882,  0.49502426,  0.29358963,  0.74012269,  0.78089415])\n message: 'Optimization terminated successfully'\n    nfev: 153\n     nit: 3\n    njev: 3\n  status: 0\n success: True\n       x: array([2.58907479e-15, 0.00000000e+00, 0.00000000e+00, 2.11061637e-15,\n       0.00000000e+00, 3.16012407e-15, 4.66532195e-16, 0.00000000e+00,\n       2.79886791e-15, 0.00000000e+00, 0.00000000e+00, 2.04935895e-15,\n       0.00000000e+00, 2.15127395e-15, 0.00000000e+00, 0.00000000e+00,\n       0.00000000e+00, 0.00000000e+00, 0.00000000e+00, 6.04551131e-16,\n       3.89770681e-15, 0.00000000e+00, 0.00000000e+00, 0.00000000e+00,\n       2.10974901e-15, 3.80663383e-16, 0.00000000e+00, 0.00000000e+00,\n       1.07390225e-15, 0.00000000e+00, 0.00000000e+00, 0.00000000e+00,\n       0.00000000e+00, 2.77143759e-15, 1.03985830e-15, 1.20682544e-15,\n       0.00000000e+00, 0.00000000e+00, 2.22163867e-15, 7.50701584e-16,\n       0.00000000e+00, 1.91600208e-15, 1.68658490e-15, 0.00000000e+00,\n       9.99999993e-01, 6.91908217e-09, 1.38962192e-15, 7.94069671e-16,\n       0.00000000e+00, 1.53913340e-15])\n"
     ]
    }
   ],
   "source": [
    "print(result)"
   ]
  },
  {
   "cell_type": "code",
   "execution_count": 23,
   "metadata": {},
   "outputs": [
    {
     "output_type": "execute_result",
     "data": {
      "text/plain": [
       "array([0.23338693, 0.21881078, 1.06661528])"
      ]
     },
     "metadata": {},
     "execution_count": 23
    }
   ],
   "source": [
    "get_ret_vol_sr(result.x)"
   ]
  },
  {
   "cell_type": "code",
   "execution_count": 27,
   "metadata": {},
   "outputs": [
    {
     "output_type": "execute_result",
     "data": {
      "text/plain": [
       "1.0000000000001832"
      ]
     },
     "metadata": {},
     "execution_count": 27
    }
   ],
   "source": [
    "np.sum(result.x)"
   ]
  },
  {
   "cell_type": "code",
   "execution_count": 32,
   "metadata": {},
   "outputs": [
    {
     "output_type": "execute_result",
     "data": {
      "text/plain": [
       "2.8235524000000003e-15"
      ]
     },
     "metadata": {},
     "execution_count": 32
    }
   ],
   "source": [
    "float(2.8235524*10**(-15))"
   ]
  },
  {
   "cell_type": "code",
   "execution_count": null,
   "metadata": {},
   "outputs": [],
   "source": []
  },
  {
   "cell_type": "code",
   "execution_count": 489,
   "metadata": {},
   "outputs": [],
   "source": [
    "test = df.iloc[:,:50]\n",
    "assets = list(test.columns)\n",
    "returns = dict(test.apply(meanRetAn))\n",
    "assets_load = LpVariable.dicts(\"Loadings\",assets,lowBound=0,cat='Continuous')"
   ]
  },
  {
   "cell_type": "code",
   "execution_count": 490,
   "metadata": {},
   "outputs": [],
   "source": [
    "prob = LpProblem(\"Simple Diet Problem\",LpMaximize)\n"
   ]
  },
  {
   "cell_type": "code",
   "execution_count": 498,
   "metadata": {},
   "outputs": [
    {
     "output_type": "error",
     "ename": "AttributeError",
     "evalue": "'dict' object has no attribute 'T'",
     "traceback": [
      "\u001b[0;31m---------------------------------------------------------------------------\u001b[0m",
      "\u001b[0;31mAttributeError\u001b[0m                            Traceback (most recent call last)",
      "\u001b[0;32m<ipython-input-498-281cb6b28627>\u001b[0m in \u001b[0;36m<module>\u001b[0;34m\u001b[0m\n\u001b[0;32m----> 1\u001b[0;31m \u001b[0mprob\u001b[0m \u001b[0;34m+=\u001b[0m \u001b[0mlpSum\u001b[0m\u001b[0;34m(\u001b[0m\u001b[0;34m[\u001b[0m\u001b[0mreturns\u001b[0m\u001b[0;34m[\u001b[0m\u001b[0mi\u001b[0m\u001b[0;34m]\u001b[0m\u001b[0;34m*\u001b[0m\u001b[0massets_load\u001b[0m\u001b[0;34m[\u001b[0m\u001b[0mi\u001b[0m\u001b[0;34m]\u001b[0m \u001b[0;32mfor\u001b[0m \u001b[0mi\u001b[0m \u001b[0;32min\u001b[0m \u001b[0massets\u001b[0m\u001b[0;34m]\u001b[0m\u001b[0;34m)\u001b[0m \u001b[0;34m/\u001b[0m \u001b[0mnp\u001b[0m\u001b[0;34m.\u001b[0m\u001b[0msqrt\u001b[0m\u001b[0;34m(\u001b[0m\u001b[0mlpDot\u001b[0m\u001b[0;34m(\u001b[0m\u001b[0massets_load\u001b[0m\u001b[0;34m.\u001b[0m\u001b[0mT\u001b[0m\u001b[0;34m,\u001b[0m \u001b[0mlpDot\u001b[0m\u001b[0;34m(\u001b[0m\u001b[0mtest\u001b[0m\u001b[0;34m.\u001b[0m\u001b[0mcov\u001b[0m\u001b[0;34m(\u001b[0m\u001b[0;34m)\u001b[0m\u001b[0;34m*\u001b[0m\u001b[0;36m52\u001b[0m\u001b[0;34m,\u001b[0m \u001b[0mweights\u001b[0m\u001b[0;34m)\u001b[0m\u001b[0;34m)\u001b[0m\u001b[0;34m)\u001b[0m\u001b[0;34m\u001b[0m\u001b[0;34m\u001b[0m\u001b[0m\n\u001b[0m\u001b[1;32m      2\u001b[0m \u001b[0mprob\u001b[0m \u001b[0;34m+=\u001b[0m \u001b[0mlpSum\u001b[0m\u001b[0;34m(\u001b[0m\u001b[0;34m[\u001b[0m\u001b[0massets_load\u001b[0m\u001b[0;34m[\u001b[0m\u001b[0mi\u001b[0m\u001b[0;34m]\u001b[0m \u001b[0;32mfor\u001b[0m \u001b[0mi\u001b[0m \u001b[0;32min\u001b[0m \u001b[0massets\u001b[0m\u001b[0;34m]\u001b[0m\u001b[0;34m)\u001b[0m \u001b[0;34m==\u001b[0m \u001b[0;36m1\u001b[0m\u001b[0;34m\u001b[0m\u001b[0;34m\u001b[0m\u001b[0m\n\u001b[1;32m      3\u001b[0m \u001b[0mprob\u001b[0m \u001b[0;34m+=\u001b[0m \u001b[0mnp\u001b[0m\u001b[0;34m.\u001b[0m\u001b[0msqrt\u001b[0m\u001b[0;34m(\u001b[0m\u001b[0mnp\u001b[0m\u001b[0;34m.\u001b[0m\u001b[0mdot\u001b[0m\u001b[0;34m(\u001b[0m\u001b[0mweights\u001b[0m\u001b[0;34m.\u001b[0m\u001b[0mT\u001b[0m\u001b[0;34m,\u001b[0m \u001b[0mnp\u001b[0m\u001b[0;34m.\u001b[0m\u001b[0mdot\u001b[0m\u001b[0;34m(\u001b[0m\u001b[0mlog_ret\u001b[0m\u001b[0;34m.\u001b[0m\u001b[0mcov\u001b[0m\u001b[0;34m(\u001b[0m\u001b[0;34m)\u001b[0m\u001b[0;34m*\u001b[0m\u001b[0;36m252\u001b[0m\u001b[0;34m,\u001b[0m \u001b[0mweights\u001b[0m\u001b[0;34m)\u001b[0m\u001b[0;34m)\u001b[0m\u001b[0;34m)\u001b[0m\u001b[0;34m\u001b[0m\u001b[0;34m\u001b[0m\u001b[0m\n\u001b[1;32m      4\u001b[0m \u001b[0;34m\u001b[0m\u001b[0m\n",
      "\u001b[0;31mAttributeError\u001b[0m: 'dict' object has no attribute 'T'"
     ]
    }
   ],
   "source": [
    "\n",
    "prob += lpSum([returns[i]*assets_load[i] for i in assets]) / np.sqrt(lpDot(assets_load.T, lpDot(test.cov()*52, weights)))\n",
    "prob += lpSum([assets_load[i] for i in assets]) == 1 \n",
    "prob += np.sqrt(np.dot(weights.T, np.dot(log_ret.cov()*252, weights)))\n",
    "\n"
   ]
  },
  {
   "cell_type": "code",
   "execution_count": 496,
   "metadata": {},
   "outputs": [
    {
     "output_type": "stream",
     "name": "stdout",
     "text": [
      "Status: Optimal\n"
     ]
    }
   ],
   "source": [
    "prob.solve()\n",
    "print(\"Status:\", LpStatus[prob.status])\n"
   ]
  },
  {
   "cell_type": "code",
   "execution_count": 497,
   "metadata": {},
   "outputs": [
    {
     "output_type": "stream",
     "name": "stdout",
     "text": [
      "Loadings_ARKK = 1.0\nLoadings_DIA = 0.0\nLoadings_EEM = 0.0\nLoadings_EFA = 0.0\nLoadings_GDX = 0.0\nLoadings_IEFA = 0.0\nLoadings_IEMG = 0.0\nLoadings_IJH = 0.0\nLoadings_IJR = 0.0\nLoadings_ITOT = 0.0\nLoadings_IVE = 0.0\nLoadings_IVV = 0.0\nLoadings_IVW = 0.0\nLoadings_IWB = 0.0\nLoadings_IWD = 0.0\nLoadings_IWF = 0.0\nLoadings_IWM = 0.0\nLoadings_IWR = 0.0\nLoadings_IXUS = 0.0\nLoadings_MDY = 0.0\nLoadings_QQQ = 0.0\nLoadings_QUAL = 0.0\nLoadings_RSP = 0.0\nLoadings_SCHB = 0.0\nLoadings_SCHD = 0.0\nLoadings_SCHF = 0.0\nLoadings_SCHX = 0.0\nLoadings_SDY = 0.0\nLoadings_SPY = 0.0\nLoadings_USMV = 0.0\nLoadings_VB = 0.0\nLoadings_VBR = 0.0\nLoadings_VEA = 0.0\nLoadings_VEU = 0.0\nLoadings_VGT = 0.0\nLoadings_VIG = 0.0\nLoadings_VO = 0.0\nLoadings_VOO = 0.0\nLoadings_VT = 0.0\nLoadings_VTI = 0.0\nLoadings_VTV = 0.0\nLoadings_VUG = 0.0\nLoadings_VV = 0.0\nLoadings_VWO = 0.0\nLoadings_VXUS = 0.0\nLoadings_VYM = 0.0\nLoadings_XLF = 0.0\nLoadings_XLK = 0.0\nLoadings_XLV = 0.0\nLoadings_XLY = 0.0\n"
     ]
    }
   ],
   "source": [
    "for v in prob.variables():\n",
    "    print(v.name, \"=\", v.varValue)"
   ]
  },
  {
   "cell_type": "code",
   "execution_count": 485,
   "metadata": {},
   "outputs": [
    {
     "output_type": "execute_result",
     "data": {
      "text/plain": [
       "{'SPY': 0.09653686994626942, 'QQQ': 0.19409982256452252}"
      ]
     },
     "metadata": {},
     "execution_count": 485
    }
   ],
   "source": [
    "dict(df[[\"SPY\",\"QQQ\"]].apply(meanRetAn))"
   ]
  },
  {
   "cell_type": "code",
   "execution_count": 406,
   "metadata": {},
   "outputs": [],
   "source": [
    "import gurobipy as gp\n",
    "from gurobipy import GRB"
   ]
  },
  {
   "cell_type": "code",
   "execution_count": 407,
   "metadata": {},
   "outputs": [],
   "source": [
    "# Resource and job sets\n",
    "\n",
    "#assets = list(df.columns)\n",
    "assets , returns = gp.multidict(df.apply(meanRetAn))"
   ]
  },
  {
   "cell_type": "code",
   "execution_count": 408,
   "metadata": {},
   "outputs": [
    {
     "output_type": "execute_result",
     "data": {
      "text/plain": [
       "['SPY', 'IVV', 'VTI', 'VOO', 'QQQ', 'VEA', 'IEFA', 'VWO', 'VUG', 'IEMG']"
      ]
     },
     "metadata": {},
     "execution_count": 408
    }
   ],
   "source": [
    "assets"
   ]
  },
  {
   "cell_type": "code",
   "execution_count": 409,
   "metadata": {},
   "outputs": [],
   "source": [
    "# Declare and initialize model\n",
    "m = gp.Model('lp')"
   ]
  },
  {
   "cell_type": "code",
   "execution_count": 410,
   "metadata": {},
   "outputs": [],
   "source": [
    "# Create decision variables for the RAP model\n",
    "x = m.addVars(assets, name=\"assign\", lb=0.0, vtype=GRB.CONTINUOUS)"
   ]
  },
  {
   "cell_type": "code",
   "execution_count": 416,
   "metadata": {},
   "outputs": [],
   "source": [
    "# Create job constraints\n",
    "assets = m.addConstrs((x.sum(j,'*') == 1 for j in assets) , name='assets')\n"
   ]
  },
  {
   "cell_type": "code",
   "execution_count": 417,
   "metadata": {},
   "outputs": [],
   "source": [
    "# Objective: maximize total matching score of all assignments\n",
    "m.setObjective(x.prod(returns), GRB.MAXIMIZE)"
   ]
  },
  {
   "cell_type": "code",
   "execution_count": 418,
   "metadata": {},
   "outputs": [
    {
     "output_type": "stream",
     "name": "stdout",
     "text": [
      "Warning: linear constraint 0 and linear constraint 10 have the same name \"assets[SPY]\"\n"
     ]
    }
   ],
   "source": [
    "# Save model for inspection\n",
    "m.write('lp.lp')"
   ]
  },
  {
   "cell_type": "code",
   "execution_count": 419,
   "metadata": {},
   "outputs": [
    {
     "output_type": "stream",
     "name": "stdout",
     "text": [
      "Gurobi Optimizer version 9.1.1 build v9.1.1rc0 (mac64)\n",
      "Thread count: 8 physical cores, 16 logical processors, using up to 16 threads\n",
      "Optimize a model with 20 rows, 10 columns and 20 nonzeros\n",
      "Coefficient statistics:\n",
      "  Matrix range     [1e+00, 1e+00]\n",
      "  Objective range  [1e-02, 2e-01]\n",
      "  Bounds range     [0e+00, 0e+00]\n",
      "  RHS range        [1e+00, 1e+00]\n",
      "Iteration    Objective       Primal Inf.    Dual Inf.      Time\n",
      "       0    7.7566296e-01   0.000000e+00   0.000000e+00      0s\n",
      "\n",
      "Solved in 0 iterations and 0.00 seconds\n",
      "Optimal objective  7.756629648e-01\n"
     ]
    }
   ],
   "source": [
    "# Run optimization engine\n",
    "m.optimize()"
   ]
  },
  {
   "cell_type": "code",
   "execution_count": 420,
   "metadata": {},
   "outputs": [
    {
     "output_type": "stream",
     "name": "stdout",
     "text": [
      "assign[SPY] 1.0\nassign[IVV] 1.0\nassign[VTI] 1.0\nassign[VOO] 1.0\nassign[QQQ] 1.0\nassign[VEA] 1.0\nassign[IEFA] 1.0\nassign[VWO] 1.0\nassign[VUG] 1.0\nassign[IEMG] 1.0\nTotal matching score:  0.7756629648282669\n"
     ]
    }
   ],
   "source": [
    "# Display optimal values of decision variables\n",
    "for v in m.getVars():\n",
    "    if v.x > 1e-6:\n",
    "        print(v.varName, v.x)\n",
    "\n",
    "# Display optimal total matching score\n",
    "print('Total matching score: ', m.objVal)"
   ]
  },
  {
   "cell_type": "code",
   "execution_count": null,
   "metadata": {},
   "outputs": [],
   "source": []
  },
  {
   "cell_type": "code",
   "execution_count": null,
   "metadata": {},
   "outputs": [],
   "source": []
  },
  {
   "cell_type": "code",
   "execution_count": null,
   "metadata": {},
   "outputs": [],
   "source": []
  },
  {
   "cell_type": "code",
   "execution_count": null,
   "metadata": {},
   "outputs": [],
   "source": []
  },
  {
   "cell_type": "code",
   "execution_count": 22,
   "metadata": {},
   "outputs": [
    {
     "output_type": "error",
     "ename": "NameError",
     "evalue": "name 'weekly_returns' is not defined",
     "traceback": [
      "\u001b[0;31m---------------------------------------------------------------------------\u001b[0m",
      "\u001b[0;31mNameError\u001b[0m                                 Traceback (most recent call last)",
      "\u001b[0;32m<ipython-input-22-862069ae57fb>\u001b[0m in \u001b[0;36m<module>\u001b[0;34m\u001b[0m\n\u001b[0;32m----> 1\u001b[0;31m \u001b[0mport_weekly_return\u001b[0m \u001b[0;34m=\u001b[0m \u001b[0mweekly_returns\u001b[0m\u001b[0;34m[\u001b[0m\u001b[0mi\u001b[0m\u001b[0;34m]\u001b[0m\u001b[0;34m.\u001b[0m\u001b[0mmul\u001b[0m\u001b[0;34m(\u001b[0m\u001b[0mportfolio_weights_ew\u001b[0m\u001b[0;34m,\u001b[0m\u001b[0maxis\u001b[0m\u001b[0;34m=\u001b[0m\u001b[0;36m1\u001b[0m\u001b[0;34m)\u001b[0m\u001b[0;34m.\u001b[0m\u001b[0msum\u001b[0m\u001b[0;34m(\u001b[0m\u001b[0maxis\u001b[0m\u001b[0;34m=\u001b[0m\u001b[0;36m1\u001b[0m\u001b[0;34m)\u001b[0m\u001b[0;34m\u001b[0m\u001b[0;34m\u001b[0m\u001b[0m\n\u001b[0m",
      "\u001b[0;31mNameError\u001b[0m: name 'weekly_returns' is not defined"
     ]
    }
   ],
   "source": [
    "port_weekly_return = weekly_returns[i].mul(portfolio_weights_ew,axis=1).sum(axis=1)"
   ]
  },
  {
   "source": [],
   "cell_type": "markdown",
   "metadata": {}
  },
  {
   "cell_type": "code",
   "execution_count": 21,
   "metadata": {},
   "outputs": [
    {
     "output_type": "execute_result",
     "data": {
      "text/plain": [
       "['SPY', 'QQQ']"
      ]
     },
     "metadata": {},
     "execution_count": 21
    }
   ],
   "source": [
    "list(df[[\"SPY\",\"QQQ\"]])"
   ]
  },
  {
   "cell_type": "code",
   "execution_count": null,
   "metadata": {},
   "outputs": [],
   "source": []
  },
  {
   "cell_type": "code",
   "execution_count": 3,
   "metadata": {},
   "outputs": [
    {
     "output_type": "stream",
     "name": "stdout",
     "text": [
      "Academic license - for non-commercial use only - expires 2021-06-04\n",
      "Using license file /Users/rasmusblirupjensen/gurobi.lic\n"
     ]
    }
   ],
   "source": [
    "# Declare and initialize model\n",
    "m = gp.Model('RAP')"
   ]
  },
  {
   "cell_type": "code",
   "execution_count": 2,
   "metadata": {},
   "outputs": [
    {
     "output_type": "error",
     "ename": "NameError",
     "evalue": "name 'm' is not defined",
     "traceback": [
      "\u001b[0;31m---------------------------------------------------------------------------\u001b[0m",
      "\u001b[0;31mNameError\u001b[0m                                 Traceback (most recent call last)",
      "\u001b[0;32m<ipython-input-2-0597c99e2414>\u001b[0m in \u001b[0;36m<module>\u001b[0;34m\u001b[0m\n\u001b[1;32m      1\u001b[0m \u001b[0;31m# Create decision variables for the RAP model\u001b[0m\u001b[0;34m\u001b[0m\u001b[0;34m\u001b[0m\u001b[0;34m\u001b[0m\u001b[0m\n\u001b[0;32m----> 2\u001b[0;31m \u001b[0mx\u001b[0m \u001b[0;34m=\u001b[0m \u001b[0mm\u001b[0m\u001b[0;34m.\u001b[0m\u001b[0maddVars\u001b[0m\u001b[0;34m(\u001b[0m\u001b[0mcombinations\u001b[0m\u001b[0;34m,\u001b[0m \u001b[0mname\u001b[0m\u001b[0;34m=\u001b[0m\u001b[0;34m\"assign\"\u001b[0m\u001b[0;34m)\u001b[0m\u001b[0;34m\u001b[0m\u001b[0;34m\u001b[0m\u001b[0m\n\u001b[0m",
      "\u001b[0;31mNameError\u001b[0m: name 'm' is not defined"
     ]
    }
   ],
   "source": [
    "# Create decision variables for the RAP model\n",
    "x = m.addVars(combinations, name=\"assign\")"
   ]
  },
  {
   "cell_type": "code",
   "execution_count": null,
   "metadata": {},
   "outputs": [],
   "source": []
  },
  {
   "cell_type": "code",
   "execution_count": null,
   "metadata": {},
   "outputs": [],
   "source": []
  },
  {
   "cell_type": "code",
   "execution_count": null,
   "metadata": {},
   "outputs": [],
   "source": []
  }
 ]
}