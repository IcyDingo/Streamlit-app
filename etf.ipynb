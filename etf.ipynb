{
 "metadata": {
  "language_info": {
   "codemirror_mode": {
    "name": "ipython",
    "version": 3
   },
   "file_extension": ".py",
   "mimetype": "text/x-python",
   "name": "python",
   "nbconvert_exporter": "python",
   "pygments_lexer": "ipython3",
   "version": "3.9.1-final"
  },
  "orig_nbformat": 2,
  "kernelspec": {
   "name": "python3",
   "display_name": "Python 3.9.1 64-bit",
   "metadata": {
    "interpreter": {
     "hash": "aee8b7b246df8f9039afb4144a1f6fd8d2ca17a180786b69acc140d282b71a49"
    }
   }
  }
 },
 "nbformat": 4,
 "nbformat_minor": 2,
 "cells": [
  {
   "cell_type": "code",
   "execution_count": 597,
   "metadata": {},
   "outputs": [],
   "source": [
    "from scipy.optimize import *\n",
    "import pandas as pd \n",
    "import numpy as np \n",
    "from numpy import array\n",
    "from numpy import mean\n",
    "from numpy import cov\n",
    "from numpy.linalg import eig\n",
    "from tqdm import tqdm\n",
    "from pulp import *\n",
    "import plotly.express as px \n",
    "from sklearn.decomposition import PCA\n",
    "import random\n",
    "import plotly.io as pio \n",
    "pio.renderers.default = \"browser\"\n",
    "import plotly.graph_objects as go\n",
    "from pandas_datareader import data"
   ]
  },
  {
   "cell_type": "code",
   "execution_count": 919,
   "metadata": {},
   "outputs": [],
   "source": [
    "    def meanRetAn(data):             \n",
    "        Result = 1\n",
    "        \n",
    "        for i in data:\n",
    "            Result *= (1+i)\n",
    "            \n",
    "        Result = Result**(1/float(len(data)/52))-1\n",
    "        \n",
    "        return(Result)"
   ]
  },
  {
   "cell_type": "code",
   "execution_count": 1086,
   "metadata": {},
   "outputs": [
    {
     "output_type": "execute_result",
     "data": {
      "text/plain": [
       "695"
      ]
     },
     "metadata": {},
     "execution_count": 1086
    }
   ],
   "source": [
    "df = pd.read_csv(\"ETFs_info.csv\", index_col=\"Ticker\")\n",
    "df[\"Inception\"] = pd.to_datetime(df[\"Inception\"])\n",
    "df = df[df[\"Inception\"] <= \"2015-01-01\"]\n",
    "\n",
    "fundamental_df = pd.read_csv(\"fund_risk_cluster_reduced.csv\",index_col=\"Ticker\") #Fundamental Clustering Data\n",
    "weekly_return = pd.read_csv(\"WeeklyReturns.csv\",index_col=\"Date\") #Weekly Return Data\n",
    "fundamental_df = fundamental_df.loc[fundamental_df.index.intersection(weekly_return.columns)]\n",
    "fundamental_df = fundamental_df.loc[fundamental_df.index.intersection(df.index)]\n",
    "len(fundamental_df)"
   ]
  },
  {
   "cell_type": "code",
   "execution_count": 1025,
   "metadata": {},
   "outputs": [
    {
     "output_type": "execute_result",
     "data": {
      "text/plain": [
       "               Category            Fundamental Cluster  \\\n",
       "SPY         Large Blend  High Fundamental Broad Market   \n",
       "IVV         Large Blend  High Fundamental Broad Market   \n",
       "VTI         Large Blend  High Fundamental Broad Market   \n",
       "VOO         Large Blend  High Fundamental Broad Market   \n",
       "QQQ        Large Growth  High Fundamental Broad Market   \n",
       "...                 ...                            ...   \n",
       "NFTY       India Equity  Low Fundamentals Broad Market   \n",
       "FTAG  Natural Resources  Mid Fundamentals Broad Market   \n",
       "CHII       China Region  Low Fundamentals Broad Market   \n",
       "CHIM       China Region  Low Fundamentals Broad Market   \n",
       "CHIE       China Region  Low Fundamentals Broad Market   \n",
       "\n",
       "                                           Risk Cluster  \n",
       "SPY   Moderat/High Risk - Slightly Above Market Vola...  \n",
       "IVV   Moderat/High Risk - Slightly Above Market Vola...  \n",
       "VTI   Moderat/High Risk - Slightly Above Market Vola...  \n",
       "VOO   Moderat/High Risk - Slightly Above Market Vola...  \n",
       "QQQ   Moderat/High Risk - Slightly Above Market Vola...  \n",
       "...                                                 ...  \n",
       "NFTY     Moderat Risk - Slighty Below Market Volatility  \n",
       "FTAG     Moderat Risk - Slighty Below Market Volatility  \n",
       "CHII     Moderat Risk - Slighty Below Market Volatility  \n",
       "CHIM  Moderat/High Risk - Slightly Above Market Vola...  \n",
       "CHIE     Moderat Risk - Slighty Below Market Volatility  \n",
       "\n",
       "[656 rows x 3 columns]"
      ],
      "text/html": "<div>\n<style scoped>\n    .dataframe tbody tr th:only-of-type {\n        vertical-align: middle;\n    }\n\n    .dataframe tbody tr th {\n        vertical-align: top;\n    }\n\n    .dataframe thead th {\n        text-align: right;\n    }\n</style>\n<table border=\"1\" class=\"dataframe\">\n  <thead>\n    <tr style=\"text-align: right;\">\n      <th></th>\n      <th>Category</th>\n      <th>Fundamental Cluster</th>\n      <th>Risk Cluster</th>\n    </tr>\n  </thead>\n  <tbody>\n    <tr>\n      <th>SPY</th>\n      <td>Large Blend</td>\n      <td>High Fundamental Broad Market</td>\n      <td>Moderat/High Risk - Slightly Above Market Vola...</td>\n    </tr>\n    <tr>\n      <th>IVV</th>\n      <td>Large Blend</td>\n      <td>High Fundamental Broad Market</td>\n      <td>Moderat/High Risk - Slightly Above Market Vola...</td>\n    </tr>\n    <tr>\n      <th>VTI</th>\n      <td>Large Blend</td>\n      <td>High Fundamental Broad Market</td>\n      <td>Moderat/High Risk - Slightly Above Market Vola...</td>\n    </tr>\n    <tr>\n      <th>VOO</th>\n      <td>Large Blend</td>\n      <td>High Fundamental Broad Market</td>\n      <td>Moderat/High Risk - Slightly Above Market Vola...</td>\n    </tr>\n    <tr>\n      <th>QQQ</th>\n      <td>Large Growth</td>\n      <td>High Fundamental Broad Market</td>\n      <td>Moderat/High Risk - Slightly Above Market Vola...</td>\n    </tr>\n    <tr>\n      <th>...</th>\n      <td>...</td>\n      <td>...</td>\n      <td>...</td>\n    </tr>\n    <tr>\n      <th>NFTY</th>\n      <td>India Equity</td>\n      <td>Low Fundamentals Broad Market</td>\n      <td>Moderat Risk - Slighty Below Market Volatility</td>\n    </tr>\n    <tr>\n      <th>FTAG</th>\n      <td>Natural Resources</td>\n      <td>Mid Fundamentals Broad Market</td>\n      <td>Moderat Risk - Slighty Below Market Volatility</td>\n    </tr>\n    <tr>\n      <th>CHII</th>\n      <td>China Region</td>\n      <td>Low Fundamentals Broad Market</td>\n      <td>Moderat Risk - Slighty Below Market Volatility</td>\n    </tr>\n    <tr>\n      <th>CHIM</th>\n      <td>China Region</td>\n      <td>Low Fundamentals Broad Market</td>\n      <td>Moderat/High Risk - Slightly Above Market Vola...</td>\n    </tr>\n    <tr>\n      <th>CHIE</th>\n      <td>China Region</td>\n      <td>Low Fundamentals Broad Market</td>\n      <td>Moderat Risk - Slighty Below Market Volatility</td>\n    </tr>\n  </tbody>\n</table>\n<p>656 rows × 3 columns</p>\n</div>"
     },
     "metadata": {},
     "execution_count": 1025
    }
   ],
   "source": []
  },
  {
   "cell_type": "code",
   "execution_count": 1087,
   "metadata": {},
   "outputs": [],
   "source": [
    "ticks = list(fundamental_df.index)"
   ]
  },
  {
   "cell_type": "code",
   "execution_count": 1088,
   "metadata": {},
   "outputs": [],
   "source": [
    "\n",
    "# startDate = \"2015-01-01\"\n",
    "# endDate = \"2021-01-01\"\n",
    "# # DOWNLOAD THE DATA FROM YAHOO DATABASE\n",
    "# #------------------------------------------------------------------\n",
    "# dailyPrices = data.DataReader(ticks, 'yahoo', startDate, endDate)\n",
    "# dailyPrices = dailyPrices[\"Adj Close\"]"
   ]
  },
  {
   "cell_type": "code",
   "execution_count": 1089,
   "metadata": {},
   "outputs": [],
   "source": [
    "# dailyPrices.to_csv(\"Dailyprices.csv\", index=\"Date\")\n",
    "# daily_prices = pd.read_csv(\"DailyPrices.csv\", index_col=\"Date\")"
   ]
  },
  {
   "cell_type": "code",
   "execution_count": 937,
   "metadata": {},
   "outputs": [],
   "source": [
    "daily_prices.dropna(axis=1, inplace=True)\n",
    "daily_prices"
   ]
  },
  {
   "cell_type": "code",
   "execution_count": 944,
   "metadata": {},
   "outputs": [],
   "source": [
    "weekly_returns = daily_prices.pct_change().dropna(axis=0)"
   ]
  },
  {
   "cell_type": "code",
   "execution_count": 951,
   "metadata": {},
   "outputs": [],
   "source": [
    "def calculate_pdi( weekly_returns, portfolios): \n",
    "    \n",
    "    def meanRetAn(data):             \n",
    "        Result = 1\n",
    "        \n",
    "        for i in data:\n",
    "            Result *= (1+i)\n",
    "            \n",
    "        Result = Result**(1/float(len(data)/30))-1\n",
    "        \n",
    "        return(Result)\n",
    "\n",
    "    pca = PCA()\n",
    "    PDI_dict = {}\n",
    "\n",
    "    for i,y in tqdm(zip(portfolios,range(1,len(portfolios)+1))):\n",
    "        n_assets = len(i)\n",
    "        portfolio_weights_ew = np.repeat(1/n_assets, n_assets)\n",
    "        port_weekly_return = weekly_returns[i].mul(portfolio_weights_ew,axis=1).sum(axis=1)\n",
    "        ann_ret = meanRetAn(list(port_weekly_return))\n",
    "        an_cov = weekly_returns[i].cov()\n",
    "        port_std = np.sqrt(np.dot(portfolio_weights_ew.T, np.dot(an_cov, portfolio_weights_ew)))*np.sqrt(30)\n",
    "        corr_matrix = np.array(weekly_returns[i].corr().replace(np.nan, 0))\n",
    "        principalComponents = pca.fit(corr_matrix)\n",
    "        PDI = 2*sum(principalComponents.explained_variance_ratio_*range(1,len(principalComponents.explained_variance_ratio_)+1,1))-1\n",
    "        PDI_dict[y] = {}\n",
    "        PDI_dict[y][\"PDI_INDEX\"] = PDI\n",
    "        PDI_dict[y][\"# of Assets\"] = len(i)\n",
    "        PDI_dict[y][\"Assets\"] = i\n",
    "        PDI_dict[y][\"Sharpe Ratio\"] = ann_ret/port_std\n",
    "        PDI_dict[y][\"Annual Return\"] = ann_ret\n",
    "        PDI_dict[y][\"Annual STD\"] = port_std\n",
    "    \n",
    "\n",
    "        \n",
    "\n",
    "\n",
    "    PDI_DF = pd.DataFrame(PDI_dict).T\n",
    "    #PDI_DF[\"Assets\"] = PDI_DF[\"Assets\"].astype(str)\n",
    "    PDI_DF[\"# of Assets\"] = PDI_DF[\"# of Assets\"].astype(str)\n",
    "    PDI_DF[\"Sharpe Ratio\"] = PDI_DF[\"Sharpe Ratio\"].astype(float)\n",
    "    PDI_DF[\"Annual STD\"] = PDI_DF[\"Annual STD\"].astype(float)\n",
    "    PDI_DF[\"PDI_INDEX\"] = PDI_DF[\"PDI_INDEX\"].astype(float)\n",
    "    PDI_DF[\"Annual Return\"] = PDI_DF[\"Annual Return\"].astype(float)\n",
    "    SPY_DF = PDI_DF.iloc[0,:]\n",
    "    return PDI_DF,SPY_DF"
   ]
  },
  {
   "cell_type": "code",
   "execution_count": 1083,
   "metadata": {},
   "outputs": [],
   "source": [
    "def pca_per(return_data, initial_port, interval):\n",
    "\n",
    "    data = return_data # data containing weekly returns\n",
    "\n",
    "    data.index = pd.to_datetime(data.index) # Conveting the index which is date to datetime\n",
    "    weeks_list = data.index # grabbing all index dates\n",
    "    data.index = data.index.to_period(interval) # converting the index to quarterly sets\n",
    "    periods = data.index.unique() # taking the unique quarters to loop over\n",
    "    \n",
    "    print(periods)\n",
    "    first_period = periods[0] # the first period of the time frame\n",
    "    remaining_periods = periods[1:] # the remianing periods of the time framr\n",
    "    first_periods = periods[:-1] # all periods minus the last\n",
    "\n",
    "    performance = []\n",
    "    sharpe_performance = []\n",
    "\n",
    "\n",
    "\n",
    "    def port_ret(returns,port, period): # function for calculating returns\n",
    "        n_assets = len(initial_port)\n",
    "        portfolio_weights_ew = np.repeat(1/n_assets, n_assets)\n",
    "        port_return = returns.loc[period][port].mul(portfolio_weights_ew,axis=1).sum(axis=1)\n",
    "        return  port_return\n",
    "\n",
    "    ############################################################ Calculate first period ####################################################################################\n",
    "    performance.extend(port_ret(data, initial_port,first_period))\n",
    "    sharpe_performance.extend(port_ret(data, initial_port,first_period))\n",
    "    tickers_weekly = list(data.columns)\n",
    "    number_of_assets = [len(initial_port)]\n",
    "\n",
    "\n",
    "\n",
    "    ################################################################## Portfolio Creation ###################################################################################\n",
    "    samples = [[\"SPY\"]]\n",
    "    for number in [len(initial_port)]:\n",
    "        for i in range(1,30000):\n",
    "            #samples.extend([list(x) for x in combinations(selected_tickers, number_of_assets)])\n",
    "            samples.append(random.sample(list(tickers_weekly),number))\n",
    "    samples_mini = []\n",
    "    for i in samples:\n",
    "        if i not in samples_mini:\n",
    "            samples_mini.append(i)\n",
    "\n",
    "    print(\"Number of Portfolios: {}\".format(len(samples_mini)))\n",
    "\n",
    "    vol_d = {}\n",
    "    ######################################################## Calculation of portfolio perfomnce #############################################################################\n",
    "\n",
    "    for init_time, next_time in zip(first_periods,remaining_periods):\n",
    "        print(\"first time: {} - last time: {}\".format(init_time, next_time))\n",
    "        PDI_DF, SPY_DF = calculate_pdi(weekly_returns = data.loc[init_time].dropna(axis=1), portfolios = samples_mini)\n",
    "\n",
    "        q1,q2 = PDI_DF[\"PDI_INDEX\"].quantile([0.20,0.85])\n",
    "        r1,r2 = PDI_DF[\"Annual Return\"].quantile([0.4,0.85])\n",
    "\n",
    "\n",
    "        #Taking the higest return within the range\n",
    "        SPY_vol_lower = SPY_DF[\"Annual STD\"] - 0.04 # allowing for a little room of divergence to find a asset match\n",
    "        SPY_vol_upper = SPY_DF[\"Annual STD\"] + 0.01# allowing for a little room of divergence to find a asset match\n",
    "\n",
    "        PDI_rev = PDI_DF[(PDI_DF[\"Annual STD\"] >= SPY_vol_lower) & (PDI_DF[\"Annual STD\"] <= SPY_vol_upper) & (PDI_DF[\"PDI_INDEX\"] >= q1)& (PDI_DF[\"PDI_INDEX\"] <= q2)\\\n",
    "                         & (PDI_DF[\"Annual STD\"] <= SPY_vol_upper) & (PDI_DF[\"Annual Return\"] >= r1) & (PDI_DF[\"Annual Return\"] <= r2)].reset_index().drop(columns=\"index\")\n",
    "                        # & (PDI_DF[\"PDI_INDEX\"] >= q1) ].reset_index().drop(columns=\"index\")\n",
    "\n",
    "\n",
    "        # fig = px.scatter(PDI_DF,  color=\"Annual STD\", y=\"Annual Return\", x=\"PDI_INDEX\")\n",
    "        # fig.show()\n",
    "\n",
    "\n",
    "        ################################################## Taking the higest return within the range ##########################################################################\n",
    "\n",
    "        id = PDI_rev[\"Annual Return\"].idxmax()\n",
    "        port_max_ret = PDI_rev[\"Assets\"][id]\n",
    "        \n",
    "        port_max_ret_period = port_ret(data,port_max_ret, next_time)\n",
    "        performance.extend(port_max_ret_period)\n",
    "\n",
    "        ################################################### Taking the best Sharpe Ratio within the range ######################################################################\n",
    "\n",
    "        id_sharpe = PDI_rev[\"Sharpe Ratio\"].idxmax()\n",
    "        port_max_sharpe = PDI_rev[\"Assets\"][id_sharpe]\n",
    "        \n",
    "        port_max_sharpe_period = port_ret(data,port_max_sharpe, next_time)\n",
    "        sharpe_performance.extend(port_max_sharpe_period)\n",
    "\n",
    "    dd = pd.DataFrame()\n",
    "    dd[\"Time\"] = time\n",
    "    dd[\"Per\"] = per\n",
    "    dd[\"SPY\"] = list(weekly_return[\"SPY\"])\n",
    "    dd[\"Sharpe\"] = sharpe\n",
    "    dd[\"Per_cum\"] = dd[\"Per\"].cumsum(axis=0)\n",
    "    dd[\"SPY_cum\"] = dd[\"SPY\"].cumsum(axis=0)\n",
    "    dd[\"Sharpe_cum\"] = dd[\"Sharpe\"].cumsum(axis=0)\n",
    "    fig = px.line(dd, x=\"Time\", y = [\"Per_cum\",\"SPY_cum\",\"Sharpe_cum\"], title=\"Number of Assets: {} - period interval {}\".format(len(initial_port), interval))\n",
    "\n",
    "\n",
    "\n",
    "\n",
    "    return weeks_list, performance, sharpe_performance , fig, dd\n",
    "\n",
    "\n"
   ]
  },
  {
   "cell_type": "code",
   "execution_count": 1084,
   "metadata": {},
   "outputs": [],
   "source": [
    "ti = fundamental_df[(-fundamental_df[\"Category\"].isin(['Trading--Leveraged Equity','Trading--Inverse Equity']) & (fundamental_df[\"Risk Cluster\"].isin(['Moderat/High Risk - Slightly Above Market Volatility'])))]\n",
    "tttt = list(ti.index)\n",
    "weekly_return = daily_prices.pct_change().dropna(axis=0)"
   ]
  },
  {
   "cell_type": "code",
   "execution_count": 1085,
   "metadata": {},
   "outputs": [
    {
     "output_type": "stream",
     "name": "stdout",
     "text": [
      "PeriodIndex(['2015Q1', '2015Q2', '2015Q3', '2015Q4', '2016Q1', '2016Q2',\n",
      "             '2016Q3', '2016Q4', '2017Q1', '2017Q2', '2017Q3', '2017Q4',\n",
      "             '2018Q1', '2018Q2', '2018Q3', '2018Q4', '2019Q1', '2019Q2',\n",
      "             '2019Q3', '2019Q4'],\n",
      "            dtype='period[Q-DEC]', name='Date', freq='Q-DEC')\n",
      "36it [00:00, 350.76it/s]Number of Portfolios: 30000\n",
      "first time: 2015Q1 - last time: 2015Q2\n",
      "30000it [01:23, 360.16it/s]\n",
      "71it [00:00, 352.37it/s]first time: 2015Q2 - last time: 2015Q3\n",
      "30000it [01:22, 362.63it/s]\n",
      "71it [00:00, 351.21it/s]first time: 2015Q3 - last time: 2015Q4\n",
      "30000it [01:23, 358.82it/s]\n",
      "36it [00:00, 354.67it/s]first time: 2015Q4 - last time: 2016Q1\n",
      "30000it [01:23, 361.36it/s]\n",
      "70it [00:00, 345.74it/s]first time: 2016Q1 - last time: 2016Q2\n",
      "30000it [01:22, 363.24it/s]\n",
      "72it [00:00, 355.63it/s]first time: 2016Q2 - last time: 2016Q3\n",
      "30000it [01:22, 364.32it/s]\n",
      "35it [00:00, 346.12it/s]first time: 2016Q3 - last time: 2016Q4\n",
      "30000it [01:22, 364.20it/s]\n",
      "71it [00:00, 353.46it/s]first time: 2016Q4 - last time: 2017Q1\n",
      "30000it [01:22, 363.66it/s]\n",
      "72it [00:00, 354.24it/s]first time: 2017Q1 - last time: 2017Q2\n",
      "30000it [01:22, 364.78it/s]\n",
      "36it [00:00, 351.76it/s]first time: 2017Q2 - last time: 2017Q3\n",
      "30000it [01:22, 364.19it/s]\n",
      "71it [00:00, 350.24it/s]first time: 2017Q3 - last time: 2017Q4\n",
      "30000it [01:22, 363.43it/s]\n",
      "35it [00:00, 349.56it/s]first time: 2017Q4 - last time: 2018Q1\n",
      "30000it [01:22, 364.51it/s]\n",
      "36it [00:00, 357.60it/s]first time: 2018Q1 - last time: 2018Q2\n",
      "30000it [01:22, 363.68it/s]\n",
      "73it [00:00, 361.94it/s]first time: 2018Q2 - last time: 2018Q3\n",
      "30000it [01:22, 363.81it/s]\n",
      "72it [00:00, 355.64it/s]first time: 2018Q3 - last time: 2018Q4\n",
      "30000it [01:21, 369.30it/s]\n",
      "72it [00:00, 359.14it/s]first time: 2018Q4 - last time: 2019Q1\n",
      "30000it [01:21, 369.46it/s]\n",
      "36it [00:00, 356.00it/s]first time: 2019Q1 - last time: 2019Q2\n",
      "30000it [01:20, 372.11it/s]\n",
      "74it [00:00, 365.92it/s]first time: 2019Q2 - last time: 2019Q3\n",
      "30000it [01:20, 371.89it/s]\n",
      "73it [00:00, 362.15it/s]first time: 2019Q3 - last time: 2019Q4\n",
      "30000it [01:20, 371.28it/s]\n"
     ]
    }
   ],
   "source": [
    "time, per, sharpe, fig , performance_frame= pca_per(weekly_return[tttt],['SPY','IVV','VTI','VOO'], interval=\"Q\")\n",
    "fig.show()"
   ]
  },
  {
   "cell_type": "code",
   "execution_count": 495,
   "metadata": {},
   "outputs": [],
   "source": [
    "#dddd = PDI_DF[PDI_DF[\"# of Assets\"] == \"14\" ]\n",
    "dddd = PDI_DF.copy()\n",
    "#dddd = PDI_DF[PDI_DF[\"Annual STD\"] <= 0.2 ]"
   ]
  },
  {
   "cell_type": "code",
   "execution_count": 496,
   "metadata": {},
   "outputs": [],
   "source": [
    "dddd[\"PDI SEG\"] = dddd[\"PDI_INDEX\"].apply(lambda x: str(np.round(x, 1)))\n",
    "dddd[\"STD SEGG\"] = dddd[\"Annual STD\"].apply(lambda x: np.round(x, 2))"
   ]
  },
  {
   "cell_type": "code",
   "execution_count": 497,
   "metadata": {},
   "outputs": [
    {
     "output_type": "execute_result",
     "data": {
      "text/plain": [
       "        PDI_INDEX # of Assets                                          Assets  \\\n",
       "1             NaN           1                                           [SPY]   \n",
       "2        1.143835           3                              [GLIN, FDIS, URTH]   \n",
       "3        1.403781           3                                [VDE, SPXL, EFG]   \n",
       "4        1.193516           3                                [ENFR, FEX, IGN]   \n",
       "5        1.206487           3                                [BICK, EWO, VEA]   \n",
       "...           ...         ...                                             ...   \n",
       "119991   1.985287           8     [IAK, KCE, EEMA, FAS, ROBO, FPX, USD, IHDG]   \n",
       "119992   2.584147           8  [FLN, KFYP, HEFA, PSCC, PID, XSVM, QDEF, CXSE]   \n",
       "119993   2.504402           8   [VTWV, EXI, FDT, FXU, IHDG, KBWR, VONE, SCHC]   \n",
       "119994   2.303937           8   [IGE, VOOV, SDOG, ARKW, IEV, BFOR, VTWO, FCG]   \n",
       "119995   3.285784           8     [DBEF, IGV, ACWI, EMFM, IGE, IYK, VIS, RFG]   \n",
       "\n",
       "        Sharpe Ratio  Annual Return  Annual STD PDI SEG  STD SEGG  \n",
       "1           0.434199       0.041268    0.095045     nan      0.10  \n",
       "2           0.492642       0.063373    0.128638     1.1      0.13  \n",
       "3           0.252745       0.045734    0.180947     1.4      0.18  \n",
       "4           0.020559       0.002275    0.110633     1.2      0.11  \n",
       "5           0.260815       0.039640    0.151986     1.2      0.15  \n",
       "...              ...            ...         ...     ...       ...  \n",
       "119991      0.244595       0.034916    0.142752     2.0      0.14  \n",
       "119992     -0.181389      -0.023573    0.129960     2.6      0.13  \n",
       "119993      0.788838       0.077643    0.098427     2.5      0.10  \n",
       "119994      0.186711       0.024852    0.133101     2.3      0.13  \n",
       "119995      0.472477       0.048400    0.102439     3.3      0.10  \n",
       "\n",
       "[119995 rows x 8 columns]"
      ],
      "text/html": "<div>\n<style scoped>\n    .dataframe tbody tr th:only-of-type {\n        vertical-align: middle;\n    }\n\n    .dataframe tbody tr th {\n        vertical-align: top;\n    }\n\n    .dataframe thead th {\n        text-align: right;\n    }\n</style>\n<table border=\"1\" class=\"dataframe\">\n  <thead>\n    <tr style=\"text-align: right;\">\n      <th></th>\n      <th>PDI_INDEX</th>\n      <th># of Assets</th>\n      <th>Assets</th>\n      <th>Sharpe Ratio</th>\n      <th>Annual Return</th>\n      <th>Annual STD</th>\n      <th>PDI SEG</th>\n      <th>STD SEGG</th>\n    </tr>\n  </thead>\n  <tbody>\n    <tr>\n      <th>1</th>\n      <td>NaN</td>\n      <td>1</td>\n      <td>[SPY]</td>\n      <td>0.434199</td>\n      <td>0.041268</td>\n      <td>0.095045</td>\n      <td>nan</td>\n      <td>0.10</td>\n    </tr>\n    <tr>\n      <th>2</th>\n      <td>1.143835</td>\n      <td>3</td>\n      <td>[GLIN, FDIS, URTH]</td>\n      <td>0.492642</td>\n      <td>0.063373</td>\n      <td>0.128638</td>\n      <td>1.1</td>\n      <td>0.13</td>\n    </tr>\n    <tr>\n      <th>3</th>\n      <td>1.403781</td>\n      <td>3</td>\n      <td>[VDE, SPXL, EFG]</td>\n      <td>0.252745</td>\n      <td>0.045734</td>\n      <td>0.180947</td>\n      <td>1.4</td>\n      <td>0.18</td>\n    </tr>\n    <tr>\n      <th>4</th>\n      <td>1.193516</td>\n      <td>3</td>\n      <td>[ENFR, FEX, IGN]</td>\n      <td>0.020559</td>\n      <td>0.002275</td>\n      <td>0.110633</td>\n      <td>1.2</td>\n      <td>0.11</td>\n    </tr>\n    <tr>\n      <th>5</th>\n      <td>1.206487</td>\n      <td>3</td>\n      <td>[BICK, EWO, VEA]</td>\n      <td>0.260815</td>\n      <td>0.039640</td>\n      <td>0.151986</td>\n      <td>1.2</td>\n      <td>0.15</td>\n    </tr>\n    <tr>\n      <th>...</th>\n      <td>...</td>\n      <td>...</td>\n      <td>...</td>\n      <td>...</td>\n      <td>...</td>\n      <td>...</td>\n      <td>...</td>\n      <td>...</td>\n    </tr>\n    <tr>\n      <th>119991</th>\n      <td>1.985287</td>\n      <td>8</td>\n      <td>[IAK, KCE, EEMA, FAS, ROBO, FPX, USD, IHDG]</td>\n      <td>0.244595</td>\n      <td>0.034916</td>\n      <td>0.142752</td>\n      <td>2.0</td>\n      <td>0.14</td>\n    </tr>\n    <tr>\n      <th>119992</th>\n      <td>2.584147</td>\n      <td>8</td>\n      <td>[FLN, KFYP, HEFA, PSCC, PID, XSVM, QDEF, CXSE]</td>\n      <td>-0.181389</td>\n      <td>-0.023573</td>\n      <td>0.129960</td>\n      <td>2.6</td>\n      <td>0.13</td>\n    </tr>\n    <tr>\n      <th>119993</th>\n      <td>2.504402</td>\n      <td>8</td>\n      <td>[VTWV, EXI, FDT, FXU, IHDG, KBWR, VONE, SCHC]</td>\n      <td>0.788838</td>\n      <td>0.077643</td>\n      <td>0.098427</td>\n      <td>2.5</td>\n      <td>0.10</td>\n    </tr>\n    <tr>\n      <th>119994</th>\n      <td>2.303937</td>\n      <td>8</td>\n      <td>[IGE, VOOV, SDOG, ARKW, IEV, BFOR, VTWO, FCG]</td>\n      <td>0.186711</td>\n      <td>0.024852</td>\n      <td>0.133101</td>\n      <td>2.3</td>\n      <td>0.13</td>\n    </tr>\n    <tr>\n      <th>119995</th>\n      <td>3.285784</td>\n      <td>8</td>\n      <td>[DBEF, IGV, ACWI, EMFM, IGE, IYK, VIS, RFG]</td>\n      <td>0.472477</td>\n      <td>0.048400</td>\n      <td>0.102439</td>\n      <td>3.3</td>\n      <td>0.10</td>\n    </tr>\n  </tbody>\n</table>\n<p>119995 rows × 8 columns</p>\n</div>"
     },
     "metadata": {},
     "execution_count": 497
    }
   ],
   "source": [
    "dddd"
   ]
  },
  {
   "cell_type": "code",
   "execution_count": 459,
   "metadata": {},
   "outputs": [
    {
     "output_type": "stream",
     "name": "stdout",
     "text": [
      "Min STD: 0.034345568498662105\nMax STD: 0.4010084942247244\n"
     ]
    }
   ],
   "source": [
    "print(\"Min STD:\", dddd[\"Annual STD\"].min())\n",
    "print(\"Max STD:\", dddd[\"Annual STD\"].max())"
   ]
  },
  {
   "cell_type": "code",
   "execution_count": 482,
   "metadata": {},
   "outputs": [],
   "source": [
    "fig = px.bar(dddd, color=\"# of Assets\", y=\"Annual Return\", x=\"PDI_INDEX\")\n",
    "fig.show()"
   ]
  },
  {
   "cell_type": "code",
   "execution_count": 483,
   "metadata": {},
   "outputs": [],
   "source": [
    "fig = px.scatter(dddd,  color=\"# of Assets\", y=\"Annual Return\", x=\"PDI_INDEX\")\n",
    "fig.show()"
   ]
  },
  {
   "cell_type": "code",
   "execution_count": 486,
   "metadata": {},
   "outputs": [],
   "source": [
    "fig = px.box(dddd, x=\"# of Assets\", y=\"PDI_INDEX\")\n",
    "fig.show()"
   ]
  },
  {
   "cell_type": "code",
   "execution_count": 498,
   "metadata": {},
   "outputs": [],
   "source": [
    "fig = px.scatter_3d(dddd, x='STD SEGG', y = \"Annual Return\", z = \"PDI_INDEX\", color=\"# of Assets\", hover_data = [dddd.index], title = \"ETF Portfolios\")\n",
    "fig.show()"
   ]
  },
  {
   "cell_type": "code",
   "execution_count": 462,
   "metadata": {},
   "outputs": [],
   "source": [
    "fig = px.scatter(dddd, x=\"PDI_INDEX\", y=\"Annual Return\", color = \"STD SEG\")\n",
    "fig.show()"
   ]
  },
  {
   "cell_type": "code",
   "execution_count": 366,
   "metadata": {},
   "outputs": [
    {
     "output_type": "stream",
     "name": "stdout",
     "text": [
      "1999\n"
     ]
    },
    {
     "output_type": "execute_result",
     "data": {
      "text/plain": [
       "      PDI_INDEX # of Assets                         Assets  Sharpe Ratio  \\\n",
       "5994   1.044022           5    [SQQQ, EMLP, IGM, EQL, IWB]     -0.584013   \n",
       "5995   1.381763           5    [QDF, FPX, IUSG, ICOL, FLN]      0.452782   \n",
       "5996   1.747769           5    [FEUZ, QDF, VIOG, IGE, RWL]      0.370002   \n",
       "5997   2.163634           5   [EDIV, SCHA, FCG, NXTG, EQL]      0.110250   \n",
       "5998   1.895498           5  [EWMC, QTEC, EFA, FRAK, CHIE]      0.219108   \n",
       "\n",
       "      Annual Return  Annual STD  \n",
       "5994      -0.042722    0.073153  \n",
       "5995       0.094287    0.208239  \n",
       "5996       0.073438    0.198480  \n",
       "5997       0.024112    0.218707  \n",
       "5998       0.048795    0.222700  "
      ],
      "text/html": "<div>\n<style scoped>\n    .dataframe tbody tr th:only-of-type {\n        vertical-align: middle;\n    }\n\n    .dataframe tbody tr th {\n        vertical-align: top;\n    }\n\n    .dataframe thead th {\n        text-align: right;\n    }\n</style>\n<table border=\"1\" class=\"dataframe\">\n  <thead>\n    <tr style=\"text-align: right;\">\n      <th></th>\n      <th>PDI_INDEX</th>\n      <th># of Assets</th>\n      <th>Assets</th>\n      <th>Sharpe Ratio</th>\n      <th>Annual Return</th>\n      <th>Annual STD</th>\n    </tr>\n  </thead>\n  <tbody>\n    <tr>\n      <th>5994</th>\n      <td>1.044022</td>\n      <td>5</td>\n      <td>[SQQQ, EMLP, IGM, EQL, IWB]</td>\n      <td>-0.584013</td>\n      <td>-0.042722</td>\n      <td>0.073153</td>\n    </tr>\n    <tr>\n      <th>5995</th>\n      <td>1.381763</td>\n      <td>5</td>\n      <td>[QDF, FPX, IUSG, ICOL, FLN]</td>\n      <td>0.452782</td>\n      <td>0.094287</td>\n      <td>0.208239</td>\n    </tr>\n    <tr>\n      <th>5996</th>\n      <td>1.747769</td>\n      <td>5</td>\n      <td>[FEUZ, QDF, VIOG, IGE, RWL]</td>\n      <td>0.370002</td>\n      <td>0.073438</td>\n      <td>0.198480</td>\n    </tr>\n    <tr>\n      <th>5997</th>\n      <td>2.163634</td>\n      <td>5</td>\n      <td>[EDIV, SCHA, FCG, NXTG, EQL]</td>\n      <td>0.110250</td>\n      <td>0.024112</td>\n      <td>0.218707</td>\n    </tr>\n    <tr>\n      <th>5998</th>\n      <td>1.895498</td>\n      <td>5</td>\n      <td>[EWMC, QTEC, EFA, FRAK, CHIE]</td>\n      <td>0.219108</td>\n      <td>0.048795</td>\n      <td>0.222700</td>\n    </tr>\n  </tbody>\n</table>\n</div>"
     },
     "metadata": {},
     "execution_count": 366
    }
   ],
   "source": [
    "testest = dddd[dddd[\"# of Assets\"] == \"5\"]\n",
    "print(len(testest))\n",
    "testest.head()"
   ]
  },
  {
   "cell_type": "code",
   "execution_count": 441,
   "metadata": {},
   "outputs": [
    {
     "output_type": "execute_result",
     "data": {
      "text/plain": [
       "5994    0.073153\n",
       "5995    0.208239\n",
       "5996    0.198480\n",
       "5997    0.218707\n",
       "5998    0.222700\n",
       "          ...   \n",
       "7988    0.217509\n",
       "7989    0.163114\n",
       "7990    0.202811\n",
       "7991    0.183826\n",
       "7992    0.156315\n",
       "Name: Annual STD, Length: 1999, dtype: float64"
      ]
     },
     "metadata": {},
     "execution_count": 441
    }
   ],
   "source": [
    "testest[\"Annual STD\"]"
   ]
  },
  {
   "cell_type": "code",
   "execution_count": 368,
   "metadata": {},
   "outputs": [],
   "source": [
    "fig = px.scatter_3d(testest, x='Annual STD', y = \"Annual Return\", z = \"PDI_INDEX\", color=\"Sharpe Ratio\", hover_data = [testest.index], title = \"ETF Portfolios\")\n",
    "fig.show()"
   ]
  },
  {
   "cell_type": "code",
   "execution_count": 382,
   "metadata": {},
   "outputs": [],
   "source": [
    "indx = [7133,7136, 7494, 6177, 7703]"
   ]
  },
  {
   "cell_type": "code",
   "execution_count": 383,
   "metadata": {},
   "outputs": [],
   "source": [
    "test = dddd.iloc[indx,:]"
   ]
  },
  {
   "cell_type": "code",
   "execution_count": 500,
   "metadata": {},
   "outputs": [
    {
     "output_type": "execute_result",
     "data": {
      "text/plain": [
       "13.0"
      ]
     },
     "metadata": {},
     "execution_count": 500
    }
   ],
   "source": [
    "52/4"
   ]
  },
  {
   "cell_type": "code",
   "execution_count": 385,
   "metadata": {},
   "outputs": [
    {
     "output_type": "stream",
     "name": "stdout",
     "text": [
      "PSJ       Technology\nARKW      Technology\nVTV      Large Value\nEQWL     Large Blend\nSPYG    Large Growth\nName: Category, dtype: object\n------------------------------\nPIZ     Foreign Large Growth\nSMH               Technology\nIXJ                   Health\nARKW              Technology\nVPU                Utilities\nName: Category, dtype: object\n------------------------------\nARKW              Technology\nFSZ     Miscellaneous Region\nNOBL             Large Blend\nIWL              Large Blend\nFPXI    Foreign Large Growth\nName: Category, dtype: object\n------------------------------\nFYC             Small Growth\nIYH                   Health\nIYW               Technology\nARKW              Technology\nFPXI    Foreign Large Growth\nName: Category, dtype: object\n------------------------------\nSMH         Technology\nXLU          Utilities\nFTHI    Option Writing\nIHI             Health\nFVD        Large Value\nName: Category, dtype: object\n------------------------------\n"
     ]
    }
   ],
   "source": [
    "for i in test[\"Assets\"]:\n",
    "    print(fundamental_df.loc[i,:][\"Category\"])\n",
    "    print(30*\"-\")"
   ]
  },
  {
   "cell_type": "code",
   "execution_count": 272,
   "metadata": {},
   "outputs": [],
   "source": [
    "num_as = []\n",
    "max_pdi = []\n",
    "for i in np.sort(dddd[\"# of Assets\"].unique()):\n",
    "    max_pdi.append(dddd[dddd[\"# of Assets\"] == i][\"PDI_INDEX\"].max())\n",
    "    num_as.append(i)\n",
    "fig = px.line( x=num_as,y = max_pdi)\n",
    "fig.show()"
   ]
  },
  {
   "cell_type": "code",
   "execution_count": 247,
   "metadata": {},
   "outputs": [],
   "source": [
    "\n",
    "fig = px.scatter(dddd[dddd[\"# of Assets\"] <= 3], y='Annual Return',  color =\"PDI_RATIO\",x = \"Annual STD\")\n",
    "fig.show()"
   ]
  },
  {
   "cell_type": "code",
   "execution_count": 237,
   "metadata": {},
   "outputs": [
    {
     "output_type": "execute_result",
     "data": {
      "text/plain": [
       "       PDI_INDEX  # of Assets  \\\n",
       "1            NaN            1   \n",
       "2       1.414592            3   \n",
       "3       1.302344            3   \n",
       "4       1.054566            3   \n",
       "5       1.255277            3   \n",
       "...          ...          ...   \n",
       "33980   2.755384           19   \n",
       "33981   2.854350           19   \n",
       "33982   3.651829           19   \n",
       "33983   2.763340           19   \n",
       "33984   3.753796           19   \n",
       "\n",
       "                                                  Assets  Sharpe Ratio  \\\n",
       "1                                                  [SPY]      0.818855   \n",
       "2                                      [SCJ, PSCM, SPVM]      0.461832   \n",
       "3                                       [SOXL, PUI, XES]      0.416604   \n",
       "4                                       [DGRS, RYJ, PBE]      0.355442   \n",
       "5                                      [VSS, EUFN, EUDG]      0.287435   \n",
       "...                                                  ...           ...   \n",
       "33980  [QABA, SCHF, RZV, VT, VFH, UGE, FYX, XLP, EIS,...      0.665814   \n",
       "33981  [JPIN, TUR, TILT, SYE, XLI, RDIV, IXUS, VTWO, ...      0.405457   \n",
       "33982  [PWB, EWSC, VOOV, FLM, PBJ, EEM, EFA, EVX, ENZ...      0.465379   \n",
       "33983  [VTWG, MIDU, RYE, EMLP, IYW, IYT, PSJ, XOP, GV...      0.377863   \n",
       "33984  [IYY, PID, IEUR, DEF, EFV, PSP, QLD, EPHE, PDP...      0.485775   \n",
       "\n",
       "       Annual Return  Annual STD    pdi_st    num_st  PDI_RATIO  \n",
       "1           0.130413    0.159263  0.100213  0.111111   0.901920  \n",
       "2           0.087222    0.188861  0.073067  0.111111   0.657605  \n",
       "3           0.172723    0.414597  0.013145  0.111111   0.118301  \n",
       "4           0.080435    0.226295  0.061685  0.111111   0.555161  \n",
       "5           0.059219    0.206026  0.171623  0.111111   1.544605  \n",
       "...              ...         ...       ...       ...        ...  \n",
       "33980       0.142286    0.213703  0.448405  1.000000   0.448405  \n",
       "33981       0.077874    0.192065  0.641268  1.000000   0.641268  \n",
       "33982       0.081121    0.174311  0.426395  1.000000   0.426395  \n",
       "33983       0.082463    0.218236  0.665928  1.000000   0.665928  \n",
       "33984       0.095792    0.197194       NaN       NaN        NaN  \n",
       "\n",
       "[33984 rows x 9 columns]"
      ],
      "text/html": "<div>\n<style scoped>\n    .dataframe tbody tr th:only-of-type {\n        vertical-align: middle;\n    }\n\n    .dataframe tbody tr th {\n        vertical-align: top;\n    }\n\n    .dataframe thead th {\n        text-align: right;\n    }\n</style>\n<table border=\"1\" class=\"dataframe\">\n  <thead>\n    <tr style=\"text-align: right;\">\n      <th></th>\n      <th>PDI_INDEX</th>\n      <th># of Assets</th>\n      <th>Assets</th>\n      <th>Sharpe Ratio</th>\n      <th>Annual Return</th>\n      <th>Annual STD</th>\n      <th>pdi_st</th>\n      <th>num_st</th>\n      <th>PDI_RATIO</th>\n    </tr>\n  </thead>\n  <tbody>\n    <tr>\n      <th>1</th>\n      <td>NaN</td>\n      <td>1</td>\n      <td>[SPY]</td>\n      <td>0.818855</td>\n      <td>0.130413</td>\n      <td>0.159263</td>\n      <td>0.100213</td>\n      <td>0.111111</td>\n      <td>0.901920</td>\n    </tr>\n    <tr>\n      <th>2</th>\n      <td>1.414592</td>\n      <td>3</td>\n      <td>[SCJ, PSCM, SPVM]</td>\n      <td>0.461832</td>\n      <td>0.087222</td>\n      <td>0.188861</td>\n      <td>0.073067</td>\n      <td>0.111111</td>\n      <td>0.657605</td>\n    </tr>\n    <tr>\n      <th>3</th>\n      <td>1.302344</td>\n      <td>3</td>\n      <td>[SOXL, PUI, XES]</td>\n      <td>0.416604</td>\n      <td>0.172723</td>\n      <td>0.414597</td>\n      <td>0.013145</td>\n      <td>0.111111</td>\n      <td>0.118301</td>\n    </tr>\n    <tr>\n      <th>4</th>\n      <td>1.054566</td>\n      <td>3</td>\n      <td>[DGRS, RYJ, PBE]</td>\n      <td>0.355442</td>\n      <td>0.080435</td>\n      <td>0.226295</td>\n      <td>0.061685</td>\n      <td>0.111111</td>\n      <td>0.555161</td>\n    </tr>\n    <tr>\n      <th>5</th>\n      <td>1.255277</td>\n      <td>3</td>\n      <td>[VSS, EUFN, EUDG]</td>\n      <td>0.287435</td>\n      <td>0.059219</td>\n      <td>0.206026</td>\n      <td>0.171623</td>\n      <td>0.111111</td>\n      <td>1.544605</td>\n    </tr>\n    <tr>\n      <th>...</th>\n      <td>...</td>\n      <td>...</td>\n      <td>...</td>\n      <td>...</td>\n      <td>...</td>\n      <td>...</td>\n      <td>...</td>\n      <td>...</td>\n      <td>...</td>\n    </tr>\n    <tr>\n      <th>33980</th>\n      <td>2.755384</td>\n      <td>19</td>\n      <td>[QABA, SCHF, RZV, VT, VFH, UGE, FYX, XLP, EIS,...</td>\n      <td>0.665814</td>\n      <td>0.142286</td>\n      <td>0.213703</td>\n      <td>0.448405</td>\n      <td>1.000000</td>\n      <td>0.448405</td>\n    </tr>\n    <tr>\n      <th>33981</th>\n      <td>2.854350</td>\n      <td>19</td>\n      <td>[JPIN, TUR, TILT, SYE, XLI, RDIV, IXUS, VTWO, ...</td>\n      <td>0.405457</td>\n      <td>0.077874</td>\n      <td>0.192065</td>\n      <td>0.641268</td>\n      <td>1.000000</td>\n      <td>0.641268</td>\n    </tr>\n    <tr>\n      <th>33982</th>\n      <td>3.651829</td>\n      <td>19</td>\n      <td>[PWB, EWSC, VOOV, FLM, PBJ, EEM, EFA, EVX, ENZ...</td>\n      <td>0.465379</td>\n      <td>0.081121</td>\n      <td>0.174311</td>\n      <td>0.426395</td>\n      <td>1.000000</td>\n      <td>0.426395</td>\n    </tr>\n    <tr>\n      <th>33983</th>\n      <td>2.763340</td>\n      <td>19</td>\n      <td>[VTWG, MIDU, RYE, EMLP, IYW, IYT, PSJ, XOP, GV...</td>\n      <td>0.377863</td>\n      <td>0.082463</td>\n      <td>0.218236</td>\n      <td>0.665928</td>\n      <td>1.000000</td>\n      <td>0.665928</td>\n    </tr>\n    <tr>\n      <th>33984</th>\n      <td>3.753796</td>\n      <td>19</td>\n      <td>[IYY, PID, IEUR, DEF, EFV, PSP, QLD, EPHE, PDP...</td>\n      <td>0.485775</td>\n      <td>0.095792</td>\n      <td>0.197194</td>\n      <td>NaN</td>\n      <td>NaN</td>\n      <td>NaN</td>\n    </tr>\n  </tbody>\n</table>\n<p>33984 rows × 9 columns</p>\n</div>"
     },
     "metadata": {},
     "execution_count": 237
    }
   ],
   "source": [
    "dddd"
   ]
  },
  {
   "cell_type": "code",
   "execution_count": 8,
   "metadata": {},
   "outputs": [],
   "source": [
    "fig = px.box(PDI_DF, x=\"# of Assets\", y=\"Annual STD\")\n",
    "fig.show()"
   ]
  },
  {
   "cell_type": "code",
   "execution_count": 70,
   "metadata": {},
   "outputs": [],
   "source": [
    "fig = px.box(PDI_DF, x=\"# of Assets\", y=\"Annual Return\")\n",
    "fig.show()"
   ]
  },
  {
   "cell_type": "code",
   "execution_count": 9,
   "metadata": {},
   "outputs": [
    {
     "output_type": "stream",
     "name": "stdout",
     "text": [
      "min PDI 1.000214371065589\nmax PDI 5.135170565856279\n"
     ]
    }
   ],
   "source": [
    "print(\"min PDI\",PDI_DF[\"PDI_INDEX\"].min())\n",
    "print(\"max PDI\",PDI_DF[\"PDI_INDEX\"].max())"
   ]
  },
  {
   "cell_type": "code",
   "execution_count": 10,
   "metadata": {},
   "outputs": [
    {
     "output_type": "execute_result",
     "data": {
      "text/plain": [
       "       PDI_INDEX # of Assets  \\\n",
       "1            NaN           1   \n",
       "2       1.414592           3   \n",
       "3       1.302344           3   \n",
       "4       1.054566           3   \n",
       "5       1.255277           3   \n",
       "...          ...         ...   \n",
       "33980   2.755384          19   \n",
       "33981   2.854350          19   \n",
       "33982   3.651829          19   \n",
       "33983   2.763340          19   \n",
       "33984   3.753796          19   \n",
       "\n",
       "                                                  Assets  Sharpe Ratio  \\\n",
       "1                                                  [SPY]      0.818855   \n",
       "2                                      [SCJ, PSCM, SPVM]      0.461832   \n",
       "3                                       [SOXL, PUI, XES]      0.416604   \n",
       "4                                       [DGRS, RYJ, PBE]      0.355442   \n",
       "5                                      [VSS, EUFN, EUDG]      0.287435   \n",
       "...                                                  ...           ...   \n",
       "33980  [QABA, SCHF, RZV, VT, VFH, UGE, FYX, XLP, EIS,...      0.665814   \n",
       "33981  [JPIN, TUR, TILT, SYE, XLI, RDIV, IXUS, VTWO, ...      0.405457   \n",
       "33982  [PWB, EWSC, VOOV, FLM, PBJ, EEM, EFA, EVX, ENZ...      0.465379   \n",
       "33983  [VTWG, MIDU, RYE, EMLP, IYW, IYT, PSJ, XOP, GV...      0.377863   \n",
       "33984  [IYY, PID, IEUR, DEF, EFV, PSP, QLD, EPHE, PDP...      0.485775   \n",
       "\n",
       "       Annual Return  Annual STD  \n",
       "1           0.130413    0.159263  \n",
       "2           0.087222    0.188861  \n",
       "3           0.172723    0.414597  \n",
       "4           0.080435    0.226295  \n",
       "5           0.059219    0.206026  \n",
       "...              ...         ...  \n",
       "33980       0.142286    0.213703  \n",
       "33981       0.077874    0.192065  \n",
       "33982       0.081121    0.174311  \n",
       "33983       0.082463    0.218236  \n",
       "33984       0.095792    0.197194  \n",
       "\n",
       "[33984 rows x 6 columns]"
      ],
      "text/html": "<div>\n<style scoped>\n    .dataframe tbody tr th:only-of-type {\n        vertical-align: middle;\n    }\n\n    .dataframe tbody tr th {\n        vertical-align: top;\n    }\n\n    .dataframe thead th {\n        text-align: right;\n    }\n</style>\n<table border=\"1\" class=\"dataframe\">\n  <thead>\n    <tr style=\"text-align: right;\">\n      <th></th>\n      <th>PDI_INDEX</th>\n      <th># of Assets</th>\n      <th>Assets</th>\n      <th>Sharpe Ratio</th>\n      <th>Annual Return</th>\n      <th>Annual STD</th>\n    </tr>\n  </thead>\n  <tbody>\n    <tr>\n      <th>1</th>\n      <td>NaN</td>\n      <td>1</td>\n      <td>[SPY]</td>\n      <td>0.818855</td>\n      <td>0.130413</td>\n      <td>0.159263</td>\n    </tr>\n    <tr>\n      <th>2</th>\n      <td>1.414592</td>\n      <td>3</td>\n      <td>[SCJ, PSCM, SPVM]</td>\n      <td>0.461832</td>\n      <td>0.087222</td>\n      <td>0.188861</td>\n    </tr>\n    <tr>\n      <th>3</th>\n      <td>1.302344</td>\n      <td>3</td>\n      <td>[SOXL, PUI, XES]</td>\n      <td>0.416604</td>\n      <td>0.172723</td>\n      <td>0.414597</td>\n    </tr>\n    <tr>\n      <th>4</th>\n      <td>1.054566</td>\n      <td>3</td>\n      <td>[DGRS, RYJ, PBE]</td>\n      <td>0.355442</td>\n      <td>0.080435</td>\n      <td>0.226295</td>\n    </tr>\n    <tr>\n      <th>5</th>\n      <td>1.255277</td>\n      <td>3</td>\n      <td>[VSS, EUFN, EUDG]</td>\n      <td>0.287435</td>\n      <td>0.059219</td>\n      <td>0.206026</td>\n    </tr>\n    <tr>\n      <th>...</th>\n      <td>...</td>\n      <td>...</td>\n      <td>...</td>\n      <td>...</td>\n      <td>...</td>\n      <td>...</td>\n    </tr>\n    <tr>\n      <th>33980</th>\n      <td>2.755384</td>\n      <td>19</td>\n      <td>[QABA, SCHF, RZV, VT, VFH, UGE, FYX, XLP, EIS,...</td>\n      <td>0.665814</td>\n      <td>0.142286</td>\n      <td>0.213703</td>\n    </tr>\n    <tr>\n      <th>33981</th>\n      <td>2.854350</td>\n      <td>19</td>\n      <td>[JPIN, TUR, TILT, SYE, XLI, RDIV, IXUS, VTWO, ...</td>\n      <td>0.405457</td>\n      <td>0.077874</td>\n      <td>0.192065</td>\n    </tr>\n    <tr>\n      <th>33982</th>\n      <td>3.651829</td>\n      <td>19</td>\n      <td>[PWB, EWSC, VOOV, FLM, PBJ, EEM, EFA, EVX, ENZ...</td>\n      <td>0.465379</td>\n      <td>0.081121</td>\n      <td>0.174311</td>\n    </tr>\n    <tr>\n      <th>33983</th>\n      <td>2.763340</td>\n      <td>19</td>\n      <td>[VTWG, MIDU, RYE, EMLP, IYW, IYT, PSJ, XOP, GV...</td>\n      <td>0.377863</td>\n      <td>0.082463</td>\n      <td>0.218236</td>\n    </tr>\n    <tr>\n      <th>33984</th>\n      <td>3.753796</td>\n      <td>19</td>\n      <td>[IYY, PID, IEUR, DEF, EFV, PSP, QLD, EPHE, PDP...</td>\n      <td>0.485775</td>\n      <td>0.095792</td>\n      <td>0.197194</td>\n    </tr>\n  </tbody>\n</table>\n<p>33984 rows × 6 columns</p>\n</div>"
     },
     "metadata": {},
     "execution_count": 10
    }
   ],
   "source": [
    "PDI_DF"
   ]
  },
  {
   "cell_type": "code",
   "execution_count": 11,
   "metadata": {},
   "outputs": [
    {
     "output_type": "execute_result",
     "data": {
      "text/plain": [
       "2.3683454956402015"
      ]
     },
     "metadata": {},
     "execution_count": 11
    }
   ],
   "source": [
    "a = PDI_DF[\"PDI_INDEX\"].quantile(.5)\n",
    "a"
   ]
  },
  {
   "cell_type": "code",
   "execution_count": 42,
   "metadata": {},
   "outputs": [
    {
     "output_type": "execute_result",
     "data": {
      "text/plain": [
       "       PDI_INDEX # of Assets  \\\n",
       "2       1.210099           3   \n",
       "3       1.204287           3   \n",
       "4       1.750332           3   \n",
       "5       1.385366           3   \n",
       "6       1.134295           3   \n",
       "...          ...         ...   \n",
       "17969   1.313271          11   \n",
       "17978   1.119875          11   \n",
       "17984   1.718354          11   \n",
       "17987   1.192784          11   \n",
       "17990   2.047216          11   \n",
       "\n",
       "                                                  Assets  Sharpe Ratio  \\\n",
       "2                                       [KRE, CHIQ, FPA]      0.564758   \n",
       "3                                       [FYT, SYG, MDYG]      0.563357   \n",
       "4                                      [MMTM, IAK, ZDEU]      0.523091   \n",
       "5                                       [FENY, DFJ, PYZ]      0.134866   \n",
       "6                                       [TOLZ, RFG, XLY]      0.537009   \n",
       "...                                                  ...           ...   \n",
       "17969  [SPLV, EWC, QLD, DTD, XLV, EMQQ, EWM, PBE, SAA...      0.572785   \n",
       "17978  [SCHE, EUSA, JKI, DLS, ASEA, XMLV, DOO, SDY, M...     -0.147118   \n",
       "17984  [SIL, XLG, QQQE, PSJ, FDT, RDVY, CN, SDIV, FNC...      0.684111   \n",
       "17987  [TOK, SMEZ, EZA, BBH, GXF, TNA, UDOW, EWT, PSQ...      0.425618   \n",
       "17990  [XSMO, IQDF, KIE, RING, FMAT, FENY, EXI, UWM, ...      0.367182   \n",
       "\n",
       "       Annual Return  Annual STD  \n",
       "2           0.120226    0.212881  \n",
       "3           0.115168    0.204432  \n",
       "4           0.094329    0.180331  \n",
       "5           0.030540    0.226449  \n",
       "6           0.098377    0.183195  \n",
       "...              ...         ...  \n",
       "17969       0.098076    0.171227  \n",
       "17978      -0.020176    0.137139  \n",
       "17984       0.132154    0.193176  \n",
       "17987       0.091966    0.216077  \n",
       "17990       0.079958    0.217762  \n",
       "\n",
       "[8996 rows x 6 columns]"
      ],
      "text/html": "<div>\n<style scoped>\n    .dataframe tbody tr th:only-of-type {\n        vertical-align: middle;\n    }\n\n    .dataframe tbody tr th {\n        vertical-align: top;\n    }\n\n    .dataframe thead th {\n        text-align: right;\n    }\n</style>\n<table border=\"1\" class=\"dataframe\">\n  <thead>\n    <tr style=\"text-align: right;\">\n      <th></th>\n      <th>PDI_INDEX</th>\n      <th># of Assets</th>\n      <th>Assets</th>\n      <th>Sharpe Ratio</th>\n      <th>Annual Return</th>\n      <th>Annual STD</th>\n    </tr>\n  </thead>\n  <tbody>\n    <tr>\n      <th>2</th>\n      <td>1.210099</td>\n      <td>3</td>\n      <td>[KRE, CHIQ, FPA]</td>\n      <td>0.564758</td>\n      <td>0.120226</td>\n      <td>0.212881</td>\n    </tr>\n    <tr>\n      <th>3</th>\n      <td>1.204287</td>\n      <td>3</td>\n      <td>[FYT, SYG, MDYG]</td>\n      <td>0.563357</td>\n      <td>0.115168</td>\n      <td>0.204432</td>\n    </tr>\n    <tr>\n      <th>4</th>\n      <td>1.750332</td>\n      <td>3</td>\n      <td>[MMTM, IAK, ZDEU]</td>\n      <td>0.523091</td>\n      <td>0.094329</td>\n      <td>0.180331</td>\n    </tr>\n    <tr>\n      <th>5</th>\n      <td>1.385366</td>\n      <td>3</td>\n      <td>[FENY, DFJ, PYZ]</td>\n      <td>0.134866</td>\n      <td>0.030540</td>\n      <td>0.226449</td>\n    </tr>\n    <tr>\n      <th>6</th>\n      <td>1.134295</td>\n      <td>3</td>\n      <td>[TOLZ, RFG, XLY]</td>\n      <td>0.537009</td>\n      <td>0.098377</td>\n      <td>0.183195</td>\n    </tr>\n    <tr>\n      <th>...</th>\n      <td>...</td>\n      <td>...</td>\n      <td>...</td>\n      <td>...</td>\n      <td>...</td>\n      <td>...</td>\n    </tr>\n    <tr>\n      <th>17969</th>\n      <td>1.313271</td>\n      <td>11</td>\n      <td>[SPLV, EWC, QLD, DTD, XLV, EMQQ, EWM, PBE, SAA...</td>\n      <td>0.572785</td>\n      <td>0.098076</td>\n      <td>0.171227</td>\n    </tr>\n    <tr>\n      <th>17978</th>\n      <td>1.119875</td>\n      <td>11</td>\n      <td>[SCHE, EUSA, JKI, DLS, ASEA, XMLV, DOO, SDY, M...</td>\n      <td>-0.147118</td>\n      <td>-0.020176</td>\n      <td>0.137139</td>\n    </tr>\n    <tr>\n      <th>17984</th>\n      <td>1.718354</td>\n      <td>11</td>\n      <td>[SIL, XLG, QQQE, PSJ, FDT, RDVY, CN, SDIV, FNC...</td>\n      <td>0.684111</td>\n      <td>0.132154</td>\n      <td>0.193176</td>\n    </tr>\n    <tr>\n      <th>17987</th>\n      <td>1.192784</td>\n      <td>11</td>\n      <td>[TOK, SMEZ, EZA, BBH, GXF, TNA, UDOW, EWT, PSQ...</td>\n      <td>0.425618</td>\n      <td>0.091966</td>\n      <td>0.216077</td>\n    </tr>\n    <tr>\n      <th>17990</th>\n      <td>2.047216</td>\n      <td>11</td>\n      <td>[XSMO, IQDF, KIE, RING, FMAT, FENY, EXI, UWM, ...</td>\n      <td>0.367182</td>\n      <td>0.079958</td>\n      <td>0.217762</td>\n    </tr>\n  </tbody>\n</table>\n<p>8996 rows × 6 columns</p>\n</div>"
     },
     "metadata": {},
     "execution_count": 42
    }
   ],
   "source": [
    " df_1 = PDI_DF[PDI_DF[\"PDI_INDEX\"] <= a]\n",
    " df_1"
   ]
  },
  {
   "cell_type": "code",
   "execution_count": 32,
   "metadata": {},
   "outputs": [
    {
     "output_type": "execute_result",
     "data": {
      "text/plain": [
       "0.5    0.497023\n",
       "Name: Sharpe Ratio, dtype: float64"
      ]
     },
     "metadata": {},
     "execution_count": 32
    }
   ],
   "source": [
    "PDI_DF[\"Sharpe Ratio\"].quantile([0.5])"
   ]
  },
  {
   "source": [
    "# #0 - 0.25 quantile\n",
    "# df_1 = PDI_DF[(PDI_DF[\"PDI_INDEX\"] <= 2.04)]\n",
    "# df_2 = PDI_DF[(PDI_DF[\"PDI_INDEX\"] > 2.04) ]\n",
    "# # #0.25 - 0.5 quantile\n",
    "# # df_2 = PDI_DF[(PDI_DF[\"PDI_INDEX\"] <= 1.647235)&(PDI_DF[\"PDI_INDEX\"] > 1.181088) & (PDI_DF[\"Sharpe Ratio\"] >= 0)]\n",
    "# # #0-.5 - 0.75 quantile\n",
    "# # df_3 = PDI_DF[(PDI_DF[\"PDI_INDEX\"] > 1.647235)&(PDI_DF[\"PDI_INDEX\"] <= 2.143900)& (PDI_DF[\"Sharpe Ratio\"] >= 0)]\n",
    "# # #0.75-1\n",
    "# # df_4 = PDI_DF[(PDI_DF[\"PDI_INDEX\"] > 2.143900) & (PDI_DF[\"Sharpe Ratio\"] >= 0)]"
   ],
   "cell_type": "code",
   "metadata": {},
   "execution_count": null,
   "outputs": []
  },
  {
   "cell_type": "code",
   "execution_count": 24,
   "metadata": {},
   "outputs": [],
   "source": [
    "qq_dict = {}\n",
    "for i in PDI_DF[\"# of Assets\"].unique():\n",
    "    qq_dict[i] = {}\n",
    "    dff_pdi = PDI_DF[PDI_DF[\"# of Assets\"] == str(i)]\n",
    "    q_mid = dff_pdi[\"PDI_INDEX\"].quantile(0.5)\n",
    "    df_1 = dff_pdi[dff_pdi[\"PDI_INDEX\"] < q_mid]\n",
    "    df_2 = dff_pdi[dff_pdi[\"PDI_INDEX\"] >= q_mid]\n",
    "    for frame,q in zip([df_1,df_2],[\"qq\",\"qqq\"]):\n",
    "        qq_dict[i][q] = {}\n",
    "        for ii in enumerate(frame[\"Assets\"]):\n",
    "            n_assets = len(ii[1])\n",
    "            portfolio_weights_ew = np.repeat(1/n_assets, n_assets)\n",
    "            port_weekly_return = weekly_return[ii[1]].mul(portfolio_weights_ew,axis=1).sum(axis=1)\n",
    "            qq_dict[i][str(q)][str(ii[0])] = port_weekly_return\n",
    "\n",
    "\n"
   ]
  },
  {
   "cell_type": "code",
   "execution_count": 78,
   "metadata": {},
   "outputs": [],
   "source": [
    "kk = pd.DataFrame(qq_dict[\"19\"][\"qqq\"])\n",
    "rr = pd.DataFrame(qq_dict[\"19\"][\"qq\"])\n",
    "hh = pd.merge(kk,rr, left_index=True, right_index=True, how = \"inner\", suffixes=(\"q2\", \"q1\"))\n",
    "hh[\"SPY\"] = weekly_return[\"SPY\"]\n",
    "hh = hh.cumsum(axis=0)"
   ]
  },
  {
   "cell_type": "code",
   "execution_count": 79,
   "metadata": {},
   "outputs": [
    {
     "output_type": "execute_result",
     "data": {
      "text/plain": [
       "                 0q2       1q2       2q2       3q2       4q2       5q2  \\\n",
       "Date                                                                     \n",
       "2015-01-14  0.007775 -0.006443 -0.004665  0.000477  0.001904 -0.002351   \n",
       "2015-01-21  0.019609  0.018157  0.009731  0.012781  0.018746  0.011477   \n",
       "2015-01-28  0.019422  0.013044  0.000676  0.009937  0.009879  0.008846   \n",
       "2015-02-04  0.029840  0.022598  0.021104  0.032842  0.017673  0.025161   \n",
       "2015-02-11  0.032241  0.021728  0.029591  0.043878  0.014953  0.035822   \n",
       "...              ...       ...       ...       ...       ...       ...   \n",
       "2020-12-02  0.700761  0.554838  0.614004  0.661659  0.401365  0.614587   \n",
       "2020-12-09  0.712979  0.571318  0.630498  0.687227  0.411983  0.632405   \n",
       "2020-12-16  0.726915  0.590932  0.640348  0.697796  0.422059  0.645983   \n",
       "2020-12-23  0.729250  0.594827  0.638831  0.706522  0.422860  0.651355   \n",
       "2020-12-30  0.737224  0.603877  0.648930  0.708770  0.440037  0.656860   \n",
       "\n",
       "                 6q2       7q2       8q2       9q2  ...     990q1     991q1  \\\n",
       "Date                                                ...                       \n",
       "2015-01-14 -0.002467  0.002573 -0.001553 -0.003189  ...  0.003182 -0.007167   \n",
       "2015-01-21  0.013109  0.014438  0.006667  0.020057  ...  0.024829  0.006671   \n",
       "2015-01-28  0.009099  0.010368  0.006307  0.010229  ...  0.012087 -0.006437   \n",
       "2015-02-04  0.027313  0.027370  0.025071  0.034355  ...  0.024448  0.010395   \n",
       "2015-02-11  0.026608  0.036631  0.028914  0.039104  ...  0.021024  0.020915   \n",
       "...              ...       ...       ...       ...  ...       ...       ...   \n",
       "2020-12-02  0.557392  0.659134  0.616216  0.620634  ...  0.820464  0.679828   \n",
       "2020-12-09  0.575009  0.674100  0.630944  0.637688  ...  0.828879  0.693728   \n",
       "2020-12-16  0.590214  0.690358  0.643238  0.653759  ...  0.842290  0.706456   \n",
       "2020-12-23  0.591210  0.701208  0.646116  0.652934  ...  0.850163  0.710325   \n",
       "2020-12-30  0.604864  0.704813  0.650499  0.665370  ...  0.862668  0.720585   \n",
       "\n",
       "               992q1     993q1     994q1     995q1     996q1     997q1  \\\n",
       "Date                                                                     \n",
       "2015-01-14 -0.004458 -0.000438 -0.001459 -0.003630  0.000753 -0.003448   \n",
       "2015-01-21  0.008422  0.014725  0.011357  0.015508  0.017013  0.002423   \n",
       "2015-01-28  0.007548  0.001856  0.007293  0.010139  0.006578 -0.005796   \n",
       "2015-02-04  0.023059  0.018182  0.023556  0.030310  0.023741  0.019626   \n",
       "2015-02-11  0.026820  0.025506  0.027275  0.030324  0.027915  0.032685   \n",
       "...              ...       ...       ...       ...       ...       ...   \n",
       "2020-12-02  0.602088  0.643798  0.526504  0.460735  0.617465  0.865595   \n",
       "2020-12-09  0.611798  0.653937  0.542460  0.469563  0.634005  0.889937   \n",
       "2020-12-16  0.621229  0.662681  0.550370  0.478575  0.644921  0.903803   \n",
       "2020-12-23  0.624282  0.661209  0.555937  0.485510  0.652579  0.923492   \n",
       "2020-12-30  0.632960  0.669494  0.559458  0.498796  0.656993  0.928032   \n",
       "\n",
       "               998q1       SPY  \n",
       "Date                            \n",
       "2015-01-14 -0.007850 -0.007167  \n",
       "2015-01-21  0.009033  0.003885  \n",
       "2015-01-28  0.002703 -0.010592  \n",
       "2015-02-04  0.029887  0.008994  \n",
       "2015-02-11  0.031113  0.023059  \n",
       "...              ...       ...  \n",
       "2020-12-02  0.567715  0.784790  \n",
       "2020-12-09  0.591209  0.784953  \n",
       "2020-12-16  0.603545  0.794003  \n",
       "2020-12-23  0.611326  0.791212  \n",
       "2020-12-30  0.614510  0.803237  \n",
       "\n",
       "[308 rows x 2000 columns]"
      ],
      "text/html": "<div>\n<style scoped>\n    .dataframe tbody tr th:only-of-type {\n        vertical-align: middle;\n    }\n\n    .dataframe tbody tr th {\n        vertical-align: top;\n    }\n\n    .dataframe thead th {\n        text-align: right;\n    }\n</style>\n<table border=\"1\" class=\"dataframe\">\n  <thead>\n    <tr style=\"text-align: right;\">\n      <th></th>\n      <th>0q2</th>\n      <th>1q2</th>\n      <th>2q2</th>\n      <th>3q2</th>\n      <th>4q2</th>\n      <th>5q2</th>\n      <th>6q2</th>\n      <th>7q2</th>\n      <th>8q2</th>\n      <th>9q2</th>\n      <th>...</th>\n      <th>990q1</th>\n      <th>991q1</th>\n      <th>992q1</th>\n      <th>993q1</th>\n      <th>994q1</th>\n      <th>995q1</th>\n      <th>996q1</th>\n      <th>997q1</th>\n      <th>998q1</th>\n      <th>SPY</th>\n    </tr>\n    <tr>\n      <th>Date</th>\n      <th></th>\n      <th></th>\n      <th></th>\n      <th></th>\n      <th></th>\n      <th></th>\n      <th></th>\n      <th></th>\n      <th></th>\n      <th></th>\n      <th></th>\n      <th></th>\n      <th></th>\n      <th></th>\n      <th></th>\n      <th></th>\n      <th></th>\n      <th></th>\n      <th></th>\n      <th></th>\n      <th></th>\n    </tr>\n  </thead>\n  <tbody>\n    <tr>\n      <th>2015-01-14</th>\n      <td>0.007775</td>\n      <td>-0.006443</td>\n      <td>-0.004665</td>\n      <td>0.000477</td>\n      <td>0.001904</td>\n      <td>-0.002351</td>\n      <td>-0.002467</td>\n      <td>0.002573</td>\n      <td>-0.001553</td>\n      <td>-0.003189</td>\n      <td>...</td>\n      <td>0.003182</td>\n      <td>-0.007167</td>\n      <td>-0.004458</td>\n      <td>-0.000438</td>\n      <td>-0.001459</td>\n      <td>-0.003630</td>\n      <td>0.000753</td>\n      <td>-0.003448</td>\n      <td>-0.007850</td>\n      <td>-0.007167</td>\n    </tr>\n    <tr>\n      <th>2015-01-21</th>\n      <td>0.019609</td>\n      <td>0.018157</td>\n      <td>0.009731</td>\n      <td>0.012781</td>\n      <td>0.018746</td>\n      <td>0.011477</td>\n      <td>0.013109</td>\n      <td>0.014438</td>\n      <td>0.006667</td>\n      <td>0.020057</td>\n      <td>...</td>\n      <td>0.024829</td>\n      <td>0.006671</td>\n      <td>0.008422</td>\n      <td>0.014725</td>\n      <td>0.011357</td>\n      <td>0.015508</td>\n      <td>0.017013</td>\n      <td>0.002423</td>\n      <td>0.009033</td>\n      <td>0.003885</td>\n    </tr>\n    <tr>\n      <th>2015-01-28</th>\n      <td>0.019422</td>\n      <td>0.013044</td>\n      <td>0.000676</td>\n      <td>0.009937</td>\n      <td>0.009879</td>\n      <td>0.008846</td>\n      <td>0.009099</td>\n      <td>0.010368</td>\n      <td>0.006307</td>\n      <td>0.010229</td>\n      <td>...</td>\n      <td>0.012087</td>\n      <td>-0.006437</td>\n      <td>0.007548</td>\n      <td>0.001856</td>\n      <td>0.007293</td>\n      <td>0.010139</td>\n      <td>0.006578</td>\n      <td>-0.005796</td>\n      <td>0.002703</td>\n      <td>-0.010592</td>\n    </tr>\n    <tr>\n      <th>2015-02-04</th>\n      <td>0.029840</td>\n      <td>0.022598</td>\n      <td>0.021104</td>\n      <td>0.032842</td>\n      <td>0.017673</td>\n      <td>0.025161</td>\n      <td>0.027313</td>\n      <td>0.027370</td>\n      <td>0.025071</td>\n      <td>0.034355</td>\n      <td>...</td>\n      <td>0.024448</td>\n      <td>0.010395</td>\n      <td>0.023059</td>\n      <td>0.018182</td>\n      <td>0.023556</td>\n      <td>0.030310</td>\n      <td>0.023741</td>\n      <td>0.019626</td>\n      <td>0.029887</td>\n      <td>0.008994</td>\n    </tr>\n    <tr>\n      <th>2015-02-11</th>\n      <td>0.032241</td>\n      <td>0.021728</td>\n      <td>0.029591</td>\n      <td>0.043878</td>\n      <td>0.014953</td>\n      <td>0.035822</td>\n      <td>0.026608</td>\n      <td>0.036631</td>\n      <td>0.028914</td>\n      <td>0.039104</td>\n      <td>...</td>\n      <td>0.021024</td>\n      <td>0.020915</td>\n      <td>0.026820</td>\n      <td>0.025506</td>\n      <td>0.027275</td>\n      <td>0.030324</td>\n      <td>0.027915</td>\n      <td>0.032685</td>\n      <td>0.031113</td>\n      <td>0.023059</td>\n    </tr>\n    <tr>\n      <th>...</th>\n      <td>...</td>\n      <td>...</td>\n      <td>...</td>\n      <td>...</td>\n      <td>...</td>\n      <td>...</td>\n      <td>...</td>\n      <td>...</td>\n      <td>...</td>\n      <td>...</td>\n      <td>...</td>\n      <td>...</td>\n      <td>...</td>\n      <td>...</td>\n      <td>...</td>\n      <td>...</td>\n      <td>...</td>\n      <td>...</td>\n      <td>...</td>\n      <td>...</td>\n      <td>...</td>\n    </tr>\n    <tr>\n      <th>2020-12-02</th>\n      <td>0.700761</td>\n      <td>0.554838</td>\n      <td>0.614004</td>\n      <td>0.661659</td>\n      <td>0.401365</td>\n      <td>0.614587</td>\n      <td>0.557392</td>\n      <td>0.659134</td>\n      <td>0.616216</td>\n      <td>0.620634</td>\n      <td>...</td>\n      <td>0.820464</td>\n      <td>0.679828</td>\n      <td>0.602088</td>\n      <td>0.643798</td>\n      <td>0.526504</td>\n      <td>0.460735</td>\n      <td>0.617465</td>\n      <td>0.865595</td>\n      <td>0.567715</td>\n      <td>0.784790</td>\n    </tr>\n    <tr>\n      <th>2020-12-09</th>\n      <td>0.712979</td>\n      <td>0.571318</td>\n      <td>0.630498</td>\n      <td>0.687227</td>\n      <td>0.411983</td>\n      <td>0.632405</td>\n      <td>0.575009</td>\n      <td>0.674100</td>\n      <td>0.630944</td>\n      <td>0.637688</td>\n      <td>...</td>\n      <td>0.828879</td>\n      <td>0.693728</td>\n      <td>0.611798</td>\n      <td>0.653937</td>\n      <td>0.542460</td>\n      <td>0.469563</td>\n      <td>0.634005</td>\n      <td>0.889937</td>\n      <td>0.591209</td>\n      <td>0.784953</td>\n    </tr>\n    <tr>\n      <th>2020-12-16</th>\n      <td>0.726915</td>\n      <td>0.590932</td>\n      <td>0.640348</td>\n      <td>0.697796</td>\n      <td>0.422059</td>\n      <td>0.645983</td>\n      <td>0.590214</td>\n      <td>0.690358</td>\n      <td>0.643238</td>\n      <td>0.653759</td>\n      <td>...</td>\n      <td>0.842290</td>\n      <td>0.706456</td>\n      <td>0.621229</td>\n      <td>0.662681</td>\n      <td>0.550370</td>\n      <td>0.478575</td>\n      <td>0.644921</td>\n      <td>0.903803</td>\n      <td>0.603545</td>\n      <td>0.794003</td>\n    </tr>\n    <tr>\n      <th>2020-12-23</th>\n      <td>0.729250</td>\n      <td>0.594827</td>\n      <td>0.638831</td>\n      <td>0.706522</td>\n      <td>0.422860</td>\n      <td>0.651355</td>\n      <td>0.591210</td>\n      <td>0.701208</td>\n      <td>0.646116</td>\n      <td>0.652934</td>\n      <td>...</td>\n      <td>0.850163</td>\n      <td>0.710325</td>\n      <td>0.624282</td>\n      <td>0.661209</td>\n      <td>0.555937</td>\n      <td>0.485510</td>\n      <td>0.652579</td>\n      <td>0.923492</td>\n      <td>0.611326</td>\n      <td>0.791212</td>\n    </tr>\n    <tr>\n      <th>2020-12-30</th>\n      <td>0.737224</td>\n      <td>0.603877</td>\n      <td>0.648930</td>\n      <td>0.708770</td>\n      <td>0.440037</td>\n      <td>0.656860</td>\n      <td>0.604864</td>\n      <td>0.704813</td>\n      <td>0.650499</td>\n      <td>0.665370</td>\n      <td>...</td>\n      <td>0.862668</td>\n      <td>0.720585</td>\n      <td>0.632960</td>\n      <td>0.669494</td>\n      <td>0.559458</td>\n      <td>0.498796</td>\n      <td>0.656993</td>\n      <td>0.928032</td>\n      <td>0.614510</td>\n      <td>0.803237</td>\n    </tr>\n  </tbody>\n</table>\n<p>308 rows × 2000 columns</p>\n</div>"
     },
     "metadata": {},
     "execution_count": 79
    }
   ],
   "source": [
    "hh"
   ]
  },
  {
   "cell_type": "code",
   "execution_count": 80,
   "metadata": {},
   "outputs": [],
   "source": [
    "fig = px.line(hh, x= hh.index, y=hh.columns)"
   ]
  },
  {
   "cell_type": "code",
   "execution_count": 81,
   "metadata": {},
   "outputs": [],
   "source": [
    "fig.show()"
   ]
  },
  {
   "cell_type": "code",
   "execution_count": null,
   "metadata": {},
   "outputs": [],
   "source": []
  },
  {
   "cell_type": "code",
   "execution_count": 184,
   "metadata": {},
   "outputs": [
    {
     "output_type": "execute_result",
     "data": {
      "text/plain": [
       "       PDI_INDEX # of Assets  \\\n",
       "4000    1.742603           5   \n",
       "4001    1.728121           5   \n",
       "4002    1.457414           5   \n",
       "4003    1.670686           5   \n",
       "4004    1.505472           5   \n",
       "...          ...         ...   \n",
       "29982   2.989923          17   \n",
       "29983   1.084684          17   \n",
       "29984   1.410259          17   \n",
       "29985   3.202143          17   \n",
       "29986   1.287205          17   \n",
       "\n",
       "                                                  Assets  Sharpe Ratio  \\\n",
       "4000                         [FYX, PRFZ, PIZ, TDIV, FXU]      0.525615   \n",
       "4001                         [FENY, VUG, ASHR, EWP, VTI]      0.333801   \n",
       "4002                        [EQAL, JKJ, VXUS, FXZ, HEZU]      0.442982   \n",
       "4003                        [SPXL, FDTS, ROBO, EWT, SIL]      0.664589   \n",
       "4004                        [DFE, SPYG, QLD, FTAG, MDYG]      0.622211   \n",
       "...                                                  ...           ...   \n",
       "29982  [EMLP, VDC, PSCU, RCD, EWUS, UDOW, SPUU, MOO, ...      0.555782   \n",
       "29983  [RYT, CHIX, SCZ, XAR, IVOG, HDV, FNDB, SDOW, R...      0.341905   \n",
       "29984  [RTH, IGF, EWU, QYLD, FAD, IHF, DVYA, IDHQ, DO...      0.295736   \n",
       "29985  [XRT, SCZ, BFOR, CIZ, IJJ, SLY, PIE, BRF, RYU,...      0.411725   \n",
       "29986  [ICLN, AMLP, FXN, DEM, BKF, EQAL, EMIF, SYG, I...      0.342557   \n",
       "\n",
       "       Annual Return  Annual STD  \n",
       "4000        0.095345    0.181397  \n",
       "4001        0.065499    0.196222  \n",
       "4002        0.088362    0.199472  \n",
       "4003        0.166872    0.251090  \n",
       "4004        0.134028    0.215407  \n",
       "...              ...         ...  \n",
       "29982       0.112383    0.202207  \n",
       "29983       0.050703    0.148296  \n",
       "29984       0.040002    0.135263  \n",
       "29985       0.079728    0.193643  \n",
       "29986       0.063833    0.186341  \n",
       "\n",
       "[5997 rows x 6 columns]"
      ],
      "text/html": "<div>\n<style scoped>\n    .dataframe tbody tr th:only-of-type {\n        vertical-align: middle;\n    }\n\n    .dataframe tbody tr th {\n        vertical-align: top;\n    }\n\n    .dataframe thead th {\n        text-align: right;\n    }\n</style>\n<table border=\"1\" class=\"dataframe\">\n  <thead>\n    <tr style=\"text-align: right;\">\n      <th></th>\n      <th>PDI_INDEX</th>\n      <th># of Assets</th>\n      <th>Assets</th>\n      <th>Sharpe Ratio</th>\n      <th>Annual Return</th>\n      <th>Annual STD</th>\n    </tr>\n  </thead>\n  <tbody>\n    <tr>\n      <th>4000</th>\n      <td>1.742603</td>\n      <td>5</td>\n      <td>[FYX, PRFZ, PIZ, TDIV, FXU]</td>\n      <td>0.525615</td>\n      <td>0.095345</td>\n      <td>0.181397</td>\n    </tr>\n    <tr>\n      <th>4001</th>\n      <td>1.728121</td>\n      <td>5</td>\n      <td>[FENY, VUG, ASHR, EWP, VTI]</td>\n      <td>0.333801</td>\n      <td>0.065499</td>\n      <td>0.196222</td>\n    </tr>\n    <tr>\n      <th>4002</th>\n      <td>1.457414</td>\n      <td>5</td>\n      <td>[EQAL, JKJ, VXUS, FXZ, HEZU]</td>\n      <td>0.442982</td>\n      <td>0.088362</td>\n      <td>0.199472</td>\n    </tr>\n    <tr>\n      <th>4003</th>\n      <td>1.670686</td>\n      <td>5</td>\n      <td>[SPXL, FDTS, ROBO, EWT, SIL]</td>\n      <td>0.664589</td>\n      <td>0.166872</td>\n      <td>0.251090</td>\n    </tr>\n    <tr>\n      <th>4004</th>\n      <td>1.505472</td>\n      <td>5</td>\n      <td>[DFE, SPYG, QLD, FTAG, MDYG]</td>\n      <td>0.622211</td>\n      <td>0.134028</td>\n      <td>0.215407</td>\n    </tr>\n    <tr>\n      <th>...</th>\n      <td>...</td>\n      <td>...</td>\n      <td>...</td>\n      <td>...</td>\n      <td>...</td>\n      <td>...</td>\n    </tr>\n    <tr>\n      <th>29982</th>\n      <td>2.989923</td>\n      <td>17</td>\n      <td>[EMLP, VDC, PSCU, RCD, EWUS, UDOW, SPUU, MOO, ...</td>\n      <td>0.555782</td>\n      <td>0.112383</td>\n      <td>0.202207</td>\n    </tr>\n    <tr>\n      <th>29983</th>\n      <td>1.084684</td>\n      <td>17</td>\n      <td>[RYT, CHIX, SCZ, XAR, IVOG, HDV, FNDB, SDOW, R...</td>\n      <td>0.341905</td>\n      <td>0.050703</td>\n      <td>0.148296</td>\n    </tr>\n    <tr>\n      <th>29984</th>\n      <td>1.410259</td>\n      <td>17</td>\n      <td>[RTH, IGF, EWU, QYLD, FAD, IHF, DVYA, IDHQ, DO...</td>\n      <td>0.295736</td>\n      <td>0.040002</td>\n      <td>0.135263</td>\n    </tr>\n    <tr>\n      <th>29985</th>\n      <td>3.202143</td>\n      <td>17</td>\n      <td>[XRT, SCZ, BFOR, CIZ, IJJ, SLY, PIE, BRF, RYU,...</td>\n      <td>0.411725</td>\n      <td>0.079728</td>\n      <td>0.193643</td>\n    </tr>\n    <tr>\n      <th>29986</th>\n      <td>1.287205</td>\n      <td>17</td>\n      <td>[ICLN, AMLP, FXN, DEM, BKF, EQAL, EMIF, SYG, I...</td>\n      <td>0.342557</td>\n      <td>0.063833</td>\n      <td>0.186341</td>\n    </tr>\n  </tbody>\n</table>\n<p>5997 rows × 6 columns</p>\n</div>"
     },
     "metadata": {},
     "execution_count": 184
    }
   ],
   "source": [
    "pdd = PDI_DF.copy()\n",
    "pdd = pdd[pdd[\"# of Assets\"].isin([\"5\",\"10\",\"17\"])]\n",
    "\n",
    "q_mid_5 = pdd[pdd[\"# of Assets\"] == \"5\"].quantile(0.8)\n",
    "q_mid_10 = pdd[pdd[\"# of Assets\"] == \"10\"].quantile(0.8)\n",
    "q_mid_17 = pdd[pdd[\"# of Assets\"] == \"17\"].quantile(0.8)\n",
    "\n",
    "\n",
    "pdd"
   ]
  },
  {
   "cell_type": "code",
   "execution_count": 183,
   "metadata": {},
   "outputs": [],
   "source": [
    "def upper_lower(df):\n",
    "    if df[\"# of Assets\"] == \"5\":\n",
    "        if df[\"PDI_INDEX\"] < q_mid_5:\n",
    "            return \"Lower_5\"\n",
    "        else:\n",
    "            return \"Upper_5\"\n",
    "    elif df[\"# of Assets\"] == \"10\":\n",
    "        if float(df[\"PDI_INDEX\"]) < q_mid_10:\n",
    "            return  \"Lower_10\"\n",
    "        else:\n",
    "            return \"Upper_10\"\n",
    "    elif df[\"# of Assets\"] == \"17\":\n",
    "        if df[\"PDI_INDEX\"] < q_mid_17:\n",
    "            return \"Lower_17\"\n",
    "        else:\n",
    "            return  \"Upper_17\" "
   ]
  },
  {
   "cell_type": "code",
   "execution_count": 182,
   "metadata": {},
   "outputs": [
    {
     "output_type": "error",
     "ename": "KeyError",
     "evalue": "'# of Assets'",
     "traceback": [
      "\u001b[0;31m---------------------------------------------------------------------------\u001b[0m",
      "\u001b[0;31mKeyError\u001b[0m                                  Traceback (most recent call last)",
      "\u001b[0;32m/Library/Frameworks/Python.framework/Versions/3.9/lib/python3.9/site-packages/pandas/core/indexes/base.py\u001b[0m in \u001b[0;36mget_loc\u001b[0;34m(self, key, method, tolerance)\u001b[0m\n\u001b[1;32m   3079\u001b[0m             \u001b[0;32mtry\u001b[0m\u001b[0;34m:\u001b[0m\u001b[0;34m\u001b[0m\u001b[0;34m\u001b[0m\u001b[0m\n\u001b[0;32m-> 3080\u001b[0;31m                 \u001b[0;32mreturn\u001b[0m \u001b[0mself\u001b[0m\u001b[0;34m.\u001b[0m\u001b[0m_engine\u001b[0m\u001b[0;34m.\u001b[0m\u001b[0mget_loc\u001b[0m\u001b[0;34m(\u001b[0m\u001b[0mcasted_key\u001b[0m\u001b[0;34m)\u001b[0m\u001b[0;34m\u001b[0m\u001b[0;34m\u001b[0m\u001b[0m\n\u001b[0m\u001b[1;32m   3081\u001b[0m             \u001b[0;32mexcept\u001b[0m \u001b[0mKeyError\u001b[0m \u001b[0;32mas\u001b[0m \u001b[0merr\u001b[0m\u001b[0;34m:\u001b[0m\u001b[0;34m\u001b[0m\u001b[0;34m\u001b[0m\u001b[0m\n",
      "\u001b[0;32mpandas/_libs/index.pyx\u001b[0m in \u001b[0;36mpandas._libs.index.IndexEngine.get_loc\u001b[0;34m()\u001b[0m\n",
      "\u001b[0;32mpandas/_libs/index.pyx\u001b[0m in \u001b[0;36mpandas._libs.index.IndexEngine.get_loc\u001b[0;34m()\u001b[0m\n",
      "\u001b[0;32mpandas/_libs/index_class_helper.pxi\u001b[0m in \u001b[0;36mpandas._libs.index.Int64Engine._check_type\u001b[0;34m()\u001b[0m\n",
      "\u001b[0;31mKeyError\u001b[0m: '# of Assets'",
      "\nThe above exception was the direct cause of the following exception:\n",
      "\u001b[0;31mKeyError\u001b[0m                                  Traceback (most recent call last)",
      "\u001b[0;32m<ipython-input-182-f51a6a86ccd0>\u001b[0m in \u001b[0;36m<module>\u001b[0;34m\u001b[0m\n\u001b[0;32m----> 1\u001b[0;31m \u001b[0mpdd\u001b[0m\u001b[0;34m[\u001b[0m\u001b[0;34m\"QQ\"\u001b[0m\u001b[0;34m]\u001b[0m \u001b[0;34m=\u001b[0m \u001b[0mpdd\u001b[0m\u001b[0;34m.\u001b[0m\u001b[0mapply\u001b[0m\u001b[0;34m(\u001b[0m\u001b[0mupper_lower\u001b[0m\u001b[0;34m)\u001b[0m\u001b[0;34m\u001b[0m\u001b[0;34m\u001b[0m\u001b[0m\n\u001b[0m",
      "\u001b[0;32m/Library/Frameworks/Python.framework/Versions/3.9/lib/python3.9/site-packages/pandas/core/frame.py\u001b[0m in \u001b[0;36mapply\u001b[0;34m(self, func, axis, raw, result_type, args, **kwds)\u001b[0m\n\u001b[1;32m   7763\u001b[0m             \u001b[0mkwds\u001b[0m\u001b[0;34m=\u001b[0m\u001b[0mkwds\u001b[0m\u001b[0;34m,\u001b[0m\u001b[0;34m\u001b[0m\u001b[0;34m\u001b[0m\u001b[0m\n\u001b[1;32m   7764\u001b[0m         )\n\u001b[0;32m-> 7765\u001b[0;31m         \u001b[0;32mreturn\u001b[0m \u001b[0mop\u001b[0m\u001b[0;34m.\u001b[0m\u001b[0mget_result\u001b[0m\u001b[0;34m(\u001b[0m\u001b[0;34m)\u001b[0m\u001b[0;34m\u001b[0m\u001b[0;34m\u001b[0m\u001b[0m\n\u001b[0m\u001b[1;32m   7766\u001b[0m \u001b[0;34m\u001b[0m\u001b[0m\n\u001b[1;32m   7767\u001b[0m     \u001b[0;32mdef\u001b[0m \u001b[0mapplymap\u001b[0m\u001b[0;34m(\u001b[0m\u001b[0mself\u001b[0m\u001b[0;34m,\u001b[0m \u001b[0mfunc\u001b[0m\u001b[0;34m,\u001b[0m \u001b[0mna_action\u001b[0m\u001b[0;34m:\u001b[0m \u001b[0mOptional\u001b[0m\u001b[0;34m[\u001b[0m\u001b[0mstr\u001b[0m\u001b[0;34m]\u001b[0m \u001b[0;34m=\u001b[0m \u001b[0;32mNone\u001b[0m\u001b[0;34m)\u001b[0m \u001b[0;34m->\u001b[0m \u001b[0mDataFrame\u001b[0m\u001b[0;34m:\u001b[0m\u001b[0;34m\u001b[0m\u001b[0;34m\u001b[0m\u001b[0m\n",
      "\u001b[0;32m/Library/Frameworks/Python.framework/Versions/3.9/lib/python3.9/site-packages/pandas/core/apply.py\u001b[0m in \u001b[0;36mget_result\u001b[0;34m(self)\u001b[0m\n\u001b[1;32m    183\u001b[0m             \u001b[0;32mreturn\u001b[0m \u001b[0mself\u001b[0m\u001b[0;34m.\u001b[0m\u001b[0mapply_raw\u001b[0m\u001b[0;34m(\u001b[0m\u001b[0;34m)\u001b[0m\u001b[0;34m\u001b[0m\u001b[0;34m\u001b[0m\u001b[0m\n\u001b[1;32m    184\u001b[0m \u001b[0;34m\u001b[0m\u001b[0m\n\u001b[0;32m--> 185\u001b[0;31m         \u001b[0;32mreturn\u001b[0m \u001b[0mself\u001b[0m\u001b[0;34m.\u001b[0m\u001b[0mapply_standard\u001b[0m\u001b[0;34m(\u001b[0m\u001b[0;34m)\u001b[0m\u001b[0;34m\u001b[0m\u001b[0;34m\u001b[0m\u001b[0m\n\u001b[0m\u001b[1;32m    186\u001b[0m \u001b[0;34m\u001b[0m\u001b[0m\n\u001b[1;32m    187\u001b[0m     \u001b[0;32mdef\u001b[0m \u001b[0mapply_empty_result\u001b[0m\u001b[0;34m(\u001b[0m\u001b[0mself\u001b[0m\u001b[0;34m)\u001b[0m\u001b[0;34m:\u001b[0m\u001b[0;34m\u001b[0m\u001b[0;34m\u001b[0m\u001b[0m\n",
      "\u001b[0;32m/Library/Frameworks/Python.framework/Versions/3.9/lib/python3.9/site-packages/pandas/core/apply.py\u001b[0m in \u001b[0;36mapply_standard\u001b[0;34m(self)\u001b[0m\n\u001b[1;32m    274\u001b[0m \u001b[0;34m\u001b[0m\u001b[0m\n\u001b[1;32m    275\u001b[0m     \u001b[0;32mdef\u001b[0m \u001b[0mapply_standard\u001b[0m\u001b[0;34m(\u001b[0m\u001b[0mself\u001b[0m\u001b[0;34m)\u001b[0m\u001b[0;34m:\u001b[0m\u001b[0;34m\u001b[0m\u001b[0;34m\u001b[0m\u001b[0m\n\u001b[0;32m--> 276\u001b[0;31m         \u001b[0mresults\u001b[0m\u001b[0;34m,\u001b[0m \u001b[0mres_index\u001b[0m \u001b[0;34m=\u001b[0m \u001b[0mself\u001b[0m\u001b[0;34m.\u001b[0m\u001b[0mapply_series_generator\u001b[0m\u001b[0;34m(\u001b[0m\u001b[0;34m)\u001b[0m\u001b[0;34m\u001b[0m\u001b[0;34m\u001b[0m\u001b[0m\n\u001b[0m\u001b[1;32m    277\u001b[0m \u001b[0;34m\u001b[0m\u001b[0m\n\u001b[1;32m    278\u001b[0m         \u001b[0;31m# wrap results\u001b[0m\u001b[0;34m\u001b[0m\u001b[0;34m\u001b[0m\u001b[0;34m\u001b[0m\u001b[0m\n",
      "\u001b[0;32m/Library/Frameworks/Python.framework/Versions/3.9/lib/python3.9/site-packages/pandas/core/apply.py\u001b[0m in \u001b[0;36mapply_series_generator\u001b[0;34m(self)\u001b[0m\n\u001b[1;32m    288\u001b[0m             \u001b[0;32mfor\u001b[0m \u001b[0mi\u001b[0m\u001b[0;34m,\u001b[0m \u001b[0mv\u001b[0m \u001b[0;32min\u001b[0m \u001b[0menumerate\u001b[0m\u001b[0;34m(\u001b[0m\u001b[0mseries_gen\u001b[0m\u001b[0;34m)\u001b[0m\u001b[0;34m:\u001b[0m\u001b[0;34m\u001b[0m\u001b[0;34m\u001b[0m\u001b[0m\n\u001b[1;32m    289\u001b[0m                 \u001b[0;31m# ignore SettingWithCopy here in case the user mutates\u001b[0m\u001b[0;34m\u001b[0m\u001b[0;34m\u001b[0m\u001b[0;34m\u001b[0m\u001b[0m\n\u001b[0;32m--> 290\u001b[0;31m                 \u001b[0mresults\u001b[0m\u001b[0;34m[\u001b[0m\u001b[0mi\u001b[0m\u001b[0;34m]\u001b[0m \u001b[0;34m=\u001b[0m \u001b[0mself\u001b[0m\u001b[0;34m.\u001b[0m\u001b[0mf\u001b[0m\u001b[0;34m(\u001b[0m\u001b[0mv\u001b[0m\u001b[0;34m)\u001b[0m\u001b[0;34m\u001b[0m\u001b[0;34m\u001b[0m\u001b[0m\n\u001b[0m\u001b[1;32m    291\u001b[0m                 \u001b[0;32mif\u001b[0m \u001b[0misinstance\u001b[0m\u001b[0;34m(\u001b[0m\u001b[0mresults\u001b[0m\u001b[0;34m[\u001b[0m\u001b[0mi\u001b[0m\u001b[0;34m]\u001b[0m\u001b[0;34m,\u001b[0m \u001b[0mABCSeries\u001b[0m\u001b[0;34m)\u001b[0m\u001b[0;34m:\u001b[0m\u001b[0;34m\u001b[0m\u001b[0;34m\u001b[0m\u001b[0m\n\u001b[1;32m    292\u001b[0m                     \u001b[0;31m# If we have a view on v, we need to make a copy because\u001b[0m\u001b[0;34m\u001b[0m\u001b[0;34m\u001b[0m\u001b[0;34m\u001b[0m\u001b[0m\n",
      "\u001b[0;32m<ipython-input-181-7f23b3d423c0>\u001b[0m in \u001b[0;36mupper_lower\u001b[0;34m(df)\u001b[0m\n\u001b[1;32m      7\u001b[0m \u001b[0;34m\u001b[0m\u001b[0m\n\u001b[1;32m      8\u001b[0m \u001b[0;32mdef\u001b[0m \u001b[0mupper_lower\u001b[0m\u001b[0;34m(\u001b[0m\u001b[0mdf\u001b[0m\u001b[0;34m)\u001b[0m\u001b[0;34m:\u001b[0m\u001b[0;34m\u001b[0m\u001b[0;34m\u001b[0m\u001b[0m\n\u001b[0;32m----> 9\u001b[0;31m     \u001b[0;32mif\u001b[0m \u001b[0mdf\u001b[0m\u001b[0;34m[\u001b[0m\u001b[0;34m\"# of Assets\"\u001b[0m\u001b[0;34m]\u001b[0m \u001b[0;34m==\u001b[0m \u001b[0;34m\"5\"\u001b[0m\u001b[0;34m:\u001b[0m\u001b[0;34m\u001b[0m\u001b[0;34m\u001b[0m\u001b[0m\n\u001b[0m\u001b[1;32m     10\u001b[0m         \u001b[0;32mif\u001b[0m \u001b[0mdf\u001b[0m\u001b[0;34m[\u001b[0m\u001b[0;34m\"PDI_INDEX\"\u001b[0m\u001b[0;34m]\u001b[0m \u001b[0;34m<\u001b[0m \u001b[0mq_mid_5\u001b[0m\u001b[0;34m:\u001b[0m\u001b[0;34m\u001b[0m\u001b[0;34m\u001b[0m\u001b[0m\n\u001b[1;32m     11\u001b[0m             \u001b[0;32mreturn\u001b[0m \u001b[0;34m\"Lower_5\"\u001b[0m\u001b[0;34m\u001b[0m\u001b[0;34m\u001b[0m\u001b[0m\n",
      "\u001b[0;32m/Library/Frameworks/Python.framework/Versions/3.9/lib/python3.9/site-packages/pandas/core/series.py\u001b[0m in \u001b[0;36m__getitem__\u001b[0;34m(self, key)\u001b[0m\n\u001b[1;32m    849\u001b[0m \u001b[0;34m\u001b[0m\u001b[0m\n\u001b[1;32m    850\u001b[0m         \u001b[0;32melif\u001b[0m \u001b[0mkey_is_scalar\u001b[0m\u001b[0;34m:\u001b[0m\u001b[0;34m\u001b[0m\u001b[0;34m\u001b[0m\u001b[0m\n\u001b[0;32m--> 851\u001b[0;31m             \u001b[0;32mreturn\u001b[0m \u001b[0mself\u001b[0m\u001b[0;34m.\u001b[0m\u001b[0m_get_value\u001b[0m\u001b[0;34m(\u001b[0m\u001b[0mkey\u001b[0m\u001b[0;34m)\u001b[0m\u001b[0;34m\u001b[0m\u001b[0;34m\u001b[0m\u001b[0m\n\u001b[0m\u001b[1;32m    852\u001b[0m \u001b[0;34m\u001b[0m\u001b[0m\n\u001b[1;32m    853\u001b[0m         \u001b[0;32mif\u001b[0m \u001b[0mis_hashable\u001b[0m\u001b[0;34m(\u001b[0m\u001b[0mkey\u001b[0m\u001b[0;34m)\u001b[0m\u001b[0;34m:\u001b[0m\u001b[0;34m\u001b[0m\u001b[0;34m\u001b[0m\u001b[0m\n",
      "\u001b[0;32m/Library/Frameworks/Python.framework/Versions/3.9/lib/python3.9/site-packages/pandas/core/series.py\u001b[0m in \u001b[0;36m_get_value\u001b[0;34m(self, label, takeable)\u001b[0m\n\u001b[1;32m    957\u001b[0m \u001b[0;34m\u001b[0m\u001b[0m\n\u001b[1;32m    958\u001b[0m         \u001b[0;31m# Similar to Index.get_value, but we do not fall back to positional\u001b[0m\u001b[0;34m\u001b[0m\u001b[0;34m\u001b[0m\u001b[0;34m\u001b[0m\u001b[0m\n\u001b[0;32m--> 959\u001b[0;31m         \u001b[0mloc\u001b[0m \u001b[0;34m=\u001b[0m \u001b[0mself\u001b[0m\u001b[0;34m.\u001b[0m\u001b[0mindex\u001b[0m\u001b[0;34m.\u001b[0m\u001b[0mget_loc\u001b[0m\u001b[0;34m(\u001b[0m\u001b[0mlabel\u001b[0m\u001b[0;34m)\u001b[0m\u001b[0;34m\u001b[0m\u001b[0;34m\u001b[0m\u001b[0m\n\u001b[0m\u001b[1;32m    960\u001b[0m         \u001b[0;32mreturn\u001b[0m \u001b[0mself\u001b[0m\u001b[0;34m.\u001b[0m\u001b[0mindex\u001b[0m\u001b[0;34m.\u001b[0m\u001b[0m_get_values_for_loc\u001b[0m\u001b[0;34m(\u001b[0m\u001b[0mself\u001b[0m\u001b[0;34m,\u001b[0m \u001b[0mloc\u001b[0m\u001b[0;34m,\u001b[0m \u001b[0mlabel\u001b[0m\u001b[0;34m)\u001b[0m\u001b[0;34m\u001b[0m\u001b[0;34m\u001b[0m\u001b[0m\n\u001b[1;32m    961\u001b[0m \u001b[0;34m\u001b[0m\u001b[0m\n",
      "\u001b[0;32m/Library/Frameworks/Python.framework/Versions/3.9/lib/python3.9/site-packages/pandas/core/indexes/base.py\u001b[0m in \u001b[0;36mget_loc\u001b[0;34m(self, key, method, tolerance)\u001b[0m\n\u001b[1;32m   3080\u001b[0m                 \u001b[0;32mreturn\u001b[0m \u001b[0mself\u001b[0m\u001b[0;34m.\u001b[0m\u001b[0m_engine\u001b[0m\u001b[0;34m.\u001b[0m\u001b[0mget_loc\u001b[0m\u001b[0;34m(\u001b[0m\u001b[0mcasted_key\u001b[0m\u001b[0;34m)\u001b[0m\u001b[0;34m\u001b[0m\u001b[0;34m\u001b[0m\u001b[0m\n\u001b[1;32m   3081\u001b[0m             \u001b[0;32mexcept\u001b[0m \u001b[0mKeyError\u001b[0m \u001b[0;32mas\u001b[0m \u001b[0merr\u001b[0m\u001b[0;34m:\u001b[0m\u001b[0;34m\u001b[0m\u001b[0;34m\u001b[0m\u001b[0m\n\u001b[0;32m-> 3082\u001b[0;31m                 \u001b[0;32mraise\u001b[0m \u001b[0mKeyError\u001b[0m\u001b[0;34m(\u001b[0m\u001b[0mkey\u001b[0m\u001b[0;34m)\u001b[0m \u001b[0;32mfrom\u001b[0m \u001b[0merr\u001b[0m\u001b[0;34m\u001b[0m\u001b[0;34m\u001b[0m\u001b[0m\n\u001b[0m\u001b[1;32m   3083\u001b[0m \u001b[0;34m\u001b[0m\u001b[0m\n\u001b[1;32m   3084\u001b[0m         \u001b[0;32mif\u001b[0m \u001b[0mtolerance\u001b[0m \u001b[0;32mis\u001b[0m \u001b[0;32mnot\u001b[0m \u001b[0;32mNone\u001b[0m\u001b[0;34m:\u001b[0m\u001b[0;34m\u001b[0m\u001b[0;34m\u001b[0m\u001b[0m\n",
      "\u001b[0;31mKeyError\u001b[0m: '# of Assets'"
     ]
    }
   ],
   "source": [
    "pdd[\"QQ\"] = pdd.apply(upper_lower)"
   ]
  },
  {
   "cell_type": "code",
   "execution_count": 145,
   "metadata": {},
   "outputs": [
    {
     "output_type": "execute_result",
     "data": {
      "text/plain": [
       "       PDI_INDEX # of Assets  \\\n",
       "4000    1.742603           5   \n",
       "4001    1.728121           5   \n",
       "4002    1.457414           5   \n",
       "4003    1.670686           5   \n",
       "4004    1.505472           5   \n",
       "...          ...         ...   \n",
       "29981   1.727494          17   \n",
       "29982   2.989923          17   \n",
       "29983   1.084684          17   \n",
       "29984   1.410259          17   \n",
       "29986   1.287205          17   \n",
       "\n",
       "                                                  Assets  Sharpe Ratio  \\\n",
       "4000                         [FYX, PRFZ, PIZ, TDIV, FXU]      0.525615   \n",
       "4001                         [FENY, VUG, ASHR, EWP, VTI]      0.333801   \n",
       "4002                        [EQAL, JKJ, VXUS, FXZ, HEZU]      0.442982   \n",
       "4003                        [SPXL, FDTS, ROBO, EWT, SIL]      0.664589   \n",
       "4004                        [DFE, SPYG, QLD, FTAG, MDYG]      0.622211   \n",
       "...                                                  ...           ...   \n",
       "29981  [ARKK, FUTY, FILL, WBIG, ENZL, DXJS, REMX, EFA...      0.375174   \n",
       "29982  [EMLP, VDC, PSCU, RCD, EWUS, UDOW, SPUU, MOO, ...      0.555782   \n",
       "29983  [RYT, CHIX, SCZ, XAR, IVOG, HDV, FNDB, SDOW, R...      0.341905   \n",
       "29984  [RTH, IGF, EWU, QYLD, FAD, IHF, DVYA, IDHQ, DO...      0.295736   \n",
       "29986  [ICLN, AMLP, FXN, DEM, BKF, EQAL, EMIF, SYG, I...      0.342557   \n",
       "\n",
       "       Annual Return  Annual STD           q  \n",
       "4000        0.095345    0.181397   Low_div-5  \n",
       "4001        0.065499    0.196222   Low_div-5  \n",
       "4002        0.088362    0.199472   Low_div-5  \n",
       "4003        0.166872    0.251090   Low_div-5  \n",
       "4004        0.134028    0.215407   Low_div-5  \n",
       "...              ...         ...         ...  \n",
       "29981       0.049709    0.132495  Low_div-17  \n",
       "29982       0.112383    0.202207  Low_div-17  \n",
       "29983       0.050703    0.148296  Low_div-17  \n",
       "29984       0.040002    0.135263  Low_div-17  \n",
       "29986       0.063833    0.186341  Low_div-17  \n",
       "\n",
       "[4862 rows x 7 columns]"
      ],
      "text/html": "<div>\n<style scoped>\n    .dataframe tbody tr th:only-of-type {\n        vertical-align: middle;\n    }\n\n    .dataframe tbody tr th {\n        vertical-align: top;\n    }\n\n    .dataframe thead th {\n        text-align: right;\n    }\n</style>\n<table border=\"1\" class=\"dataframe\">\n  <thead>\n    <tr style=\"text-align: right;\">\n      <th></th>\n      <th>PDI_INDEX</th>\n      <th># of Assets</th>\n      <th>Assets</th>\n      <th>Sharpe Ratio</th>\n      <th>Annual Return</th>\n      <th>Annual STD</th>\n      <th>q</th>\n    </tr>\n  </thead>\n  <tbody>\n    <tr>\n      <th>4000</th>\n      <td>1.742603</td>\n      <td>5</td>\n      <td>[FYX, PRFZ, PIZ, TDIV, FXU]</td>\n      <td>0.525615</td>\n      <td>0.095345</td>\n      <td>0.181397</td>\n      <td>Low_div-5</td>\n    </tr>\n    <tr>\n      <th>4001</th>\n      <td>1.728121</td>\n      <td>5</td>\n      <td>[FENY, VUG, ASHR, EWP, VTI]</td>\n      <td>0.333801</td>\n      <td>0.065499</td>\n      <td>0.196222</td>\n      <td>Low_div-5</td>\n    </tr>\n    <tr>\n      <th>4002</th>\n      <td>1.457414</td>\n      <td>5</td>\n      <td>[EQAL, JKJ, VXUS, FXZ, HEZU]</td>\n      <td>0.442982</td>\n      <td>0.088362</td>\n      <td>0.199472</td>\n      <td>Low_div-5</td>\n    </tr>\n    <tr>\n      <th>4003</th>\n      <td>1.670686</td>\n      <td>5</td>\n      <td>[SPXL, FDTS, ROBO, EWT, SIL]</td>\n      <td>0.664589</td>\n      <td>0.166872</td>\n      <td>0.251090</td>\n      <td>Low_div-5</td>\n    </tr>\n    <tr>\n      <th>4004</th>\n      <td>1.505472</td>\n      <td>5</td>\n      <td>[DFE, SPYG, QLD, FTAG, MDYG]</td>\n      <td>0.622211</td>\n      <td>0.134028</td>\n      <td>0.215407</td>\n      <td>Low_div-5</td>\n    </tr>\n    <tr>\n      <th>...</th>\n      <td>...</td>\n      <td>...</td>\n      <td>...</td>\n      <td>...</td>\n      <td>...</td>\n      <td>...</td>\n      <td>...</td>\n    </tr>\n    <tr>\n      <th>29981</th>\n      <td>1.727494</td>\n      <td>17</td>\n      <td>[ARKK, FUTY, FILL, WBIG, ENZL, DXJS, REMX, EFA...</td>\n      <td>0.375174</td>\n      <td>0.049709</td>\n      <td>0.132495</td>\n      <td>Low_div-17</td>\n    </tr>\n    <tr>\n      <th>29982</th>\n      <td>2.989923</td>\n      <td>17</td>\n      <td>[EMLP, VDC, PSCU, RCD, EWUS, UDOW, SPUU, MOO, ...</td>\n      <td>0.555782</td>\n      <td>0.112383</td>\n      <td>0.202207</td>\n      <td>Low_div-17</td>\n    </tr>\n    <tr>\n      <th>29983</th>\n      <td>1.084684</td>\n      <td>17</td>\n      <td>[RYT, CHIX, SCZ, XAR, IVOG, HDV, FNDB, SDOW, R...</td>\n      <td>0.341905</td>\n      <td>0.050703</td>\n      <td>0.148296</td>\n      <td>Low_div-17</td>\n    </tr>\n    <tr>\n      <th>29984</th>\n      <td>1.410259</td>\n      <td>17</td>\n      <td>[RTH, IGF, EWU, QYLD, FAD, IHF, DVYA, IDHQ, DO...</td>\n      <td>0.295736</td>\n      <td>0.040002</td>\n      <td>0.135263</td>\n      <td>Low_div-17</td>\n    </tr>\n    <tr>\n      <th>29986</th>\n      <td>1.287205</td>\n      <td>17</td>\n      <td>[ICLN, AMLP, FXN, DEM, BKF, EQAL, EMIF, SYG, I...</td>\n      <td>0.342557</td>\n      <td>0.063833</td>\n      <td>0.186341</td>\n      <td>Low_div-17</td>\n    </tr>\n  </tbody>\n</table>\n<p>4862 rows × 7 columns</p>\n</div>"
     },
     "metadata": {},
     "execution_count": 145
    }
   ],
   "source": [
    "low_q = df_1\n",
    "low_q[\"q\"] = \"Low_div\"\n",
    "low_q[\"q\"] = low_q[\"q\"]+\"-\"+low_q[\"# of Assets\"]\n",
    "low_q"
   ]
  },
  {
   "cell_type": "code",
   "execution_count": 138,
   "metadata": {
    "tags": []
   },
   "outputs": [],
   "source": [
    "# for i in low_q[\"Assets\"][1:]:\n",
    "#     print(fundamental_df.loc[i,:][\"Category\"].value_counts())"
   ]
  },
  {
   "cell_type": "code",
   "execution_count": 146,
   "metadata": {},
   "outputs": [
    {
     "output_type": "execute_result",
     "data": {
      "text/plain": [
       "       PDI_INDEX # of Assets  \\\n",
       "4966    3.117902           5   \n",
       "5300    3.110198           5   \n",
       "13995   3.684217          10   \n",
       "13996   3.570942          10   \n",
       "14000   3.962951          10   \n",
       "...          ...         ...   \n",
       "29969   3.124974          17   \n",
       "29971   3.080922          17   \n",
       "29973   3.268873          17   \n",
       "29977   4.055728          17   \n",
       "29985   3.202143          17   \n",
       "\n",
       "                                                  Assets  Sharpe Ratio  \\\n",
       "4966                         [ECH, EPU, GREK, ZJPN, EVX]      0.249006   \n",
       "5300                        [SOXL, EPOL, IXP, FDL, EWUS]      0.673711   \n",
       "13995  [EDEN, EWI, TUR, LTL, DTH, EMQQ, VV, XES, CURE...      0.308041   \n",
       "13996  [BKF, VEGI, SDIV, FLN, ROBO, IYE, PXF, DBEZ, B...      0.307772   \n",
       "14000  [QAT, PID, WBIL, PGAL, SPDW, KWEB, XPH, IDU, V...      0.418949   \n",
       "...                                                  ...           ...   \n",
       "29969  [KRE, GMF, CHIC, RXI, ADRE, IWO, IWF, DGRW, XL...      0.554759   \n",
       "29971  [URTH, EPP, DBEZ, SOXX, QQEW, FILL, EQL, FDIS,...      0.550808   \n",
       "29973  [EWD, RPG, IGV, CHII, WBIG, FNI, PSCD, KWEB, M...      0.728478   \n",
       "29977  [SKYY, FGM, SCHC, BICK, IJK, FYX, OIH, EFG, IW...      0.419319   \n",
       "29985  [XRT, SCZ, BFOR, CIZ, IJJ, SLY, PIE, BRF, RYU,...      0.411725   \n",
       "\n",
       "       Annual Return  Annual STD            q  \n",
       "4966        0.050331    0.202129   High_div-5  \n",
       "5300        0.190236    0.282370   High_div-5  \n",
       "13995       0.072221    0.234453  High_div-10  \n",
       "13996       0.065578    0.213074  High_div-10  \n",
       "14000       0.064205    0.153253  High_div-10  \n",
       "...              ...         ...          ...  \n",
       "29969       0.101371    0.182730  High_div-17  \n",
       "29971       0.104083    0.188964  High_div-17  \n",
       "29973       0.126320    0.173402  High_div-17  \n",
       "29977       0.084942    0.202571  High_div-17  \n",
       "29985       0.079728    0.193643  High_div-17  \n",
       "\n",
       "[1135 rows x 7 columns]"
      ],
      "text/html": "<div>\n<style scoped>\n    .dataframe tbody tr th:only-of-type {\n        vertical-align: middle;\n    }\n\n    .dataframe tbody tr th {\n        vertical-align: top;\n    }\n\n    .dataframe thead th {\n        text-align: right;\n    }\n</style>\n<table border=\"1\" class=\"dataframe\">\n  <thead>\n    <tr style=\"text-align: right;\">\n      <th></th>\n      <th>PDI_INDEX</th>\n      <th># of Assets</th>\n      <th>Assets</th>\n      <th>Sharpe Ratio</th>\n      <th>Annual Return</th>\n      <th>Annual STD</th>\n      <th>q</th>\n    </tr>\n  </thead>\n  <tbody>\n    <tr>\n      <th>4966</th>\n      <td>3.117902</td>\n      <td>5</td>\n      <td>[ECH, EPU, GREK, ZJPN, EVX]</td>\n      <td>0.249006</td>\n      <td>0.050331</td>\n      <td>0.202129</td>\n      <td>High_div-5</td>\n    </tr>\n    <tr>\n      <th>5300</th>\n      <td>3.110198</td>\n      <td>5</td>\n      <td>[SOXL, EPOL, IXP, FDL, EWUS]</td>\n      <td>0.673711</td>\n      <td>0.190236</td>\n      <td>0.282370</td>\n      <td>High_div-5</td>\n    </tr>\n    <tr>\n      <th>13995</th>\n      <td>3.684217</td>\n      <td>10</td>\n      <td>[EDEN, EWI, TUR, LTL, DTH, EMQQ, VV, XES, CURE...</td>\n      <td>0.308041</td>\n      <td>0.072221</td>\n      <td>0.234453</td>\n      <td>High_div-10</td>\n    </tr>\n    <tr>\n      <th>13996</th>\n      <td>3.570942</td>\n      <td>10</td>\n      <td>[BKF, VEGI, SDIV, FLN, ROBO, IYE, PXF, DBEZ, B...</td>\n      <td>0.307772</td>\n      <td>0.065578</td>\n      <td>0.213074</td>\n      <td>High_div-10</td>\n    </tr>\n    <tr>\n      <th>14000</th>\n      <td>3.962951</td>\n      <td>10</td>\n      <td>[QAT, PID, WBIL, PGAL, SPDW, KWEB, XPH, IDU, V...</td>\n      <td>0.418949</td>\n      <td>0.064205</td>\n      <td>0.153253</td>\n      <td>High_div-10</td>\n    </tr>\n    <tr>\n      <th>...</th>\n      <td>...</td>\n      <td>...</td>\n      <td>...</td>\n      <td>...</td>\n      <td>...</td>\n      <td>...</td>\n      <td>...</td>\n    </tr>\n    <tr>\n      <th>29969</th>\n      <td>3.124974</td>\n      <td>17</td>\n      <td>[KRE, GMF, CHIC, RXI, ADRE, IWO, IWF, DGRW, XL...</td>\n      <td>0.554759</td>\n      <td>0.101371</td>\n      <td>0.182730</td>\n      <td>High_div-17</td>\n    </tr>\n    <tr>\n      <th>29971</th>\n      <td>3.080922</td>\n      <td>17</td>\n      <td>[URTH, EPP, DBEZ, SOXX, QQEW, FILL, EQL, FDIS,...</td>\n      <td>0.550808</td>\n      <td>0.104083</td>\n      <td>0.188964</td>\n      <td>High_div-17</td>\n    </tr>\n    <tr>\n      <th>29973</th>\n      <td>3.268873</td>\n      <td>17</td>\n      <td>[EWD, RPG, IGV, CHII, WBIG, FNI, PSCD, KWEB, M...</td>\n      <td>0.728478</td>\n      <td>0.126320</td>\n      <td>0.173402</td>\n      <td>High_div-17</td>\n    </tr>\n    <tr>\n      <th>29977</th>\n      <td>4.055728</td>\n      <td>17</td>\n      <td>[SKYY, FGM, SCHC, BICK, IJK, FYX, OIH, EFG, IW...</td>\n      <td>0.419319</td>\n      <td>0.084942</td>\n      <td>0.202571</td>\n      <td>High_div-17</td>\n    </tr>\n    <tr>\n      <th>29985</th>\n      <td>3.202143</td>\n      <td>17</td>\n      <td>[XRT, SCZ, BFOR, CIZ, IJJ, SLY, PIE, BRF, RYU,...</td>\n      <td>0.411725</td>\n      <td>0.079728</td>\n      <td>0.193643</td>\n      <td>High_div-17</td>\n    </tr>\n  </tbody>\n</table>\n<p>1135 rows × 7 columns</p>\n</div>"
     },
     "metadata": {},
     "execution_count": 146
    }
   ],
   "source": [
    "high_q = df_2\n",
    "high_q[\"q\"] = \"High_div\"\n",
    "high_q[\"q\"] = high_q[\"q\"]+\"-\"+high_q[\"# of Assets\"]\n",
    "high_q"
   ]
  },
  {
   "cell_type": "code",
   "execution_count": 131,
   "metadata": {},
   "outputs": [],
   "source": [
    "# for i in high_q[\"Assets\"][1:]:\n",
    "#     print(fundamental_df.loc[i,:][\"Category\"].value_counts())"
   ]
  },
  {
   "cell_type": "code",
   "execution_count": 148,
   "metadata": {},
   "outputs": [],
   "source": [
    "concat_frame = pd.concat([high_q,low_q])"
   ]
  },
  {
   "cell_type": "code",
   "execution_count": 149,
   "metadata": {},
   "outputs": [],
   "source": [
    "fig = px.box(concat_frame, x=\"q\", y=\"Annual STD\")\n",
    "fig.show()"
   ]
  },
  {
   "cell_type": "code",
   "execution_count": 150,
   "metadata": {},
   "outputs": [],
   "source": [
    "fig = px.box(concat_frame, x=\"q\", y=\"Annual Return\")\n",
    "fig.show()"
   ]
  },
  {
   "cell_type": "code",
   "execution_count": 151,
   "metadata": {},
   "outputs": [],
   "source": [
    "fig = px.box(concat_frame, x=\"q\", y=\"Sharpe Ratio\")\n",
    "fig.show()"
   ]
  },
  {
   "cell_type": "code",
   "execution_count": 101,
   "metadata": {},
   "outputs": [
    {
     "output_type": "execute_result",
     "data": {
      "text/plain": [
       "         Category            Fundamental Cluster  \\\n",
       "SPY   Large Blend  High Fundamental Broad Market   \n",
       "IVV   Large Blend  High Fundamental Broad Market   \n",
       "VTI   Large Blend  High Fundamental Broad Market   \n",
       "VOO   Large Blend  High Fundamental Broad Market   \n",
       "QQQ  Large Growth  High Fundamental Broad Market   \n",
       "\n",
       "                                          Risk Cluster  \n",
       "SPY  Moderat/High Risk - Slightly Above Market Vola...  \n",
       "IVV  Moderat/High Risk - Slightly Above Market Vola...  \n",
       "VTI  Moderat/High Risk - Slightly Above Market Vola...  \n",
       "VOO  Moderat/High Risk - Slightly Above Market Vola...  \n",
       "QQQ  Moderat/High Risk - Slightly Above Market Vola...  "
      ],
      "text/html": "<div>\n<style scoped>\n    .dataframe tbody tr th:only-of-type {\n        vertical-align: middle;\n    }\n\n    .dataframe tbody tr th {\n        vertical-align: top;\n    }\n\n    .dataframe thead th {\n        text-align: right;\n    }\n</style>\n<table border=\"1\" class=\"dataframe\">\n  <thead>\n    <tr style=\"text-align: right;\">\n      <th></th>\n      <th>Category</th>\n      <th>Fundamental Cluster</th>\n      <th>Risk Cluster</th>\n    </tr>\n  </thead>\n  <tbody>\n    <tr>\n      <th>SPY</th>\n      <td>Large Blend</td>\n      <td>High Fundamental Broad Market</td>\n      <td>Moderat/High Risk - Slightly Above Market Vola...</td>\n    </tr>\n    <tr>\n      <th>IVV</th>\n      <td>Large Blend</td>\n      <td>High Fundamental Broad Market</td>\n      <td>Moderat/High Risk - Slightly Above Market Vola...</td>\n    </tr>\n    <tr>\n      <th>VTI</th>\n      <td>Large Blend</td>\n      <td>High Fundamental Broad Market</td>\n      <td>Moderat/High Risk - Slightly Above Market Vola...</td>\n    </tr>\n    <tr>\n      <th>VOO</th>\n      <td>Large Blend</td>\n      <td>High Fundamental Broad Market</td>\n      <td>Moderat/High Risk - Slightly Above Market Vola...</td>\n    </tr>\n    <tr>\n      <th>QQQ</th>\n      <td>Large Growth</td>\n      <td>High Fundamental Broad Market</td>\n      <td>Moderat/High Risk - Slightly Above Market Vola...</td>\n    </tr>\n  </tbody>\n</table>\n</div>"
     },
     "metadata": {},
     "execution_count": 101
    }
   ],
   "source": [
    "fundamental_df.head()"
   ]
  },
  {
   "cell_type": "code",
   "execution_count": 62,
   "metadata": {},
   "outputs": [],
   "source": [
    "testtest = pd.DataFrame()\n",
    "\n",
    "for i in PDI_DF[\"# of Assets\"].unique():\n",
    "    testtest[\"qq-{}\".format(i)] = pd.DataFrame(qq_dict[i][\"qq\"]).mean(axis=1)\n",
    "    testtest[\"qqq-{}\".format(i)] = pd.DataFrame(qq_dict[i][\"qqq\"]).mean(axis=1)\n",
    "    "
   ]
  },
  {
   "cell_type": "code",
   "execution_count": 63,
   "metadata": {},
   "outputs": [],
   "source": [
    "testtest.dropna(axis=1, inplace=True)\n",
    "testtest[\"SPY\"] = weekly_return[\"SPY\"]\n",
    "testtest = testtest.cumsum(axis=0)\n",
    "fig = px.line(testtest, x= testtest.index, y=testtest.columns)\n",
    "fig.show()"
   ]
  },
  {
   "cell_type": "code",
   "execution_count": 34,
   "metadata": {},
   "outputs": [],
   "source": [
    "testtest = pd.DataFrame()\n",
    "fig = px.line()\n",
    "\n",
    "\n",
    "\n",
    "\n",
    "for i in PDI_DF[\"# of Assets\"].unique():\n",
    "    \n",
    "    testtest = pd.DataFrame()\n",
    "    testtest[\"q1\"] = pd.DataFrame(qq_dict[i][\"qq\"]).mean(axis=1)\n",
    "    testtest[\"q2\"] = pd.DataFrame(qq_dict[i][\"qqq\"]).mean(axis=1)\n",
    "    testtest = testtest.cumsum(axis=0)\n",
    "    fig.add_trace(go.Scatter(x=testtest.index, y=testtest.columns, mode=\"lines\"))\n",
    "fig.show()"
   ]
  },
  {
   "cell_type": "code",
   "execution_count": 26,
   "metadata": {},
   "outputs": [
    {
     "output_type": "error",
     "ename": "KeyError",
     "evalue": "3",
     "traceback": [
      "\u001b[0;31m---------------------------------------------------------------------------\u001b[0m",
      "\u001b[0;31mKeyError\u001b[0m                                  Traceback (most recent call last)",
      "\u001b[0;32m<ipython-input-26-c13ac094add1>\u001b[0m in \u001b[0;36m<module>\u001b[0;34m\u001b[0m\n\u001b[0;32m----> 1\u001b[0;31m \u001b[0mqq_dict\u001b[0m\u001b[0;34m[\u001b[0m\u001b[0;36m3\u001b[0m\u001b[0;34m]\u001b[0m\u001b[0;34m\u001b[0m\u001b[0;34m\u001b[0m\u001b[0m\n\u001b[0m",
      "\u001b[0;31mKeyError\u001b[0m: 3"
     ]
    }
   ],
   "source": [
    "qq_dict[3]"
   ]
  },
  {
   "cell_type": "code",
   "execution_count": null,
   "metadata": {},
   "outputs": [],
   "source": [
    "    testtest = pd.DataFrame()\n",
    "    testtest[\"q1\"] = pd.DataFrame(qq_dict[\"q1\"]).mean(axis=1)\n",
    "    testtest[\"q2\"] = pd.DataFrame(qq_dict[\"q2\"]).mean(axis=1)\n",
    "    testtest = testtest.cumsum(axis=0)\n",
    "    testtest[\"id\"] = testtest.index\n",
    "    fff = pd.wide_to_long(testtest,stubnames=\"q\", i=\"id\", j=\"quantile\")\n",
    "    fff = fff.reset_index().set_index(\"id\")\n",
    "    print(fff)\n",
    "    fig = px.line(fff, x= fff.index, y=\"q\")\n",
    "    fig.show()\n"
   ]
  },
  {
   "cell_type": "code",
   "execution_count": null,
   "metadata": {},
   "outputs": [],
   "source": [
    "len(df_1)"
   ]
  },
  {
   "cell_type": "code",
   "execution_count": null,
   "metadata": {},
   "outputs": [],
   "source": [
    "weekly_return.index = pd.to_datetime(weekly_return.index)"
   ]
  },
  {
   "cell_type": "code",
   "execution_count": null,
   "metadata": {
    "tags": []
   },
   "outputs": [],
   "source": [
    "qq = []\n",
    "year = []\n",
    "porti = []\n",
    "num_as = []\n",
    "sr = []\n",
    "ar = []\n",
    "std = []\n",
    "for i in list(weekly_return.index.year.unique()):\n",
    "    for dfs,q in zip([df_1,df_2], [\"q1\",\"q2\"]):\n",
    "        for port in dfs[\"Assets\"]:\n",
    "            n_assets = len(port)\n",
    "            portfolio_weights_ew = np.repeat(1/n_assets, n_assets)\n",
    "            port_weekly_return = weekly_return[weekly_return.index.year == i][port].mul(portfolio_weights_ew,axis=1).mean(axis=1)\n",
    "            ann_ret = meanRetAn(list(port_weekly_return))\n",
    "            an_cov = weekly_return[weekly_return.index.year == i][port].cov()\n",
    "            port_std = np.sqrt(np.dot(portfolio_weights_ew.T, np.dot(an_cov, portfolio_weights_ew)))*np.sqrt(52)\n",
    "            qq.append(q)\n",
    "            year.append(i)\n",
    "            porti.append(port)\n",
    "            num_as.append(len(port))\n",
    "            sr.append(ann_ret/port_std)\n",
    "            ar.append(ann_ret)\n",
    "            std.append(port_std)\n"
   ]
  },
  {
   "cell_type": "code",
   "execution_count": null,
   "metadata": {},
   "outputs": [],
   "source": [
    "df = pd.DataFrame()\n",
    "df[\"year\"] = year\n",
    "df[\"q\"] = qq\n",
    "df[\"aret\"] = ar\n",
    "df[\"prt\"] = porti\n",
    "df[\"std\"] = std\n",
    "df[\"num_p\"] = num_as\n",
    "df[\"prt\"] = df[\"prt\"].astype(str)\n",
    "df[\"aret\"] = df[\"aret\"].astype(float)"
   ]
  },
  {
   "cell_type": "code",
   "execution_count": null,
   "metadata": {},
   "outputs": [],
   "source": [
    "dff = df.groupby([\"year\", \"q\"])[[\"aret\",\"std\"]].mean()\n",
    "dff = pd.DataFrame(dff).reset_index()"
   ]
  },
  {
   "cell_type": "code",
   "execution_count": null,
   "metadata": {},
   "outputs": [],
   "source": [
    "fig = px.bar(dff, x='year', y='aret', color=\"q\",barmode='group', hover_data = [\"std\"])\n",
    "fig.show()"
   ]
  },
  {
   "cell_type": "code",
   "execution_count": null,
   "metadata": {},
   "outputs": [],
   "source": [
    "df_1.head()"
   ]
  },
  {
   "cell_type": "code",
   "execution_count": null,
   "metadata": {},
   "outputs": [],
   "source": [
    "px.histogram(df_2, x=\"Annual Return\")"
   ]
  },
  {
   "cell_type": "code",
   "execution_count": 173,
   "metadata": {},
   "outputs": [],
   "source": [
    "\n",
    "qq_dict = {}\n",
    "\n",
    "for i,q in zip([df_1,df_2], [\"q1\",\"q2\"]):\n",
    "    qq_dict[q] = {}\n",
    "    for ii in enumerate(i[\"Assets\"]):\n",
    "        n_assets = len(ii[1])\n",
    "        portfolio_weights_ew = np.repeat(1/n_assets, n_assets)\n",
    "        port_weekly_return = weekly_return[ii[1]].mul(portfolio_weights_ew,axis=1).sum(axis=1)\n",
    "        qq_dict[q][ii[0]] = port_weekly_return\n",
    "\n"
   ]
  },
  {
   "cell_type": "code",
   "execution_count": 174,
   "metadata": {},
   "outputs": [],
   "source": [
    "testtest = pd.DataFrame()\n",
    "testtest[\"q1\"] = pd.DataFrame(qq_dict[\"q1\"]).mean(axis=1)\n",
    "testtest[\"q2\"] = pd.DataFrame(qq_dict[\"q2\"]).mean(axis=1)\n",
    "testtest = testtest.cumsum(axis=0)\n"
   ]
  },
  {
   "cell_type": "code",
   "execution_count": 175,
   "metadata": {},
   "outputs": [
    {
     "output_type": "execute_result",
     "data": {
      "text/plain": [
       "                  q1        q2\n",
       "Date                          \n",
       "2015-01-14 -0.002192 -0.001945\n",
       "2015-01-21  0.013071  0.014089\n",
       "2015-01-28  0.007894  0.008584\n",
       "2015-02-04  0.024714  0.026921\n",
       "2015-02-11  0.027821  0.031518\n",
       "...              ...       ...\n",
       "2020-12-02  0.570970  0.631153\n",
       "2020-12-09  0.585042  0.647037\n",
       "2020-12-16  0.597654  0.661405\n",
       "2020-12-23  0.601758  0.665423\n",
       "2020-12-30  0.609324  0.673793\n",
       "\n",
       "[308 rows x 2 columns]"
      ],
      "text/html": "<div>\n<style scoped>\n    .dataframe tbody tr th:only-of-type {\n        vertical-align: middle;\n    }\n\n    .dataframe tbody tr th {\n        vertical-align: top;\n    }\n\n    .dataframe thead th {\n        text-align: right;\n    }\n</style>\n<table border=\"1\" class=\"dataframe\">\n  <thead>\n    <tr style=\"text-align: right;\">\n      <th></th>\n      <th>q1</th>\n      <th>q2</th>\n    </tr>\n    <tr>\n      <th>Date</th>\n      <th></th>\n      <th></th>\n    </tr>\n  </thead>\n  <tbody>\n    <tr>\n      <th>2015-01-14</th>\n      <td>-0.002192</td>\n      <td>-0.001945</td>\n    </tr>\n    <tr>\n      <th>2015-01-21</th>\n      <td>0.013071</td>\n      <td>0.014089</td>\n    </tr>\n    <tr>\n      <th>2015-01-28</th>\n      <td>0.007894</td>\n      <td>0.008584</td>\n    </tr>\n    <tr>\n      <th>2015-02-04</th>\n      <td>0.024714</td>\n      <td>0.026921</td>\n    </tr>\n    <tr>\n      <th>2015-02-11</th>\n      <td>0.027821</td>\n      <td>0.031518</td>\n    </tr>\n    <tr>\n      <th>...</th>\n      <td>...</td>\n      <td>...</td>\n    </tr>\n    <tr>\n      <th>2020-12-02</th>\n      <td>0.570970</td>\n      <td>0.631153</td>\n    </tr>\n    <tr>\n      <th>2020-12-09</th>\n      <td>0.585042</td>\n      <td>0.647037</td>\n    </tr>\n    <tr>\n      <th>2020-12-16</th>\n      <td>0.597654</td>\n      <td>0.661405</td>\n    </tr>\n    <tr>\n      <th>2020-12-23</th>\n      <td>0.601758</td>\n      <td>0.665423</td>\n    </tr>\n    <tr>\n      <th>2020-12-30</th>\n      <td>0.609324</td>\n      <td>0.673793</td>\n    </tr>\n  </tbody>\n</table>\n<p>308 rows × 2 columns</p>\n</div>"
     },
     "metadata": {},
     "execution_count": 175
    }
   ],
   "source": [
    "testtest"
   ]
  },
  {
   "cell_type": "code",
   "execution_count": 176,
   "metadata": {},
   "outputs": [],
   "source": [
    "fig = px.line(testtest, x= testtest.index, y=testtest.columns )\n",
    "fig.show()"
   ]
  },
  {
   "cell_type": "code",
   "execution_count": null,
   "metadata": {},
   "outputs": [],
   "source": []
  },
  {
   "cell_type": "code",
   "execution_count": null,
   "metadata": {},
   "outputs": [],
   "source": []
  },
  {
   "cell_type": "code",
   "execution_count": null,
   "metadata": {},
   "outputs": [],
   "source": [
    "tickers = list(fundamental_df.index)\n",
    "startDate = \"2015-01-01\"\n",
    "endDate = \"2021-01-01\"\n",
    "dailyPrices = data.DataReader(tickers, 'yahoo', startDate, endDate)"
   ]
  },
  {
   "cell_type": "code",
   "execution_count": null,
   "metadata": {},
   "outputs": [],
   "source": [
    "dailyPrices = dailyPrices[\"Adj Close\"]"
   ]
  },
  {
   "cell_type": "code",
   "execution_count": null,
   "metadata": {},
   "outputs": [],
   "source": [
    "dailyPrices.to_csv(\"DailyPrices.csv\")"
   ]
  },
  {
   "cell_type": "code",
   "execution_count": null,
   "metadata": {},
   "outputs": [],
   "source": [
    "pricesWed = dailyPrices[dailyPrices.index.weekday==2] "
   ]
  },
  {
   "source": [
    " weeklyPrices = pricesWed.dropna(axis=1)                 #delete NaN columns\n",
    "    \n",
    "# GET WEEKLY RETURNS\n",
    "weeklyReturns = weeklyPrices.pct_change()                  \n",
    "weeklyReturns = weeklyReturns.drop(weeklyReturns.index[:1]) "
   ],
   "cell_type": "markdown",
   "metadata": {}
  },
  {
   "source": [
    "weeklyReturns.to_csv(\"WeeklyReturns.csv\")"
   ],
   "cell_type": "markdown",
   "metadata": {}
  },
  {
   "cell_type": "code",
   "execution_count": null,
   "metadata": {},
   "outputs": [],
   "source": []
  }
 ]
}