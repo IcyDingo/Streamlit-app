{
 "metadata": {
  "language_info": {
   "codemirror_mode": {
    "name": "ipython",
    "version": 3
   },
   "file_extension": ".py",
   "mimetype": "text/x-python",
   "name": "python",
   "nbconvert_exporter": "python",
   "pygments_lexer": "ipython3",
   "version": "3.9.1-final"
  },
  "orig_nbformat": 2,
  "kernelspec": {
   "name": "python3",
   "display_name": "Python 3.9.1 64-bit",
   "metadata": {
    "interpreter": {
     "hash": "aee8b7b246df8f9039afb4144a1f6fd8d2ca17a180786b69acc140d282b71a49"
    }
   }
  }
 },
 "nbformat": 4,
 "nbformat_minor": 2,
 "cells": [
  {
   "cell_type": "code",
   "execution_count": 1,
   "metadata": {},
   "outputs": [],
   "source": [
    "from scipy.optimize import *\n",
    "import pandas as pd \n",
    "import numpy as np \n",
    "from numpy import array\n",
    "from numpy import mean\n",
    "from numpy import cov\n",
    "from numpy.linalg import eig\n",
    "from tqdm import tqdm\n",
    "from pulp import *\n",
    "import plotly.express as px \n",
    "from sklearn.decomposition import PCA\n",
    "import random\n",
    "import plotly.io as pio \n",
    "pio.renderers.default = \"browser\"\n",
    "from pandas_datareader import data"
   ]
  },
  {
   "cell_type": "code",
   "execution_count": 2,
   "metadata": {},
   "outputs": [],
   "source": [
    "    def meanRetAn(data):             \n",
    "        Result = 1\n",
    "        \n",
    "        for i in data:\n",
    "            Result *= (1+i)\n",
    "            \n",
    "        Result = Result**(1/float(len(data)/52))-1\n",
    "        \n",
    "        return(Result)"
   ]
  },
  {
   "cell_type": "code",
   "execution_count": 3,
   "metadata": {},
   "outputs": [
    {
     "output_type": "execute_result",
     "data": {
      "text/plain": [
       "695"
      ]
     },
     "metadata": {},
     "execution_count": 3
    }
   ],
   "source": [
    "df = pd.read_csv(\"ETFs_info.csv\", index_col=\"Ticker\")\n",
    "df[\"Inception\"] = pd.to_datetime(df[\"Inception\"])\n",
    "df = df[df[\"Inception\"] <= \"2015-01-01\"]\n",
    "\n",
    "fundamental_df = pd.read_csv(\"fund_risk_cluster_reduced.csv\",index_col=\"Ticker\") #Fundamental Clustering Data\n",
    "weekly_return = pd.read_csv(\"WeeklyReturns.csv\",index_col=\"Date\") #Weekly Return Data\n",
    "fundamental_df = fundamental_df.loc[fundamental_df.index.intersection(weekly_return.columns)]\n",
    "fundamental_df = fundamental_df.loc[fundamental_df.index.intersection(df.index)]\n",
    "len(fundamental_df)"
   ]
  },
  {
   "cell_type": "code",
   "execution_count": 4,
   "metadata": {},
   "outputs": [],
   "source": [
    "def calculate_pdi(num_assets, tickers, weekly_returns): \n",
    "    \n",
    "    def meanRetAn(data):             \n",
    "        Result = 1\n",
    "        \n",
    "        for i in data:\n",
    "            Result *= (1+i)\n",
    "            \n",
    "        Result = Result**(1/float(len(data)/52))-1\n",
    "        \n",
    "        return(Result)\n",
    "\n",
    "    pca = PCA()\n",
    "    PDI_dict = {}\n",
    "    samples = [[\"SPY\"]]\n",
    "    for number in range(3,num_assets, 1):\n",
    "        for i in range(1,2000):\n",
    "            #samples.extend([list(x) for x in combinations(selected_tickers, number_of_assets)])\n",
    "            samples.append(random.sample(list(tickers),number))\n",
    "    samples_mini = []\n",
    "    for i in samples:\n",
    "        if i not in samples_mini:\n",
    "            samples_mini.append(i)\n",
    "\n",
    "\n",
    "    \n",
    "    for i,y in zip(samples_mini,range(1,len(samples_mini)+1)):\n",
    "        n_assets = len(i)\n",
    "        portfolio_weights_ew = np.repeat(1/n_assets, n_assets)\n",
    "        port_weekly_return = weekly_returns[i].mul(portfolio_weights_ew,axis=1).sum(axis=1)\n",
    "        ann_ret = meanRetAn(list(port_weekly_return))\n",
    "        an_cov = weekly_returns[i].cov()\n",
    "        port_std = np.sqrt(np.dot(portfolio_weights_ew.T, np.dot(an_cov, portfolio_weights_ew)))*np.sqrt(52)\n",
    "        corr_matrix = np.array(weekly_returns[i].corr())\n",
    "        principalComponents = pca.fit(corr_matrix)\n",
    "        PDI = 2*sum(principalComponents.explained_variance_ratio_*range(1,len(principalComponents.explained_variance_ratio_)+1,1))-1\n",
    "        PDI_dict[y] = {}\n",
    "        PDI_dict[y][\"PDI_INDEX\"] = PDI\n",
    "        PDI_dict[y][\"# of Assets\"] = len(i)\n",
    "        PDI_dict[y][\"Assets\"] = i\n",
    "        PDI_dict[y][\"Sharpe Ratio\"] = ann_ret/port_std\n",
    "        PDI_dict[y][\"Annual Return\"] = ann_ret\n",
    "        PDI_dict[y][\"Annual STD\"] = port_std\n",
    "    \n",
    "\n",
    "        \n",
    "\n",
    "\n",
    "    PDI_DF = pd.DataFrame(PDI_dict).T\n",
    "    #PDI_DF[\"Assets\"] = PDI_DF[\"Assets\"].astype(str)\n",
    "    PDI_DF[\"# of Assets\"] = PDI_DF[\"# of Assets\"].astype(str)\n",
    "    PDI_DF[\"Sharpe Ratio\"] = PDI_DF[\"Sharpe Ratio\"].astype(float)\n",
    "    PDI_DF[\"Annual STD\"] = PDI_DF[\"Annual STD\"].astype(float)\n",
    "    PDI_DF[\"PDI_INDEX\"] = PDI_DF[\"PDI_INDEX\"].astype(float)\n",
    "    PDI_DF[\"Annual Return\"] = PDI_DF[\"Annual Return\"].astype(float)\n",
    "    SPY_DF = PDI_DF.iloc[0,:]\n",
    "    return PDI_DF,SPY_DF"
   ]
  },
  {
   "cell_type": "code",
   "execution_count": 5,
   "metadata": {},
   "outputs": [],
   "source": [
    "num_as = 12\n",
    "sel_tick = list(fundamental_df.index)\n",
    "\n",
    "PDI_DF, SPY_DF = calculate_pdi(num_as, sel_tick, weekly_return)"
   ]
  },
  {
   "cell_type": "code",
   "execution_count": 6,
   "metadata": {},
   "outputs": [
    {
     "output_type": "execute_result",
     "data": {
      "text/plain": [
       "   PDI_INDEX # of Assets             Assets  Sharpe Ratio  Annual Return  \\\n",
       "1        NaN           1              [SPY]      0.818855       0.130413   \n",
       "2   1.210099           3   [KRE, CHIQ, FPA]      0.564758       0.120226   \n",
       "3   1.204287           3   [FYT, SYG, MDYG]      0.563357       0.115168   \n",
       "4   1.750332           3  [MMTM, IAK, ZDEU]      0.523091       0.094329   \n",
       "5   1.385366           3   [FENY, DFJ, PYZ]      0.134866       0.030540   \n",
       "\n",
       "   Annual STD  \n",
       "1    0.159263  \n",
       "2    0.212881  \n",
       "3    0.204432  \n",
       "4    0.180331  \n",
       "5    0.226449  "
      ],
      "text/html": "<div>\n<style scoped>\n    .dataframe tbody tr th:only-of-type {\n        vertical-align: middle;\n    }\n\n    .dataframe tbody tr th {\n        vertical-align: top;\n    }\n\n    .dataframe thead th {\n        text-align: right;\n    }\n</style>\n<table border=\"1\" class=\"dataframe\">\n  <thead>\n    <tr style=\"text-align: right;\">\n      <th></th>\n      <th>PDI_INDEX</th>\n      <th># of Assets</th>\n      <th>Assets</th>\n      <th>Sharpe Ratio</th>\n      <th>Annual Return</th>\n      <th>Annual STD</th>\n    </tr>\n  </thead>\n  <tbody>\n    <tr>\n      <th>1</th>\n      <td>NaN</td>\n      <td>1</td>\n      <td>[SPY]</td>\n      <td>0.818855</td>\n      <td>0.130413</td>\n      <td>0.159263</td>\n    </tr>\n    <tr>\n      <th>2</th>\n      <td>1.210099</td>\n      <td>3</td>\n      <td>[KRE, CHIQ, FPA]</td>\n      <td>0.564758</td>\n      <td>0.120226</td>\n      <td>0.212881</td>\n    </tr>\n    <tr>\n      <th>3</th>\n      <td>1.204287</td>\n      <td>3</td>\n      <td>[FYT, SYG, MDYG]</td>\n      <td>0.563357</td>\n      <td>0.115168</td>\n      <td>0.204432</td>\n    </tr>\n    <tr>\n      <th>4</th>\n      <td>1.750332</td>\n      <td>3</td>\n      <td>[MMTM, IAK, ZDEU]</td>\n      <td>0.523091</td>\n      <td>0.094329</td>\n      <td>0.180331</td>\n    </tr>\n    <tr>\n      <th>5</th>\n      <td>1.385366</td>\n      <td>3</td>\n      <td>[FENY, DFJ, PYZ]</td>\n      <td>0.134866</td>\n      <td>0.030540</td>\n      <td>0.226449</td>\n    </tr>\n  </tbody>\n</table>\n</div>"
     },
     "metadata": {},
     "execution_count": 6
    }
   ],
   "source": [
    "PDI_DF.head()"
   ]
  },
  {
   "cell_type": "code",
   "execution_count": 7,
   "metadata": {},
   "outputs": [],
   "source": [
    "fig = px.scatter(PDI_DF, x='PDI_INDEX', y='Sharpe Ratio', color=\"# of Assets\")\n",
    "fig.show()"
   ]
  },
  {
   "cell_type": "code",
   "execution_count": 8,
   "metadata": {},
   "outputs": [],
   "source": [
    "fig = px.box(PDI_DF, x=\"# of Assets\", y=\"Annual STD\")\n",
    "fig.show()"
   ]
  },
  {
   "cell_type": "code",
   "execution_count": null,
   "metadata": {},
   "outputs": [],
   "source": []
  },
  {
   "cell_type": "code",
   "execution_count": 9,
   "metadata": {},
   "outputs": [
    {
     "output_type": "stream",
     "name": "stdout",
     "text": [
      "min PDI 1.000041607189078\nmax PDI 4.787518460819253\n"
     ]
    }
   ],
   "source": [
    "print(\"min PDI\",PDI_DF[\"PDI_INDEX\"].min())\n",
    "print(\"max PDI\",PDI_DF[\"PDI_INDEX\"].max())"
   ]
  },
  {
   "cell_type": "code",
   "execution_count": 39,
   "metadata": {},
   "outputs": [
    {
     "output_type": "execute_result",
     "data": {
      "text/plain": [
       "       PDI_INDEX # of Assets  \\\n",
       "1            NaN           1   \n",
       "2       1.210099           3   \n",
       "3       1.204287           3   \n",
       "4       1.750332           3   \n",
       "5       1.385366           3   \n",
       "...          ...         ...   \n",
       "17988   2.343309          11   \n",
       "17989   3.421300          11   \n",
       "17990   2.047216          11   \n",
       "17991   2.540120          11   \n",
       "17992   3.187178          11   \n",
       "\n",
       "                                                  Assets  Sharpe Ratio  \\\n",
       "1                                                  [SPY]      0.818855   \n",
       "2                                       [KRE, CHIQ, FPA]      0.564758   \n",
       "3                                       [FYT, SYG, MDYG]      0.563357   \n",
       "4                                      [MMTM, IAK, ZDEU]      0.523091   \n",
       "5                                       [FENY, DFJ, PYZ]      0.134866   \n",
       "...                                                  ...           ...   \n",
       "17988  [DBJP, ZGBR, DBEM, GDX, DVYA, KBWB, VONE, UPRO...      0.651059   \n",
       "17989  [HDV, DOL, CHIQ, EFG, VGT, IQDF, XSW, IYF, DWA...      0.728567   \n",
       "17990  [XSMO, IQDF, KIE, RING, FMAT, FENY, EXI, UWM, ...      0.367182   \n",
       "17991  [EEMO, EWT, SYLD, FRAK, PXF, VBK, EPS, EPI, SC...      0.433353   \n",
       "17992  [ROM, EWL, CIZ, JKJ, KBE, RWJ, EFNL, GXG, VOOG...      0.499169   \n",
       "\n",
       "       Annual Return  Annual STD  \n",
       "1           0.130413    0.159263  \n",
       "2           0.120226    0.212881  \n",
       "3           0.115168    0.204432  \n",
       "4           0.094329    0.180331  \n",
       "5           0.030540    0.226449  \n",
       "...              ...         ...  \n",
       "17988       0.140238    0.215400  \n",
       "17989       0.128262    0.176047  \n",
       "17990       0.079958    0.217762  \n",
       "17991       0.081399    0.187836  \n",
       "17992       0.107642    0.215642  \n",
       "\n",
       "[17992 rows x 6 columns]"
      ],
      "text/html": "<div>\n<style scoped>\n    .dataframe tbody tr th:only-of-type {\n        vertical-align: middle;\n    }\n\n    .dataframe tbody tr th {\n        vertical-align: top;\n    }\n\n    .dataframe thead th {\n        text-align: right;\n    }\n</style>\n<table border=\"1\" class=\"dataframe\">\n  <thead>\n    <tr style=\"text-align: right;\">\n      <th></th>\n      <th>PDI_INDEX</th>\n      <th># of Assets</th>\n      <th>Assets</th>\n      <th>Sharpe Ratio</th>\n      <th>Annual Return</th>\n      <th>Annual STD</th>\n    </tr>\n  </thead>\n  <tbody>\n    <tr>\n      <th>1</th>\n      <td>NaN</td>\n      <td>1</td>\n      <td>[SPY]</td>\n      <td>0.818855</td>\n      <td>0.130413</td>\n      <td>0.159263</td>\n    </tr>\n    <tr>\n      <th>2</th>\n      <td>1.210099</td>\n      <td>3</td>\n      <td>[KRE, CHIQ, FPA]</td>\n      <td>0.564758</td>\n      <td>0.120226</td>\n      <td>0.212881</td>\n    </tr>\n    <tr>\n      <th>3</th>\n      <td>1.204287</td>\n      <td>3</td>\n      <td>[FYT, SYG, MDYG]</td>\n      <td>0.563357</td>\n      <td>0.115168</td>\n      <td>0.204432</td>\n    </tr>\n    <tr>\n      <th>4</th>\n      <td>1.750332</td>\n      <td>3</td>\n      <td>[MMTM, IAK, ZDEU]</td>\n      <td>0.523091</td>\n      <td>0.094329</td>\n      <td>0.180331</td>\n    </tr>\n    <tr>\n      <th>5</th>\n      <td>1.385366</td>\n      <td>3</td>\n      <td>[FENY, DFJ, PYZ]</td>\n      <td>0.134866</td>\n      <td>0.030540</td>\n      <td>0.226449</td>\n    </tr>\n    <tr>\n      <th>...</th>\n      <td>...</td>\n      <td>...</td>\n      <td>...</td>\n      <td>...</td>\n      <td>...</td>\n      <td>...</td>\n    </tr>\n    <tr>\n      <th>17988</th>\n      <td>2.343309</td>\n      <td>11</td>\n      <td>[DBJP, ZGBR, DBEM, GDX, DVYA, KBWB, VONE, UPRO...</td>\n      <td>0.651059</td>\n      <td>0.140238</td>\n      <td>0.215400</td>\n    </tr>\n    <tr>\n      <th>17989</th>\n      <td>3.421300</td>\n      <td>11</td>\n      <td>[HDV, DOL, CHIQ, EFG, VGT, IQDF, XSW, IYF, DWA...</td>\n      <td>0.728567</td>\n      <td>0.128262</td>\n      <td>0.176047</td>\n    </tr>\n    <tr>\n      <th>17990</th>\n      <td>2.047216</td>\n      <td>11</td>\n      <td>[XSMO, IQDF, KIE, RING, FMAT, FENY, EXI, UWM, ...</td>\n      <td>0.367182</td>\n      <td>0.079958</td>\n      <td>0.217762</td>\n    </tr>\n    <tr>\n      <th>17991</th>\n      <td>2.540120</td>\n      <td>11</td>\n      <td>[EEMO, EWT, SYLD, FRAK, PXF, VBK, EPS, EPI, SC...</td>\n      <td>0.433353</td>\n      <td>0.081399</td>\n      <td>0.187836</td>\n    </tr>\n    <tr>\n      <th>17992</th>\n      <td>3.187178</td>\n      <td>11</td>\n      <td>[ROM, EWL, CIZ, JKJ, KBE, RWJ, EFNL, GXG, VOOG...</td>\n      <td>0.499169</td>\n      <td>0.107642</td>\n      <td>0.215642</td>\n    </tr>\n  </tbody>\n</table>\n<p>17992 rows × 6 columns</p>\n</div>"
     },
     "metadata": {},
     "execution_count": 39
    }
   ],
   "source": [
    "PDI_DF"
   ]
  },
  {
   "cell_type": "code",
   "execution_count": 37,
   "metadata": {},
   "outputs": [
    {
     "output_type": "execute_result",
     "data": {
      "text/plain": [
       "2.0489481007143064"
      ]
     },
     "metadata": {},
     "execution_count": 37
    }
   ],
   "source": [
    "a = PDI_DF[\"PDI_INDEX\"].quantile(.5)\n",
    "a"
   ]
  },
  {
   "cell_type": "code",
   "execution_count": 42,
   "metadata": {},
   "outputs": [
    {
     "output_type": "execute_result",
     "data": {
      "text/plain": [
       "       PDI_INDEX # of Assets  \\\n",
       "2       1.210099           3   \n",
       "3       1.204287           3   \n",
       "4       1.750332           3   \n",
       "5       1.385366           3   \n",
       "6       1.134295           3   \n",
       "...          ...         ...   \n",
       "17969   1.313271          11   \n",
       "17978   1.119875          11   \n",
       "17984   1.718354          11   \n",
       "17987   1.192784          11   \n",
       "17990   2.047216          11   \n",
       "\n",
       "                                                  Assets  Sharpe Ratio  \\\n",
       "2                                       [KRE, CHIQ, FPA]      0.564758   \n",
       "3                                       [FYT, SYG, MDYG]      0.563357   \n",
       "4                                      [MMTM, IAK, ZDEU]      0.523091   \n",
       "5                                       [FENY, DFJ, PYZ]      0.134866   \n",
       "6                                       [TOLZ, RFG, XLY]      0.537009   \n",
       "...                                                  ...           ...   \n",
       "17969  [SPLV, EWC, QLD, DTD, XLV, EMQQ, EWM, PBE, SAA...      0.572785   \n",
       "17978  [SCHE, EUSA, JKI, DLS, ASEA, XMLV, DOO, SDY, M...     -0.147118   \n",
       "17984  [SIL, XLG, QQQE, PSJ, FDT, RDVY, CN, SDIV, FNC...      0.684111   \n",
       "17987  [TOK, SMEZ, EZA, BBH, GXF, TNA, UDOW, EWT, PSQ...      0.425618   \n",
       "17990  [XSMO, IQDF, KIE, RING, FMAT, FENY, EXI, UWM, ...      0.367182   \n",
       "\n",
       "       Annual Return  Annual STD  \n",
       "2           0.120226    0.212881  \n",
       "3           0.115168    0.204432  \n",
       "4           0.094329    0.180331  \n",
       "5           0.030540    0.226449  \n",
       "6           0.098377    0.183195  \n",
       "...              ...         ...  \n",
       "17969       0.098076    0.171227  \n",
       "17978      -0.020176    0.137139  \n",
       "17984       0.132154    0.193176  \n",
       "17987       0.091966    0.216077  \n",
       "17990       0.079958    0.217762  \n",
       "\n",
       "[8996 rows x 6 columns]"
      ],
      "text/html": "<div>\n<style scoped>\n    .dataframe tbody tr th:only-of-type {\n        vertical-align: middle;\n    }\n\n    .dataframe tbody tr th {\n        vertical-align: top;\n    }\n\n    .dataframe thead th {\n        text-align: right;\n    }\n</style>\n<table border=\"1\" class=\"dataframe\">\n  <thead>\n    <tr style=\"text-align: right;\">\n      <th></th>\n      <th>PDI_INDEX</th>\n      <th># of Assets</th>\n      <th>Assets</th>\n      <th>Sharpe Ratio</th>\n      <th>Annual Return</th>\n      <th>Annual STD</th>\n    </tr>\n  </thead>\n  <tbody>\n    <tr>\n      <th>2</th>\n      <td>1.210099</td>\n      <td>3</td>\n      <td>[KRE, CHIQ, FPA]</td>\n      <td>0.564758</td>\n      <td>0.120226</td>\n      <td>0.212881</td>\n    </tr>\n    <tr>\n      <th>3</th>\n      <td>1.204287</td>\n      <td>3</td>\n      <td>[FYT, SYG, MDYG]</td>\n      <td>0.563357</td>\n      <td>0.115168</td>\n      <td>0.204432</td>\n    </tr>\n    <tr>\n      <th>4</th>\n      <td>1.750332</td>\n      <td>3</td>\n      <td>[MMTM, IAK, ZDEU]</td>\n      <td>0.523091</td>\n      <td>0.094329</td>\n      <td>0.180331</td>\n    </tr>\n    <tr>\n      <th>5</th>\n      <td>1.385366</td>\n      <td>3</td>\n      <td>[FENY, DFJ, PYZ]</td>\n      <td>0.134866</td>\n      <td>0.030540</td>\n      <td>0.226449</td>\n    </tr>\n    <tr>\n      <th>6</th>\n      <td>1.134295</td>\n      <td>3</td>\n      <td>[TOLZ, RFG, XLY]</td>\n      <td>0.537009</td>\n      <td>0.098377</td>\n      <td>0.183195</td>\n    </tr>\n    <tr>\n      <th>...</th>\n      <td>...</td>\n      <td>...</td>\n      <td>...</td>\n      <td>...</td>\n      <td>...</td>\n      <td>...</td>\n    </tr>\n    <tr>\n      <th>17969</th>\n      <td>1.313271</td>\n      <td>11</td>\n      <td>[SPLV, EWC, QLD, DTD, XLV, EMQQ, EWM, PBE, SAA...</td>\n      <td>0.572785</td>\n      <td>0.098076</td>\n      <td>0.171227</td>\n    </tr>\n    <tr>\n      <th>17978</th>\n      <td>1.119875</td>\n      <td>11</td>\n      <td>[SCHE, EUSA, JKI, DLS, ASEA, XMLV, DOO, SDY, M...</td>\n      <td>-0.147118</td>\n      <td>-0.020176</td>\n      <td>0.137139</td>\n    </tr>\n    <tr>\n      <th>17984</th>\n      <td>1.718354</td>\n      <td>11</td>\n      <td>[SIL, XLG, QQQE, PSJ, FDT, RDVY, CN, SDIV, FNC...</td>\n      <td>0.684111</td>\n      <td>0.132154</td>\n      <td>0.193176</td>\n    </tr>\n    <tr>\n      <th>17987</th>\n      <td>1.192784</td>\n      <td>11</td>\n      <td>[TOK, SMEZ, EZA, BBH, GXF, TNA, UDOW, EWT, PSQ...</td>\n      <td>0.425618</td>\n      <td>0.091966</td>\n      <td>0.216077</td>\n    </tr>\n    <tr>\n      <th>17990</th>\n      <td>2.047216</td>\n      <td>11</td>\n      <td>[XSMO, IQDF, KIE, RING, FMAT, FENY, EXI, UWM, ...</td>\n      <td>0.367182</td>\n      <td>0.079958</td>\n      <td>0.217762</td>\n    </tr>\n  </tbody>\n</table>\n<p>8996 rows × 6 columns</p>\n</div>"
     },
     "metadata": {},
     "execution_count": 42
    }
   ],
   "source": [
    " df_1 = PDI_DF[PDI_DF[\"PDI_INDEX\"] <= a]\n",
    " df_1"
   ]
  },
  {
   "cell_type": "code",
   "execution_count": 32,
   "metadata": {},
   "outputs": [
    {
     "output_type": "execute_result",
     "data": {
      "text/plain": [
       "0.5    0.497023\n",
       "Name: Sharpe Ratio, dtype: float64"
      ]
     },
     "metadata": {},
     "execution_count": 32
    }
   ],
   "source": [
    "PDI_DF[\"Sharpe Ratio\"].quantile([0.5])"
   ]
  },
  {
   "cell_type": "code",
   "execution_count": 12,
   "metadata": {},
   "outputs": [],
   "source": [
    "#0 - 0.25 quantile\n",
    "df_1 = PDI_DF[(PDI_DF[\"PDI_INDEX\"] <= 2.04)]\n",
    "df_2 = PDI_DF[(PDI_DF[\"PDI_INDEX\"] > 2.04) ]\n",
    "# #0.25 - 0.5 quantile\n",
    "# df_2 = PDI_DF[(PDI_DF[\"PDI_INDEX\"] <= 1.647235)&(PDI_DF[\"PDI_INDEX\"] > 1.181088) & (PDI_DF[\"Sharpe Ratio\"] >= 0)]\n",
    "# #0-.5 - 0.75 quantile\n",
    "# df_3 = PDI_DF[(PDI_DF[\"PDI_INDEX\"] > 1.647235)&(PDI_DF[\"PDI_INDEX\"] <= 2.143900)& (PDI_DF[\"Sharpe Ratio\"] >= 0)]\n",
    "# #0.75-1\n",
    "# df_4 = PDI_DF[(PDI_DF[\"PDI_INDEX\"] > 2.143900) & (PDI_DF[\"Sharpe Ratio\"] >= 0)]"
   ]
  },
  {
   "cell_type": "code",
   "execution_count": 48,
   "metadata": {},
   "outputs": [],
   "source": [
    "qq_dict = {}\n",
    "for i in range(3,11,1):\n",
    "    qq_dict[i] = {}\n",
    "    dff_pdi = PDI_DF[PDI_DF[\"# of Assets\"] == str(i)]\n",
    "    q_mid = dff_pdi[\"Sharpe Ratio\"].quantile(0.5)\n",
    "    df_1 = dff_pdi[dff_pdi[\"PDI_INDEX\"] < q_mid]\n",
    "    df_2 = dff_pdi[dff_pdi[\"PDI_INDEX\"] >= q_mid]\n",
    "\n",
    "    for frame,q in zip([df_1,df_2],[\"qq\",\"qqq\"]):\n",
    "        qq_dict[i][q] = {}\n",
    "        for ii in enumerate(frame[\"Assets\"]):\n",
    "            n_assets = len(ii[1])\n",
    "            portfolio_weights_ew = np.repeat(1/n_assets, n_assets)\n",
    "            port_weekly_return = weekly_return[ii[1]].mul(portfolio_weights_ew,axis=1).sum(axis=1)\n",
    "            qq_dict[i][str(q)][str(ii[0])] = port_weekly_return\n",
    "\n",
    "\n"
   ]
  },
  {
   "cell_type": "code",
   "execution_count": 50,
   "metadata": {},
   "outputs": [
    {
     "output_type": "execute_result",
     "data": {
      "text/plain": [
       "dict_keys([])"
      ]
     },
     "metadata": {},
     "execution_count": 50
    }
   ],
   "source": [
    "qq_dict[5][\"qq\"].keys()"
   ]
  },
  {
   "cell_type": "code",
   "execution_count": 165,
   "metadata": {},
   "outputs": [
    {
     "output_type": "execute_result",
     "data": {
      "text/plain": [
       "      PDI_INDEX # of Assets              Assets  Sharpe Ratio  Annual Return  \\\n",
       "2      1.015579           3     [IEV, DAX, LTL]      0.227715       0.054047   \n",
       "3      1.559447           3     [GDX, FCG, XSW]      0.175919       0.050042   \n",
       "4      1.615490           3   [EIS, ARKG, HACK]      0.790402       0.182831   \n",
       "5      1.834083           3   [DBAW, IYE, SCHD]      0.198582       0.039487   \n",
       "6      1.485642           3   [EQWL, RWJ, ARKQ]      0.743141       0.160735   \n",
       "...         ...         ...                 ...           ...            ...   \n",
       "1996   1.042407           3  [EEMV, ACWX, WBIE]      0.371361       0.049966   \n",
       "1997   1.274512           3     [PBS, PFM, UGE]      0.682728       0.138336   \n",
       "1998   1.359170           3   [DES, TECL, XMMO]      0.863799       0.268921   \n",
       "1999   1.060498           3    [SUSA, DWX, EQL]      0.572215       0.089466   \n",
       "2000   1.000905           3  [VONE, SPUU, KBWR]      0.578451       0.139241   \n",
       "\n",
       "      Annual STD  \n",
       "2       0.237344  \n",
       "3       0.284458  \n",
       "4       0.231315  \n",
       "5       0.198846  \n",
       "6       0.216292  \n",
       "...          ...  \n",
       "1996    0.134547  \n",
       "1997    0.202622  \n",
       "1998    0.311324  \n",
       "1999    0.156350  \n",
       "2000    0.240713  \n",
       "\n",
       "[1999 rows x 6 columns]"
      ],
      "text/html": "<div>\n<style scoped>\n    .dataframe tbody tr th:only-of-type {\n        vertical-align: middle;\n    }\n\n    .dataframe tbody tr th {\n        vertical-align: top;\n    }\n\n    .dataframe thead th {\n        text-align: right;\n    }\n</style>\n<table border=\"1\" class=\"dataframe\">\n  <thead>\n    <tr style=\"text-align: right;\">\n      <th></th>\n      <th>PDI_INDEX</th>\n      <th># of Assets</th>\n      <th>Assets</th>\n      <th>Sharpe Ratio</th>\n      <th>Annual Return</th>\n      <th>Annual STD</th>\n    </tr>\n  </thead>\n  <tbody>\n    <tr>\n      <th>2</th>\n      <td>1.015579</td>\n      <td>3</td>\n      <td>[IEV, DAX, LTL]</td>\n      <td>0.227715</td>\n      <td>0.054047</td>\n      <td>0.237344</td>\n    </tr>\n    <tr>\n      <th>3</th>\n      <td>1.559447</td>\n      <td>3</td>\n      <td>[GDX, FCG, XSW]</td>\n      <td>0.175919</td>\n      <td>0.050042</td>\n      <td>0.284458</td>\n    </tr>\n    <tr>\n      <th>4</th>\n      <td>1.615490</td>\n      <td>3</td>\n      <td>[EIS, ARKG, HACK]</td>\n      <td>0.790402</td>\n      <td>0.182831</td>\n      <td>0.231315</td>\n    </tr>\n    <tr>\n      <th>5</th>\n      <td>1.834083</td>\n      <td>3</td>\n      <td>[DBAW, IYE, SCHD]</td>\n      <td>0.198582</td>\n      <td>0.039487</td>\n      <td>0.198846</td>\n    </tr>\n    <tr>\n      <th>6</th>\n      <td>1.485642</td>\n      <td>3</td>\n      <td>[EQWL, RWJ, ARKQ]</td>\n      <td>0.743141</td>\n      <td>0.160735</td>\n      <td>0.216292</td>\n    </tr>\n    <tr>\n      <th>...</th>\n      <td>...</td>\n      <td>...</td>\n      <td>...</td>\n      <td>...</td>\n      <td>...</td>\n      <td>...</td>\n    </tr>\n    <tr>\n      <th>1996</th>\n      <td>1.042407</td>\n      <td>3</td>\n      <td>[EEMV, ACWX, WBIE]</td>\n      <td>0.371361</td>\n      <td>0.049966</td>\n      <td>0.134547</td>\n    </tr>\n    <tr>\n      <th>1997</th>\n      <td>1.274512</td>\n      <td>3</td>\n      <td>[PBS, PFM, UGE]</td>\n      <td>0.682728</td>\n      <td>0.138336</td>\n      <td>0.202622</td>\n    </tr>\n    <tr>\n      <th>1998</th>\n      <td>1.359170</td>\n      <td>3</td>\n      <td>[DES, TECL, XMMO]</td>\n      <td>0.863799</td>\n      <td>0.268921</td>\n      <td>0.311324</td>\n    </tr>\n    <tr>\n      <th>1999</th>\n      <td>1.060498</td>\n      <td>3</td>\n      <td>[SUSA, DWX, EQL]</td>\n      <td>0.572215</td>\n      <td>0.089466</td>\n      <td>0.156350</td>\n    </tr>\n    <tr>\n      <th>2000</th>\n      <td>1.000905</td>\n      <td>3</td>\n      <td>[VONE, SPUU, KBWR]</td>\n      <td>0.578451</td>\n      <td>0.139241</td>\n      <td>0.240713</td>\n    </tr>\n  </tbody>\n</table>\n<p>1999 rows × 6 columns</p>\n</div>"
     },
     "metadata": {},
     "execution_count": 165
    }
   ],
   "source": [
    "for i in range(3,11,1):\n",
    "    \n",
    "    testtest = pd.DataFrame()\n",
    "    testtest[\"q1\"] = pd.DataFrame(qq_dict[\"q1\"]).mean(axis=1)\n",
    "    testtest[\"q2\"] = pd.DataFrame(qq_dict[\"q2\"]).mean(axis=1)\n",
    "    testtest = testtest.cumsum(axis=0)\n",
    "    fig = px.line(testtest, x= testtest.index, y=testtest.columns)\n",
    "    fig.show()"
   ]
  },
  {
   "cell_type": "code",
   "execution_count": 163,
   "metadata": {},
   "outputs": [
    {
     "output_type": "execute_result",
     "data": {
      "text/plain": [
       "{'q1': {}, 'q2': {}}"
      ]
     },
     "metadata": {},
     "execution_count": 163
    }
   ],
   "source": [
    "qq_dict[3]"
   ]
  },
  {
   "cell_type": "code",
   "execution_count": null,
   "metadata": {},
   "outputs": [],
   "source": [
    "    testtest = pd.DataFrame()\n",
    "    testtest[\"q1\"] = pd.DataFrame(qq_dict[\"q1\"]).mean(axis=1)\n",
    "    testtest[\"q2\"] = pd.DataFrame(qq_dict[\"q2\"]).mean(axis=1)\n",
    "    testtest = testtest.cumsum(axis=0)\n",
    "    testtest[\"id\"] = testtest.index\n",
    "    fff = pd.wide_to_long(testtest,stubnames=\"q\", i=\"id\", j=\"quantile\")\n",
    "    fff = fff.reset_index().set_index(\"id\")\n",
    "    print(fff)\n",
    "    fig = px.line(fff, x= fff.index, y=\"q\")\n",
    "    fig.show()\n"
   ]
  },
  {
   "cell_type": "code",
   "execution_count": null,
   "metadata": {},
   "outputs": [],
   "source": [
    "len(df_1)"
   ]
  },
  {
   "cell_type": "code",
   "execution_count": null,
   "metadata": {},
   "outputs": [],
   "source": [
    "weekly_return.index = pd.to_datetime(weekly_return.index)"
   ]
  },
  {
   "cell_type": "code",
   "execution_count": null,
   "metadata": {
    "tags": []
   },
   "outputs": [],
   "source": [
    "qq = []\n",
    "year = []\n",
    "porti = []\n",
    "num_as = []\n",
    "sr = []\n",
    "ar = []\n",
    "std = []\n",
    "for i in list(weekly_return.index.year.unique()):\n",
    "    for dfs,q in zip([df_1,df_2], [\"q1\",\"q2\"]):\n",
    "        for port in dfs[\"Assets\"]:\n",
    "            n_assets = len(port)\n",
    "            portfolio_weights_ew = np.repeat(1/n_assets, n_assets)\n",
    "            port_weekly_return = weekly_return[weekly_return.index.year == i][port].mul(portfolio_weights_ew,axis=1).mean(axis=1)\n",
    "            ann_ret = meanRetAn(list(port_weekly_return))\n",
    "            an_cov = weekly_return[weekly_return.index.year == i][port].cov()\n",
    "            port_std = np.sqrt(np.dot(portfolio_weights_ew.T, np.dot(an_cov, portfolio_weights_ew)))*np.sqrt(52)\n",
    "            qq.append(q)\n",
    "            year.append(i)\n",
    "            porti.append(port)\n",
    "            num_as.append(len(port))\n",
    "            sr.append(ann_ret/port_std)\n",
    "            ar.append(ann_ret)\n",
    "            std.append(port_std)\n"
   ]
  },
  {
   "cell_type": "code",
   "execution_count": null,
   "metadata": {},
   "outputs": [],
   "source": [
    "df = pd.DataFrame()\n",
    "df[\"year\"] = year\n",
    "df[\"q\"] = qq\n",
    "df[\"aret\"] = ar\n",
    "df[\"prt\"] = porti\n",
    "df[\"std\"] = std\n",
    "df[\"num_p\"] = num_as\n",
    "df[\"prt\"] = df[\"prt\"].astype(str)\n",
    "df[\"aret\"] = df[\"aret\"].astype(float)"
   ]
  },
  {
   "cell_type": "code",
   "execution_count": null,
   "metadata": {},
   "outputs": [],
   "source": [
    "dff = df.groupby([\"year\", \"q\"])[[\"aret\",\"std\"]].mean()\n",
    "dff = pd.DataFrame(dff).reset_index()"
   ]
  },
  {
   "cell_type": "code",
   "execution_count": null,
   "metadata": {},
   "outputs": [],
   "source": [
    "fig = px.bar(dff, x='year', y='aret', color=\"q\",barmode='group', hover_data = [\"std\"])\n",
    "fig.show()"
   ]
  },
  {
   "cell_type": "code",
   "execution_count": null,
   "metadata": {},
   "outputs": [],
   "source": [
    "df_1.head()"
   ]
  },
  {
   "cell_type": "code",
   "execution_count": null,
   "metadata": {},
   "outputs": [],
   "source": [
    "px.histogram(df_2, x=\"Annual Return\")"
   ]
  },
  {
   "cell_type": "code",
   "execution_count": 173,
   "metadata": {},
   "outputs": [],
   "source": [
    "\n",
    "qq_dict = {}\n",
    "\n",
    "for i,q in zip([df_1,df_2], [\"q1\",\"q2\"]):\n",
    "    qq_dict[q] = {}\n",
    "    for ii in enumerate(i[\"Assets\"]):\n",
    "        n_assets = len(ii[1])\n",
    "        portfolio_weights_ew = np.repeat(1/n_assets, n_assets)\n",
    "        port_weekly_return = weekly_return[ii[1]].mul(portfolio_weights_ew,axis=1).sum(axis=1)\n",
    "        qq_dict[q][ii[0]] = port_weekly_return\n",
    "\n"
   ]
  },
  {
   "cell_type": "code",
   "execution_count": 174,
   "metadata": {},
   "outputs": [],
   "source": [
    "testtest = pd.DataFrame()\n",
    "testtest[\"q1\"] = pd.DataFrame(qq_dict[\"q1\"]).mean(axis=1)\n",
    "testtest[\"q2\"] = pd.DataFrame(qq_dict[\"q2\"]).mean(axis=1)\n",
    "testtest = testtest.cumsum(axis=0)\n"
   ]
  },
  {
   "cell_type": "code",
   "execution_count": 175,
   "metadata": {},
   "outputs": [
    {
     "output_type": "execute_result",
     "data": {
      "text/plain": [
       "                  q1        q2\n",
       "Date                          \n",
       "2015-01-14 -0.002192 -0.001945\n",
       "2015-01-21  0.013071  0.014089\n",
       "2015-01-28  0.007894  0.008584\n",
       "2015-02-04  0.024714  0.026921\n",
       "2015-02-11  0.027821  0.031518\n",
       "...              ...       ...\n",
       "2020-12-02  0.570970  0.631153\n",
       "2020-12-09  0.585042  0.647037\n",
       "2020-12-16  0.597654  0.661405\n",
       "2020-12-23  0.601758  0.665423\n",
       "2020-12-30  0.609324  0.673793\n",
       "\n",
       "[308 rows x 2 columns]"
      ],
      "text/html": "<div>\n<style scoped>\n    .dataframe tbody tr th:only-of-type {\n        vertical-align: middle;\n    }\n\n    .dataframe tbody tr th {\n        vertical-align: top;\n    }\n\n    .dataframe thead th {\n        text-align: right;\n    }\n</style>\n<table border=\"1\" class=\"dataframe\">\n  <thead>\n    <tr style=\"text-align: right;\">\n      <th></th>\n      <th>q1</th>\n      <th>q2</th>\n    </tr>\n    <tr>\n      <th>Date</th>\n      <th></th>\n      <th></th>\n    </tr>\n  </thead>\n  <tbody>\n    <tr>\n      <th>2015-01-14</th>\n      <td>-0.002192</td>\n      <td>-0.001945</td>\n    </tr>\n    <tr>\n      <th>2015-01-21</th>\n      <td>0.013071</td>\n      <td>0.014089</td>\n    </tr>\n    <tr>\n      <th>2015-01-28</th>\n      <td>0.007894</td>\n      <td>0.008584</td>\n    </tr>\n    <tr>\n      <th>2015-02-04</th>\n      <td>0.024714</td>\n      <td>0.026921</td>\n    </tr>\n    <tr>\n      <th>2015-02-11</th>\n      <td>0.027821</td>\n      <td>0.031518</td>\n    </tr>\n    <tr>\n      <th>...</th>\n      <td>...</td>\n      <td>...</td>\n    </tr>\n    <tr>\n      <th>2020-12-02</th>\n      <td>0.570970</td>\n      <td>0.631153</td>\n    </tr>\n    <tr>\n      <th>2020-12-09</th>\n      <td>0.585042</td>\n      <td>0.647037</td>\n    </tr>\n    <tr>\n      <th>2020-12-16</th>\n      <td>0.597654</td>\n      <td>0.661405</td>\n    </tr>\n    <tr>\n      <th>2020-12-23</th>\n      <td>0.601758</td>\n      <td>0.665423</td>\n    </tr>\n    <tr>\n      <th>2020-12-30</th>\n      <td>0.609324</td>\n      <td>0.673793</td>\n    </tr>\n  </tbody>\n</table>\n<p>308 rows × 2 columns</p>\n</div>"
     },
     "metadata": {},
     "execution_count": 175
    }
   ],
   "source": [
    "testtest"
   ]
  },
  {
   "cell_type": "code",
   "execution_count": 176,
   "metadata": {},
   "outputs": [],
   "source": [
    "fig = px.line(testtest, x= testtest.index, y=testtest.columns )\n",
    "fig.show()"
   ]
  },
  {
   "cell_type": "code",
   "execution_count": null,
   "metadata": {},
   "outputs": [],
   "source": []
  },
  {
   "cell_type": "code",
   "execution_count": null,
   "metadata": {},
   "outputs": [],
   "source": []
  },
  {
   "cell_type": "code",
   "execution_count": null,
   "metadata": {},
   "outputs": [],
   "source": [
    "tickers = list(fundamental_df.index)\n",
    "startDate = \"2015-01-01\"\n",
    "endDate = \"2021-01-01\"\n",
    "dailyPrices = data.DataReader(tickers, 'yahoo', startDate, endDate)"
   ]
  },
  {
   "cell_type": "code",
   "execution_count": null,
   "metadata": {},
   "outputs": [],
   "source": [
    "dailyPrices = dailyPrices[\"Adj Close\"]"
   ]
  },
  {
   "cell_type": "code",
   "execution_count": null,
   "metadata": {},
   "outputs": [],
   "source": [
    "dailyPrices.to_csv(\"DailyPrices.csv\")"
   ]
  },
  {
   "cell_type": "code",
   "execution_count": null,
   "metadata": {},
   "outputs": [],
   "source": [
    "pricesWed = dailyPrices[dailyPrices.index.weekday==2] "
   ]
  },
  {
   "source": [
    " weeklyPrices = pricesWed.dropna(axis=1)                 #delete NaN columns\n",
    "    \n",
    "# GET WEEKLY RETURNS\n",
    "weeklyReturns = weeklyPrices.pct_change()                  \n",
    "weeklyReturns = weeklyReturns.drop(weeklyReturns.index[:1]) "
   ],
   "cell_type": "markdown",
   "metadata": {}
  },
  {
   "source": [
    "weeklyReturns.to_csv(\"WeeklyReturns.csv\")"
   ],
   "cell_type": "markdown",
   "metadata": {}
  },
  {
   "cell_type": "code",
   "execution_count": null,
   "metadata": {},
   "outputs": [],
   "source": []
  }
 ]
}