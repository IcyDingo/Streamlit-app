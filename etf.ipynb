{
 "metadata": {
  "language_info": {
   "codemirror_mode": {
    "name": "ipython",
    "version": 3
   },
   "file_extension": ".py",
   "mimetype": "text/x-python",
   "name": "python",
   "nbconvert_exporter": "python",
   "pygments_lexer": "ipython3",
   "version": "3.9.1"
  },
  "orig_nbformat": 2,
  "kernelspec": {
   "name": "python3",
   "display_name": "Python 3.9.1 64-bit",
   "metadata": {
    "interpreter": {
     "hash": "aee8b7b246df8f9039afb4144a1f6fd8d2ca17a180786b69acc140d282b71a49"
    }
   }
  }
 },
 "nbformat": 4,
 "nbformat_minor": 2,
 "cells": [
  {
   "cell_type": "code",
   "execution_count": 1,
   "metadata": {},
   "outputs": [],
   "source": [
    "import scipy.optimize as sco\n",
    "import pandas as pd \n",
    "import numpy as np \n",
    "from numpy import array\n",
    "from numpy import mean\n",
    "from numpy import cov\n",
    "from numpy.linalg import eig\n",
    "from tqdm import tqdm\n",
    "from pulp import *\n",
    "import plotly.express as px \n",
    "from sklearn.decomposition import PCA\n",
    "import random\n",
    "import plotly.io as pio \n",
    "pio.renderers.default = \"browser\"\n",
    "import plotly.graph_objects as go\n",
    "from pandas_datareader import data"
   ]
  },
  {
   "cell_type": "code",
   "execution_count": 2,
   "metadata": {},
   "outputs": [],
   "source": [
    "    def meanRetAn(data):             \n",
    "        Result = 1\n",
    "        \n",
    "        for i in data:\n",
    "            Result *= (1+i)\n",
    "            \n",
    "        Result = Result**(1/float(len(data)/52))-1\n",
    "        \n",
    "        return(Result)"
   ]
  },
  {
   "cell_type": "code",
   "execution_count": 3,
   "metadata": {},
   "outputs": [
    {
     "output_type": "execute_result",
     "data": {
      "text/plain": [
       "695"
      ]
     },
     "metadata": {},
     "execution_count": 3
    }
   ],
   "source": [
    "df = pd.read_csv(\"ETFs_info.csv\", index_col=\"Ticker\")\n",
    "df[\"Inception\"] = pd.to_datetime(df[\"Inception\"])\n",
    "df = df[df[\"Inception\"] <= \"2015-01-01\"]\n",
    "\n",
    "fundamental_df = pd.read_csv(\"fund_risk_cluster_reduced.csv\",index_col=\"Ticker\") #Fundamental Clustering Data\n",
    "weekly_return = pd.read_csv(\"WeeklyReturns.csv\",index_col=\"Date\") #Weekly Return Data\n",
    "fundamental_df = fundamental_df.loc[fundamental_df.index.intersection(weekly_return.columns)]\n",
    "fundamental_df = fundamental_df.loc[fundamental_df.index.intersection(df.index)]\n",
    "len(fundamental_df)"
   ]
  },
  {
   "cell_type": "code",
   "execution_count": 4,
   "metadata": {},
   "outputs": [
    {
     "output_type": "execute_result",
     "data": {
      "text/plain": [
       "                       Category            Fundamental Cluster  \\\n",
       "SPY                 Large Blend  High Fundamental Broad Market   \n",
       "IVV                 Large Blend  High Fundamental Broad Market   \n",
       "VTI                 Large Blend  High Fundamental Broad Market   \n",
       "VOO                 Large Blend  High Fundamental Broad Market   \n",
       "QQQ                Large Growth  High Fundamental Broad Market   \n",
       "...                         ...                            ...   \n",
       "FTAG          Natural Resources  Mid Fundamentals Broad Market   \n",
       "CHII               China Region  Low Fundamentals Broad Market   \n",
       "CHIM               China Region  Low Fundamentals Broad Market   \n",
       "CHIE               China Region  Low Fundamentals Broad Market   \n",
       "LTL   Trading--Leveraged Equity           Market Leveraged ETF   \n",
       "\n",
       "                                           Risk Cluster  \n",
       "SPY   Moderat/High Risk - Slightly Above Market Vola...  \n",
       "IVV   Moderat/High Risk - Slightly Above Market Vola...  \n",
       "VTI   Moderat/High Risk - Slightly Above Market Vola...  \n",
       "VOO   Moderat/High Risk - Slightly Above Market Vola...  \n",
       "QQQ   Moderat/High Risk - Slightly Above Market Vola...  \n",
       "...                                                 ...  \n",
       "FTAG     Moderat Risk - Slighty Below Market Volatility  \n",
       "CHII     Moderat Risk - Slighty Below Market Volatility  \n",
       "CHIM  Moderat/High Risk - Slightly Above Market Vola...  \n",
       "CHIE     Moderat Risk - Slighty Below Market Volatility  \n",
       "LTL                  High Risk - Double Market Volatile  \n",
       "\n",
       "[695 rows x 3 columns]"
      ],
      "text/html": "<div>\n<style scoped>\n    .dataframe tbody tr th:only-of-type {\n        vertical-align: middle;\n    }\n\n    .dataframe tbody tr th {\n        vertical-align: top;\n    }\n\n    .dataframe thead th {\n        text-align: right;\n    }\n</style>\n<table border=\"1\" class=\"dataframe\">\n  <thead>\n    <tr style=\"text-align: right;\">\n      <th></th>\n      <th>Category</th>\n      <th>Fundamental Cluster</th>\n      <th>Risk Cluster</th>\n    </tr>\n  </thead>\n  <tbody>\n    <tr>\n      <th>SPY</th>\n      <td>Large Blend</td>\n      <td>High Fundamental Broad Market</td>\n      <td>Moderat/High Risk - Slightly Above Market Vola...</td>\n    </tr>\n    <tr>\n      <th>IVV</th>\n      <td>Large Blend</td>\n      <td>High Fundamental Broad Market</td>\n      <td>Moderat/High Risk - Slightly Above Market Vola...</td>\n    </tr>\n    <tr>\n      <th>VTI</th>\n      <td>Large Blend</td>\n      <td>High Fundamental Broad Market</td>\n      <td>Moderat/High Risk - Slightly Above Market Vola...</td>\n    </tr>\n    <tr>\n      <th>VOO</th>\n      <td>Large Blend</td>\n      <td>High Fundamental Broad Market</td>\n      <td>Moderat/High Risk - Slightly Above Market Vola...</td>\n    </tr>\n    <tr>\n      <th>QQQ</th>\n      <td>Large Growth</td>\n      <td>High Fundamental Broad Market</td>\n      <td>Moderat/High Risk - Slightly Above Market Vola...</td>\n    </tr>\n    <tr>\n      <th>...</th>\n      <td>...</td>\n      <td>...</td>\n      <td>...</td>\n    </tr>\n    <tr>\n      <th>FTAG</th>\n      <td>Natural Resources</td>\n      <td>Mid Fundamentals Broad Market</td>\n      <td>Moderat Risk - Slighty Below Market Volatility</td>\n    </tr>\n    <tr>\n      <th>CHII</th>\n      <td>China Region</td>\n      <td>Low Fundamentals Broad Market</td>\n      <td>Moderat Risk - Slighty Below Market Volatility</td>\n    </tr>\n    <tr>\n      <th>CHIM</th>\n      <td>China Region</td>\n      <td>Low Fundamentals Broad Market</td>\n      <td>Moderat/High Risk - Slightly Above Market Vola...</td>\n    </tr>\n    <tr>\n      <th>CHIE</th>\n      <td>China Region</td>\n      <td>Low Fundamentals Broad Market</td>\n      <td>Moderat Risk - Slighty Below Market Volatility</td>\n    </tr>\n    <tr>\n      <th>LTL</th>\n      <td>Trading--Leveraged Equity</td>\n      <td>Market Leveraged ETF</td>\n      <td>High Risk - Double Market Volatile</td>\n    </tr>\n  </tbody>\n</table>\n<p>695 rows × 3 columns</p>\n</div>"
     },
     "metadata": {},
     "execution_count": 4
    }
   ],
   "source": [
    "fundamental_df"
   ]
  },
  {
   "cell_type": "code",
   "execution_count": 5,
   "metadata": {},
   "outputs": [],
   "source": [
    "ticks = list(fundamental_df.index)"
   ]
  },
  {
   "cell_type": "code",
   "execution_count": 6,
   "metadata": {},
   "outputs": [],
   "source": [
    "\n",
    "# startDate = \"2015-01-01\"\n",
    "# endDate = \"2021-01-01\"\n",
    "# # DOWNLOAD THE DATA FROM YAHOO DATABASE\n",
    "# #------------------------------------------------------------------\n",
    "# dailyPrices = data.DataReader(ticks, 'yahoo', startDate, endDate)\n",
    "# dailyPrices = dailyPrices[\"Adj Close\"]"
   ]
  },
  {
   "cell_type": "code",
   "execution_count": 7,
   "metadata": {},
   "outputs": [],
   "source": [
    "# dailyPrices.to_csv(\"Dailyprices.csv\", index=\"Date\")\n",
    "# daily_prices = pd.read_csv(\"DailyPrices.csv\", index_col=\"Date\")"
   ]
  },
  {
   "cell_type": "code",
   "execution_count": 8,
   "metadata": {},
   "outputs": [],
   "source": [
    "def calculate_pdi( weekly_returns, portfolios, return_mean_range): \n",
    "\n",
    "    def meanRetAn(data):             \n",
    "        Result = 1\n",
    "        \n",
    "        for i in data:\n",
    "            Result *= (1+i)\n",
    "            \n",
    "        Result = Result**(1/float(len(data)/return_mean_range))-1\n",
    "        \n",
    "        return(Result)\n",
    "\n",
    "    pca = PCA()\n",
    "    PDI_dict = {}\n",
    "\n",
    "    for i,y in tqdm(zip(portfolios,range(1,len(portfolios)+1))):\n",
    "        n_assets = len(i)\n",
    "        portfolio_weights_ew = np.repeat(1/n_assets, n_assets)\n",
    "        port_ret  = weekly_returns[i].mul(portfolio_weights_ew,axis=1).sum(axis=1)\n",
    "\n",
    "        ann_ret = meanRetAn(list(port_ret))\n",
    "        an_cov = weekly_returns[i].cov()\n",
    "        port_std = np.sqrt(np.dot(portfolio_weights_ew.T, np.dot(an_cov, portfolio_weights_ew)))*np.sqrt(return_mean_range)\n",
    "        corr_matrix = np.array(weekly_returns[i].corr().replace(np.nan, 0))\n",
    "        principalComponents = pca.fit(corr_matrix)\n",
    "        PDI = 2*sum(principalComponents.explained_variance_ratio_*range(1,len(principalComponents.explained_variance_ratio_)+1,1))-1\n",
    "\n",
    "        PDI_dict[y] = {}\n",
    "        PDI_dict[y][\"PDI_INDEX\"] = PDI\n",
    "        PDI_dict[y][\"# of Assets\"] = len(i)\n",
    "        PDI_dict[y][\"Assets\"] = i\n",
    "        PDI_dict[y][\"Sharpe Ratio\"] = ann_ret/port_std\n",
    "        PDI_dict[y][\"Annual Return\"] = ann_ret\n",
    "        PDI_dict[y][\"Annual STD\"] = port_std\n",
    "\n",
    "\n",
    "\n",
    "    \n",
    "\n",
    "        \n",
    "\n",
    "\n",
    "    PDI_DF = pd.DataFrame(PDI_dict).T\n",
    "    #PDI_DF[\"Assets\"] = PDI_DF[\"Assets\"].astype(str)\n",
    "    PDI_DF[\"# of Assets\"] = PDI_DF[\"# of Assets\"].astype(str)\n",
    "    PDI_DF[\"Sharpe Ratio\"] = PDI_DF[\"Sharpe Ratio\"].astype(float)\n",
    "    PDI_DF[\"Annual STD\"] = PDI_DF[\"Annual STD\"].astype(float)\n",
    "    PDI_DF[\"PDI_INDEX\"] = PDI_DF[\"PDI_INDEX\"].astype(float)\n",
    "    PDI_DF[\"Annual Return\"] = PDI_DF[\"Annual Return\"].astype(float)\n",
    "    SPY_DF = PDI_DF.iloc[0,:]\n",
    "    return PDI_DF,SPY_DF"
   ]
  },
  {
   "cell_type": "code",
   "execution_count": 15,
   "metadata": {},
   "outputs": [],
   "source": [
    "def pca_per(return_data, initial_port, interval, ret_range_mean):\n",
    "\n",
    "    data = return_data.copy() # data containing weekly returns\n",
    "    tickers = list(data.columns)\n",
    "    data.index = pd.to_datetime(data.index) # Conveting the index which is date to datetime\n",
    "    weeks_list = data.index # grabbing all index dates\n",
    "    data.index = data.index.to_period(interval) # converting the index to quarterly sets\n",
    "    periods = data.index.unique() # taking the unique quarters to loop\n",
    "\n",
    "    \n",
    "    print(periods)\n",
    "    first_period = periods[0] # the first period of the time frame\n",
    "    remaining_periods = periods[1:] # the remianing periods of the time framr\n",
    "    first_periods = periods[:-1] # all periods minus the last\n",
    "\n",
    "    def meanRetAn(data):             \n",
    "        Result = 1\n",
    "        \n",
    "        for i in data:\n",
    "            Result *= (1+i)\n",
    "            \n",
    "        Result = Result**(1/float(len(data)/ret_range_mean))-1\n",
    "        \n",
    "        return(Result)\n",
    "\n",
    "\n",
    "\n",
    "    def optimal_weights(returns, port, lambda_l, range_period):\n",
    "\n",
    "\n",
    "        def range_return_std(returns, port, weights):\n",
    "            port_geo_ret = meanRetAn(list(returns[port].mul(weights,axis=1).sum(axis=1)))\n",
    "            an_cov = returns[port].cov()\n",
    "            port_std = np.sqrt(np.dot(weights.T, np.dot(an_cov, weights)))*np.sqrt(range_period)\n",
    "            return  port_std,port_geo_ret\n",
    "\n",
    "\n",
    "\n",
    "\n",
    "        def markowitz(weights, returns,lambda_l, port):\n",
    "            p_var, p_ret = range_return_std(returns, port, weights)\n",
    "            return -( (1- lambda_l)*p_ret - lambda_l*p_var )\n",
    "            \n",
    "        def markowitz_opt(returns, port,lambda_l):\n",
    "            num_assets = len(port)\n",
    "            args = (returns, lambda_l,port)\n",
    "            constraints = ({'type': 'eq', 'fun': lambda x: np.sum(x) - 1})\n",
    "            bound = (0.1,1)\n",
    "            bounds = tuple(bound for asset in range(num_assets))\n",
    "            result = sco.minimize(markowitz, num_assets*[1./num_assets,], args=args,\n",
    "                                method='SLSQP', bounds=bounds, constraints=constraints)\n",
    "            return result\n",
    "\n",
    "\n",
    "\n",
    "        mark = markowitz_opt(returns, port, lambda_l).x\n",
    "\n",
    "\n",
    "\n",
    "        return list(mark)\n",
    "\n",
    "\n",
    "\n",
    "    def port_ret(returns,port, period): # function for calculating returns\n",
    "        n_assets = len(port)\n",
    "        portfolio_weights_ew = np.repeat(1/n_assets, n_assets)\n",
    "        port_return = returns.loc[period][port].mul(portfolio_weights_ew,axis=1).sum(axis=1)\n",
    "        return  port_return\n",
    "\n",
    "\n",
    "    \n",
    "    def port_ret_w(returns,port,period,weights): # Calculating weightes returns\n",
    "        port_return = returns.loc[period][port].mul(weights,axis=1).sum(axis=1)\n",
    "        return  port_return\n",
    "\n",
    "\n",
    "\n",
    "    performance_eq = []\n",
    "    sharpe_performance_eq = []\n",
    "    performance_w = []\n",
    "    sharpe_performance_w = []\n",
    "    weights = []\n",
    "    weight_sr = []\n",
    "    ############################################################ Calculate first period ####################################################################################\n",
    "    #### Equal weight #####\n",
    "    print(first_period)\n",
    "    performance_eq.extend(port_ret(data, initial_port,first_period))\n",
    "    sharpe_performance_eq.extend(port_ret(data, initial_port,first_period))\n",
    "    tickers_weekly = list(data.columns)\n",
    "    number_of_assets = [len(initial_port)]\n",
    "\n",
    "    #### Weighted weight #####\n",
    "    init_data = data.loc[first_period]\n",
    "    ww = optimal_weights(init_data,initial_port,0.5,30)\n",
    "    weights.append(ww)\n",
    "    weight_sr.append(ww)\n",
    "    performance_w.extend(port_ret_w(data, initial_port, first_period,ww))\n",
    "    sharpe_performance_w.extend(port_ret_w(data, initial_port, first_period,ww))\n",
    "\n",
    "\n",
    "\n",
    "\n",
    "\n",
    "    ################################################################## Portfolio Creation ###################################################################################\n",
    "    samples = [[\"SPY\"]]\n",
    "    for number in [len(initial_port)]:\n",
    "        for i in range(1,2000):\n",
    "            #samples.extend([list(x) for x in combinations(selected_tickers, number_of_assets)])\n",
    "            samples.append(random.sample(list(tickers),number))\n",
    "    samples_mini = []\n",
    "    for i in samples:\n",
    "        if i not in samples_mini:\n",
    "            samples_mini.append(i)\n",
    "\n",
    "    print(\"Number of Portfolios: {}\".format(len(samples_mini)))\n",
    "\n",
    "    vol_d = {}\n",
    "    ######################################################## Calculation of portfolio perfomnce #############################################################################\n",
    "\n",
    "    for init_time, next_time in zip(first_periods,remaining_periods):\n",
    "        print(\"first time: {} - last time: {}\".format(init_time, next_time))\n",
    "        PDI_DF, SPY_DF = calculate_pdi(weekly_returns = data.loc[init_time].dropna(axis=1), portfolios = samples_mini, return_mean_range = 30)\n",
    "\n",
    "        q1,q2 = PDI_DF[\"PDI_INDEX\"].quantile([0.20,0.85])\n",
    "        r1,r2 = PDI_DF[\"Annual Return\"].quantile([0.4,0.85])\n",
    "\n",
    "\n",
    "        #Taking the higest return within the range\n",
    "        SPY_vol_lower = SPY_DF[\"Annual STD\"] - 0.04 # allowing for a little room of divergence to find a asset match\n",
    "        SPY_vol_upper = SPY_DF[\"Annual STD\"] + 0.01# allowing for a little room of divergence to find a asset match\n",
    "\n",
    "        PDI_rev = PDI_DF[(PDI_DF[\"Annual STD\"] >= SPY_vol_lower) & (PDI_DF[\"Annual STD\"] <= SPY_vol_upper) & (PDI_DF[\"PDI_INDEX\"] >= q1) & (PDI_DF[\"PDI_INDEX\"] <= q2)\\\n",
    "                         & (PDI_DF[\"Annual STD\"] <= SPY_vol_upper) & (PDI_DF[\"Annual Return\"] >= r1) & (PDI_DF[\"Annual Return\"] <= r2)].reset_index().drop(columns=\"index\")\n",
    "                        # & (PDI_DF[\"PDI_INDEX\"] >= q1) ].reset_index().drop(columns=\"index\")\n",
    "\n",
    "\n",
    "        # fig = px.scatter(PDI_DF,  color=\"Annual STD\", y=\"Annual Return\", x=\"PDI_INDEX\")\n",
    "        # fig.show()\n",
    "\n",
    "\n",
    "        ################################################## Taking the higest return within the range ##########################################################################\n",
    "\n",
    "        id = PDI_rev[\"Annual Return\"].idxmax()\n",
    "        port_max_ret = PDI_rev[\"Assets\"][id]\n",
    "        \n",
    "        port_max_ret_period = port_ret(data,port_max_ret, next_time)\n",
    "        performance_eq.extend(port_max_ret_period)\n",
    "\n",
    "        ###### Weighted ###########\n",
    "        period_return = data.loc[next_time]\n",
    "        max_ww = optimal_weights(period_return,port_max_ret,0.5,30)\n",
    "        weights.append(max_ww)\n",
    "        port_max_ret_period_w = port_ret_w(data, port_max_ret,next_time,max_ww)\n",
    "        performance_w.extend(port_max_ret_period_w)\n",
    "    \n",
    "\n",
    "        ################################################### Taking the best Sharpe Ratio within the range ######################################################################\n",
    "\n",
    "        id_sharpe = PDI_rev[\"Sharpe Ratio\"].idxmax()\n",
    "        port_max_sharpe = PDI_rev[\"Assets\"][id_sharpe]\n",
    "        \n",
    "        port_max_sharpe_period = port_ret(data,port_max_sharpe, next_time)\n",
    "        sharpe_performance_eq.extend(port_max_sharpe_period)\n",
    "\n",
    "        ###### Weighted ###########\n",
    "        max_ww_sr = optimal_weights(period_return,port_max_sharpe,0.5,30)\n",
    "        weight_sr.append(max_ww_sr)\n",
    "        port_max_sharpe_period_w = port_ret_w(data, port_max_sharpe,next_time,max_ww_sr)\n",
    "        sharpe_performance_w.extend(port_max_sharpe_period_w)\n",
    "\n",
    "\n",
    "\n",
    "\n",
    "\n",
    "\n",
    "    dd = pd.DataFrame()\n",
    "    dd[\"Time\"] = weeks_list\n",
    "    dd[\"per_eq\"] = performance_eq\n",
    "    dd[\"per_w\"] = performance_w\n",
    "    dd[\"SPY\"] = list(data[\"SPY\"])\n",
    "    dd[\"sharpe_eq\"] = sharpe_performance_eq\n",
    "    dd[\"sharpe_w\"] = sharpe_performance_w\n",
    "    dd[\"per_eq_cum\"] = dd[\"per_eq\"].cumsum(axis=0)\n",
    "    dd[\"per_w_cum\"] = dd[\"per_w\"].cumsum(axis=0)\n",
    "    dd[\"SPY_cum\"] = dd[\"SPY\"].cumsum(axis=0)\n",
    "    dd[\"sharpe_eq_cum\"] = dd[\"sharpe_eq\"].cumsum(axis=0)\n",
    "    dd[\"sharpe_w_cum\"] = dd[\"sharpe_w\"].cumsum(axis=0)\n",
    "    fig = px.line(dd, x=\"Time\", y = [\"per_eq_cum\",\"SPY_cum\",\"sharpe_eq_cum\",\"sharpe_w_cum\",\"per_w_cum\"], title=\"Number of Assets: {} - period interval {}\".format(len(initial_port), interval))\n",
    "\n",
    "\n",
    "\n",
    "\n",
    "    return fig, dd, weights,weight_sr\n",
    "\n",
    "\n"
   ]
  },
  {
   "cell_type": "code",
   "execution_count": 47,
   "metadata": {},
   "outputs": [],
   "source": [
    "daily_prices = pd.read_csv(\"DailyPrices.csv\", index_col=\"Date\")"
   ]
  },
  {
   "cell_type": "code",
   "execution_count": 48,
   "metadata": {},
   "outputs": [],
   "source": [
    "daily_prices = daily_prices.dropna(axis=1)"
   ]
  },
  {
   "cell_type": "code",
   "execution_count": 49,
   "metadata": {},
   "outputs": [
    {
     "output_type": "execute_result",
     "data": {
      "text/plain": [
       "                 SPY       IVV       VTI       VOO       QQQ       VEA  \\\n",
       "Date                                                                     \n",
       "2015-01-05 -0.018059 -0.017559 -0.017183 -0.017569 -0.014669 -0.022287   \n",
       "2015-01-06 -0.009419 -0.009010 -0.009798 -0.009833 -0.013408 -0.011126   \n",
       "2015-01-07  0.012461  0.012371  0.011933  0.012495  0.012891  0.010703   \n",
       "2015-01-08  0.017745  0.017864  0.017640  0.017569  0.019140  0.015205   \n",
       "2015-01-09 -0.008013 -0.008438 -0.008290 -0.008421 -0.006583 -0.004814   \n",
       "\n",
       "                IEFA       VWO       VUG      IEMG  ...      IDMO       PXJ  \\\n",
       "Date                                                ...                       \n",
       "2015-01-05 -0.022459 -0.015925 -0.017458 -0.015239  ...  0.000000 -0.041714   \n",
       "2015-01-06 -0.010376 -0.004880 -0.009470 -0.005231  ... -0.048465 -0.022063   \n",
       "2015-01-07  0.010298  0.022974  0.012517  0.020596  ...  0.008554 -0.006707   \n",
       "2015-01-08  0.012787  0.016906  0.017619  0.017819  ...  0.000000  0.014733   \n",
       "2015-01-09 -0.004575 -0.004963 -0.007461 -0.003586  ... -0.002699 -0.017544   \n",
       "\n",
       "                 FLM      FTLB      NFTY      FTAG      CHII      CHIM  \\\n",
       "Date                                                                     \n",
       "2015-01-05 -0.025698  0.004931  0.003053 -0.013078 -0.014325  0.073320   \n",
       "2015-01-06 -0.011823 -0.020609 -0.017156  0.013252 -0.020069 -0.012018   \n",
       "2015-01-07  0.003682  0.008016  0.010417  0.011066  0.012712  0.003841   \n",
       "2015-01-08  0.013984  0.000000  0.027584  0.015921 -0.002789  0.003189   \n",
       "2015-01-09 -0.009722  0.009941 -0.008134  0.036239 -0.005594  0.000000   \n",
       "\n",
       "                CHIE       LTL  \n",
       "Date                            \n",
       "2015-01-05  0.000746 -0.032846  \n",
       "2015-01-06  0.000000 -0.025528  \n",
       "2015-01-07 -0.020880  0.001067  \n",
       "2015-01-08  0.044174  0.023091  \n",
       "2015-01-09 -0.015317 -0.013194  \n",
       "\n",
       "[5 rows x 682 columns]"
      ],
      "text/html": "<div>\n<style scoped>\n    .dataframe tbody tr th:only-of-type {\n        vertical-align: middle;\n    }\n\n    .dataframe tbody tr th {\n        vertical-align: top;\n    }\n\n    .dataframe thead th {\n        text-align: right;\n    }\n</style>\n<table border=\"1\" class=\"dataframe\">\n  <thead>\n    <tr style=\"text-align: right;\">\n      <th></th>\n      <th>SPY</th>\n      <th>IVV</th>\n      <th>VTI</th>\n      <th>VOO</th>\n      <th>QQQ</th>\n      <th>VEA</th>\n      <th>IEFA</th>\n      <th>VWO</th>\n      <th>VUG</th>\n      <th>IEMG</th>\n      <th>...</th>\n      <th>IDMO</th>\n      <th>PXJ</th>\n      <th>FLM</th>\n      <th>FTLB</th>\n      <th>NFTY</th>\n      <th>FTAG</th>\n      <th>CHII</th>\n      <th>CHIM</th>\n      <th>CHIE</th>\n      <th>LTL</th>\n    </tr>\n    <tr>\n      <th>Date</th>\n      <th></th>\n      <th></th>\n      <th></th>\n      <th></th>\n      <th></th>\n      <th></th>\n      <th></th>\n      <th></th>\n      <th></th>\n      <th></th>\n      <th></th>\n      <th></th>\n      <th></th>\n      <th></th>\n      <th></th>\n      <th></th>\n      <th></th>\n      <th></th>\n      <th></th>\n      <th></th>\n      <th></th>\n    </tr>\n  </thead>\n  <tbody>\n    <tr>\n      <th>2015-01-05</th>\n      <td>-0.018059</td>\n      <td>-0.017559</td>\n      <td>-0.017183</td>\n      <td>-0.017569</td>\n      <td>-0.014669</td>\n      <td>-0.022287</td>\n      <td>-0.022459</td>\n      <td>-0.015925</td>\n      <td>-0.017458</td>\n      <td>-0.015239</td>\n      <td>...</td>\n      <td>0.000000</td>\n      <td>-0.041714</td>\n      <td>-0.025698</td>\n      <td>0.004931</td>\n      <td>0.003053</td>\n      <td>-0.013078</td>\n      <td>-0.014325</td>\n      <td>0.073320</td>\n      <td>0.000746</td>\n      <td>-0.032846</td>\n    </tr>\n    <tr>\n      <th>2015-01-06</th>\n      <td>-0.009419</td>\n      <td>-0.009010</td>\n      <td>-0.009798</td>\n      <td>-0.009833</td>\n      <td>-0.013408</td>\n      <td>-0.011126</td>\n      <td>-0.010376</td>\n      <td>-0.004880</td>\n      <td>-0.009470</td>\n      <td>-0.005231</td>\n      <td>...</td>\n      <td>-0.048465</td>\n      <td>-0.022063</td>\n      <td>-0.011823</td>\n      <td>-0.020609</td>\n      <td>-0.017156</td>\n      <td>0.013252</td>\n      <td>-0.020069</td>\n      <td>-0.012018</td>\n      <td>0.000000</td>\n      <td>-0.025528</td>\n    </tr>\n    <tr>\n      <th>2015-01-07</th>\n      <td>0.012461</td>\n      <td>0.012371</td>\n      <td>0.011933</td>\n      <td>0.012495</td>\n      <td>0.012891</td>\n      <td>0.010703</td>\n      <td>0.010298</td>\n      <td>0.022974</td>\n      <td>0.012517</td>\n      <td>0.020596</td>\n      <td>...</td>\n      <td>0.008554</td>\n      <td>-0.006707</td>\n      <td>0.003682</td>\n      <td>0.008016</td>\n      <td>0.010417</td>\n      <td>0.011066</td>\n      <td>0.012712</td>\n      <td>0.003841</td>\n      <td>-0.020880</td>\n      <td>0.001067</td>\n    </tr>\n    <tr>\n      <th>2015-01-08</th>\n      <td>0.017745</td>\n      <td>0.017864</td>\n      <td>0.017640</td>\n      <td>0.017569</td>\n      <td>0.019140</td>\n      <td>0.015205</td>\n      <td>0.012787</td>\n      <td>0.016906</td>\n      <td>0.017619</td>\n      <td>0.017819</td>\n      <td>...</td>\n      <td>0.000000</td>\n      <td>0.014733</td>\n      <td>0.013984</td>\n      <td>0.000000</td>\n      <td>0.027584</td>\n      <td>0.015921</td>\n      <td>-0.002789</td>\n      <td>0.003189</td>\n      <td>0.044174</td>\n      <td>0.023091</td>\n    </tr>\n    <tr>\n      <th>2015-01-09</th>\n      <td>-0.008013</td>\n      <td>-0.008438</td>\n      <td>-0.008290</td>\n      <td>-0.008421</td>\n      <td>-0.006583</td>\n      <td>-0.004814</td>\n      <td>-0.004575</td>\n      <td>-0.004963</td>\n      <td>-0.007461</td>\n      <td>-0.003586</td>\n      <td>...</td>\n      <td>-0.002699</td>\n      <td>-0.017544</td>\n      <td>-0.009722</td>\n      <td>0.009941</td>\n      <td>-0.008134</td>\n      <td>0.036239</td>\n      <td>-0.005594</td>\n      <td>0.000000</td>\n      <td>-0.015317</td>\n      <td>-0.013194</td>\n    </tr>\n  </tbody>\n</table>\n<p>5 rows × 682 columns</p>\n</div>"
     },
     "metadata": {},
     "execution_count": 49
    }
   ],
   "source": [
    "daily_prices = daily_prices.pct_change().dropna(axis=0)\n",
    "daily_prices.head()"
   ]
  },
  {
   "cell_type": "code",
   "execution_count": 50,
   "metadata": {},
   "outputs": [],
   "source": [
    "ti = fundamental_df[(-fundamental_df[\"Category\"].isin(['Trading--Leveraged Equity','Trading--Inverse Equity']) & (fundamental_df[\"Risk Cluster\"].isin(['Moderat Risk - Slighty Below Market Volatility'])))]\n",
    "tttt = list(ti.index)\n",
    "tttt.append(\"SPY\")\n",
    "\n",
    "daily_prices = daily_prices[daily_prices.columns.intersection(tttt)]"
   ]
  },
  {
   "cell_type": "code",
   "execution_count": 51,
   "metadata": {},
   "outputs": [
    {
     "output_type": "stream",
     "name": "stderr",
     "text": [
      "0it [00:00, ?it/s]PeriodIndex(['2015Q1', '2015Q2', '2015Q3', '2015Q4', '2016Q1', '2016Q2',\n",
      "             '2016Q3', '2016Q4', '2017Q1', '2017Q2', '2017Q3', '2017Q4',\n",
      "             '2018Q1', '2018Q2', '2018Q3', '2018Q4', '2019Q1', '2019Q2',\n",
      "             '2019Q3', '2019Q4', '2020Q1', '2020Q2', '2020Q3', '2020Q4'],\n",
      "            dtype='period[Q-DEC]', name='Date', freq='Q-DEC')\n",
      "2015Q1\n",
      "Number of Portfolios: 2000\n",
      "first time: 2015Q1 - last time: 2015Q2\n",
      "2000it [00:05, 399.72it/s]\n",
      "39it [00:00, 389.70it/s]first time: 2015Q2 - last time: 2015Q3\n",
      "2000it [00:04, 402.24it/s]\n",
      "39it [00:00, 387.95it/s]first time: 2015Q3 - last time: 2015Q4\n",
      "2000it [00:05, 399.77it/s]\n",
      "39it [00:00, 381.14it/s]first time: 2015Q4 - last time: 2016Q1\n",
      "2000it [00:05, 397.01it/s]\n",
      "39it [00:00, 386.27it/s]first time: 2016Q1 - last time: 2016Q2\n",
      "2000it [00:05, 395.41it/s]\n",
      "39it [00:00, 388.23it/s]first time: 2016Q2 - last time: 2016Q3\n",
      "2000it [00:05, 395.53it/s]\n",
      "79it [00:00, 394.89it/s]first time: 2016Q3 - last time: 2016Q4\n",
      "2000it [00:05, 394.97it/s]\n",
      "38it [00:00, 370.15it/s]first time: 2016Q4 - last time: 2017Q1\n",
      "2000it [00:05, 394.85it/s]\n",
      "38it [00:00, 378.70it/s]first time: 2017Q1 - last time: 2017Q2\n",
      "2000it [00:05, 392.17it/s]\n",
      "40it [00:00, 391.64it/s]first time: 2017Q2 - last time: 2017Q3\n",
      "2000it [00:05, 391.29it/s]\n",
      "41it [00:00, 402.56it/s]first time: 2017Q3 - last time: 2017Q4\n",
      "2000it [00:05, 395.25it/s]\n",
      "40it [00:00, 392.97it/s]first time: 2017Q4 - last time: 2018Q1\n",
      "2000it [00:05, 394.30it/s]\n",
      "41it [00:00, 404.40it/s]first time: 2018Q1 - last time: 2018Q2\n",
      "2000it [00:05, 392.67it/s]\n",
      "40it [00:00, 395.42it/s]first time: 2018Q2 - last time: 2018Q3\n",
      "2000it [00:05, 394.76it/s]\n",
      "80it [00:00, 395.68it/s]first time: 2018Q3 - last time: 2018Q4\n",
      "2000it [00:05, 393.25it/s]\n",
      "41it [00:00, 402.83it/s]first time: 2018Q4 - last time: 2019Q1\n",
      "2000it [00:05, 393.97it/s]\n",
      "40it [00:00, 397.41it/s]first time: 2019Q1 - last time: 2019Q2\n",
      "2000it [00:05, 394.63it/s]\n",
      "40it [00:00, 397.23it/s]first time: 2019Q2 - last time: 2019Q3\n",
      "2000it [00:05, 395.60it/s]\n",
      "41it [00:00, 403.47it/s]first time: 2019Q3 - last time: 2019Q4\n",
      "2000it [00:05, 396.92it/s]\n",
      "40it [00:00, 394.49it/s]first time: 2019Q4 - last time: 2020Q1\n",
      "2000it [00:05, 392.22it/s]\n",
      "80it [00:00, 398.58it/s]first time: 2020Q1 - last time: 2020Q2\n",
      "2000it [00:05, 393.25it/s]\n",
      "78it [00:00, 388.26it/s]first time: 2020Q2 - last time: 2020Q3\n",
      "2000it [00:05, 394.10it/s]\n",
      "82it [00:00, 405.71it/s]first time: 2020Q3 - last time: 2020Q4\n",
      "2000it [00:05, 389.87it/s]\n"
     ]
    }
   ],
   "source": [
    "fig, dd, weights,weight_sr = pca_per(daily_prices,list(daily_prices.iloc[:,:4].columns), interval=\"Q\",ret_range_mean=30)\n",
    "fig.show()"
   ]
  },
  {
   "cell_type": "code",
   "execution_count": 40,
   "metadata": {},
   "outputs": [
    {
     "output_type": "error",
     "ename": "NameError",
     "evalue": "name 'PDI_DF' is not defined",
     "traceback": [
      "\u001b[0;31m---------------------------------------------------------------------------\u001b[0m",
      "\u001b[0;31mNameError\u001b[0m                                 Traceback (most recent call last)",
      "\u001b[0;32m<ipython-input-40-58d257fcd621>\u001b[0m in \u001b[0;36m<module>\u001b[0;34m\u001b[0m\n\u001b[1;32m      1\u001b[0m \u001b[0;31m#dddd = PDI_DF[PDI_DF[\"# of Assets\"] == \"14\" ]\u001b[0m\u001b[0;34m\u001b[0m\u001b[0;34m\u001b[0m\u001b[0;34m\u001b[0m\u001b[0m\n\u001b[0;32m----> 2\u001b[0;31m \u001b[0mdddd\u001b[0m \u001b[0;34m=\u001b[0m \u001b[0mPDI_DF\u001b[0m\u001b[0;34m.\u001b[0m\u001b[0mcopy\u001b[0m\u001b[0;34m(\u001b[0m\u001b[0;34m)\u001b[0m\u001b[0;34m\u001b[0m\u001b[0;34m\u001b[0m\u001b[0m\n\u001b[0m\u001b[1;32m      3\u001b[0m \u001b[0;31m#dddd = PDI_DF[PDI_DF[\"Annual STD\"] <= 0.2 ]\u001b[0m\u001b[0;34m\u001b[0m\u001b[0;34m\u001b[0m\u001b[0;34m\u001b[0m\u001b[0m\n",
      "\u001b[0;31mNameError\u001b[0m: name 'PDI_DF' is not defined"
     ]
    }
   ],
   "source": [
    "#dddd = PDI_DF[PDI_DF[\"# of Assets\"] == \"14\" ]\n",
    "dddd = PDI_DF.copy()\n",
    "#dddd = PDI_DF[PDI_DF[\"Annual STD\"] <= 0.2 ]"
   ]
  },
  {
   "cell_type": "code",
   "execution_count": 496,
   "metadata": {},
   "outputs": [],
   "source": [
    "dddd[\"PDI SEG\"] = dddd[\"PDI_INDEX\"].apply(lambda x: str(np.round(x, 1)))\n",
    "dddd[\"STD SEGG\"] = dddd[\"Annual STD\"].apply(lambda x: np.round(x, 2))"
   ]
  },
  {
   "cell_type": "code",
   "execution_count": 497,
   "metadata": {},
   "outputs": [
    {
     "output_type": "execute_result",
     "data": {
      "text/plain": [
       "        PDI_INDEX # of Assets                                          Assets  \\\n",
       "1             NaN           1                                           [SPY]   \n",
       "2        1.143835           3                              [GLIN, FDIS, URTH]   \n",
       "3        1.403781           3                                [VDE, SPXL, EFG]   \n",
       "4        1.193516           3                                [ENFR, FEX, IGN]   \n",
       "5        1.206487           3                                [BICK, EWO, VEA]   \n",
       "...           ...         ...                                             ...   \n",
       "119991   1.985287           8     [IAK, KCE, EEMA, FAS, ROBO, FPX, USD, IHDG]   \n",
       "119992   2.584147           8  [FLN, KFYP, HEFA, PSCC, PID, XSVM, QDEF, CXSE]   \n",
       "119993   2.504402           8   [VTWV, EXI, FDT, FXU, IHDG, KBWR, VONE, SCHC]   \n",
       "119994   2.303937           8   [IGE, VOOV, SDOG, ARKW, IEV, BFOR, VTWO, FCG]   \n",
       "119995   3.285784           8     [DBEF, IGV, ACWI, EMFM, IGE, IYK, VIS, RFG]   \n",
       "\n",
       "        Sharpe Ratio  Annual Return  Annual STD PDI SEG  STD SEGG  \n",
       "1           0.434199       0.041268    0.095045     nan      0.10  \n",
       "2           0.492642       0.063373    0.128638     1.1      0.13  \n",
       "3           0.252745       0.045734    0.180947     1.4      0.18  \n",
       "4           0.020559       0.002275    0.110633     1.2      0.11  \n",
       "5           0.260815       0.039640    0.151986     1.2      0.15  \n",
       "...              ...            ...         ...     ...       ...  \n",
       "119991      0.244595       0.034916    0.142752     2.0      0.14  \n",
       "119992     -0.181389      -0.023573    0.129960     2.6      0.13  \n",
       "119993      0.788838       0.077643    0.098427     2.5      0.10  \n",
       "119994      0.186711       0.024852    0.133101     2.3      0.13  \n",
       "119995      0.472477       0.048400    0.102439     3.3      0.10  \n",
       "\n",
       "[119995 rows x 8 columns]"
      ],
      "text/html": "<div>\n<style scoped>\n    .dataframe tbody tr th:only-of-type {\n        vertical-align: middle;\n    }\n\n    .dataframe tbody tr th {\n        vertical-align: top;\n    }\n\n    .dataframe thead th {\n        text-align: right;\n    }\n</style>\n<table border=\"1\" class=\"dataframe\">\n  <thead>\n    <tr style=\"text-align: right;\">\n      <th></th>\n      <th>PDI_INDEX</th>\n      <th># of Assets</th>\n      <th>Assets</th>\n      <th>Sharpe Ratio</th>\n      <th>Annual Return</th>\n      <th>Annual STD</th>\n      <th>PDI SEG</th>\n      <th>STD SEGG</th>\n    </tr>\n  </thead>\n  <tbody>\n    <tr>\n      <th>1</th>\n      <td>NaN</td>\n      <td>1</td>\n      <td>[SPY]</td>\n      <td>0.434199</td>\n      <td>0.041268</td>\n      <td>0.095045</td>\n      <td>nan</td>\n      <td>0.10</td>\n    </tr>\n    <tr>\n      <th>2</th>\n      <td>1.143835</td>\n      <td>3</td>\n      <td>[GLIN, FDIS, URTH]</td>\n      <td>0.492642</td>\n      <td>0.063373</td>\n      <td>0.128638</td>\n      <td>1.1</td>\n      <td>0.13</td>\n    </tr>\n    <tr>\n      <th>3</th>\n      <td>1.403781</td>\n      <td>3</td>\n      <td>[VDE, SPXL, EFG]</td>\n      <td>0.252745</td>\n      <td>0.045734</td>\n      <td>0.180947</td>\n      <td>1.4</td>\n      <td>0.18</td>\n    </tr>\n    <tr>\n      <th>4</th>\n      <td>1.193516</td>\n      <td>3</td>\n      <td>[ENFR, FEX, IGN]</td>\n      <td>0.020559</td>\n      <td>0.002275</td>\n      <td>0.110633</td>\n      <td>1.2</td>\n      <td>0.11</td>\n    </tr>\n    <tr>\n      <th>5</th>\n      <td>1.206487</td>\n      <td>3</td>\n      <td>[BICK, EWO, VEA]</td>\n      <td>0.260815</td>\n      <td>0.039640</td>\n      <td>0.151986</td>\n      <td>1.2</td>\n      <td>0.15</td>\n    </tr>\n    <tr>\n      <th>...</th>\n      <td>...</td>\n      <td>...</td>\n      <td>...</td>\n      <td>...</td>\n      <td>...</td>\n      <td>...</td>\n      <td>...</td>\n      <td>...</td>\n    </tr>\n    <tr>\n      <th>119991</th>\n      <td>1.985287</td>\n      <td>8</td>\n      <td>[IAK, KCE, EEMA, FAS, ROBO, FPX, USD, IHDG]</td>\n      <td>0.244595</td>\n      <td>0.034916</td>\n      <td>0.142752</td>\n      <td>2.0</td>\n      <td>0.14</td>\n    </tr>\n    <tr>\n      <th>119992</th>\n      <td>2.584147</td>\n      <td>8</td>\n      <td>[FLN, KFYP, HEFA, PSCC, PID, XSVM, QDEF, CXSE]</td>\n      <td>-0.181389</td>\n      <td>-0.023573</td>\n      <td>0.129960</td>\n      <td>2.6</td>\n      <td>0.13</td>\n    </tr>\n    <tr>\n      <th>119993</th>\n      <td>2.504402</td>\n      <td>8</td>\n      <td>[VTWV, EXI, FDT, FXU, IHDG, KBWR, VONE, SCHC]</td>\n      <td>0.788838</td>\n      <td>0.077643</td>\n      <td>0.098427</td>\n      <td>2.5</td>\n      <td>0.10</td>\n    </tr>\n    <tr>\n      <th>119994</th>\n      <td>2.303937</td>\n      <td>8</td>\n      <td>[IGE, VOOV, SDOG, ARKW, IEV, BFOR, VTWO, FCG]</td>\n      <td>0.186711</td>\n      <td>0.024852</td>\n      <td>0.133101</td>\n      <td>2.3</td>\n      <td>0.13</td>\n    </tr>\n    <tr>\n      <th>119995</th>\n      <td>3.285784</td>\n      <td>8</td>\n      <td>[DBEF, IGV, ACWI, EMFM, IGE, IYK, VIS, RFG]</td>\n      <td>0.472477</td>\n      <td>0.048400</td>\n      <td>0.102439</td>\n      <td>3.3</td>\n      <td>0.10</td>\n    </tr>\n  </tbody>\n</table>\n<p>119995 rows × 8 columns</p>\n</div>"
     },
     "metadata": {},
     "execution_count": 497
    }
   ],
   "source": [
    "dddd"
   ]
  },
  {
   "cell_type": "code",
   "execution_count": 56,
   "metadata": {},
   "outputs": [
    {
     "output_type": "execute_result",
     "data": {
      "text/plain": [
       "2.0"
      ]
     },
     "metadata": {},
     "execution_count": 56
    }
   ],
   "source": [
    "10*0.2"
   ]
  },
  {
   "cell_type": "code",
   "execution_count": 459,
   "metadata": {},
   "outputs": [
    {
     "output_type": "stream",
     "name": "stdout",
     "text": [
      "Min STD: 0.034345568498662105\nMax STD: 0.4010084942247244\n"
     ]
    }
   ],
   "source": [
    "print(\"Min STD:\", dddd[\"Annual STD\"].min())\n",
    "print(\"Max STD:\", dddd[\"Annual STD\"].max())"
   ]
  },
  {
   "cell_type": "code",
   "execution_count": 482,
   "metadata": {},
   "outputs": [],
   "source": [
    "fig = px.bar(dddd, color=\"# of Assets\", y=\"Annual Return\", x=\"PDI_INDEX\")\n",
    "fig.show()"
   ]
  },
  {
   "cell_type": "code",
   "execution_count": 483,
   "metadata": {},
   "outputs": [],
   "source": [
    "fig = px.scatter(dddd,  color=\"# of Assets\", y=\"Annual Return\", x=\"PDI_INDEX\")\n",
    "fig.show()"
   ]
  },
  {
   "cell_type": "code",
   "execution_count": 486,
   "metadata": {},
   "outputs": [],
   "source": [
    "fig = px.box(dddd, x=\"# of Assets\", y=\"PDI_INDEX\")\n",
    "fig.show()"
   ]
  },
  {
   "cell_type": "code",
   "execution_count": 498,
   "metadata": {},
   "outputs": [],
   "source": [
    "fig = px.scatter_3d(dddd, x='STD SEGG', y = \"Annual Return\", z = \"PDI_INDEX\", color=\"# of Assets\", hover_data = [dddd.index], title = \"ETF Portfolios\")\n",
    "fig.show()"
   ]
  },
  {
   "cell_type": "code",
   "execution_count": 462,
   "metadata": {},
   "outputs": [],
   "source": [
    "fig = px.scatter(dddd, x=\"PDI_INDEX\", y=\"Annual Return\", color = \"STD SEG\")\n",
    "fig.show()"
   ]
  },
  {
   "cell_type": "code",
   "execution_count": 366,
   "metadata": {},
   "outputs": [
    {
     "output_type": "stream",
     "name": "stdout",
     "text": [
      "1999\n"
     ]
    },
    {
     "output_type": "execute_result",
     "data": {
      "text/plain": [
       "      PDI_INDEX # of Assets                         Assets  Sharpe Ratio  \\\n",
       "5994   1.044022           5    [SQQQ, EMLP, IGM, EQL, IWB]     -0.584013   \n",
       "5995   1.381763           5    [QDF, FPX, IUSG, ICOL, FLN]      0.452782   \n",
       "5996   1.747769           5    [FEUZ, QDF, VIOG, IGE, RWL]      0.370002   \n",
       "5997   2.163634           5   [EDIV, SCHA, FCG, NXTG, EQL]      0.110250   \n",
       "5998   1.895498           5  [EWMC, QTEC, EFA, FRAK, CHIE]      0.219108   \n",
       "\n",
       "      Annual Return  Annual STD  \n",
       "5994      -0.042722    0.073153  \n",
       "5995       0.094287    0.208239  \n",
       "5996       0.073438    0.198480  \n",
       "5997       0.024112    0.218707  \n",
       "5998       0.048795    0.222700  "
      ],
      "text/html": "<div>\n<style scoped>\n    .dataframe tbody tr th:only-of-type {\n        vertical-align: middle;\n    }\n\n    .dataframe tbody tr th {\n        vertical-align: top;\n    }\n\n    .dataframe thead th {\n        text-align: right;\n    }\n</style>\n<table border=\"1\" class=\"dataframe\">\n  <thead>\n    <tr style=\"text-align: right;\">\n      <th></th>\n      <th>PDI_INDEX</th>\n      <th># of Assets</th>\n      <th>Assets</th>\n      <th>Sharpe Ratio</th>\n      <th>Annual Return</th>\n      <th>Annual STD</th>\n    </tr>\n  </thead>\n  <tbody>\n    <tr>\n      <th>5994</th>\n      <td>1.044022</td>\n      <td>5</td>\n      <td>[SQQQ, EMLP, IGM, EQL, IWB]</td>\n      <td>-0.584013</td>\n      <td>-0.042722</td>\n      <td>0.073153</td>\n    </tr>\n    <tr>\n      <th>5995</th>\n      <td>1.381763</td>\n      <td>5</td>\n      <td>[QDF, FPX, IUSG, ICOL, FLN]</td>\n      <td>0.452782</td>\n      <td>0.094287</td>\n      <td>0.208239</td>\n    </tr>\n    <tr>\n      <th>5996</th>\n      <td>1.747769</td>\n      <td>5</td>\n      <td>[FEUZ, QDF, VIOG, IGE, RWL]</td>\n      <td>0.370002</td>\n      <td>0.073438</td>\n      <td>0.198480</td>\n    </tr>\n    <tr>\n      <th>5997</th>\n      <td>2.163634</td>\n      <td>5</td>\n      <td>[EDIV, SCHA, FCG, NXTG, EQL]</td>\n      <td>0.110250</td>\n      <td>0.024112</td>\n      <td>0.218707</td>\n    </tr>\n    <tr>\n      <th>5998</th>\n      <td>1.895498</td>\n      <td>5</td>\n      <td>[EWMC, QTEC, EFA, FRAK, CHIE]</td>\n      <td>0.219108</td>\n      <td>0.048795</td>\n      <td>0.222700</td>\n    </tr>\n  </tbody>\n</table>\n</div>"
     },
     "metadata": {},
     "execution_count": 366
    }
   ],
   "source": [
    "testest = dddd[dddd[\"# of Assets\"] == \"5\"]\n",
    "print(len(testest))\n",
    "testest.head()"
   ]
  },
  {
   "cell_type": "code",
   "execution_count": null,
   "metadata": {},
   "outputs": [],
   "source": []
  },
  {
   "source": [
    "## Without crypto's "
   ],
   "cell_type": "markdown",
   "metadata": {}
  },
  {
   "cell_type": "code",
   "execution_count": 214,
   "metadata": {},
   "outputs": [],
   "source": [
    "etf = pd.read_csv(\"WeeklyReturns.csv\", index_col= \"Date\")\n",
    "etf_name = list(etf.columns)"
   ]
  },
  {
   "cell_type": "code",
   "execution_count": 224,
   "metadata": {},
   "outputs": [
    {
     "output_type": "stream",
     "name": "stdout",
     "text": [
      "Number of Portfolios: 64966\n"
     ]
    }
   ],
   "source": [
    "samples_etf = []\n",
    "\n",
    "for number in range(2, 15,1):\n",
    "    for i in range(1,5000):\n",
    "        #samples.extend([list(x) for x in combinations(selected_tickers, number_of_assets)])\n",
    "        samples_etf.append(random.sample(etf_name,number))\n",
    "samples_mini = []\n",
    "for i in samples_etf:\n",
    "    if i not in samples_mini:\n",
    "        samples_mini.append(i)\n",
    "\n",
    "print(\"Number of Portfolios: {}\".format(len(samples_mini)))\n",
    "\n",
    "\n",
    "\n",
    "\n"
   ]
  },
  {
   "cell_type": "code",
   "execution_count": 225,
   "metadata": {},
   "outputs": [
    {
     "output_type": "stream",
     "name": "stderr",
     "text": [
      "64966it [03:01, 358.61it/s]\n"
     ]
    }
   ],
   "source": [
    "PDI_DF, SPY_DF = calculate_pdi(weekly_return, samples_mini, return_mean_range = 52)"
   ]
  },
  {
   "cell_type": "code",
   "execution_count": 226,
   "metadata": {},
   "outputs": [],
   "source": [
    "fig = px.scatter(PDI_DF, x ='PDI_INDEX',  color =\"# of Assets\", y= \"Sharpe Ratio\")\n",
    "fig.show()"
   ]
  },
  {
   "cell_type": "code",
   "execution_count": 227,
   "metadata": {},
   "outputs": [],
   "source": [
    "fig = px.scatter(PDI_DF, x ='PDI_INDEX',  color =\"Annual STD\", y= \"Sharpe Ratio\")\n",
    "fig.show()"
   ]
  },
  {
   "cell_type": "code",
   "execution_count": 228,
   "metadata": {},
   "outputs": [],
   "source": [
    "fig = px.scatter(PDI_DF, x ='PDI_INDEX',  y=\"Annual STD\")\n",
    "fig.show()"
   ]
  },
  {
   "source": [
    "## Weigthing cryptoes in different sizes of a portfolio"
   ],
   "cell_type": "markdown",
   "metadata": {}
  },
  {
   "cell_type": "code",
   "execution_count": 299,
   "metadata": {},
   "outputs": [],
   "source": [
    "crypto = pd.read_csv(\"crypto_weekly.csv\",index_col=\"Date\")\n",
    "crypto_name = list(crypto.columns)\n",
    "etf = pd.read_csv(\"WeeklyReturns.csv\", index_col= \"Date\")\n",
    "etf_name = list(etf.columns)\n",
    "comb_df = pd.merge(crypto,etf, right_index=True,left_index=True)"
   ]
  },
  {
   "cell_type": "code",
   "execution_count": 300,
   "metadata": {},
   "outputs": [
    {
     "output_type": "stream",
     "name": "stdout",
     "text": [
      "Number of Portfolios: 27671\n"
     ]
    }
   ],
   "source": [
    "ti = list(comb_df.columns)\n",
    "\n",
    "samples = []\n",
    "for number in [10,9,8,7,6,5,4,3,2,1]:\n",
    "    for i in range(1,3000):\n",
    "        #samples.extend([list(x) for x in combinations(selected_tickers, number_of_assets)])\n",
    "        samples.append(random.sample(etf_name,number))\n",
    "samples_mini = []\n",
    "for i in samples:\n",
    "    if i not in samples_mini:\n",
    "        samples_mini.append(i)\n",
    "\n",
    "print(\"Number of Portfolios: {}\".format(len(samples_mini)))\n",
    "\n",
    "#PDI_DF, SPY_DF = calculate_pdi(weekly_return, samples_mini, return_mean_range = 52)\n",
    "\n"
   ]
  },
  {
   "cell_type": "code",
   "execution_count": 301,
   "metadata": {},
   "outputs": [
    {
     "output_type": "execute_result",
     "data": {
      "text/plain": [
       "[['SPDW', 'UAE', 'EZM', 'ACWX', 'DSI', 'IQDF', 'TDIV', 'PSQ', 'VEGI', 'QWLD'],\n",
       " ['ASHR', 'QTEC', 'MCHI', 'SMH', 'IDU', 'XLI', 'EQL', 'XNTK', 'IJH', 'CVY'],\n",
       " ['XLU', 'PGJ', 'SDOW', 'EZU', 'EDEN', 'XLB', 'QEFA', 'FDTS', 'DIM'],\n",
       " ['KBWR', 'XMMO', 'VO', 'PBS', 'JPXN', 'ACWI', 'PEY', 'IWV', 'SLX'],\n",
       " ['EFAV', 'SYG', 'VEGI', 'IDLV', 'VSS', 'XTL', 'IUSG', 'IYM', 'SCHC']]"
      ]
     },
     "metadata": {},
     "execution_count": 301
    }
   ],
   "source": [
    "samples_mini[2997:3002]"
   ]
  },
  {
   "cell_type": "code",
   "execution_count": 302,
   "metadata": {},
   "outputs": [],
   "source": [
    "per_cryp = []\n",
    "for i in samples_mini:\n",
    "    if int(len(i)) == 10:\n",
    "        per = np.round(1-(int(len(i))/10),1)\n",
    "        per_cryp.append(per)\n",
    "    else:\n",
    "        per = np.round(1-(int(len(i))/10),1)\n",
    "        per_cryp.append(per)"
   ]
  },
  {
   "cell_type": "code",
   "execution_count": 303,
   "metadata": {},
   "outputs": [
    {
     "output_type": "execute_result",
     "data": {
      "text/plain": [
       "0.9"
      ]
     },
     "metadata": {},
     "execution_count": 303
    }
   ],
   "source": [
    "per_cryp[-1]"
   ]
  },
  {
   "cell_type": "code",
   "execution_count": 310,
   "metadata": {
    "tags": []
   },
   "outputs": [
    {
     "output_type": "stream",
     "name": "stdout",
     "text": [
      "Number of Portfolios: 27671\n"
     ]
    }
   ],
   "source": [
    "\n",
    "new_port = []\n",
    "for i in samples_mini:\n",
    "    if len(i) == 10:\n",
    "        new_port.append(i)\n",
    "    else:\n",
    "        new_port.append(i.extend(random.sample(crypto_name,10-int(len(i)))))\n",
    "\n",
    "print(\"Number of Portfolios: {}\".format(len(new_port)))"
   ]
  },
  {
   "cell_type": "code",
   "execution_count": 311,
   "metadata": {},
   "outputs": [
    {
     "output_type": "execute_result",
     "data": {
      "text/plain": [
       "[['SPDW', 'UAE', 'EZM', 'ACWX', 'DSI', 'IQDF', 'TDIV', 'PSQ', 'VEGI', 'QWLD'],\n",
       " ['ASHR', 'QTEC', 'MCHI', 'SMH', 'IDU', 'XLI', 'EQL', 'XNTK', 'IJH', 'CVY'],\n",
       " ['XLU',\n",
       "  'PGJ',\n",
       "  'SDOW',\n",
       "  'EZU',\n",
       "  'EDEN',\n",
       "  'XLB',\n",
       "  'QEFA',\n",
       "  'FDTS',\n",
       "  'DIM',\n",
       "  'DASH-USD'],\n",
       " ['KBWR', 'XMMO', 'VO', 'PBS', 'JPXN', 'ACWI', 'PEY', 'IWV', 'SLX', 'XVG-USD'],\n",
       " ['EFAV',\n",
       "  'SYG',\n",
       "  'VEGI',\n",
       "  'IDLV',\n",
       "  'VSS',\n",
       "  'XTL',\n",
       "  'IUSG',\n",
       "  'IYM',\n",
       "  'SCHC',\n",
       "  'LTC-USD']]"
      ]
     },
     "metadata": {},
     "execution_count": 311
    }
   ],
   "source": [
    "new_port[2997:3002]"
   ]
  },
  {
   "cell_type": "code",
   "execution_count": 306,
   "metadata": {},
   "outputs": [
    {
     "output_type": "stream",
     "name": "stderr",
     "text": [
      "2999it [00:09, 322.60it/s]\n"
     ]
    },
    {
     "output_type": "error",
     "ename": "TypeError",
     "evalue": "object of type 'NoneType' has no len()",
     "traceback": [
      "\u001b[0;31m---------------------------------------------------------------------------\u001b[0m",
      "\u001b[0;31mTypeError\u001b[0m                                 Traceback (most recent call last)",
      "\u001b[0;32m<ipython-input-306-fae59716e29e>\u001b[0m in \u001b[0;36m<module>\u001b[0;34m\u001b[0m\n\u001b[0;32m----> 1\u001b[0;31m \u001b[0mPDI_DF\u001b[0m\u001b[0;34m,\u001b[0m \u001b[0mSPY_DF\u001b[0m \u001b[0;34m=\u001b[0m \u001b[0mcalculate_pdi\u001b[0m\u001b[0;34m(\u001b[0m\u001b[0mcomb_df\u001b[0m\u001b[0;34m,\u001b[0m \u001b[0mnew_port\u001b[0m\u001b[0;34m,\u001b[0m \u001b[0mreturn_mean_range\u001b[0m \u001b[0;34m=\u001b[0m \u001b[0;36m52\u001b[0m\u001b[0;34m)\u001b[0m\u001b[0;34m\u001b[0m\u001b[0;34m\u001b[0m\u001b[0m\n\u001b[0m",
      "\u001b[0;32m<ipython-input-106-11efc16ef093>\u001b[0m in \u001b[0;36mcalculate_pdi\u001b[0;34m(weekly_returns, portfolios, return_mean_range)\u001b[0m\n\u001b[1;32m     15\u001b[0m \u001b[0;34m\u001b[0m\u001b[0m\n\u001b[1;32m     16\u001b[0m     \u001b[0;32mfor\u001b[0m \u001b[0mi\u001b[0m\u001b[0;34m,\u001b[0m\u001b[0my\u001b[0m \u001b[0;32min\u001b[0m \u001b[0mtqdm\u001b[0m\u001b[0;34m(\u001b[0m\u001b[0mzip\u001b[0m\u001b[0;34m(\u001b[0m\u001b[0mportfolios\u001b[0m\u001b[0;34m,\u001b[0m\u001b[0mrange\u001b[0m\u001b[0;34m(\u001b[0m\u001b[0;36m1\u001b[0m\u001b[0;34m,\u001b[0m\u001b[0mlen\u001b[0m\u001b[0;34m(\u001b[0m\u001b[0mportfolios\u001b[0m\u001b[0;34m)\u001b[0m\u001b[0;34m+\u001b[0m\u001b[0;36m1\u001b[0m\u001b[0;34m)\u001b[0m\u001b[0;34m)\u001b[0m\u001b[0;34m)\u001b[0m\u001b[0;34m:\u001b[0m\u001b[0;34m\u001b[0m\u001b[0;34m\u001b[0m\u001b[0m\n\u001b[0;32m---> 17\u001b[0;31m         \u001b[0mn_assets\u001b[0m \u001b[0;34m=\u001b[0m \u001b[0mlen\u001b[0m\u001b[0;34m(\u001b[0m\u001b[0mi\u001b[0m\u001b[0;34m)\u001b[0m\u001b[0;34m\u001b[0m\u001b[0;34m\u001b[0m\u001b[0m\n\u001b[0m\u001b[1;32m     18\u001b[0m         \u001b[0mportfolio_weights_ew\u001b[0m \u001b[0;34m=\u001b[0m \u001b[0mnp\u001b[0m\u001b[0;34m.\u001b[0m\u001b[0mrepeat\u001b[0m\u001b[0;34m(\u001b[0m\u001b[0;36m1\u001b[0m\u001b[0;34m/\u001b[0m\u001b[0mn_assets\u001b[0m\u001b[0;34m,\u001b[0m \u001b[0mn_assets\u001b[0m\u001b[0;34m)\u001b[0m\u001b[0;34m\u001b[0m\u001b[0;34m\u001b[0m\u001b[0m\n\u001b[1;32m     19\u001b[0m         \u001b[0mport_weekly_return\u001b[0m \u001b[0;34m=\u001b[0m \u001b[0mweekly_returns\u001b[0m\u001b[0;34m[\u001b[0m\u001b[0mi\u001b[0m\u001b[0;34m]\u001b[0m\u001b[0;34m.\u001b[0m\u001b[0mmul\u001b[0m\u001b[0;34m(\u001b[0m\u001b[0mportfolio_weights_ew\u001b[0m\u001b[0;34m,\u001b[0m\u001b[0maxis\u001b[0m\u001b[0;34m=\u001b[0m\u001b[0;36m1\u001b[0m\u001b[0;34m)\u001b[0m\u001b[0;34m.\u001b[0m\u001b[0msum\u001b[0m\u001b[0;34m(\u001b[0m\u001b[0maxis\u001b[0m\u001b[0;34m=\u001b[0m\u001b[0;36m1\u001b[0m\u001b[0;34m)\u001b[0m\u001b[0;34m\u001b[0m\u001b[0;34m\u001b[0m\u001b[0m\n",
      "\u001b[0;31mTypeError\u001b[0m: object of type 'NoneType' has no len()"
     ]
    }
   ],
   "source": [
    "PDI_DF, SPY_DF = calculate_pdi(comb_df, new_port, return_mean_range = 52)"
   ]
  },
  {
   "cell_type": "code",
   "execution_count": null,
   "metadata": {},
   "outputs": [],
   "source": [
    "PDI_DF[\"per_crypto\"] = per_cryp # adding the percentage of cryptoes in the portfolio\n",
    "PDI_DF[\"per_crypto\"] = PDI_DF[\"per_crypto\"].astype(str)"
   ]
  },
  {
   "cell_type": "code",
   "execution_count": null,
   "metadata": {},
   "outputs": [],
   "source": [
    "PDI_DF"
   ]
  },
  {
   "cell_type": "code",
   "execution_count": null,
   "metadata": {},
   "outputs": [],
   "source": [
    "fig = px.scatter(PDI_DF, x ='PDI_INDEX',  color =\"per_crypto\", y= \"Sharpe Ratio\")\n",
    "fig.show()"
   ]
  },
  {
   "source": [
    "## Markovitz"
   ],
   "cell_type": "markdown",
   "metadata": {}
  }
 ]
}