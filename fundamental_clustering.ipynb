{
 "metadata": {
  "language_info": {
   "codemirror_mode": {
    "name": "ipython",
    "version": 3
   },
   "file_extension": ".py",
   "mimetype": "text/x-python",
   "name": "python",
   "nbconvert_exporter": "python",
   "pygments_lexer": "ipython3",
   "version": "3.9.1"
  },
  "orig_nbformat": 2,
  "kernelspec": {
   "name": "python3",
   "display_name": "Python 3.9.1 64-bit",
   "metadata": {
    "interpreter": {
     "hash": "aee8b7b246df8f9039afb4144a1f6fd8d2ca17a180786b69acc140d282b71a49"
    }
   }
  }
 },
 "nbformat": 4,
 "nbformat_minor": 2,
 "cells": [
  {
   "cell_type": "code",
   "execution_count": 7,
   "metadata": {},
   "outputs": [],
   "source": [
    "import re\n",
    "import requests as r\n",
    "import time \n",
    "from bs4 import BeautifulSoup\n",
    "from tqdm import tqdm\n",
    "import pandas as pd\n",
    "import numpy as np\n",
    "from sklearn.preprocessing import StandardScaler\n",
    "from sklearn.cluster import KMeans\n",
    "from sklearn.metrics import silhouette_score,silhouette_samples\n",
    "import matplotlib.pyplot as plt\n",
    "import matplotlib.cm as cm\n",
    "from sklearn.manifold import TSNE\n",
    "import numpy as np\n",
    "import plotly.express as px \n",
    "import plotly.io as pio \n",
    "pio.renderers.default = \"browser\""
   ]
  },
  {
   "cell_type": "code",
   "execution_count": 2,
   "metadata": {},
   "outputs": [],
   "source": [
    "def meanRetAn(data):             \n",
    "    Result = 1\n",
    "    \n",
    "    for i in range(len(data.index)):\n",
    "        Result *= (1+data.iloc[i,:])\n",
    "        \n",
    "    Result = Result**(1/float(len(data.index)/52))-1\n",
    "     \n",
    "    return(Result)"
   ]
  },
  {
   "cell_type": "code",
   "execution_count": 18,
   "metadata": {},
   "outputs": [
    {
     "output_type": "stream",
     "name": "stdout",
     "text": [
      "1577\n"
     ]
    }
   ],
   "source": [
    "#getting etf tickers from etf in etf info\n",
    "#etf_info = pd.read_csv(\"ETFs_info.csv\")\n",
    "yahoo_cat_df = pd.read_csv(\"yahoo_cat_df.csv\",index_col=\"Ticker\")\n",
    "week_df_900 = pd.read_csv(\"WeeklyReturns.csv\", index_col=\"Date\")\n",
    "etf_funda_df = pd.read_csv(\"etf_fundamental.csv\", index_col=\"Unnamed: 0\") # result from the fetcing code below\n",
    "etf_funda_df = pd.merge(yahoo_cat_df,etf_funda_df, right_index=True,left_index=True, how=\"right\")\n",
    "etf_funda_df[\"pe\"].loc[etf_funda_df['Category'] == \"Trading--Inverse Equity\"] = -1\n",
    "etf_funda_df[\"pcf\"].loc[etf_funda_df['Category'] == \"Trading--Inverse Equity\"] = -1\n",
    "etf_funda_df[\"ps\"].loc[etf_funda_df['Category'] == \"Trading--Inverse Equity\"] = -1\n",
    "etf_funda_df[\"pb\"].loc[etf_funda_df['Category'] == \"Trading--Inverse Equity\"] = -1\n",
    "etf_funda_df[\"pe\"].loc[etf_funda_df['Category'] == \"Trading--Leveraged Equity\"] = -5\n",
    "etf_funda_df[\"pcf\"].loc[etf_funda_df['Category'] == \"Trading--Leveraged Equity\"] = -5\n",
    "etf_funda_df[\"ps\"].loc[etf_funda_df['Category'] == \"Trading--Leveraged Equity\"] = -5\n",
    "etf_funda_df[\"pb\"].loc[etf_funda_df['Category'] == \"Trading--Leveraged Equity\"] = -5\n",
    "etf_funda_df.drop(columns=\"Category\", inplace=True)\n",
    "print(len(etf_funda_df))\n",
    "etf_funda_df = etf_funda_df.dropna()\n"
   ]
  },
  {
   "cell_type": "code",
   "execution_count": 19,
   "metadata": {},
   "outputs": [
    {
     "output_type": "execute_result",
     "data": {
      "text/plain": [
       "         pe    pb    pcf    ps\n",
       "SPY   27.93  4.00  16.31  2.74\n",
       "IVV   27.16  3.81  16.08  2.62\n",
       "VTI   27.49  3.81  15.92  2.58\n",
       "VOO   27.94  4.00  16.32  2.75\n",
       "QQQ   34.42  7.93  21.00  4.64\n",
       "...     ...   ...    ...   ...\n",
       "DMAY  27.94  4.00  16.31  2.74\n",
       "NJUL  34.65  7.86  21.31  4.77\n",
       "BMAY  27.17  3.81  16.08  2.62\n",
       "FLV   21.89  2.45  15.00  2.43\n",
       "GSEE  18.33  1.99  10.76  1.57\n",
       "\n",
       "[1560 rows x 4 columns]"
      ],
      "text/html": "<div>\n<style scoped>\n    .dataframe tbody tr th:only-of-type {\n        vertical-align: middle;\n    }\n\n    .dataframe tbody tr th {\n        vertical-align: top;\n    }\n\n    .dataframe thead th {\n        text-align: right;\n    }\n</style>\n<table border=\"1\" class=\"dataframe\">\n  <thead>\n    <tr style=\"text-align: right;\">\n      <th></th>\n      <th>pe</th>\n      <th>pb</th>\n      <th>pcf</th>\n      <th>ps</th>\n    </tr>\n  </thead>\n  <tbody>\n    <tr>\n      <th>SPY</th>\n      <td>27.93</td>\n      <td>4.00</td>\n      <td>16.31</td>\n      <td>2.74</td>\n    </tr>\n    <tr>\n      <th>IVV</th>\n      <td>27.16</td>\n      <td>3.81</td>\n      <td>16.08</td>\n      <td>2.62</td>\n    </tr>\n    <tr>\n      <th>VTI</th>\n      <td>27.49</td>\n      <td>3.81</td>\n      <td>15.92</td>\n      <td>2.58</td>\n    </tr>\n    <tr>\n      <th>VOO</th>\n      <td>27.94</td>\n      <td>4.00</td>\n      <td>16.32</td>\n      <td>2.75</td>\n    </tr>\n    <tr>\n      <th>QQQ</th>\n      <td>34.42</td>\n      <td>7.93</td>\n      <td>21.00</td>\n      <td>4.64</td>\n    </tr>\n    <tr>\n      <th>...</th>\n      <td>...</td>\n      <td>...</td>\n      <td>...</td>\n      <td>...</td>\n    </tr>\n    <tr>\n      <th>DMAY</th>\n      <td>27.94</td>\n      <td>4.00</td>\n      <td>16.31</td>\n      <td>2.74</td>\n    </tr>\n    <tr>\n      <th>NJUL</th>\n      <td>34.65</td>\n      <td>7.86</td>\n      <td>21.31</td>\n      <td>4.77</td>\n    </tr>\n    <tr>\n      <th>BMAY</th>\n      <td>27.17</td>\n      <td>3.81</td>\n      <td>16.08</td>\n      <td>2.62</td>\n    </tr>\n    <tr>\n      <th>FLV</th>\n      <td>21.89</td>\n      <td>2.45</td>\n      <td>15.00</td>\n      <td>2.43</td>\n    </tr>\n    <tr>\n      <th>GSEE</th>\n      <td>18.33</td>\n      <td>1.99</td>\n      <td>10.76</td>\n      <td>1.57</td>\n    </tr>\n  </tbody>\n</table>\n<p>1560 rows × 4 columns</p>\n</div>"
     },
     "metadata": {},
     "execution_count": 19
    }
   ],
   "source": [
    "etf_funda_df"
   ]
  },
  {
   "cell_type": "code",
   "execution_count": 4,
   "metadata": {},
   "outputs": [],
   "source": [
    "# dff = pd.DataFrame(mu_ga).rename(columns={\"2016-08-05\":\"AnnRet\"})\n",
    "# dff[\"Annual Std\"] = week_df_900.std(axis=0) * np.sqrt(52)\n"
   ]
  },
  {
   "cell_type": "code",
   "execution_count": 20,
   "metadata": {},
   "outputs": [],
   "source": [
    "#etf_merged.dropna(inplace=True)\n",
    "etf_merged = etf_funda_df.copy()"
   ]
  },
  {
   "cell_type": "code",
   "execution_count": 6,
   "metadata": {},
   "outputs": [],
   "source": [
    "# # # fetching fundamentals from yahoo finance on each etf\n",
    "# ticker = list(yahoo_cat_df.index)\n",
    "# test = {}\n",
    "# for i in tqdm(ticker):\n",
    "#     test[i] = {}\n",
    "#     lnk = f\"https://finance.yahoo.com/quote/{i}/holdings?p={i}\"\n",
    "#     con = r.get(lnk)\n",
    "#     soup = BeautifulSoup(con.text, \"lxml\")\n",
    "#     try: \n",
    "\n",
    "\n",
    "#         test[i][\"pe\"] = soup.find('span', {\"data-reactid\":\"131\"}).get_text()\n",
    "#         test[i][\"pb\"] = soup.find('span', {\"data-reactid\":\"136\"}).get_text()\n",
    "#         test[i][\"pcf\"] = soup.find('span', {\"data-reactid\":\"146\"}).get_text()\n",
    "#         test[i][\"ps\"] = soup.find('span', {\"data-reactid\":\"141\"}).get_text()\n",
    "#     except:\n",
    "#         test[i][\"pe\"] = np.nan\n",
    "#         test[i][\"pb\"] = np.nan\n",
    "#         test[i][\"pcf\"] = np.nan\n",
    "#         test[i][\"ps\"] = np.nan\n",
    "# a = pd.DataFrame(test).T\n",
    "# a.to_csv(\"etf_fundamental.csv\")"
   ]
  },
  {
   "cell_type": "code",
   "execution_count": 35,
   "metadata": {},
   "outputs": [],
   "source": [
    "# Standardizing the features\n",
    "cluster_stand = StandardScaler().fit_transform(etf_merged)\n",
    "cluster_stand = pd.DataFrame(cluster_stand)"
   ]
  },
  {
   "cell_type": "code",
   "execution_count": 36,
   "metadata": {},
   "outputs": [
    {
     "output_type": "execute_result",
     "data": {
      "text/plain": [
       "             0         1         2         3\n",
       "0     0.796028  0.483677  0.783723  0.484963\n",
       "1     0.728745  0.418524  0.753354  0.431601\n",
       "2     0.757581  0.418524  0.732228  0.413814\n",
       "3     0.796902  0.483677  0.785044  0.489410\n",
       "4     1.363129  1.831321  1.402990  1.329866\n",
       "...        ...       ...       ...       ...\n",
       "1555  0.796902  0.483677  0.783723  0.484963\n",
       "1556  1.383227  1.807317  1.443922  1.387675\n",
       "1557  0.729619  0.418524  0.753354  0.431601\n",
       "1558  0.268249 -0.047836  0.610751  0.347111\n",
       "1559 -0.042827 -0.205576  0.050903 -0.035318\n",
       "\n",
       "[1560 rows x 4 columns]"
      ],
      "text/html": "<div>\n<style scoped>\n    .dataframe tbody tr th:only-of-type {\n        vertical-align: middle;\n    }\n\n    .dataframe tbody tr th {\n        vertical-align: top;\n    }\n\n    .dataframe thead th {\n        text-align: right;\n    }\n</style>\n<table border=\"1\" class=\"dataframe\">\n  <thead>\n    <tr style=\"text-align: right;\">\n      <th></th>\n      <th>0</th>\n      <th>1</th>\n      <th>2</th>\n      <th>3</th>\n    </tr>\n  </thead>\n  <tbody>\n    <tr>\n      <th>0</th>\n      <td>0.796028</td>\n      <td>0.483677</td>\n      <td>0.783723</td>\n      <td>0.484963</td>\n    </tr>\n    <tr>\n      <th>1</th>\n      <td>0.728745</td>\n      <td>0.418524</td>\n      <td>0.753354</td>\n      <td>0.431601</td>\n    </tr>\n    <tr>\n      <th>2</th>\n      <td>0.757581</td>\n      <td>0.418524</td>\n      <td>0.732228</td>\n      <td>0.413814</td>\n    </tr>\n    <tr>\n      <th>3</th>\n      <td>0.796902</td>\n      <td>0.483677</td>\n      <td>0.785044</td>\n      <td>0.489410</td>\n    </tr>\n    <tr>\n      <th>4</th>\n      <td>1.363129</td>\n      <td>1.831321</td>\n      <td>1.402990</td>\n      <td>1.329866</td>\n    </tr>\n    <tr>\n      <th>...</th>\n      <td>...</td>\n      <td>...</td>\n      <td>...</td>\n      <td>...</td>\n    </tr>\n    <tr>\n      <th>1555</th>\n      <td>0.796902</td>\n      <td>0.483677</td>\n      <td>0.783723</td>\n      <td>0.484963</td>\n    </tr>\n    <tr>\n      <th>1556</th>\n      <td>1.383227</td>\n      <td>1.807317</td>\n      <td>1.443922</td>\n      <td>1.387675</td>\n    </tr>\n    <tr>\n      <th>1557</th>\n      <td>0.729619</td>\n      <td>0.418524</td>\n      <td>0.753354</td>\n      <td>0.431601</td>\n    </tr>\n    <tr>\n      <th>1558</th>\n      <td>0.268249</td>\n      <td>-0.047836</td>\n      <td>0.610751</td>\n      <td>0.347111</td>\n    </tr>\n    <tr>\n      <th>1559</th>\n      <td>-0.042827</td>\n      <td>-0.205576</td>\n      <td>0.050903</td>\n      <td>-0.035318</td>\n    </tr>\n  </tbody>\n</table>\n<p>1560 rows × 4 columns</p>\n</div>"
     },
     "metadata": {},
     "execution_count": 36
    }
   ],
   "source": [
    "cluster_stand"
   ]
  },
  {
   "cell_type": "code",
   "execution_count": 37,
   "metadata": {},
   "outputs": [],
   "source": [
    "#Reducing dementionality of the data features to be explanined by 2 components for visualization and clustering \n",
    "X_embedded = TSNE(n_components=2, random_state=400).fit_transform(cluster_stand)\n",
    "cluster_stand[\"dim1\"] = X_embedded[:,0]\n",
    "cluster_stand[\"dim2\"] = X_embedded[:,1]\n",
    "# cluster_stand = StandardScaler().fit_transform(etf_merged)\n",
    "# cluster_stand = pd.DataFrame(etf_merged)\n"
   ]
  },
  {
   "cell_type": "code",
   "execution_count": 38,
   "metadata": {},
   "outputs": [
    {
     "output_type": "execute_result",
     "data": {
      "text/plain": [
       "             0         1         2         3       dim1       dim2\n",
       "0     0.796028  0.483677  0.783723  0.484963  18.668848 -31.660778\n",
       "1     0.728745  0.418524  0.753354  0.431601  19.706816 -24.147781\n",
       "2     0.757581  0.418524  0.732228  0.413814  20.383694 -22.401855\n",
       "3     0.796902  0.483677  0.785044  0.489410  18.700769 -32.715122\n",
       "4     1.363129  1.831321  1.402990  1.329866   0.270833 -46.132282\n",
       "...        ...       ...       ...       ...        ...        ...\n",
       "1555  0.796902  0.483677  0.783723  0.484963  18.325798 -32.341679\n",
       "1556  1.383227  1.807317  1.443922  1.387675   0.479006 -46.607925\n",
       "1557  0.729619  0.418524  0.753354  0.431601  20.441612 -24.165724\n",
       "1558  0.268249 -0.047836  0.610751  0.347111   7.149090  -7.621745\n",
       "1559 -0.042827 -0.205576  0.050903 -0.035318  -7.727733  10.151958\n",
       "\n",
       "[1560 rows x 6 columns]"
      ],
      "text/html": "<div>\n<style scoped>\n    .dataframe tbody tr th:only-of-type {\n        vertical-align: middle;\n    }\n\n    .dataframe tbody tr th {\n        vertical-align: top;\n    }\n\n    .dataframe thead th {\n        text-align: right;\n    }\n</style>\n<table border=\"1\" class=\"dataframe\">\n  <thead>\n    <tr style=\"text-align: right;\">\n      <th></th>\n      <th>0</th>\n      <th>1</th>\n      <th>2</th>\n      <th>3</th>\n      <th>dim1</th>\n      <th>dim2</th>\n    </tr>\n  </thead>\n  <tbody>\n    <tr>\n      <th>0</th>\n      <td>0.796028</td>\n      <td>0.483677</td>\n      <td>0.783723</td>\n      <td>0.484963</td>\n      <td>18.668848</td>\n      <td>-31.660778</td>\n    </tr>\n    <tr>\n      <th>1</th>\n      <td>0.728745</td>\n      <td>0.418524</td>\n      <td>0.753354</td>\n      <td>0.431601</td>\n      <td>19.706816</td>\n      <td>-24.147781</td>\n    </tr>\n    <tr>\n      <th>2</th>\n      <td>0.757581</td>\n      <td>0.418524</td>\n      <td>0.732228</td>\n      <td>0.413814</td>\n      <td>20.383694</td>\n      <td>-22.401855</td>\n    </tr>\n    <tr>\n      <th>3</th>\n      <td>0.796902</td>\n      <td>0.483677</td>\n      <td>0.785044</td>\n      <td>0.489410</td>\n      <td>18.700769</td>\n      <td>-32.715122</td>\n    </tr>\n    <tr>\n      <th>4</th>\n      <td>1.363129</td>\n      <td>1.831321</td>\n      <td>1.402990</td>\n      <td>1.329866</td>\n      <td>0.270833</td>\n      <td>-46.132282</td>\n    </tr>\n    <tr>\n      <th>...</th>\n      <td>...</td>\n      <td>...</td>\n      <td>...</td>\n      <td>...</td>\n      <td>...</td>\n      <td>...</td>\n    </tr>\n    <tr>\n      <th>1555</th>\n      <td>0.796902</td>\n      <td>0.483677</td>\n      <td>0.783723</td>\n      <td>0.484963</td>\n      <td>18.325798</td>\n      <td>-32.341679</td>\n    </tr>\n    <tr>\n      <th>1556</th>\n      <td>1.383227</td>\n      <td>1.807317</td>\n      <td>1.443922</td>\n      <td>1.387675</td>\n      <td>0.479006</td>\n      <td>-46.607925</td>\n    </tr>\n    <tr>\n      <th>1557</th>\n      <td>0.729619</td>\n      <td>0.418524</td>\n      <td>0.753354</td>\n      <td>0.431601</td>\n      <td>20.441612</td>\n      <td>-24.165724</td>\n    </tr>\n    <tr>\n      <th>1558</th>\n      <td>0.268249</td>\n      <td>-0.047836</td>\n      <td>0.610751</td>\n      <td>0.347111</td>\n      <td>7.149090</td>\n      <td>-7.621745</td>\n    </tr>\n    <tr>\n      <th>1559</th>\n      <td>-0.042827</td>\n      <td>-0.205576</td>\n      <td>0.050903</td>\n      <td>-0.035318</td>\n      <td>-7.727733</td>\n      <td>10.151958</td>\n    </tr>\n  </tbody>\n</table>\n<p>1560 rows × 6 columns</p>\n</div>"
     },
     "metadata": {},
     "execution_count": 38
    }
   ],
   "source": [
    "cluster_stand"
   ]
  },
  {
   "cell_type": "code",
   "execution_count": 39,
   "metadata": {},
   "outputs": [
    {
     "output_type": "stream",
     "name": "stdout",
     "text": [
      "For n_clusters = 2 The average silhouette_score is : 0.4437416238983516\n",
      "For n_clusters = 3 The average silhouette_score is : 0.4768930952236609\n",
      "For n_clusters = 4 The average silhouette_score is : 0.4663594218771804\n",
      "For n_clusters = 5 The average silhouette_score is : 0.5120947574758284\n",
      "For n_clusters = 6 The average silhouette_score is : 0.532826100163838\n",
      "For n_clusters = 7 The average silhouette_score is : 0.5128123772992926\n",
      "For n_clusters = 8 The average silhouette_score is : 0.4992627149746311\n",
      "For n_clusters = 9 The average silhouette_score is : 0.4881527666984056\n",
      "For n_clusters = 10 The average silhouette_score is : 0.49540928769275716\n",
      "For n_clusters = 11 The average silhouette_score is : 0.48372961706526574\n",
      "For n_clusters = 12 The average silhouette_score is : 0.4777085157850483\n",
      "For n_clusters = 13 The average silhouette_score is : 0.4843768587342331\n"
     ]
    }
   ],
   "source": [
    "#finding the \"optimal\" cluster \n",
    "iini = []\n",
    "clus = []\n",
    "for n_clusters in range(2,14):\n",
    "        clusterer = KMeans(n_clusters=n_clusters, random_state=10,n_init=20, algorithm=\"elkan\",init='k-means++')\n",
    "        cluster_labels = clusterer.fit_predict(cluster_stand)\n",
    "\n",
    "        # The silhouette_score gives the average value for all the samples.\n",
    "        # This gives a perspective into the density and separation of the formed\n",
    "        # clusters\n",
    "        silhouette_avg = silhouette_score(cluster_stand, cluster_labels)\n",
    "        print(\"For n_clusters =\", n_clusters,\n",
    "            \"The average silhouette_score is :\", silhouette_avg)\n",
    "        clus.append(n_clusters)\n",
    "        iini.append(clusterer.inertia_)\n",
    "fig = px.line(y=iini,x=clus)\n",
    "fig.show()\n",
    "        "
   ]
  },
  {
   "cell_type": "code",
   "execution_count": 43,
   "metadata": {},
   "outputs": [
    {
     "output_type": "stream",
     "name": "stdout",
     "text": [
      "[5 5 5 ... 5 0 2]\n"
     ]
    }
   ],
   "source": [
    "\n",
    "km = KMeans(\n",
    "    n_clusters=6, init='k-means++',\n",
    "    n_init=20, max_iter=1000, \n",
    "    tol=1e-04, random_state=10, algorithm=\"elkan\"\n",
    ")\n",
    "clustered = km.fit_predict(cluster_stand)\n",
    "cluster_stand[\"cluster\"] = clustered\n",
    "cluster_stand[\"dim1\"] = X_embedded[:,0]\n",
    "cluster_stand[\"dim2\"] = X_embedded[:,1]\n",
    "fig = px.scatter(cluster_stand,x=\"dim1\", y=\"dim2\", color=\"cluster\")\n",
    "fig.show()"
   ]
  },
  {
   "cell_type": "code",
   "execution_count": 44,
   "metadata": {},
   "outputs": [],
   "source": [
    "week_df_900 = pd.merge(week_df_900.T,yahoo_cat_df, right_index=True, left_index= True, how=\"inner\")\n",
    "week_df_900 = week_df_900.iloc[:,:-1].T"
   ]
  },
  {
   "cell_type": "code",
   "execution_count": 52,
   "metadata": {},
   "outputs": [
    {
     "output_type": "execute_result",
     "data": {
      "text/plain": [
       "                 MDY      IUSG       VFH       FVD      SPMD       PDP  \\\n",
       "2015-01-14 -0.003038 -0.002729 -0.020341  0.002930 -0.006594 -0.007127   \n",
       "2015-01-21  0.006788  0.009904 -0.002307  0.015860  0.003319  0.015099   \n",
       "2015-01-28  0.006091 -0.004645 -0.005676 -0.010682  0.017030  0.004389   \n",
       "2015-02-04  0.015801  0.018797  0.020719  0.009136  0.005662  0.003399   \n",
       "2015-02-11  0.009071  0.017814  0.015534 -0.004115  0.016171  0.015727   \n",
       "...              ...       ...       ...       ...       ...       ...   \n",
       "2020-12-02 -0.004703  0.015283  0.001419 -0.005421 -0.004651  0.004858   \n",
       "2020-12-09  0.021902 -0.004748  0.007371  0.008032  0.022586  0.000242   \n",
       "2020-12-16  0.018448  0.018175  0.003940 -0.001138  0.017517  0.037699   \n",
       "2020-12-23  0.014334 -0.000115  0.010978 -0.010256  0.014445  0.024220   \n",
       "2020-12-30 -0.003185  0.012605  0.004745  0.009007 -0.003952 -0.005798   \n",
       "\n",
       "                VONG      SPXL      MLPA       IGE  ...       IYM       ECH  \\\n",
       "2015-01-14 -0.002485 -0.024268 -0.025823 -0.017808  ... -0.009989 -0.021661   \n",
       "2015-01-21  0.010795  0.032345  0.045063  0.041004  ...  0.026863  0.016605   \n",
       "2015-01-28 -0.005032 -0.045574 -0.013951 -0.024920  ... -0.027266  0.009852   \n",
       "2015-02-04  0.016617  0.057697  0.016078  0.052212  ...  0.035227  0.013350   \n",
       "2015-02-11  0.018173  0.041970 -0.009806  0.007835  ...  0.023295 -0.000760   \n",
       "...              ...       ...       ...       ...  ...       ...       ...   \n",
       "2020-12-02  0.018816  0.033323 -0.028641 -0.013158  ... -0.001536 -0.000714   \n",
       "2020-12-09 -0.005211  0.000740  0.048184  0.041290  ...  0.015742  0.023937   \n",
       "2020-12-16  0.022253  0.025868 -0.000343 -0.004492  ... -0.005161  0.005506   \n",
       "2020-12-23  0.007295 -0.009300 -0.034317 -0.021757  ...  0.002516  0.030345   \n",
       "2020-12-30  0.008936  0.036131 -0.033760  0.004705  ...  0.014792  0.029113   \n",
       "\n",
       "                 CFA       XLV      DVYE      PSCI       VOT      DBEZ  \\\n",
       "2015-01-14 -0.008938  0.002441  0.008660  0.007786 -0.001400  0.019445   \n",
       "2015-01-21  0.000422  0.009882  0.010971 -0.010907  0.009114  0.051450   \n",
       "2015-01-28  0.020707 -0.010353  0.004246  0.009419 -0.000893  0.014101   \n",
       "2015-02-04  0.002760 -0.007595  0.001175  0.021848  0.010332  0.018038   \n",
       "2015-02-11  0.012938  0.013574 -0.016190  0.015590  0.014454  0.004799   \n",
       "...              ...       ...       ...       ...       ...       ...   \n",
       "2020-12-02  0.004907  0.028126  0.012216 -0.018419  0.014011  0.001649   \n",
       "2020-12-09  0.011472  0.007355  0.024418  0.049374  0.008488  0.006035   \n",
       "2020-12-16  0.005727 -0.005342  0.033020 -0.002917  0.027744  0.007392   \n",
       "2020-12-23  0.006899 -0.000910 -0.016052  0.016366  0.018330 -0.000013   \n",
       "2020-12-30  0.002381  0.009987  0.015110 -0.001003 -0.007918  0.006083   \n",
       "\n",
       "                 VPU      SPHQ  \n",
       "2015-01-14  0.011201 -0.006082  \n",
       "2015-01-21  0.026392  0.010489  \n",
       "2015-01-28 -0.008634 -0.012543  \n",
       "2015-02-04 -0.012779  0.012703  \n",
       "2015-02-11 -0.042477  0.010381  \n",
       "...              ...       ...  \n",
       "2020-12-02 -0.013200  0.014303  \n",
       "2020-12-09 -0.017332  0.001459  \n",
       "2020-12-16  0.000951  0.008983  \n",
       "2020-12-23 -0.016982 -0.003263  \n",
       "2020-12-30  0.015923  0.014788  \n",
       "\n",
       "[308 rows x 695 columns]"
      ],
      "text/html": "<div>\n<style scoped>\n    .dataframe tbody tr th:only-of-type {\n        vertical-align: middle;\n    }\n\n    .dataframe tbody tr th {\n        vertical-align: top;\n    }\n\n    .dataframe thead th {\n        text-align: right;\n    }\n</style>\n<table border=\"1\" class=\"dataframe\">\n  <thead>\n    <tr style=\"text-align: right;\">\n      <th></th>\n      <th>MDY</th>\n      <th>IUSG</th>\n      <th>VFH</th>\n      <th>FVD</th>\n      <th>SPMD</th>\n      <th>PDP</th>\n      <th>VONG</th>\n      <th>SPXL</th>\n      <th>MLPA</th>\n      <th>IGE</th>\n      <th>...</th>\n      <th>IYM</th>\n      <th>ECH</th>\n      <th>CFA</th>\n      <th>XLV</th>\n      <th>DVYE</th>\n      <th>PSCI</th>\n      <th>VOT</th>\n      <th>DBEZ</th>\n      <th>VPU</th>\n      <th>SPHQ</th>\n    </tr>\n  </thead>\n  <tbody>\n    <tr>\n      <th>2015-01-14</th>\n      <td>-0.003038</td>\n      <td>-0.002729</td>\n      <td>-0.020341</td>\n      <td>0.002930</td>\n      <td>-0.006594</td>\n      <td>-0.007127</td>\n      <td>-0.002485</td>\n      <td>-0.024268</td>\n      <td>-0.025823</td>\n      <td>-0.017808</td>\n      <td>...</td>\n      <td>-0.009989</td>\n      <td>-0.021661</td>\n      <td>-0.008938</td>\n      <td>0.002441</td>\n      <td>0.008660</td>\n      <td>0.007786</td>\n      <td>-0.001400</td>\n      <td>0.019445</td>\n      <td>0.011201</td>\n      <td>-0.006082</td>\n    </tr>\n    <tr>\n      <th>2015-01-21</th>\n      <td>0.006788</td>\n      <td>0.009904</td>\n      <td>-0.002307</td>\n      <td>0.015860</td>\n      <td>0.003319</td>\n      <td>0.015099</td>\n      <td>0.010795</td>\n      <td>0.032345</td>\n      <td>0.045063</td>\n      <td>0.041004</td>\n      <td>...</td>\n      <td>0.026863</td>\n      <td>0.016605</td>\n      <td>0.000422</td>\n      <td>0.009882</td>\n      <td>0.010971</td>\n      <td>-0.010907</td>\n      <td>0.009114</td>\n      <td>0.051450</td>\n      <td>0.026392</td>\n      <td>0.010489</td>\n    </tr>\n    <tr>\n      <th>2015-01-28</th>\n      <td>0.006091</td>\n      <td>-0.004645</td>\n      <td>-0.005676</td>\n      <td>-0.010682</td>\n      <td>0.017030</td>\n      <td>0.004389</td>\n      <td>-0.005032</td>\n      <td>-0.045574</td>\n      <td>-0.013951</td>\n      <td>-0.024920</td>\n      <td>...</td>\n      <td>-0.027266</td>\n      <td>0.009852</td>\n      <td>0.020707</td>\n      <td>-0.010353</td>\n      <td>0.004246</td>\n      <td>0.009419</td>\n      <td>-0.000893</td>\n      <td>0.014101</td>\n      <td>-0.008634</td>\n      <td>-0.012543</td>\n    </tr>\n    <tr>\n      <th>2015-02-04</th>\n      <td>0.015801</td>\n      <td>0.018797</td>\n      <td>0.020719</td>\n      <td>0.009136</td>\n      <td>0.005662</td>\n      <td>0.003399</td>\n      <td>0.016617</td>\n      <td>0.057697</td>\n      <td>0.016078</td>\n      <td>0.052212</td>\n      <td>...</td>\n      <td>0.035227</td>\n      <td>0.013350</td>\n      <td>0.002760</td>\n      <td>-0.007595</td>\n      <td>0.001175</td>\n      <td>0.021848</td>\n      <td>0.010332</td>\n      <td>0.018038</td>\n      <td>-0.012779</td>\n      <td>0.012703</td>\n    </tr>\n    <tr>\n      <th>2015-02-11</th>\n      <td>0.009071</td>\n      <td>0.017814</td>\n      <td>0.015534</td>\n      <td>-0.004115</td>\n      <td>0.016171</td>\n      <td>0.015727</td>\n      <td>0.018173</td>\n      <td>0.041970</td>\n      <td>-0.009806</td>\n      <td>0.007835</td>\n      <td>...</td>\n      <td>0.023295</td>\n      <td>-0.000760</td>\n      <td>0.012938</td>\n      <td>0.013574</td>\n      <td>-0.016190</td>\n      <td>0.015590</td>\n      <td>0.014454</td>\n      <td>0.004799</td>\n      <td>-0.042477</td>\n      <td>0.010381</td>\n    </tr>\n    <tr>\n      <th>...</th>\n      <td>...</td>\n      <td>...</td>\n      <td>...</td>\n      <td>...</td>\n      <td>...</td>\n      <td>...</td>\n      <td>...</td>\n      <td>...</td>\n      <td>...</td>\n      <td>...</td>\n      <td>...</td>\n      <td>...</td>\n      <td>...</td>\n      <td>...</td>\n      <td>...</td>\n      <td>...</td>\n      <td>...</td>\n      <td>...</td>\n      <td>...</td>\n      <td>...</td>\n      <td>...</td>\n    </tr>\n    <tr>\n      <th>2020-12-02</th>\n      <td>-0.004703</td>\n      <td>0.015283</td>\n      <td>0.001419</td>\n      <td>-0.005421</td>\n      <td>-0.004651</td>\n      <td>0.004858</td>\n      <td>0.018816</td>\n      <td>0.033323</td>\n      <td>-0.028641</td>\n      <td>-0.013158</td>\n      <td>...</td>\n      <td>-0.001536</td>\n      <td>-0.000714</td>\n      <td>0.004907</td>\n      <td>0.028126</td>\n      <td>0.012216</td>\n      <td>-0.018419</td>\n      <td>0.014011</td>\n      <td>0.001649</td>\n      <td>-0.013200</td>\n      <td>0.014303</td>\n    </tr>\n    <tr>\n      <th>2020-12-09</th>\n      <td>0.021902</td>\n      <td>-0.004748</td>\n      <td>0.007371</td>\n      <td>0.008032</td>\n      <td>0.022586</td>\n      <td>0.000242</td>\n      <td>-0.005211</td>\n      <td>0.000740</td>\n      <td>0.048184</td>\n      <td>0.041290</td>\n      <td>...</td>\n      <td>0.015742</td>\n      <td>0.023937</td>\n      <td>0.011472</td>\n      <td>0.007355</td>\n      <td>0.024418</td>\n      <td>0.049374</td>\n      <td>0.008488</td>\n      <td>0.006035</td>\n      <td>-0.017332</td>\n      <td>0.001459</td>\n    </tr>\n    <tr>\n      <th>2020-12-16</th>\n      <td>0.018448</td>\n      <td>0.018175</td>\n      <td>0.003940</td>\n      <td>-0.001138</td>\n      <td>0.017517</td>\n      <td>0.037699</td>\n      <td>0.022253</td>\n      <td>0.025868</td>\n      <td>-0.000343</td>\n      <td>-0.004492</td>\n      <td>...</td>\n      <td>-0.005161</td>\n      <td>0.005506</td>\n      <td>0.005727</td>\n      <td>-0.005342</td>\n      <td>0.033020</td>\n      <td>-0.002917</td>\n      <td>0.027744</td>\n      <td>0.007392</td>\n      <td>0.000951</td>\n      <td>0.008983</td>\n    </tr>\n    <tr>\n      <th>2020-12-23</th>\n      <td>0.014334</td>\n      <td>-0.000115</td>\n      <td>0.010978</td>\n      <td>-0.010256</td>\n      <td>0.014445</td>\n      <td>0.024220</td>\n      <td>0.007295</td>\n      <td>-0.009300</td>\n      <td>-0.034317</td>\n      <td>-0.021757</td>\n      <td>...</td>\n      <td>0.002516</td>\n      <td>0.030345</td>\n      <td>0.006899</td>\n      <td>-0.000910</td>\n      <td>-0.016052</td>\n      <td>0.016366</td>\n      <td>0.018330</td>\n      <td>-0.000013</td>\n      <td>-0.016982</td>\n      <td>-0.003263</td>\n    </tr>\n    <tr>\n      <th>2020-12-30</th>\n      <td>-0.003185</td>\n      <td>0.012605</td>\n      <td>0.004745</td>\n      <td>0.009007</td>\n      <td>-0.003952</td>\n      <td>-0.005798</td>\n      <td>0.008936</td>\n      <td>0.036131</td>\n      <td>-0.033760</td>\n      <td>0.004705</td>\n      <td>...</td>\n      <td>0.014792</td>\n      <td>0.029113</td>\n      <td>0.002381</td>\n      <td>0.009987</td>\n      <td>0.015110</td>\n      <td>-0.001003</td>\n      <td>-0.007918</td>\n      <td>0.006083</td>\n      <td>0.015923</td>\n      <td>0.014788</td>\n    </tr>\n  </tbody>\n</table>\n<p>308 rows × 695 columns</p>\n</div>"
     },
     "metadata": {},
     "execution_count": 52
    }
   ],
   "source": [
    "week_df_900"
   ]
  },
  {
   "cell_type": "code",
   "execution_count": 53,
   "metadata": {},
   "outputs": [
    {
     "output_type": "execute_result",
     "data": {
      "text/plain": [
       "         pe    pb    pcf    ps\n",
       "SPY   27.93  4.00  16.31  2.74\n",
       "IVV   27.16  3.81  16.08  2.62\n",
       "VTI   27.49  3.81  15.92  2.58\n",
       "VOO   27.94  4.00  16.32  2.75\n",
       "QQQ   34.42  7.93  21.00  4.64\n",
       "...     ...   ...    ...   ...\n",
       "DMAY  27.94  4.00  16.31  2.74\n",
       "NJUL  34.65  7.86  21.31  4.77\n",
       "BMAY  27.17  3.81  16.08  2.62\n",
       "FLV   21.89  2.45  15.00  2.43\n",
       "GSEE  18.33  1.99  10.76  1.57\n",
       "\n",
       "[1560 rows x 4 columns]"
      ],
      "text/html": "<div>\n<style scoped>\n    .dataframe tbody tr th:only-of-type {\n        vertical-align: middle;\n    }\n\n    .dataframe tbody tr th {\n        vertical-align: top;\n    }\n\n    .dataframe thead th {\n        text-align: right;\n    }\n</style>\n<table border=\"1\" class=\"dataframe\">\n  <thead>\n    <tr style=\"text-align: right;\">\n      <th></th>\n      <th>pe</th>\n      <th>pb</th>\n      <th>pcf</th>\n      <th>ps</th>\n    </tr>\n  </thead>\n  <tbody>\n    <tr>\n      <th>SPY</th>\n      <td>27.93</td>\n      <td>4.00</td>\n      <td>16.31</td>\n      <td>2.74</td>\n    </tr>\n    <tr>\n      <th>IVV</th>\n      <td>27.16</td>\n      <td>3.81</td>\n      <td>16.08</td>\n      <td>2.62</td>\n    </tr>\n    <tr>\n      <th>VTI</th>\n      <td>27.49</td>\n      <td>3.81</td>\n      <td>15.92</td>\n      <td>2.58</td>\n    </tr>\n    <tr>\n      <th>VOO</th>\n      <td>27.94</td>\n      <td>4.00</td>\n      <td>16.32</td>\n      <td>2.75</td>\n    </tr>\n    <tr>\n      <th>QQQ</th>\n      <td>34.42</td>\n      <td>7.93</td>\n      <td>21.00</td>\n      <td>4.64</td>\n    </tr>\n    <tr>\n      <th>...</th>\n      <td>...</td>\n      <td>...</td>\n      <td>...</td>\n      <td>...</td>\n    </tr>\n    <tr>\n      <th>DMAY</th>\n      <td>27.94</td>\n      <td>4.00</td>\n      <td>16.31</td>\n      <td>2.74</td>\n    </tr>\n    <tr>\n      <th>NJUL</th>\n      <td>34.65</td>\n      <td>7.86</td>\n      <td>21.31</td>\n      <td>4.77</td>\n    </tr>\n    <tr>\n      <th>BMAY</th>\n      <td>27.17</td>\n      <td>3.81</td>\n      <td>16.08</td>\n      <td>2.62</td>\n    </tr>\n    <tr>\n      <th>FLV</th>\n      <td>21.89</td>\n      <td>2.45</td>\n      <td>15.00</td>\n      <td>2.43</td>\n    </tr>\n    <tr>\n      <th>GSEE</th>\n      <td>18.33</td>\n      <td>1.99</td>\n      <td>10.76</td>\n      <td>1.57</td>\n    </tr>\n  </tbody>\n</table>\n<p>1560 rows × 4 columns</p>\n</div>"
     },
     "metadata": {},
     "execution_count": 53
    }
   ],
   "source": [
    "etf_funda_df"
   ]
  },
  {
   "cell_type": "code",
   "execution_count": 45,
   "metadata": {},
   "outputs": [],
   "source": [
    "etf_merged[\"cluster\"] = clustered\n",
    "list1_as_set = set(week_df_900.columns)\n",
    "intersection = list1_as_set.intersection(list(etf_funda_df.index))\n",
    "intersection_as_list = list(intersection)\n",
    "fund_min = etf_merged.loc[intersection_as_list,:]\n",
    "week_df_900 = week_df_900[intersection_as_list]\n"
   ]
  },
  {
   "cell_type": "code",
   "execution_count": 54,
   "metadata": {},
   "outputs": [
    {
     "output_type": "execute_result",
     "data": {
      "text/plain": [
       "         pe    pb    pcf    ps  cluster\n",
       "MDY   25.01  2.55  12.21  1.71        0\n",
       "IUSG  34.77  8.72  22.05  4.72        5\n",
       "VFH   17.37  1.44   0.00  2.34        1\n",
       "FVD   21.00  2.48  11.82  1.87        0\n",
       "SPMD  24.60  2.41  11.43  1.58        0\n",
       "...     ...   ...    ...   ...      ...\n",
       "PSCI  29.17  2.61  10.79  1.12        0\n",
       "VOT   38.80  6.50  24.84  4.72        5\n",
       "DBEZ  21.40  1.67   9.44  1.23        2\n",
       "VPU   21.67  1.95   9.70  2.56        2\n",
       "SPHQ  27.94  6.55  18.44  3.26        5\n",
       "\n",
       "[695 rows x 5 columns]"
      ],
      "text/html": "<div>\n<style scoped>\n    .dataframe tbody tr th:only-of-type {\n        vertical-align: middle;\n    }\n\n    .dataframe tbody tr th {\n        vertical-align: top;\n    }\n\n    .dataframe thead th {\n        text-align: right;\n    }\n</style>\n<table border=\"1\" class=\"dataframe\">\n  <thead>\n    <tr style=\"text-align: right;\">\n      <th></th>\n      <th>pe</th>\n      <th>pb</th>\n      <th>pcf</th>\n      <th>ps</th>\n      <th>cluster</th>\n    </tr>\n  </thead>\n  <tbody>\n    <tr>\n      <th>MDY</th>\n      <td>25.01</td>\n      <td>2.55</td>\n      <td>12.21</td>\n      <td>1.71</td>\n      <td>0</td>\n    </tr>\n    <tr>\n      <th>IUSG</th>\n      <td>34.77</td>\n      <td>8.72</td>\n      <td>22.05</td>\n      <td>4.72</td>\n      <td>5</td>\n    </tr>\n    <tr>\n      <th>VFH</th>\n      <td>17.37</td>\n      <td>1.44</td>\n      <td>0.00</td>\n      <td>2.34</td>\n      <td>1</td>\n    </tr>\n    <tr>\n      <th>FVD</th>\n      <td>21.00</td>\n      <td>2.48</td>\n      <td>11.82</td>\n      <td>1.87</td>\n      <td>0</td>\n    </tr>\n    <tr>\n      <th>SPMD</th>\n      <td>24.60</td>\n      <td>2.41</td>\n      <td>11.43</td>\n      <td>1.58</td>\n      <td>0</td>\n    </tr>\n    <tr>\n      <th>...</th>\n      <td>...</td>\n      <td>...</td>\n      <td>...</td>\n      <td>...</td>\n      <td>...</td>\n    </tr>\n    <tr>\n      <th>PSCI</th>\n      <td>29.17</td>\n      <td>2.61</td>\n      <td>10.79</td>\n      <td>1.12</td>\n      <td>0</td>\n    </tr>\n    <tr>\n      <th>VOT</th>\n      <td>38.80</td>\n      <td>6.50</td>\n      <td>24.84</td>\n      <td>4.72</td>\n      <td>5</td>\n    </tr>\n    <tr>\n      <th>DBEZ</th>\n      <td>21.40</td>\n      <td>1.67</td>\n      <td>9.44</td>\n      <td>1.23</td>\n      <td>2</td>\n    </tr>\n    <tr>\n      <th>VPU</th>\n      <td>21.67</td>\n      <td>1.95</td>\n      <td>9.70</td>\n      <td>2.56</td>\n      <td>2</td>\n    </tr>\n    <tr>\n      <th>SPHQ</th>\n      <td>27.94</td>\n      <td>6.55</td>\n      <td>18.44</td>\n      <td>3.26</td>\n      <td>5</td>\n    </tr>\n  </tbody>\n</table>\n<p>695 rows × 5 columns</p>\n</div>"
     },
     "metadata": {},
     "execution_count": 54
    }
   ],
   "source": [
    "fund_min"
   ]
  },
  {
   "cell_type": "code",
   "execution_count": 46,
   "metadata": {},
   "outputs": [],
   "source": [
    "dfff = pd.DataFrame(index=week_df_900.index)\n",
    "dff_dict = {}\n",
    "for i in fund_min[\"cluster\"].unique():\n",
    "    tickers = list(fund_min[fund_min[\"cluster\"]==i].index)\n",
    "    n_assets = len(tickers)\n",
    "    portfolio_weights_ew = np.repeat(1/n_assets, n_assets)\n",
    "    port_weekly_return = week_df_900[tickers].mul(portfolio_weights_ew,axis=1).sum(axis=1)\n",
    "    dfff[i] = port_weekly_return\n",
    "    \n",
    "cumsum = dfff.cumsum(axis=0)"
   ]
  },
  {
   "cell_type": "code",
   "execution_count": 47,
   "metadata": {},
   "outputs": [],
   "source": [
    "cluster_sort = pd.DataFrame(dfff.std(axis=0)*np.sqrt(52)).reset_index().sort_values(by=[0], ascending=False)[\"index\"]\n"
   ]
  },
  {
   "cell_type": "code",
   "execution_count": 48,
   "metadata": {},
   "outputs": [
    {
     "output_type": "execute_result",
     "data": {
      "text/plain": [
       "   index         0\n",
       "5      4  0.422749\n",
       "3      3  0.421738\n",
       "2      1  0.218842\n",
       "4      2  0.182214\n",
       "1      5  0.174717\n",
       "0      0  0.169699"
      ],
      "text/html": "<div>\n<style scoped>\n    .dataframe tbody tr th:only-of-type {\n        vertical-align: middle;\n    }\n\n    .dataframe tbody tr th {\n        vertical-align: top;\n    }\n\n    .dataframe thead th {\n        text-align: right;\n    }\n</style>\n<table border=\"1\" class=\"dataframe\">\n  <thead>\n    <tr style=\"text-align: right;\">\n      <th></th>\n      <th>index</th>\n      <th>0</th>\n    </tr>\n  </thead>\n  <tbody>\n    <tr>\n      <th>5</th>\n      <td>4</td>\n      <td>0.422749</td>\n    </tr>\n    <tr>\n      <th>3</th>\n      <td>3</td>\n      <td>0.421738</td>\n    </tr>\n    <tr>\n      <th>2</th>\n      <td>1</td>\n      <td>0.218842</td>\n    </tr>\n    <tr>\n      <th>4</th>\n      <td>2</td>\n      <td>0.182214</td>\n    </tr>\n    <tr>\n      <th>1</th>\n      <td>5</td>\n      <td>0.174717</td>\n    </tr>\n    <tr>\n      <th>0</th>\n      <td>0</td>\n      <td>0.169699</td>\n    </tr>\n  </tbody>\n</table>\n</div>"
     },
     "metadata": {},
     "execution_count": 48
    }
   ],
   "source": [
    "pd.DataFrame(dfff.std(axis=0)*np.sqrt(52)).reset_index().sort_values(by=[0], ascending=False)"
   ]
  },
  {
   "cell_type": "code",
   "execution_count": 49,
   "metadata": {},
   "outputs": [],
   "source": [
    "cumsum[\"SPY\"]= week_df_900[\"SPY\"].cumsum(axis=0)\n"
   ]
  },
  {
   "cell_type": "code",
   "execution_count": 50,
   "metadata": {},
   "outputs": [
    {
     "output_type": "execute_result",
     "data": {
      "text/plain": [
       "                   0         5         1         3         2         4  \\\n",
       "2015-01-14 -0.001175 -0.001561 -0.005804 -0.009099  0.000367  0.003087   \n",
       "2015-01-21  0.012663  0.008769  0.010966  0.018597  0.020533 -0.027880   \n",
       "2015-01-28  0.006464  0.005561  0.002100 -0.001149  0.018090 -0.005277   \n",
       "2015-02-04  0.022032  0.019333  0.025790  0.039798  0.034487 -0.044093   \n",
       "2015-02-11  0.028925  0.029715  0.026114  0.061952  0.031990 -0.071308   \n",
       "...              ...       ...       ...       ...       ...       ...   \n",
       "2020-12-02  0.616427  0.920624  0.329503  1.590497  0.508222 -2.458567   \n",
       "2020-12-09  0.630364  0.928248  0.352845  1.616113  0.523325 -2.479955   \n",
       "2020-12-16  0.638801  0.949804  0.367155  1.640234  0.534338 -2.519209   \n",
       "2020-12-23  0.643550  0.965764  0.365062  1.646422  0.533096 -2.518669   \n",
       "2020-12-30  0.650415  0.971463  0.373529  1.664356  0.543435 -2.547419   \n",
       "\n",
       "                 SPY  \n",
       "2015-01-14 -0.007167  \n",
       "2015-01-21  0.003885  \n",
       "2015-01-28 -0.010592  \n",
       "2015-02-04  0.008994  \n",
       "2015-02-11  0.023059  \n",
       "...              ...  \n",
       "2020-12-02  0.784790  \n",
       "2020-12-09  0.784953  \n",
       "2020-12-16  0.794003  \n",
       "2020-12-23  0.791212  \n",
       "2020-12-30  0.803237  \n",
       "\n",
       "[308 rows x 7 columns]"
      ],
      "text/html": "<div>\n<style scoped>\n    .dataframe tbody tr th:only-of-type {\n        vertical-align: middle;\n    }\n\n    .dataframe tbody tr th {\n        vertical-align: top;\n    }\n\n    .dataframe thead th {\n        text-align: right;\n    }\n</style>\n<table border=\"1\" class=\"dataframe\">\n  <thead>\n    <tr style=\"text-align: right;\">\n      <th></th>\n      <th>0</th>\n      <th>5</th>\n      <th>1</th>\n      <th>3</th>\n      <th>2</th>\n      <th>4</th>\n      <th>SPY</th>\n    </tr>\n  </thead>\n  <tbody>\n    <tr>\n      <th>2015-01-14</th>\n      <td>-0.001175</td>\n      <td>-0.001561</td>\n      <td>-0.005804</td>\n      <td>-0.009099</td>\n      <td>0.000367</td>\n      <td>0.003087</td>\n      <td>-0.007167</td>\n    </tr>\n    <tr>\n      <th>2015-01-21</th>\n      <td>0.012663</td>\n      <td>0.008769</td>\n      <td>0.010966</td>\n      <td>0.018597</td>\n      <td>0.020533</td>\n      <td>-0.027880</td>\n      <td>0.003885</td>\n    </tr>\n    <tr>\n      <th>2015-01-28</th>\n      <td>0.006464</td>\n      <td>0.005561</td>\n      <td>0.002100</td>\n      <td>-0.001149</td>\n      <td>0.018090</td>\n      <td>-0.005277</td>\n      <td>-0.010592</td>\n    </tr>\n    <tr>\n      <th>2015-02-04</th>\n      <td>0.022032</td>\n      <td>0.019333</td>\n      <td>0.025790</td>\n      <td>0.039798</td>\n      <td>0.034487</td>\n      <td>-0.044093</td>\n      <td>0.008994</td>\n    </tr>\n    <tr>\n      <th>2015-02-11</th>\n      <td>0.028925</td>\n      <td>0.029715</td>\n      <td>0.026114</td>\n      <td>0.061952</td>\n      <td>0.031990</td>\n      <td>-0.071308</td>\n      <td>0.023059</td>\n    </tr>\n    <tr>\n      <th>...</th>\n      <td>...</td>\n      <td>...</td>\n      <td>...</td>\n      <td>...</td>\n      <td>...</td>\n      <td>...</td>\n      <td>...</td>\n    </tr>\n    <tr>\n      <th>2020-12-02</th>\n      <td>0.616427</td>\n      <td>0.920624</td>\n      <td>0.329503</td>\n      <td>1.590497</td>\n      <td>0.508222</td>\n      <td>-2.458567</td>\n      <td>0.784790</td>\n    </tr>\n    <tr>\n      <th>2020-12-09</th>\n      <td>0.630364</td>\n      <td>0.928248</td>\n      <td>0.352845</td>\n      <td>1.616113</td>\n      <td>0.523325</td>\n      <td>-2.479955</td>\n      <td>0.784953</td>\n    </tr>\n    <tr>\n      <th>2020-12-16</th>\n      <td>0.638801</td>\n      <td>0.949804</td>\n      <td>0.367155</td>\n      <td>1.640234</td>\n      <td>0.534338</td>\n      <td>-2.519209</td>\n      <td>0.794003</td>\n    </tr>\n    <tr>\n      <th>2020-12-23</th>\n      <td>0.643550</td>\n      <td>0.965764</td>\n      <td>0.365062</td>\n      <td>1.646422</td>\n      <td>0.533096</td>\n      <td>-2.518669</td>\n      <td>0.791212</td>\n    </tr>\n    <tr>\n      <th>2020-12-30</th>\n      <td>0.650415</td>\n      <td>0.971463</td>\n      <td>0.373529</td>\n      <td>1.664356</td>\n      <td>0.543435</td>\n      <td>-2.547419</td>\n      <td>0.803237</td>\n    </tr>\n  </tbody>\n</table>\n<p>308 rows × 7 columns</p>\n</div>"
     },
     "metadata": {},
     "execution_count": 50
    }
   ],
   "source": [
    "cumsum"
   ]
  },
  {
   "cell_type": "code",
   "execution_count": 51,
   "metadata": {},
   "outputs": [],
   "source": [
    "\n",
    "plot = px.line(cumsum, x = cumsum.index, y = cumsum.columns) \n",
    "plot.show()"
   ]
  },
  {
   "cell_type": "code",
   "execution_count": 19,
   "metadata": {},
   "outputs": [
    {
     "output_type": "stream",
     "name": "stdout",
     "text": [
      "4\nNumber of Assets: 75\nPrice/Sales -5.0\nPrice/Book -5.0\nPrice/Casflow -5.0\nPrice/Earnings -5.0\n-5.0\n--------------------\n0\nNumber of Assets: 65\nPrice/Sales -1.0\nPrice/Book -1.0\nPrice/Casflow -1.0\nPrice/Earnings -1.0\n-1.0\n--------------------\n5\nNumber of Assets: 161\nPrice/Sales 1.9332919254658385\nPrice/Book 1.8878260869565218\nPrice/Casflow 2.8816770186335408\nPrice/Earnings 4.156832298136646\n2.7149068322981367\n--------------------\n3\nSPY in: 3\nNumber of Assets: 432\nPrice/Sales 3.550694444444445\nPrice/Book 5.695324074074074\nPrice/Casflow 18.94199074074074\nPrice/Earnings 29.77212962962963\n14.490034722222223\n--------------------\n2\nNumber of Assets: 389\nPrice/Sales 1.0327506426735218\nPrice/Book 1.567146529562982\nPrice/Casflow 7.349588688946015\nPrice/Earnings 16.474884318766065\n6.6060925449871455\n--------------------\n1\nNumber of Assets: 438\nPrice/Sales 1.7493150684931509\nPrice/Book 2.5243835616438353\nPrice/Casflow 11.68566210045662\nPrice/Earnings 22.511050228310502\n9.617602739726028\n--------------------\n"
     ]
    }
   ],
   "source": [
    "for i in cluster_sort:\n",
    "    print(i)\n",
    "    if \"SPY\" in etf_merged[ etf_merged[\"cluster\"]==i].index: \n",
    "        print(\"SPY in:\",i)\n",
    "    print(\"Number of Assets:\",len(etf_merged[ etf_merged[\"cluster\"]==i]))\n",
    "    print(\"Price/Sales\",etf_merged[ etf_merged[\"cluster\"]==i][\"ps\"].mean()) \n",
    "    print(\"Price/Book\",etf_merged[ etf_merged[\"cluster\"]==i][\"pb\"].mean()) \n",
    "    print(\"Price/Casflow\",etf_merged[ etf_merged[\"cluster\"]==i][\"pcf\"].mean()) \n",
    "    print(\"Price/Earnings\",etf_merged[ etf_merged[\"cluster\"]==i][\"pe\"].mean()) \n",
    "    avg = etf_merged[ etf_merged[\"cluster\"]==i][\"ps\"].mean()+etf_merged[ etf_merged[\"cluster\"]==i][\"pb\"].mean()+etf_merged[ etf_merged[\"cluster\"]==i][\"pcf\"].mean()+etf_merged[          etf_merged[\"cluster\"]==i][\"pe\"].mean()\n",
    "    print(avg/4)\n",
    "    print(20*\"-\")"
   ]
  },
  {
   "cell_type": "code",
   "execution_count": 20,
   "metadata": {},
   "outputs": [],
   "source": [
    "test = pd.DataFrame(dfff.std(axis=0)*np.sqrt(52)).reset_index().sort_values(by=[0], ascending=False)\n",
    "annn = pd.DataFrame(meanRetAn(dfff)).reset_index().rename(columns={\"2016-08-05\":\"AnnRet\"})\n",
    "dingo = pd.merge(test,annn,on=\"index\",how=\"inner\")"
   ]
  },
  {
   "cell_type": "code",
   "execution_count": 21,
   "metadata": {},
   "outputs": [],
   "source": [
    "yahoo_df = pd.read_csv(\"yahoo_cat_df.csv\", index_col=\"Ticker\")"
   ]
  },
  {
   "cell_type": "code",
   "execution_count": 22,
   "metadata": {},
   "outputs": [],
   "source": [
    "com_df = pd.merge(etf_merged,yahoo_cat_df,right_index=True,left_index=True,how=\"inner\")\n"
   ]
  },
  {
   "cell_type": "code",
   "execution_count": 23,
   "metadata": {},
   "outputs": [
    {
     "output_type": "stream",
     "name": "stdout",
     "text": [
      "4\n75 75\nTrading--Leveraged Equity    75\nName: Category, dtype: int64\n------------------------------\n0\n65 65\nTrading--Inverse Equity    65\nName: Category, dtype: int64\n------------------------------\n5\n161 134\nFinancial                     30\nEquity Energy                 21\nEnergy Limited Partnership    14\nHealth                        11\nMiscellaneous Sector           8\nMiscellaneous Region           6\nTechnology                     6\nLarge Growth                   5\nWorld Stock                    4\nConsumer Cyclical              4\nLarge Blend                    3\nEurope Stock                   3\nLarge Value                    3\nOption Writing                 2\nBear Market                    2\nNatural Resources              2\nSmall Growth                   2\nEquity Precious Metals         2\nForeign Large Value            1\nPacific/Asia ex-Japan Stk      1\nDiversified Emerging Mkts      1\nChina Region                   1\nSmall Blend                    1\nNontraditional Bond            1\nName: Category, dtype: int64\n------------------------------\n3\n432 379\nLarge Blend                  98\nTechnology                   52\nLarge Growth                 43\nOption Writing               29\nHealth                       24\nMid-Cap Growth               18\nChina Region                 14\nConsumer Cyclical            12\nForeign Large Growth         11\nMiscellaneous Sector         10\nIndustrials                   9\nMid-Cap Blend                 7\nConsumer Defensive            7\nLarge Value                   7\nDiversified Emerging Mkts     5\nSmall Growth                  5\nWorld Stock                   4\nIndia Equity                  4\nCommunications                3\nMiscellaneous Region          3\nNatural Resources             3\nLong-Short Equity             3\nEquity Energy                 2\nEurope Stock                  2\nEquity Precious Metals        1\nForeign Small/Mid Blend       1\nForeign Small/Mid Growth      1\nFinancial                     1\nName: Category, dtype: int64\n------------------------------\n2\n389 345\nMiscellaneous Region             44\nDiversified Emerging Mkts        38\nForeign Large Value              34\nLarge Value                      27\nSmall Blend                      26\nForeign Large Blend              21\nSmall Value                      20\nJapan Stock                      16\nMid-Cap Value                    16\nChina Region                     10\nNatural Resources                10\nEnergy Limited Partnership        9\nEurope Stock                      8\nForeign Small/Mid Blend           7\nForeign Small/Mid Value           7\nWorld Stock                       7\nLatin America Stock               6\nMid-Cap Blend                     5\nConsumer Cyclical                 4\nEquity Precious Metals            4\nOption Writing                    3\nIndustrials                       3\nDiversified Pacific/Asia          3\nIndia Equity                      2\nLarge Blend                       2\nUtilities                         2\nMiscellaneous Sector              2\nConsumer Defensive                2\nSmall Growth                      1\nAllocation--70% to 85% Equity     1\nMid-Cap Growth                    1\nLong-Short Equity                 1\nCommunications                    1\nPacific/Asia ex-Japan Stk         1\nHealth                            1\nName: Category, dtype: int64\n------------------------------\n1\n438 366\nLarge Value                  45\nLarge Blend                  40\nForeign Large Blend          38\nMid-Cap Blend                30\nDiversified Emerging Mkts    21\nMiscellaneous Region         19\nSmall Blend                  19\nWorld Stock                  17\nNatural Resources            17\nEurope Stock                 14\nIndustrials                  11\nChina Region                 10\nUtilities                     8\nInfrastructure                7\nMid-Cap Value                 7\nTechnology                    7\nSmall Growth                  7\nCommunications                6\nConsumer Cyclical             6\nPacific/Asia ex-Japan Stk     5\nForeign Large Growth          4\nEquity Precious Metals        4\nMid-Cap Growth                4\nHealth                        3\nIndia Equity                  3\nOption Writing                3\nLarge Growth                  3\nConsumer Defensive            3\nMiscellaneous Sector          2\nReal Estate                   1\nDiversified Pacific/Asia      1\nTactical Allocation           1\nName: Category, dtype: int64\n------------------------------\n"
     ]
    }
   ],
   "source": [
    "for i in cluster_sort:\n",
    "    print(i)\n",
    "    print(len(com_df[com_df[\"cluster\"]==i]), sum(com_df[com_df[\"cluster\"]==i][\"Category\"].value_counts()))\n",
    "    print(com_df[com_df[\"cluster\"]==i][\"Category\"].value_counts())\n",
    "    print(30*\"-\")"
   ]
  },
  {
   "cell_type": "code",
   "execution_count": 24,
   "metadata": {},
   "outputs": [],
   "source": [
    "funda_cluster = {}\n",
    "for i,x in zip(cluster_sort,[\"Market Leveraged ETF\",\"Market Inverse ETF\",\"Low Fundamental ETF’s (Energy, Health,Finance)\",\"High Fundamental Broad Market\",\"Low Fundamental Broad Market\",\"Mid Fundamental Broad Market\"]):\n",
    "    funda_cluster[i] = x"
   ]
  },
  {
   "cell_type": "code",
   "execution_count": 25,
   "metadata": {},
   "outputs": [
    {
     "output_type": "execute_result",
     "data": {
      "text/plain": [
       "{4: 'Market Leveraged ETF',\n",
       " 0: 'Market Inverse ETF',\n",
       " 5: 'Low Fundamental ETF’s (Energy, Health,Finance)',\n",
       " 3: 'High Fundamental Broad Market',\n",
       " 2: 'Low Fundamentals Broad Market',\n",
       " 1: 'Mid Fundamentals Broad Market'}"
      ]
     },
     "metadata": {},
     "execution_count": 25
    }
   ],
   "source": [
    "funda_cluster"
   ]
  },
  {
   "cell_type": "code",
   "execution_count": 29,
   "metadata": {},
   "outputs": [],
   "source": [
    "com_df[\"Fundamental Cluster\"] = com_df[\"cluster\"].apply(lambda x: funda_cluster[x])"
   ]
  },
  {
   "cell_type": "code",
   "execution_count": 33,
   "metadata": {},
   "outputs": [],
   "source": [
    "com_df.to_csv(\"Fundamental_Clustering.csv\", index_label=\"Ticker\")"
   ]
  },
  {
   "cell_type": "code",
   "execution_count": 27,
   "metadata": {},
   "outputs": [],
   "source": [
    "fundamental_df_cluster = com_df.copy()"
   ]
  },
  {
   "cell_type": "code",
   "execution_count": 35,
   "metadata": {},
   "outputs": [
    {
     "output_type": "execute_result",
     "data": {
      "text/plain": [
       "           pe    pb    pcf    ps  cluster                   Category  \\\n",
       "Ticker                                                                 \n",
       "SPY     27.93  4.00  16.31  2.74        3                Large Blend   \n",
       "IVV     27.16  3.81  16.08  2.62        3                Large Blend   \n",
       "VTI     27.49  3.81  15.92  2.58        3                Large Blend   \n",
       "VOO     27.94  4.00  16.32  2.75        3                Large Blend   \n",
       "QQQ     34.42  7.93  21.00  4.64        3               Large Growth   \n",
       "...       ...   ...    ...   ...      ...                        ...   \n",
       "DMAY    27.94  4.00  16.31  2.74        3                        NaN   \n",
       "NJUL    34.65  7.86  21.31  4.77        3                Large Blend   \n",
       "BMAY    27.17  3.81  16.08  2.62        3                Large Blend   \n",
       "FLV     21.89  2.45  15.00  2.43        1                Large Value   \n",
       "GSEE    18.33  1.99  10.76  1.57        1  Diversified Emerging Mkts   \n",
       "\n",
       "                  Fundamental Cluster  \n",
       "Ticker                                 \n",
       "SPY     High Fundamental Broad Market  \n",
       "IVV     High Fundamental Broad Market  \n",
       "VTI     High Fundamental Broad Market  \n",
       "VOO     High Fundamental Broad Market  \n",
       "QQQ     High Fundamental Broad Market  \n",
       "...                               ...  \n",
       "DMAY    High Fundamental Broad Market  \n",
       "NJUL    High Fundamental Broad Market  \n",
       "BMAY    High Fundamental Broad Market  \n",
       "FLV     Mid Fundamentals Broad Market  \n",
       "GSEE    Mid Fundamentals Broad Market  \n",
       "\n",
       "[1560 rows x 7 columns]"
      ],
      "text/html": "<div>\n<style scoped>\n    .dataframe tbody tr th:only-of-type {\n        vertical-align: middle;\n    }\n\n    .dataframe tbody tr th {\n        vertical-align: top;\n    }\n\n    .dataframe thead th {\n        text-align: right;\n    }\n</style>\n<table border=\"1\" class=\"dataframe\">\n  <thead>\n    <tr style=\"text-align: right;\">\n      <th></th>\n      <th>pe</th>\n      <th>pb</th>\n      <th>pcf</th>\n      <th>ps</th>\n      <th>cluster</th>\n      <th>Category</th>\n      <th>Fundamental Cluster</th>\n    </tr>\n    <tr>\n      <th>Ticker</th>\n      <th></th>\n      <th></th>\n      <th></th>\n      <th></th>\n      <th></th>\n      <th></th>\n      <th></th>\n    </tr>\n  </thead>\n  <tbody>\n    <tr>\n      <th>SPY</th>\n      <td>27.93</td>\n      <td>4.00</td>\n      <td>16.31</td>\n      <td>2.74</td>\n      <td>3</td>\n      <td>Large Blend</td>\n      <td>High Fundamental Broad Market</td>\n    </tr>\n    <tr>\n      <th>IVV</th>\n      <td>27.16</td>\n      <td>3.81</td>\n      <td>16.08</td>\n      <td>2.62</td>\n      <td>3</td>\n      <td>Large Blend</td>\n      <td>High Fundamental Broad Market</td>\n    </tr>\n    <tr>\n      <th>VTI</th>\n      <td>27.49</td>\n      <td>3.81</td>\n      <td>15.92</td>\n      <td>2.58</td>\n      <td>3</td>\n      <td>Large Blend</td>\n      <td>High Fundamental Broad Market</td>\n    </tr>\n    <tr>\n      <th>VOO</th>\n      <td>27.94</td>\n      <td>4.00</td>\n      <td>16.32</td>\n      <td>2.75</td>\n      <td>3</td>\n      <td>Large Blend</td>\n      <td>High Fundamental Broad Market</td>\n    </tr>\n    <tr>\n      <th>QQQ</th>\n      <td>34.42</td>\n      <td>7.93</td>\n      <td>21.00</td>\n      <td>4.64</td>\n      <td>3</td>\n      <td>Large Growth</td>\n      <td>High Fundamental Broad Market</td>\n    </tr>\n    <tr>\n      <th>...</th>\n      <td>...</td>\n      <td>...</td>\n      <td>...</td>\n      <td>...</td>\n      <td>...</td>\n      <td>...</td>\n      <td>...</td>\n    </tr>\n    <tr>\n      <th>DMAY</th>\n      <td>27.94</td>\n      <td>4.00</td>\n      <td>16.31</td>\n      <td>2.74</td>\n      <td>3</td>\n      <td>NaN</td>\n      <td>High Fundamental Broad Market</td>\n    </tr>\n    <tr>\n      <th>NJUL</th>\n      <td>34.65</td>\n      <td>7.86</td>\n      <td>21.31</td>\n      <td>4.77</td>\n      <td>3</td>\n      <td>Large Blend</td>\n      <td>High Fundamental Broad Market</td>\n    </tr>\n    <tr>\n      <th>BMAY</th>\n      <td>27.17</td>\n      <td>3.81</td>\n      <td>16.08</td>\n      <td>2.62</td>\n      <td>3</td>\n      <td>Large Blend</td>\n      <td>High Fundamental Broad Market</td>\n    </tr>\n    <tr>\n      <th>FLV</th>\n      <td>21.89</td>\n      <td>2.45</td>\n      <td>15.00</td>\n      <td>2.43</td>\n      <td>1</td>\n      <td>Large Value</td>\n      <td>Mid Fundamentals Broad Market</td>\n    </tr>\n    <tr>\n      <th>GSEE</th>\n      <td>18.33</td>\n      <td>1.99</td>\n      <td>10.76</td>\n      <td>1.57</td>\n      <td>1</td>\n      <td>Diversified Emerging Mkts</td>\n      <td>Mid Fundamentals Broad Market</td>\n    </tr>\n  </tbody>\n</table>\n<p>1560 rows × 7 columns</p>\n</div>"
     },
     "metadata": {},
     "execution_count": 35
    }
   ],
   "source": [
    "pd.read_csv(\"Fundamental_Clustering.csv\", index_col=\"Ticker\")"
   ]
  },
  {
   "cell_type": "code",
   "execution_count": null,
   "metadata": {},
   "outputs": [],
   "source": []
  }
 ]
}